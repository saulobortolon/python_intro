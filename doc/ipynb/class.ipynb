{
 "cells": [
  {
   "cell_type": "markdown",
   "metadata": {},
   "source": [
    "# Classes\n",
    "In this chapter, we introduce classes, which is a fundamental concept in programming.\n",
    "Most modern programming languages support classes or similar concepts, and we\n",
    "have already encountered classes earlier in this book. Recall, for instance,\n",
    "from Chapter 2 how we can check the type of a variable with the `type` function,\n",
    "and the output will be of the form  `<class 'int'>`,  `<class 'float'>`, and so on.\n",
    "This simply states that the type of an object is defined in the form of a class.\n",
    "Every time we create, for instance, an integer variable in our program, we create\n",
    "an object or *instance* of the `int` class. The class defines how the objects\n",
    "behave and what methods they contain. We have used a large number of different methods bound\n",
    "to objects, such as the `append` method for list objects and `split` for strings.\n",
    "All such methods are part of the definition of the class to which the object\n",
    "belongs. So far, we have only used Python's built-in classes to create\n",
    "objects, but in this chapter we will write our own classes and use them to\n",
    "create objects tailored to our particular needs.\n",
    "\n",
    "# Basics of Classes\n",
    "A class packs together data and functions in a single unit. As\n",
    "seen in previous chapters, functions that are bound to a class or an object\n",
    "are usually called methods, and we will stick to this notation in the present chapter.\n",
    "Classes have some similarity with modules, which are also collections of variables and functions that naturally\n",
    "belong together. However, while there can be only a single instance of a module, we can create multiple instances of a\n",
    "class. Different instances of the same class can contain different data, but\n",
    "they all behave in the same way and have the\n",
    "same methods. Think of a basic Python class such as `int`; we can create many integer variables in a program, and they\n",
    "obviously have different values (data), but we know that they all have the same general behavior and the same\n",
    "set of operations defined for them. The same goes for more complex Python classes\n",
    "such as lists and strings; different objects contain different data, but they all\n",
    "have the same methods. The classes we create in this chapter behave in exactly\n",
    "the same way.\n",
    "\n",
    "### First example: A class representing a function.\n",
    "\n",
    "To start with a familiar example, we return to the formula calculating\n",
    "atmospheric pressure $p$ as a function of altitude $h$. The formula we used is  a\n",
    "simplification of a more general *barometric formula*, given by:"
   ]
  },
  {
   "cell_type": "markdown",
   "metadata": {},
   "source": [
    "<!-- Equation labels as ordinary links -->\n",
    "<div id=\"barometric1\"></div>\n",
    "\n",
    "$$\n",
    "\\begin{equation}\n",
    "p = p_0 e^{-Mgh/RT} ,\n",
    "\\label{barometric1} \\tag{1}\n",
    "\\end{equation}\n",
    "$$"
   ]
  },
  {
   "cell_type": "markdown",
   "metadata": {},
   "source": [
    "where $M$ is the molar mass of air, $g$ is the gravitational constant, $R$ is\n",
    "the gas constant, $T$ is temperature, and $p_0$ is the pressure at sea level.\n",
    "We obtain the simpler formula used earlier by defining the scale height as\n",
    "$h_0 =  RT/Mg$. It could be interesting to evaluate ([1](#barometric1)) for different\n",
    "temperatures and, for each value of $T$, to create a table or plot of how\n",
    "the pressure varies with altitude. For each value of $T$, we need to call the\n",
    "function many times, with different values of $h$. How should we implement\n",
    "this in a convenient way? One possible solution would be\n",
    "to have both $h$ and $T$ as arguments:"
   ]
  },
  {
   "cell_type": "code",
   "execution_count": 1,
   "metadata": {
    "collapsed": false
   },
   "outputs": [],
   "source": [
    "from math import exp\n",
    "\n",
    "def barometric(h, T):\n",
    "    g = 9.81         #m/(s*s)\n",
    "    R = 8.314        #J/(K*mol)\n",
    "    M = 0.02896      #kg/mol\n",
    "    p0 = 100.0       #kPa\n",
    "\n",
    "    return p0 * exp(-M*g*h/(R*T))"
   ]
  },
  {
   "cell_type": "markdown",
   "metadata": {},
   "source": [
    "This solution obviously works, but if we want to call the function many times\n",
    "for the same value of `T` then we still need to pass it as an argument every time\n",
    "it is called. However, what if the function is to be passed as an argument\n",
    "to another function that expects it to take a\n",
    "single argument only? In this case, our function with two arguments\n",
    "will not work. A partial solution would be to include a default value for\n",
    "the `T` argument, but we would still have a problem if we want a\n",
    "different value of `T`.\n",
    "\n",
    "Another solution would be to have $h$ as the  only argument, and $T$ as\n",
    "a global variable:"
   ]
  },
  {
   "cell_type": "code",
   "execution_count": 2,
   "metadata": {
    "collapsed": false
   },
   "outputs": [],
   "source": [
    "T = 245.0\n",
    "\n",
    "def barometric(h):\n",
    "    g = 9.81         #m/(s*s)\n",
    "    R = 8.314        #J/(K*mol)\n",
    "    M = 0.02896      #kg/mol\n",
    "    p0 = 100.0       #kPa\n",
    "\n",
    "    return p0 * exp(-M*g*h/(R*T))"
   ]
  },
  {
   "cell_type": "markdown",
   "metadata": {},
   "source": [
    "We now have a function that takes a single argument, but defining `T` as\n",
    "a global variable is not very convenient if we want to evaluate `y(t)` for\n",
    "different values of `T`. We could also set\n",
    "`T` as a local variable inside the function and define different\n",
    "functions `barometric1(h), barometric2(h)`, etc., for different values\n",
    "of `T`, but this is obviously inconvenient if we\n",
    "want many values of `T`. However, we shall see that programming\n",
    "with classes and objects offers exactly what we need: a convenient solution\n",
    "to create a family of similar functions that all have their own value of `T`.\n",
    "\n",
    "\n",
    "As mentioned above, the idea of a class is to\n",
    "pack together data and methods (or functions) that naturally operate on the data.\n",
    "We can make a class `Barometric` for the formula at hand,\n",
    "with the variables `R`, `T`,`M`, `g`, and `p0` as data, and a method `value(t)` for\n",
    "evaluating the formula. All classes should also have a method\n",
    "named `__init__` to initialize the variables. The following code defines our function class"
   ]
  },
  {
   "cell_type": "code",
   "execution_count": 3,
   "metadata": {
    "collapsed": false
   },
   "outputs": [],
   "source": [
    "class Barometric:\n",
    "    def __init__(self, T):\n",
    "        self.T = T            #K\n",
    "        self.g = 9.81         #m/(s*s)\n",
    "        self.R = 8.314        #J/(K*mol)\n",
    "        self.M = 0.02896      #kg/mol\n",
    "        self.p0 = 100.0       #kPa\n",
    "\n",
    "\n",
    "    def value(self, h):\n",
    "        return self.p0 * exp(-self.M*self.g*h/(self.R*self.T))"
   ]
  },
  {
   "cell_type": "markdown",
   "metadata": {},
   "source": [
    "Having defined this class, we can create *instances* of the class with\n",
    "specific values of the parameter `T`, and then\n",
    "we can call the method `value` with `h` as the only argument:"
   ]
  },
  {
   "cell_type": "code",
   "execution_count": 4,
   "metadata": {
    "collapsed": false
   },
   "outputs": [],
   "source": [
    "b1 = Barometric(T=245)        # create instance (object)\n",
    "p1 = b1.value(2469)           # compute function value\n",
    "b2 = Barometric(T=273)\n",
    "p2 = b2.value(2469)"
   ]
  },
  {
   "cell_type": "markdown",
   "metadata": {},
   "source": [
    "These code segments introduce a number of new concepts worth dissecting. First,\n",
    "we have a class definition that, in Python, always starts with the\n",
    "word `class`, followed by the name of the\n",
    "class and a colon. The following indented\n",
    "block of code defines the contents of the class. Just as we are used to when\n",
    "we implement functions, the indentation defines\n",
    "what belongs inside the class definition. The first contents of our class,\n",
    "and of most classes, is a method with the special name `__init__`,\n",
    "which is called the *constructor* of the class. This method is automatically called\n",
    "every time we create an instance in the class,\n",
    "as in the line `b1 = Barometric(T=245)` above. Inside the method, we define\n",
    "all the constants used in the formula - `self.T`, `self.g`, and so on - where the prefix\n",
    "`self` means that these variables become bound to the object created. Such bound\n",
    "variables are called *attributes*.\n",
    "Finally, we define the method `value`, which evaluates the formula using the\n",
    "predefined and object-bound parameters `self.T, self.g, self.R, self.M`,\n",
    "and `self.p0`. After we have defined the class, every time we write a line such as"
   ]
  },
  {
   "cell_type": "code",
   "execution_count": 5,
   "metadata": {
    "collapsed": false
   },
   "outputs": [],
   "source": [
    "b1 = Barometric(T=245)"
   ]
  },
  {
   "cell_type": "markdown",
   "metadata": {},
   "source": [
    "we create a new variable (instance) `b1` of type `Barometric`. The line looks\n",
    "like a regular function call, but, since `Barometric` is the definition of a class\n",
    "and not a function, `Barometric(T=245)` is instead a call to the class' constructor.\n",
    "The constructor creates and returns an instance of the class with the specified\n",
    "values of the parameters, and we assign this instance to the variable `b`.\n",
    "All the `__init__` functions we encounter in\n",
    "this book will follow exactly the same recipe. Their purpose is to define a\n",
    "number of attributes for the class, and they will typically\n",
    "contain one or more lines of the form\n",
    "`self.A = A`, where A is either an argument passed to the constructor or a\n",
    "value defined inside it.\n",
    "\n",
    "As always in programming, there are different ways to achieve the same thing,\n",
    "and we could have chosen a different implementation of the class above. Since\n",
    "the only argument to the constructor is `T`, the other attributes never change\n",
    "and they could have been local variables inside the `value` method:"
   ]
  },
  {
   "cell_type": "code",
   "execution_count": 6,
   "metadata": {
    "collapsed": false
   },
   "outputs": [],
   "source": [
    "class Barometric1:\n",
    "    def __init__(self, T):\n",
    "        self.T = T            #K\n",
    "\n",
    "    def value(self, h):\n",
    "        g = 9.81; R = 9.314\n",
    "        M = 0.02896; p0 = 100.0\n",
    "        return p0 * exp(-M*g*h/(R*self.T))"
   ]
  },
  {
   "cell_type": "markdown",
   "metadata": {},
   "source": [
    "Notice that, inside the `value` method, we only use the `self` prefix for `T`,\n",
    "since this is the only variable that is a class attribute. In this version of\n",
    "the class the other variables are regular local variables defined inside the method.\n",
    "This class does exactly the same thing as the one defined above, and one could\n",
    "argue that this implementation is better, since it is shorter and simpler\n",
    "than the one above. However, defining all the physical constants in one\n",
    "place (in the constructor) can make the code easier to read, and the class\n",
    "easier to extend with more methods.  As a third possible implementation, we\n",
    "could move some of the calculations from the `value` method to the constructor:"
   ]
  },
  {
   "cell_type": "code",
   "execution_count": 7,
   "metadata": {
    "collapsed": false
   },
   "outputs": [],
   "source": [
    "class Barometric2:\n",
    "    def __init__(self, T):\n",
    "        g = 9.81         #m/(s*s)\n",
    "        R = 8.314        #J/(K*mol)\n",
    "        M = 0.02896      #kg/mol\n",
    "        self.h0 = R*T/(M*g)\n",
    "        self.p0 = 100.0       #kPa\n",
    "\n",
    "\n",
    "    def value(self, h):\n",
    "        return self.p0 * exp(-h/self.h0)"
   ]
  },
  {
   "cell_type": "markdown",
   "metadata": {},
   "source": [
    "In this class, we use the definition of the scale height from above and\n",
    "compute and store this value as an attribute inside the constructor. The\n",
    "attribute `self.h0` is then used inside the `value` method. Notice that the\n",
    "constants `g, R`, and `M` are, in this case, local variables in the constructor,\n",
    "and neither these nor `T` are stored as attributes. They are only accessible\n",
    "inside the constructor, while `self.p0` and `self.h0` are stored and\n",
    "can be accessed later from within other methods.\n",
    "\n",
    "At this point, many will be confused by the `self` variable, and the fact that,\n",
    "when we define the methods `__init__` and `value` they take two arguments, but,\n",
    "when calling them, they take only one. The explanation for this behavior is\n",
    "that `self` represents the object itself, and it is automatically passed as\n",
    "the first argument when we call a method bound to the object. When we write"
   ]
  },
  {
   "cell_type": "code",
   "execution_count": 8,
   "metadata": {
    "collapsed": false
   },
   "outputs": [],
   "source": [
    "p1 = b1.value(2469)"
   ]
  },
  {
   "cell_type": "markdown",
   "metadata": {},
   "source": [
    "it is equivalent to the call"
   ]
  },
  {
   "cell_type": "code",
   "execution_count": 9,
   "metadata": {
    "collapsed": false
   },
   "outputs": [],
   "source": [
    "p1 = Barometric.value(b1,2469)"
   ]
  },
  {
   "cell_type": "markdown",
   "metadata": {},
   "source": [
    "Here we explicitly call the `value` method that belongs to the\n",
    "`Barometric` class and pass the instance `b1` as the first argument.\n",
    "Inside the method, `b1` then becomes the local variable `self`, as is usual when\n",
    "passing arguments to a function,\n",
    "and we can access its attributes `T, g`, and so on. Exactly the same thing happens\n",
    "when we call `b1.value(2469)`, but\n",
    "now the object `b1` is automatically passed as the first argument to the method.\n",
    "It looks as if we are calling the method with a single argument,\n",
    "but in reality it gets two.\n",
    "\n",
    "The use of the `self` variable in Python classes has been the subject of many\n",
    "discussions. Even experienced programmers find it confusing, and many have\n",
    "questioned why the language was designed this way. There are some obvious\n",
    "advantages to the approach, for instance, it very clearly distinguishes\n",
    "between instance attributes (prefixed with `self`) and local variables defined\n",
    "inside a method. However, if one is struggling to see the reasoning behind the\n",
    "`self` variable, it is sufficient to remember the following two rules: (i) `self` is\n",
    "always the first argument in a method definition, but is never inserted when the\n",
    "method is called, and (ii) to access an attribute inside a method, the attribute\n",
    "needs to be prefixed with `self`.\n",
    "\n",
    "An advantage of creating a class for our barometric function is that we can now send\n",
    "`b1.value` as an argument to any other function that expects a\n",
    "function argument `f` that takes a single argument. Consider, for instance, the following\n",
    "small example, where the function `make_table` prints a table of the function\n",
    "values for any function passed to it:"
   ]
  },
  {
   "cell_type": "code",
   "execution_count": 10,
   "metadata": {
    "collapsed": false
   },
   "outputs": [],
   "source": [
    "from math import sin, exp, pi\n",
    "from numpy import linspace\n",
    "\n",
    "def make_table(f, tstop, n):\n",
    "    for t in linspace(0, tstop, n):\n",
    "        print(t, f(t))\n",
    "\n",
    "def g(t):\n",
    "    return sin(t)*exp(-t)\n",
    "\n",
    "make_table(g, 2*pi, 11)         # send ordinary function\n",
    "\n",
    "b1 = Barometric(2469)\n",
    "make_table(b1.value, 2*pi, 11)   # send class method"
   ]
  },
  {
   "cell_type": "markdown",
   "metadata": {},
   "source": [
    "Because of how `f(t)` is used inside the function, we need to send `make_table`\n",
    "a function that takes a single argument. Our `b1.value` method satisfies this\n",
    "requirement, but we can still use different values of `T` by creating\n",
    "multiple instances.\n",
    "\n",
    "### More general Python classes.\n",
    "\n",
    "Of course, Python classes have far more general applicability than just\n",
    "the representation of mathematical functions. A general Python class\n",
    "definition follows the recipe outlined in the example above, as follows:"
   ]
  },
  {
   "cell_type": "markdown",
   "metadata": {},
   "source": [
    "```Python\n",
    "        class MyClass:\n",
    "            def __init__(self, p1, p2,...):\n",
    "                self.attr1 = p1\n",
    "                self.attr2 = p2\n",
    "        \t...\n",
    "        \n",
    "            def method1(self, arg):\n",
    "            \t  #access attributes with self prefix\n",
    "                result = self.attr1 + ...\n",
    "                ...\n",
    "                #create new attributes if desired\n",
    "                self.attrx = arg\n",
    "                ...\n",
    "                return result\n",
    "        \n",
    "            def method2(self):\n",
    "                ...\n",
    "                print(...)\n",
    "```"
   ]
  },
  {
   "cell_type": "markdown",
   "metadata": {},
   "source": [
    "We can define as many methods as we want inside the class, with or without\n",
    "arguments. When we create an instance of the class the methods become bound\n",
    "to the instance, and are accessed with the prefix, for instance,\n",
    "`m.method2()` if `m` is an\n",
    "instance of `MyClass`. It is common to have a constructor where attributes\n",
    "are initialized, but this is not a requirement. Attributes can be defined\n",
    "whenever desired, for instance, inside a method, as in the\n",
    "line `self.attrx = arg` in the example above, or even from outside the class:"
   ]
  },
  {
   "cell_type": "markdown",
   "metadata": {},
   "source": [
    "```Python\n",
    "        m = MyClass(p1,p2, ...)\n",
    "        m.new_attr = p3\n",
    "```"
   ]
  },
  {
   "cell_type": "markdown",
   "metadata": {},
   "source": [
    "The second line here creates a new attribute `new_attr` for the instance `m`\n",
    "of `MyClass`. Such addition of attributes is entirely valid, but it is rarely\n",
    "good programming practice since we can end up with instances of the same class having\n",
    "different attributes. It is a good habit to always equip a class with a\n",
    "constructor and to primarily define attributes inside the constructor.\n",
    "\n",
    "# Protected Class Attributes\n",
    "For a more classical computer science example of a Python class, let us look at\n",
    "a class representing a bank account. Natural attributes for such a class will\n",
    "be the name of the owner, the account number, and the balance, and we can\n",
    "include methods for deposits, withdrawals, and printing information about the\n",
    "account. The code for defining such a class could look like this:"
   ]
  },
  {
   "cell_type": "code",
   "execution_count": 11,
   "metadata": {
    "collapsed": false
   },
   "outputs": [],
   "source": [
    "class BankAccount:\n",
    "    def __init__(self, first_name, last_name, number, balance):\n",
    "        self.first_name = first_name\n",
    "        self.last_name = last_name\n",
    "        self.number = number\n",
    "        self.balance = balance\n",
    "\n",
    "\n",
    "    def deposit(self, amount):\n",
    "        self.balance += amount\n",
    "\n",
    "    def withdraw(self, amount):\n",
    "        self.balance -= amount\n",
    "\n",
    "    def print_info(self):\n",
    "        first = self.first_name; last = self.last_name\n",
    "        number = self.number; bal = self.balance\n",
    "        s = f'{first} {last}, {number}, balance: {balance}'\n",
    "        print(s)"
   ]
  },
  {
   "cell_type": "markdown",
   "metadata": {},
   "source": [
    "Typical use of the class could be something like the following, where we create\n",
    "two different account instances and call the various methods for deposits,\n",
    "withdrawals, and printing information:"
   ]
  },
  {
   "cell_type": "code",
   "execution_count": 12,
   "metadata": {
    "collapsed": false
   },
   "outputs": [],
   "source": [
    "a1 = Account('John', 'Olsson', '19371554951', 20000)\n",
    "a2 = Account('Liz', 'Olsson',  '19371564761', 20000)\n",
    "a1.deposit(1000)\n",
    "a1.withdraw(4000)\n",
    "a2.withdraw(10500)\n",
    "a1.withdraw(3500)\n",
    "print \"a1's balance:\", a1.balance"
   ]
  },
  {
   "cell_type": "code",
   "execution_count": 13,
   "metadata": {
    "collapsed": false
   },
   "outputs": [],
   "source": [
    "a1.print_info()"
   ]
  },
  {
   "cell_type": "code",
   "execution_count": 14,
   "metadata": {
    "collapsed": false
   },
   "outputs": [],
   "source": [
    "a2.print_info()"
   ]
  },
  {
   "cell_type": "markdown",
   "metadata": {},
   "source": [
    "However, there is nothing to prevent a user from changing the\n",
    "attributes of the account directly:"
   ]
  },
  {
   "cell_type": "markdown",
   "metadata": {},
   "source": [
    "Although it can be tempting to adjust a bank account balance when needed, it is not\n",
    "the intended use of the class. Directly manipulating attributes in this way\n",
    "will very often lead to errors in large software systems, and is considered a bad\n",
    "programming style. Instead, attributes should always be changed by calling\n",
    "methods, in this case, `withdraw` and `deposit`.\n",
    "Many programming languages have constructions that can limit the access to\n",
    "attributes from outside the class, so that any attempt to access them will lead\n",
    "to an error message when compiling or running the code. Python has no technical way to\n",
    "limit attribute access, but it is common to mark attributes as *protected* by\n",
    "prefixing the name with an underscore (e.g., `_name`). This convention tells\n",
    "other programmers that a given attribute or method is not supposed to be accessed\n",
    "from outside the class, even though it is still technically possible to do so. An\n",
    "account class with protected attributes can look like the following:"
   ]
  },
  {
   "cell_type": "code",
   "execution_count": 15,
   "metadata": {
    "collapsed": false
   },
   "outputs": [],
   "source": [
    "class BankAccountP:\n",
    "    def __init__(self, first_name, last_name, number, balance):\n",
    "        self._first_name = first_name\n",
    "        self._last_name = name\n",
    "        self._number = number\n",
    "        self._balance = balance\n",
    "\n",
    "    def deposit(self, amount):\n",
    "        self._balance += amount\n",
    "\n",
    "    def withdraw(self, amount):\n",
    "        self._balance -= amount\n",
    "\n",
    "    def get_balance(self):    # NEW - read balance value\n",
    "        return self._balance\n",
    "\n",
    "    def print_info(self):\n",
    "        first = self.first_name; last = self.last_name\n",
    "        number = self.number; bal = self.balance\n",
    "        s = f'{first} {last}, {number}, balance: {balance}'\n",
    "        print(s)"
   ]
  },
  {
   "cell_type": "markdown",
   "metadata": {},
   "source": [
    "When using this class, it will still be technically possible to access\n",
    "the attributes directly, as in"
   ]
  },
  {
   "cell_type": "code",
   "execution_count": 16,
   "metadata": {
    "collapsed": false
   },
   "outputs": [],
   "source": [
    "a1 = BankAccountP('John', 'Olsson', '19371554951', 20000)\n",
    "a1._number = '19371554955'"
   ]
  },
  {
   "cell_type": "markdown",
   "metadata": {},
   "source": [
    "However, all experienced Python programmers will know that the second line\n",
    "is a serious violation of good coding practice and will look for a better\n",
    "way to solve the task. When using code libraries developed by others,\n",
    "such conventions are risky to break, since internal data structures can\n",
    "change, while the *interface* to the class is more static. The convention of\n",
    "protected variables is how programmers tell users of the class what can\n",
    "change and what is static. Library developers can decide to change the internal\n",
    "data structure of a class, but users of the class might not even\n",
    "notice this change if the methods to access the data remain unchanged.\n",
    "Since the class interface is unchanged, users who followed the convention\n",
    "will be fine, but users who have accessed protected attributes directly could\n",
    "be in for a surprise.\n",
    "\n",
    "# Special Methods\n",
    "In the examples above, we define a constructor for each class, identified\n",
    "by its special name `__init__(...)`. This name is recognized by Python, and\n",
    "the method is automatically called every time we create a new instance of the\n",
    "class. The constructor belongs to a family of methods known as *special methods*,\n",
    "which are all recognized by double leading and trailing underscores in the name.\n",
    "The term *special methods* could be a bit misleading, since the methods themselves\n",
    "are not really special. The special thing about them is the name, which ensures\n",
    "that they are automatically called in different situations, such as the `__init__`\n",
    "function being called when class instances are created. There are many\n",
    "more such special methods that we can use to create object types with\n",
    "very useful properties.\n",
    "\n",
    "Consider, for instance, the first example of this chapter, where the class\n",
    "`Barometric`\n",
    "contained the method `value(h)` to evaluate a mathematical function. After\n",
    "creating an instance named `baro`, we could call the method with\n",
    "`baro.value(t)`. However, it would be even more convenient if we could just write\n",
    "`baro(t)` as if the instance were a regular Python function. This behavior\n",
    "can be obtained by simply changing the name of the `value` method to one\n",
    "of the special method names that Python automatically recognizes.\n",
    "The special method name for making an instance *callable* like a regular Python\n",
    "function is `__call__`:"
   ]
  },
  {
   "cell_type": "code",
   "execution_count": 17,
   "metadata": {
    "collapsed": false
   },
   "outputs": [],
   "source": [
    "class Barometric:\n",
    "    def __init__(self, T):\n",
    "        self.T = T            #K\n",
    "        self.g = 9.81         #m/(s*s)\n",
    "        self.R = 8.314        #J/(K*mol)\n",
    "        self.M = 0.02896      #kg/mol\n",
    "        self.p0 = 100.0       #kPa\n",
    "\n",
    "\n",
    "    def __call__(self, h):\n",
    "        return self.p0 * exp(-self.M*self.g*h/(self.R*self.T))"
   ]
  },
  {
   "cell_type": "markdown",
   "metadata": {},
   "source": [
    "Now we can call an instance of the class `Barometric` just as any other Python function"
   ]
  },
  {
   "cell_type": "code",
   "execution_count": 18,
   "metadata": {
    "collapsed": false
   },
   "outputs": [],
   "source": [
    "baro = Barometric(245)\n",
    "p = baro(2346)          #same as p = baro.__call__(2346)"
   ]
  },
  {
   "cell_type": "markdown",
   "metadata": {},
   "source": [
    "The instance `baro` now behaves and looks like a function. The method is\n",
    "exactly the same as the `value` method, but creating a special method by\n",
    "renaming it to `__call__` produces nicer syntax when the class is used.\n",
    "\n",
    "### Special method for printing.\n",
    "\n",
    "We are used to printing an object `a` using `print(a)`, which works fine for\n",
    "Python's built-in object types such as strings and lists. However, if `a` is\n",
    "an instance of a class we defined ourselves, we do not obtain much useful information,\n",
    "since Python does not know what information to show. We can solve this problem\n",
    "by defining a special method named `__str__` in our class. The `__str__` method\n",
    "must return a string object, preferably a string that provides\n",
    "useful information about the object, and it should not take any arguments except `self`.\n",
    "For the function class seen above, a suitable `__str__` method could look\n",
    "like the following:"
   ]
  },
  {
   "cell_type": "markdown",
   "metadata": {},
   "source": [
    "```Python\n",
    "        class Barometric:\n",
    "            ...\n",
    "            def __call__(self, h):\n",
    "                return self.p0 * exp(-self.M*self.g*h/(self.R*self.T))\n",
    "        \n",
    "            def __str__(self):\n",
    "                return f'p0 * exp(-M*g*h/(R*T)); T = {self.T}'\n",
    "```"
   ]
  },
  {
   "cell_type": "markdown",
   "metadata": {},
   "source": [
    "If we now call `print` for an instance of the class, the function\n",
    "expression and the value of `T` for that instance will be printed, as follows:"
   ]
  },
  {
   "cell_type": "code",
   "execution_count": 19,
   "metadata": {
    "collapsed": false
   },
   "outputs": [],
   "source": [
    "b = Barometric(245)\n",
    "b(2469)"
   ]
  },
  {
   "cell_type": "code",
   "execution_count": 20,
   "metadata": {
    "collapsed": false
   },
   "outputs": [],
   "source": [
    "print(b)"
   ]
  },
  {
   "cell_type": "markdown",
   "metadata": {},
   "source": [
    "### Special methods for mathematical operations.\n",
    "\n",
    "So far we have seen three special methods, namely, `__init__`, `__call__`, and `__str__`,\n",
    "but there are many more. We will not cover them all in this book, but a few\n",
    "are worth mentioning. For instance, there are special methods for\n",
    "arithmetic operations, such as `__add__`, `__sub__`, `__mul__`, and so forth. Defining\n",
    "these methods inside our class will enable us to perform operations such as\n",
    "`c = a+b`, where `a,b` are instances of the class. The following are relevant\n",
    "arithmetic operations and the corresponding special method that they will call:"
   ]
  },
  {
   "cell_type": "code",
   "execution_count": 21,
   "metadata": {
    "collapsed": false
   },
   "outputs": [],
   "source": [
    "c = a + b    #  c = a.__add__(b)\n",
    "\n",
    "c = a - b    #  c = a.__sub__(b)\n",
    "\n",
    "c = a*b      #  c = a.__mul__(b)\n",
    "\n",
    "c = a/b      #  c = a.__div__(b)\n",
    "\n",
    "c = a**e     #  c = a.__pow__(e)"
   ]
  },
  {
   "cell_type": "markdown",
   "metadata": {},
   "source": [
    "It is natural, in most but not all cases, for these methods to return an object\n",
    "of the same type as the operands. Similarly, there are special methods for\n",
    "comparing objects,as follows:"
   ]
  },
  {
   "cell_type": "code",
   "execution_count": 22,
   "metadata": {
    "collapsed": false
   },
   "outputs": [],
   "source": [
    "a == b       #  a.__eq__(b)\n",
    "\n",
    "a != b       #  a.__ne__(b)\n",
    "\n",
    "a < b        #  a.__lt__(b)\n",
    "\n",
    "a <= b       #  a.__le__(b)\n",
    "\n",
    "a > b        #  a.__gt__(b)\n",
    "\n",
    "a >= b       #  a.__ge__(b)"
   ]
  },
  {
   "cell_type": "markdown",
   "metadata": {},
   "source": [
    "These methods should be implemented to return true or false, to be consistent with the\n",
    "usual behavior of the comparison operators. The actual contents of the special\n",
    "method are in all cases entirely up to the programmer. The only special thing\n",
    "about the methods is their name, which ensures that they are automatically called\n",
    "by various operators. For instance, if you try to multiply two objects with a\n",
    "statement such as `c = a*b`, Python will look for a method named `__mul__` in the\n",
    "instance `a`. If such a method exists, it will be called with the instance `b` as\n",
    "the argument, and whatever the method `__mul__` returns will be the result of\n",
    "our multiplication operation.\n",
    "\n",
    "### The `__repr__` special method.\n",
    "\n",
    "The last special method we will consider here is a method named `__repr__`,\n",
    "which is similar to `__str__` in the sense that it should return a string with\n",
    "information about the object. The difference is that, while `__str__` should provide\n",
    "human-readable information, the `__repr__` string will contain all the\n",
    "information necessary to recreate the object. For an\n",
    "object `a`, the `__repr__` method is called if we call `repr(a)`,\n",
    "where `repr` is a built-in function. The intended function\n",
    "of `repr` is such that `eval(repr(a)) == a`, that is, running the string\n",
    "output by `a.__repr__` should recreate `a`.\n",
    "To illustrate its use, let us add a `__repr__` method to the class `Barometric`\n",
    "from the start of the chapter:"
   ]
  },
  {
   "cell_type": "markdown",
   "metadata": {},
   "source": [
    "```Python\n",
    "        class Barometric:\n",
    "            ...\n",
    "            def __call__(self, h):\n",
    "                return self.p0 * exp(-self.M*self.g*h/(self.R*self.T))\n",
    "        \n",
    "            def __str__(self):\n",
    "                return f'p0 * exp(-M*g*h/(R*T)); T = {self.T}'\n",
    "        \n",
    "            def __repr__(self):\n",
    "                \"\"\"Return code for regenerating this instance.\"\"\"\n",
    "                return f'Barometric({self.T})'\n",
    "```"
   ]
  },
  {
   "cell_type": "markdown",
   "metadata": {},
   "source": [
    "Again, we can illustrate how it works in an interactive shell:"
   ]
  },
  {
   "cell_type": "code",
   "execution_count": 23,
   "metadata": {
    "collapsed": false
   },
   "outputs": [],
   "source": [
    "from tmp import *\n",
    "b = Barometric(271)\n",
    "print(b)"
   ]
  },
  {
   "cell_type": "code",
   "execution_count": 24,
   "metadata": {
    "collapsed": false
   },
   "outputs": [],
   "source": [
    "repr(b)"
   ]
  },
  {
   "cell_type": "code",
   "execution_count": 25,
   "metadata": {
    "collapsed": false
   },
   "outputs": [],
   "source": [
    " b2 = eval(repr(b))\n",
    "print(b2)"
   ]
  },
  {
   "cell_type": "markdown",
   "metadata": {},
   "source": [
    "The last two lines confirm that the `repr` method works as intended, since\n",
    "running `eval(repr(b)` returns an object\n",
    "identical to `b`. Both `__repr__` and `__str__` return strings with information\n",
    "about an object, the difference being that `__str__` gives information to be read by humans,\n",
    "whereas the output of `__repr__` is intended to be read by Python.\n",
    "\n",
    "### How to know the contents of a class.\n",
    "\n",
    "Sometimes listing the contents of a class can be useful, particularly for\n",
    "debugging. Consider the following dummy class, which does nothing useful\n",
    "except to define a doc string, a constructor, and a single attribute:"
   ]
  },
  {
   "cell_type": "code",
   "execution_count": 26,
   "metadata": {
    "collapsed": false
   },
   "outputs": [],
   "source": [
    " class A:\n",
    "    \"\"\"A class for demo purposes.\"\"\"\n",
    "    def __init__(self, value):\n",
    "        self.v = value"
   ]
  },
  {
   "cell_type": "markdown",
   "metadata": {},
   "source": [
    "If we now write `dir(A)` we see that the class actually contains a great deal more\n",
    "than what we put into it, since Python automatically defines certain methods\n",
    "and attributes in all classes. Most of the items listed are default versions\n",
    "of special methods, which do nothing useful except to give the\n",
    "error message `NotImplemented` if they are called. However, if we create an\n",
    "instance of `A`, and use `dir` on that instance, we obtain more useful information:"
   ]
  },
  {
   "cell_type": "code",
   "execution_count": 27,
   "metadata": {
    "collapsed": false
   },
   "outputs": [],
   "source": [
    "a = A(2)\n",
    "dir(a)"
   ]
  },
  {
   "cell_type": "markdown",
   "metadata": {},
   "source": [
    "We see that the list contains the same (mostly useless) default versions of\n",
    "special methods, but some of the items are more meaningful. If we continue the\n",
    "interactive session to examine some of the items, we obtain"
   ]
  },
  {
   "cell_type": "code",
   "execution_count": 28,
   "metadata": {
    "collapsed": false
   },
   "outputs": [],
   "source": [
    "a.__doc__"
   ]
  },
  {
   "cell_type": "code",
   "execution_count": 29,
   "metadata": {
    "collapsed": false
   },
   "outputs": [],
   "source": [
    "a.__dict__"
   ]
  },
  {
   "cell_type": "code",
   "execution_count": 30,
   "metadata": {
    "collapsed": false
   },
   "outputs": [],
   "source": [
    "a.v"
   ]
  },
  {
   "cell_type": "code",
   "execution_count": 31,
   "metadata": {
    "collapsed": false
   },
   "outputs": [],
   "source": [
    "a.__module__"
   ]
  },
  {
   "cell_type": "markdown",
   "metadata": {},
   "source": [
    "The `__doc__` attribute is the doc string we defined, while `__module__` is the\n",
    "name of the module to which\n",
    "class belongs, which is simply `__main__` in this case, since we defined it in the main program.\n",
    "However, the most useful item is probably `__dict__`, which is a dictionary containing the\n",
    "names and values of all the attributes of the object `a`. Any instance holds its attributes in the\n",
    "`self.__dict__` dictionary, which is automatically created by Python. If we add new\n",
    "attributes to the instance, they are inserted into the `__dict__`:"
   ]
  },
  {
   "cell_type": "code",
   "execution_count": 32,
   "metadata": {
    "collapsed": false
   },
   "outputs": [],
   "source": [
    "a = A([1,2])\n",
    "print a.__dict__  # all attributes"
   ]
  },
  {
   "cell_type": "code",
   "execution_count": 33,
   "metadata": {
    "collapsed": false
   },
   "outputs": [],
   "source": [
    "a.myvar = 10            # add new attribute (!)\n",
    "a.__dict__"
   ]
  },
  {
   "cell_type": "markdown",
   "metadata": {},
   "source": [
    "When programming with classes we are not supposed to use the internal data structures\n",
    "such as `__dict__` explicitly, but printing it to check the values of class\n",
    "attributes  can be very useful if something goes wrong in our code.\n",
    "\n",
    "# Example: Automatic Differentiation of Functions\n",
    "To provide a more relevant and useful example of a\n",
    "`__call__` special method, consider the task of computing the derivative of an\n",
    "arbitrary function. Given some mathematical function in Python, say,"
   ]
  },
  {
   "cell_type": "code",
   "execution_count": 34,
   "metadata": {
    "collapsed": false
   },
   "outputs": [],
   "source": [
    "def f(x):\n",
    "    return x**3"
   ]
  },
  {
   "cell_type": "markdown",
   "metadata": {},
   "source": [
    "we want to make a class `Derivative` and write"
   ]
  },
  {
   "cell_type": "code",
   "execution_count": 35,
   "metadata": {
    "collapsed": false
   },
   "outputs": [],
   "source": [
    "dfdx = Derivative(f)"
   ]
  },
  {
   "cell_type": "markdown",
   "metadata": {},
   "source": [
    "so that `dfdx` behaves as a function that computes the derivative of `f(x)`.\n",
    "When the instance `dfdx` is created, we want to call it like a regular function\n",
    "to evaluate the derivative of `f` in a point `x`:"
   ]
  },
  {
   "cell_type": "code",
   "execution_count": 36,
   "metadata": {
    "collapsed": false
   },
   "outputs": [],
   "source": [
    "print(dfdx(2))   # computes 3*x**2 for x=2"
   ]
  },
  {
   "cell_type": "markdown",
   "metadata": {},
   "source": [
    "It is tricky to create such a class using analytical differentiation rules, but\n",
    "we can write a generic class by using numerical differentiation:"
   ]
  },
  {
   "cell_type": "markdown",
   "metadata": {},
   "source": [
    "$$\n",
    "f'(x) \\approx {f(x+h)-f(x)\\over h} .\n",
    "$$"
   ]
  },
  {
   "cell_type": "markdown",
   "metadata": {},
   "source": [
    "For a small (yet moderate) $h$, say $h=10^{-5}$, this estimate will be sufficiently\n",
    "accurate for most applications. The key parts of the implementation are to let\n",
    "the function `f` be an attribute of the `Derivative` class and then implement\n",
    "the numerical differentiation formula in a `__call__` special method:"
   ]
  },
  {
   "cell_type": "code",
   "execution_count": 37,
   "metadata": {
    "collapsed": false
   },
   "outputs": [],
   "source": [
    "class Derivative:\n",
    "    def __init__(self, f, h=1E-5):\n",
    "        self.f = f\n",
    "        self.h = float(h)\n",
    "\n",
    "    def __call__(self, x):\n",
    "        f, h = self.f, self.h      # make short forms\n",
    "        return (f(x+h) - f(x))/h"
   ]
  },
  {
   "cell_type": "markdown",
   "metadata": {},
   "source": [
    "The following interactive session demonstrates typical use of the class:"
   ]
  },
  {
   "cell_type": "code",
   "execution_count": 38,
   "metadata": {
    "collapsed": false
   },
   "outputs": [],
   "source": [
    "from math import *\n",
    "df = Derivative(sin)\n",
    "x = pi\n",
    "df(x)"
   ]
  },
  {
   "cell_type": "code",
   "execution_count": 39,
   "metadata": {
    "collapsed": false
   },
   "outputs": [],
   "source": [
    "cos(x)  # exact"
   ]
  },
  {
   "cell_type": "code",
   "execution_count": 40,
   "metadata": {
    "collapsed": false
   },
   "outputs": [],
   "source": [
    "def g(t):\n",
    "    return t**3"
   ]
  },
  {
   "cell_type": "code",
   "execution_count": 41,
   "metadata": {
    "collapsed": false
   },
   "outputs": [],
   "source": [
    "dg = Derivative(g)\n",
    "t = 1\n",
    "dg(t)  # compare with 3 (exact)"
   ]
  },
  {
   "cell_type": "markdown",
   "metadata": {},
   "source": [
    "For a particularly useful application of the `Derivative` class, consider\n",
    "the solution of a nonlinear equation $f(x)=0$.\n",
    "In Chapter 4 we implement Newton's method as a general method\n",
    "for solving nonlinear equations, but Newton's method uses\n",
    "the derivative $f'(x)$, which needs to be provided as an argument to the function:"
   ]
  },
  {
   "cell_type": "markdown",
   "metadata": {},
   "source": [
    "```Python\n",
    "        def Newton2(f, dfdx, x0, max_it=20, tol= 1e-3):\n",
    "            ...\n",
    "            return x0, converged, iter\n",
    "```"
   ]
  },
  {
   "cell_type": "markdown",
   "metadata": {},
   "source": [
    "See Chapter 4 for a complete implementation of the function.\n",
    "For many functions $f(x)$, finding $f'(x)$ can require lengthy\n",
    "and boring derivations, and in such cases the `Derivative` class is quite handy:"
   ]
  },
  {
   "cell_type": "code",
   "execution_count": 42,
   "metadata": {
    "collapsed": false
   },
   "outputs": [],
   "source": [
    "def f(x):\n",
    "    return 100000*(x - 0.9)**2 * (x - 1.1)**3"
   ]
  },
  {
   "cell_type": "code",
   "execution_count": 43,
   "metadata": {
    "collapsed": false
   },
   "outputs": [],
   "source": [
    "dfdx = Derivative(f)\n",
    "xstart = 1.01\n",
    "Newton2(f, dfdx, xstart)"
   ]
  },
  {
   "cell_type": "markdown",
   "metadata": {},
   "source": [
    "# Test Functions for Classes\n",
    "In Chapter 4 we introduced test functions as a method to verify\n",
    "that our functions were implemented correctly, and the exact\n",
    "same approach can be used to test the implementation of classes.\n",
    "Inside the test function, we define parameters for which we know the\n",
    "expected output, and then call our class methods and compare the results with those\n",
    "expected. The only additional step involved when testing classes is that we\n",
    "will typically create one or more instances of the class inside the test function\n",
    "and then call their. As an example, consider a test\n",
    "function for the `Derivative` class of the previous section. How can we define\n",
    "a test case with known output for this class?\n",
    "Two possible methods are; (i) to compute $(f(x+h)-f(x))/h$ by hand for\n",
    "some $f$ and $h$, or (ii) utilize the fact that linear functions are differentiated\n",
    "exactly by our numerical formula,\n",
    "regardless of $h$. A test function based on (ii) could look like the following:"
   ]
  },
  {
   "cell_type": "code",
   "execution_count": 44,
   "metadata": {
    "collapsed": false
   },
   "outputs": [],
   "source": [
    "def test_Derivative():\n",
    "    # The formula is exact for linear functions, regardless of h\n",
    "    f = lambda x: a*x + b\n",
    "    a = 3.5; b = 8\n",
    "    dfdx = Derivative(f, h=0.5)\n",
    "    diff = abs(dfdx(4.5) - a)\n",
    "    assert diff < 1E-14, 'bug in class Derivative, diff=%s' % diff"
   ]
  },
  {
   "cell_type": "markdown",
   "metadata": {},
   "source": [
    "This function follows the standard recipe for test functions: we construct a\n",
    "problem with a known result, create an instance of the class, call the\n",
    "method, and compare the result with the expected result. However, some of the details inside\n",
    "the test function may be worth commenting on. First, we use a lambda function to\n",
    "define `f(x)`. As you may recall from Chapter 4,\n",
    "a lambda function is simply a compact way of defining a function, with"
   ]
  },
  {
   "cell_type": "code",
   "execution_count": 45,
   "metadata": {
    "collapsed": false
   },
   "outputs": [],
   "source": [
    "f = lambda x: a*x + b"
   ]
  },
  {
   "cell_type": "markdown",
   "metadata": {},
   "source": [
    "being equivalent to"
   ]
  },
  {
   "cell_type": "code",
   "execution_count": 46,
   "metadata": {
    "collapsed": false
   },
   "outputs": [],
   "source": [
    "def f(x):\n",
    "    return a*x + b"
   ]
  },
  {
   "cell_type": "markdown",
   "metadata": {},
   "source": [
    "The use of the lambda function inside the test function appears straightforward at first:"
   ]
  },
  {
   "cell_type": "markdown",
   "metadata": {},
   "source": [
    "```Python\n",
    "        f = lambda x: a*x + b\n",
    "        a = 3.5; b = 8\n",
    "        dfdx = Derivative(f, h=0.5)\n",
    "        dfdx(4.5)\n",
    "```"
   ]
  },
  {
   "cell_type": "markdown",
   "metadata": {},
   "source": [
    "The function `f` is defined to taking one argument `x` and also using\n",
    "two two local\n",
    "variables `a` and `b` that are defined outside the function before it is called.\n",
    "However, looking at this code in more detail can raise questions.\n",
    "Calling `dfdx(4.5)` implies\n",
    "that `Derivative.__call__` is called, but how can this methods know the values of\n",
    "`a` and `b` when it calls our `f(x)` function? These variables are defined inside the\n",
    "test function and are therefore local, whereas the class is defined in the main program.\n",
    "The answer is that a function defined inside another function \"remembers,\" or\n",
    "has access to, *all* the local variables of the function where it is defined.\n",
    "Therefore, all the variables defined inside `test_Derivative`\n",
    "become part of the *namespace* of the function `f`, and `f` can access `a` and `b`\n",
    "in `test_Derivative` even when it is called from the `__call__` method in\n",
    "class `Derivative`. This construction is known as a *closure* in computer science.\n",
    "\n",
    "# Example: A Polynomial Class\n",
    "As a summarizing example of classes and special methods, we can consider the\n",
    "representation of polynomials introduced in  Chapter\n",
    "7. A polynomial can be specified\n",
    "by a dictionary or list representing its coefficients and powers. For example,\n",
    "$1 - x^2 + 2x^3$ is"
   ]
  },
  {
   "cell_type": "markdown",
   "metadata": {},
   "source": [
    "$$\n",
    "1 + 0\\cdot x - 1\\cdot x^2 + 2\\cdot x^3\n",
    "$$"
   ]
  },
  {
   "cell_type": "markdown",
   "metadata": {},
   "source": [
    "and the coefficients can be stored as a list `[1, 0, -1, 2]`. We now want to\n",
    "create a class for such a polynomial and equip it with functionality\n",
    "to  evaluate and print polynomials and to add two polynomials.\n",
    "Intended use of the class `Polynomial` could look like the following:"
   ]
  },
  {
   "cell_type": "code",
   "execution_count": 47,
   "metadata": {
    "collapsed": false
   },
   "outputs": [],
   "source": [
    "p1 = Polynomial([1, -1])\n",
    "print(p1)"
   ]
  },
  {
   "cell_type": "code",
   "execution_count": 48,
   "metadata": {
    "collapsed": false
   },
   "outputs": [],
   "source": [
    "p2 = Polynomial([0, 1, 0, 0, -6, -1])\n",
    "p3 = p1 + p2\n",
    "print(p3.coeff)"
   ]
  },
  {
   "cell_type": "code",
   "execution_count": 49,
   "metadata": {
    "collapsed": false
   },
   "outputs": [],
   "source": [
    "print(p3)"
   ]
  },
  {
   "cell_type": "code",
   "execution_count": 50,
   "metadata": {
    "collapsed": false
   },
   "outputs": [],
   "source": [
    "print(p3(2.0))"
   ]
  },
  {
   "cell_type": "code",
   "execution_count": 51,
   "metadata": {
    "collapsed": false
   },
   "outputs": [],
   "source": [
    "p4 = p1*p2\n",
    "p2.differentiate()\n",
    "print(p2)"
   ]
  },
  {
   "cell_type": "markdown",
   "metadata": {},
   "source": [
    "To make all these operations possible, the class needs the following special methods:\n",
    "* `__init__`, the constructor, for the line `p1 = Polynomial([1,-1])`\n",
    "\n",
    "* `__str__`, for doing `print(p1)`\n",
    "\n",
    "* `__call__`, to enable the call `p3(2.0)`\n",
    "\n",
    "* `__add__`, to make `p3 = p1 + p2` work\n",
    "\n",
    "* `__mul__`, to allow `p4 = p1*p2`\n",
    "\n",
    "In addition, the class needs a method `differentiate` that computes the derivative of a polynomial, and changes\n",
    "it in-place. Starting with the most basic methods, the constructor is fairly straightforward and the call method\n",
    "simply follows the recipe from Chapter 7:"
   ]
  },
  {
   "cell_type": "code",
   "execution_count": 52,
   "metadata": {
    "collapsed": false
   },
   "outputs": [],
   "source": [
    "class Polynomial:\n",
    "    def __init__(self, coefficients):\n",
    "        self.coeff = coefficients\n",
    "\n",
    "    def __call__(self, x):\n",
    "        s = 0\n",
    "        for i in range(len(self.coeff)):\n",
    "            s += self.coeff[i]*x**i\n",
    "        return s"
   ]
  },
  {
   "cell_type": "markdown",
   "metadata": {},
   "source": [
    "To enable the addition of two polynomials, we need to implement the\n",
    "`__add__` method, which should take one argument in addition\n",
    "to `self`. The method should return a new `Polynomial` instance, since the\n",
    "sum of two polynomials is a polynomial, and the method needs to implement\n",
    "the rules of polynomial addition. Adding two polynomials means to add terms of equal\n",
    "order, which, in our list representation, means to loop over\n",
    "the `self.coeff` lists and add individual elements, as follows:"
   ]
  },
  {
   "cell_type": "code",
   "execution_count": 53,
   "metadata": {
    "collapsed": false
   },
   "outputs": [],
   "source": [
    "class Polynomial:\n",
    "    ...\n",
    "\n",
    "    def __add__(self, other):\n",
    "        # return self + other\n",
    "\n",
    "        # start with the longest list and add in the other:\n",
    "        if len(self.coeff) > len(other.coeff):\n",
    "            coeffsum = self.coeff[:]  # copy!\n",
    "            for i in range(len(other.coeff)):\n",
    "                coeffsum[i] += other.coeff[i]\n",
    "        else:\n",
    "            coeffsum = other.coeff[:] # copy!\n",
    "            for i in range(len(self.coeff)):\n",
    "                coeffsum[i] += self.coeff[i]\n",
    "        return Polynomial(coeffsum)"
   ]
  },
  {
   "cell_type": "markdown",
   "metadata": {},
   "source": [
    "The order of the sum of two polynomials is equal to the highest order of the two,\n",
    "so the length of the returned polynomial must be equal to the length of the\n",
    "longest of the two `coeff` lists. We utilize this knowledge in the code by\n",
    "starting with a copy of the longest list and then looping through the shortest\n",
    "and adding to each element.\n",
    "\n",
    "The multiplication of two polynomials is slightly more complex than their addition,\n",
    "so it is worth writing down the\n",
    "mathematics before implementing the `__mul__` method. The formula looks like"
   ]
  },
  {
   "cell_type": "markdown",
   "metadata": {},
   "source": [
    "$$\n",
    "\\left(\\sum_{i=0}^Mc_ix^i\\right)\\left(\\sum_{j=0}^N d_jx^j\\right)\n",
    "= \\sum_{i=0}^M \\sum_{j=0}^N c_id_j x^{i+j},\n",
    "$$"
   ]
  },
  {
   "cell_type": "markdown",
   "metadata": {},
   "source": [
    "which, in our list representation, means that the coefficient corresponding to the\n",
    "power $i+j$ is $c_i\\cdot d_j$. The list `r` of coefficients for the resulting polynomial should have length $N+M+1$, and an\n",
    "element `r[k]` should be the sum of all products `c[i]*d[j]` for which $i+j=k$.\n",
    "The implementation of the method could look like"
   ]
  },
  {
   "cell_type": "code",
   "execution_count": 54,
   "metadata": {
    "collapsed": false
   },
   "outputs": [],
   "source": [
    "class Polynomial:\n",
    "    ...\n",
    "    def __mul__(self, other):\n",
    "        M = len(self.coeff) - 1\n",
    "        N = len(other.coeff) - 1\n",
    "        coeff = [0]*(M+N+1)  # or zeros(M+N+1)\n",
    "        for i in range(0, M+1):\n",
    "            for j in range(0, N+1):\n",
    "                coeff[i+j] += self.coeff[i]*other.coeff[j]\n",
    "        return Polynomial(coeff)"
   ]
  },
  {
   "cell_type": "markdown",
   "metadata": {},
   "source": [
    "Just as the `__add__` method, `__mul__` takes one argument in addition to `self`,\n",
    "and returns a new `Polynomial` instance.\n",
    "\n",
    "Turning now to the `differentiate` method, the rule for differentiating a general polynomial is"
   ]
  },
  {
   "cell_type": "markdown",
   "metadata": {},
   "source": [
    "$$\n",
    "{d\\over dx}\\sum_{i=0}^n c_ix^i = \\sum_{i=1}^n ic_ix^{i-1}\n",
    "$$"
   ]
  },
  {
   "cell_type": "markdown",
   "metadata": {},
   "source": [
    "Therefore, if `c` is the list of coefficients, the derivative has a list\n",
    "of coefficients `dc`, where `dc[i-1] = i*c[i]` for `i` from one to the largest index in `c`.\n",
    "Note that `dc` will have one element less than `c`, since differentiating a\n",
    "polynomial reduces the order by one.\n",
    "The full implementation of the `differentiate` method could look like the following:"
   ]
  },
  {
   "cell_type": "code",
   "execution_count": 55,
   "metadata": {
    "collapsed": false
   },
   "outputs": [],
   "source": [
    "class Polynomial:\n",
    "    ...\n",
    "    def differentiate(self):    # change self\n",
    "        for i in range(1, len(self.coeff)):\n",
    "            self.coeff[i-1] = i*self.coeff[i]\n",
    "        del self.coeff[-1]\n",
    "\n",
    "    def derivative(self):       # return new polynomial\n",
    "        dpdx = Polynomial(self.coeff[:])  # copy\n",
    "        dpdx.differentiate()\n",
    "        return dpdx"
   ]
  },
  {
   "cell_type": "markdown",
   "metadata": {},
   "source": [
    "Here, the `differentiate` method will change the polynomial itself,\n",
    "since this is the behavior indicated by the way the function\n",
    "was used above. We have also added a separate function `derivative`\n",
    "that does not change the polynomial but, instead, returns\n",
    "its derivative as a new `Polynomial` object.\n",
    "\n",
    "Finally, let us implement the `__str__` method for printing the polynomial in\n",
    "human-readable form. This method should return a string representation close\n",
    "to the way we write a polynomial in mathematics, but achieving this can be\n",
    "surprisingly complicated. The following implementation does a reasonably good job:"
   ]
  },
  {
   "cell_type": "code",
   "execution_count": 56,
   "metadata": {
    "collapsed": false
   },
   "outputs": [],
   "source": [
    "class Polynomial:\n",
    "    ...\n",
    "    def __str__(self):\n",
    "        s = ''\n",
    "        for i in range(0, len(self.coeff)):\n",
    "            if self.coeff[i] != 0:\n",
    "                s += f' + {self.coeff[i]:g}*x^{i:g}'\n",
    "        # fix layout (many special cases):\n",
    "        s = s.replace('+ -', '- ')\n",
    "        s = s.replace(' 1*', ' ')\n",
    "        s = s.replace('x^0', '1')\n",
    "        s = s.replace('x^1 ', 'x ')\n",
    "        if s[0:3] == ' + ':  # remove initial +\n",
    "            s = s[3:]\n",
    "        if s[0:3] == ' - ':  # fix spaces for initial -\n",
    "            s = '-' + s[3:]\n",
    "        return s"
   ]
  },
  {
   "cell_type": "markdown",
   "metadata": {},
   "source": [
    "For all these special methods, as well as special methods in general, it is important\n",
    "to be aware that their contents and behavior are entirely up to the programmer.\n",
    "The only *special* thing about special methods is their\n",
    "name, which ensures that they are automatically called by certain operations.\n",
    "What they actually do and what they return\n",
    "are decided by the programmer writing the class. If we want to write\n",
    "an `__add__` method that returns nothing, or\n",
    "returns something completely different from a sum, we are free to do so. However, it is,\n",
    "of course, a good habit for the\n",
    "`__add__(self, other)` to implement something that seems like a meaningful result of `self + other`."
   ]
  }
 ],
 "metadata": {},
 "nbformat": 4,
 "nbformat_minor": 2
}
