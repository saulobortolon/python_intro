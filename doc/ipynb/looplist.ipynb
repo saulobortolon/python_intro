{
 "cells": [
  {
   "cell_type": "markdown",
   "metadata": {},
   "source": [
    "# Loops and Lists\n",
    "\n",
    "In this chapter, programming starts to become useful.\n",
    "The concepts introduced in the previous chapter are essential building blocks\n",
    "in all computer programs, but our example programs only performed a\n",
    "few calculations, which we could easily do with a regular calculator. In this\n",
    "chapter, we will introduce the concept of *loops*, which can be used to automate\n",
    "repetitive and tedious operations. Loops are used in\n",
    "most computer programs, and they look very similar across a wide range of\n",
    "programming languages. We will primarily use loops for calculations, but as\n",
    "you gain more experience, you will be able to automate other repetitive tasks.\n",
    "Two types of loops will be introduced in this chapter: the `while` loop  and\n",
    "the `for` loop. Both will be used extensively in all subsequent chapters. In\n",
    "addition to the loop concept, we will introduce Boolean expressions, which\n",
    "are expressions with a true/false value, and a new variable type called a list,\n",
    "which is used to store sequences of data.\n",
    "\n",
    "# Loops for Automating Repetitive Tasks\n",
    "To start with a motivating example, consider again the simple interest\n",
    "calculation formula;"
   ]
  },
  {
   "cell_type": "markdown",
   "metadata": {},
   "source": [
    "$$\n",
    "A = P\\cdot(1+(r/100))^n .\n",
    "$$"
   ]
  },
  {
   "cell_type": "markdown",
   "metadata": {},
   "source": [
    "In Chapter 2 we implemented this formula\n",
    "as a single-line Python program, but what if we  want to generate a table showing how\n",
    "the invested amount grows with the years? For instance, we could\n",
    "write $n$ and $A$ in two columns like this"
   ]
  },
  {
   "cell_type": "markdown",
   "metadata": {},
   "source": [
    "        0    100\n",
    "        1    105\n",
    "        2    110\n",
    "        3    ...\n",
    "        ...  ...\n"
   ]
  },
  {
   "cell_type": "markdown",
   "metadata": {},
   "source": [
    "How can we make a program that writes such a table? We know from the previous\n",
    "chapter how to generate one line in the table:"
   ]
  },
  {
   "cell_type": "code",
   "execution_count": 1,
   "metadata": {
    "collapsed": false
   },
   "outputs": [],
   "source": [
    "P = 100\n",
    "r = 5.0\n",
    "n = 7\n",
    "A = P * (1+r/100)**n\n",
    "print(n,A)"
   ]
  },
  {
   "cell_type": "markdown",
   "metadata": {},
   "source": [
    "We could then simply repeat these statements to write the complete program:"
   ]
  },
  {
   "cell_type": "code",
   "execution_count": 2,
   "metadata": {
    "collapsed": false
   },
   "outputs": [],
   "source": [
    "P =100; r = 5.0;\n",
    "n=0;  A = P * (1+r/100)**n;  print(n,A)\n",
    "n=1;  A = P * (1+r/100)**n;  print(n,A)\n",
    "# ...\n",
    "n=9;  A = P * (1+r/100)**n;  print(n,A)\n",
    "n=10;  A = P * (1+r/100)**n;  print(n,A)"
   ]
  },
  {
   "cell_type": "markdown",
   "metadata": {},
   "source": [
    "This is obviously not a very good solution, since it is very boring to write\n",
    "and errors are easily introduced in the code. As a general rule, when\n",
    "programming becomes repetitive and boring, there is usually a better way\n",
    "of solving the problem at hand. In this case, we will utilize one of the\n",
    "main strengths of computers: their strong ability to perform large numbers\n",
    "of simple and repetitive tasks. For this purpose, we use *loops*.\n",
    "\n",
    "The most general loop in Python is called a while loop. A while loop will\n",
    "repeatedly execute a set of statements as long as a given condition is satisfied.\n",
    "The syntax of the while loop looks like the following:"
   ]
  },
  {
   "cell_type": "markdown",
   "metadata": {},
   "source": [
    "```Python\n",
    "        while condition:\n",
    "            <statement 1>\n",
    "            <statement 2>\n",
    "            ...\n",
    "        <first statement after loop>\n",
    "```"
   ]
  },
  {
   "cell_type": "markdown",
   "metadata": {},
   "source": [
    "The `condition` here is a Python expression that is evaluated as\n",
    "either true or false, which, in computer science terms, is called a\n",
    "Boolean expression. Notice also the indentation of all the statements\n",
    "that belong inside the loop. Indentation is the way Python groups code\n",
    "together in blocks. In a loop such as this one, all the lines we want to\n",
    "be repeated inside the loop must be indented, with exactly the same\n",
    "indentation. The loop ends when an unindented statement is encountered.\n",
    "\n",
    "To make things a bit more concrete, let us use write a while loop to\n",
    "produce the investment growth table above.\n",
    "More precisely, the task we want to solve is the following:\n",
    "Given a range of years $n$ from zero to 10, in steps of one year,\n",
    "calculate the corresponding amount and print both\n",
    "values to the screen. To write the correct while loop for solving a given task,\n",
    "we need to answer four key questions: (i) Where/how does\n",
    "the loop start, that is, what are the initial values of the variables; (ii) which\n",
    "statements should be repeated inside the loop; (iii) when does the loop stop,\n",
    "that is, what condition should become false to make the loop stop; and (iv)\n",
    "how should variables be updated for each pass of the loop? Looking at the\n",
    "task definition above, we should be able to answer all of these questions:\n",
    "(i) The loop should start at zero years, so our initial condition\n",
    "should be `n = 0`; (ii) the statements to be repeated are the\n",
    "evaluation of the formula and the printing of `n` and `A`;\n",
    "(iii) we want the loop to stop when `n` reaches 10 years,\n",
    "so our `condition` becomes something like `n <= 10`; and\n",
    "(iv) we want to print the values for steps of one year, so we need\n",
    "to increase `n` by one for every pass of the loop. Inserting these details into the\n",
    "general while loop framework above yields the following code:"
   ]
  },
  {
   "cell_type": "code",
   "execution_count": 3,
   "metadata": {
    "collapsed": false
   },
   "outputs": [],
   "source": [
    "P = 100\n",
    "r = 5.0\n",
    "n = 0\n",
    "while n <= 10:             # loop heading with condition\n",
    "    A = P * (1+r/100)**n   # 1st statement inside loop\n",
    "    print(n, A)            # 2nd statement inside loop\n",
    "    n = n + 1              # last statement inside loop"
   ]
  },
  {
   "cell_type": "markdown",
   "metadata": {},
   "source": [
    "The flow of this program is as follows:\n",
    "\n",
    "1. First, `n` is 0, $0 \\leq 10$ is true; therefore we enter the loop and\n",
    "    execute the loop statements:\n",
    "\n",
    "    * Compute `A`\n",
    "\n",
    "    * Print `n` and `A`\n",
    "\n",
    "    * Update `n` to 1\n",
    "\n",
    "\n",
    "2. When we have reached the last line inside the loop, we return\n",
    "    to the `while` line and  evaluate $n\\leq 10$ again. This condition is\n",
    "    still true, and the loop statements are therefore executed again. A new `A` is\n",
    "    computed and printed, and `n` is updated to the value of two.\n",
    "\n",
    "3. We continue this way until `n` is updated from 10 to 11; now, when we return\n",
    "    to evaluate $11\\leq 10$, the condition is false. The program then jumps straight\n",
    "    to the first line after the loop, and the loop is finished.\n",
    "\n",
    "*Useful tip:* A very common mistake in while loops is to forget to update\n",
    "the variables inside the loop, in this case forgetting the line `n = n + 1`.\n",
    "This error will lead to an infinite loop, which will keep printing the same line\n",
    "forever. If you run the program from the terminal window it can be stopped\n",
    "with `Ctrl+C`, so you can correct the mistake and re-run the program.\n",
    "\n",
    "\n",
    "# Boolean Expressions\n",
    "An expression with a value of true or false is called a Boolean expression.\n",
    "Boolean expressions are essential in while loops and other important\n",
    "programming constructs, and they exist in most modern programming languages.\n",
    "We have seen a few examples already, including comparisons such as  `a == 5`\n",
    "in Chapter 2 and the condition `n <= 10` in the while loop above.\n",
    "Other examples of (mathematical) Boolean expressions are $t=140$, $t\\neq 140$,\n",
    "$t\\geq 40$, $t>40$,\n",
    "$t<40$. In Python code, these are written as"
   ]
  },
  {
   "cell_type": "markdown",
   "metadata": {},
   "source": [
    "```Python\n",
    "        t == 40  # note the double ==, t = 40 is an assignment!\n",
    "        t != 40\n",
    "        t >= 40\n",
    "        t >  40\n",
    "        t <  40\n",
    "```"
   ]
  },
  {
   "cell_type": "markdown",
   "metadata": {},
   "source": [
    "Notice the use of the double `==` when checking for equality. As we mentioned in\n",
    "Chapter 2 the single equality sign\n",
    "has a  different meaning in Python (and many other programming languages) than\n",
    "we are used to from mathematics,\n",
    "since it is used to assign a value to a variable. Checking two variables\n",
    "for equality is a different operation, and\n",
    "to distinguish it from assignment, we use `==`.\n",
    "We can output the value of Boolean expressions with statements such as\n",
    "`print(C<40)` or in an interactive Python shell, as follows:"
   ]
  },
  {
   "cell_type": "code",
   "execution_count": 4,
   "metadata": {
    "collapsed": false
   },
   "outputs": [],
   "source": [
    "C = 41\n",
    "C != 40"
   ]
  },
  {
   "cell_type": "code",
   "execution_count": 5,
   "metadata": {
    "collapsed": false
   },
   "outputs": [],
   "source": [
    "C < 40"
   ]
  },
  {
   "cell_type": "code",
   "execution_count": 6,
   "metadata": {
    "collapsed": false
   },
   "outputs": [],
   "source": [
    "C == 41"
   ]
  },
  {
   "cell_type": "markdown",
   "metadata": {},
   "source": [
    "Most of the Boolean expressions we will use in this course are of the simple\n",
    "kind above, consisting of a single comparison that should be familiar\n",
    "from mathematics. However, we can combine multiple conditions using\n",
    "`and/or` to construct while loops such as these:"
   ]
  },
  {
   "cell_type": "markdown",
   "metadata": {},
   "source": [
    "```Python\n",
    "        while condition1 and condition2:\n",
    "            ...\n",
    "        \n",
    "        while condition1 or condition2:\n",
    "            ...\n",
    "```"
   ]
  },
  {
   "cell_type": "markdown",
   "metadata": {},
   "source": [
    "The rules for evaluating such compound expressions are as\n",
    "expected: `C1 and C2` is `True` if both `C1` and `C2` are `True`,\n",
    "while `C1 or C2` is `True` if at least one of the  two conditions `C1` and `C2`\n",
    "is `True`. One can also negate a Boolean\n",
    "expression using the term `not`, which simply yields\n",
    "that `not C` is `True` if `C` is `False`, and vice versa.\n",
    "To gain a feel for compound Boolean expressions, you can go through the\n",
    "following examples by hand and predict the outcome, and then try to run\n",
    "the code to obtain the result:"
   ]
  },
  {
   "cell_type": "code",
   "execution_count": 7,
   "metadata": {
    "collapsed": false
   },
   "outputs": [],
   "source": [
    "x = 0;  y = 1.2\n",
    "print(x >= 0 and y < 1)\n",
    "print(x >= 0 or y < 1)\n",
    "print(x > 0 or y > 1)\n",
    "print(x > 0 or not y > 1)\n",
    "print(-1 < x <= 0)   # same as -1 < x and x <= 0\n",
    "print(not (x > 0 or y > 0))"
   ]
  },
  {
   "cell_type": "markdown",
   "metadata": {},
   "source": [
    "Boolean expressions are important for controlling the flow of programs,\n",
    "both in while loops and in other constructs that we will\n",
    "introduce in Chapter 4. Their evaluation and use should be fairly\n",
    "familiar from mathematics, but it is always a good\n",
    "idea to explore fundamental concepts such as this by typing in a few examples\n",
    "in an interactive Python shell.\n",
    "\n",
    "\n",
    "# Using Lists to Store Sequences of Data\n",
    "So far, we have used one variable to refer to one number (or string).\n",
    "Sometimes we naturally have a collection of numbers, such as the $n$-values\n",
    "(years) $0, 1, 2, \\ldots, 10$ created\n",
    "in the example above. In some cases, such as the one above, we are simply\n",
    "interested in writing all the values to the screen, in which case using a\n",
    "single variable that is updated and printed for each pass of the loop works\n",
    "fine. However, sometimes we want to store a sequence of such variables, for\n",
    "instance, to process them further elsewhere in the program. We could, of course,\n",
    "use a separate variable for each value of `n`, as follows:"
   ]
  },
  {
   "cell_type": "code",
   "execution_count": 8,
   "metadata": {
    "collapsed": false
   },
   "outputs": [],
   "source": [
    "n0 = 0\n",
    "n1 = 1\n",
    "n2 = 2\n",
    "# ...\n",
    "n10 = 10"
   ]
  },
  {
   "cell_type": "markdown",
   "metadata": {},
   "source": [
    "However, this is another example of programming that becomes extremely repetitive\n",
    "and boring, and there is obviously a better solution. In Python, the most\n",
    "flexible way to store such a sequence of variables is to use a list:"
   ]
  },
  {
   "cell_type": "code",
   "execution_count": 9,
   "metadata": {
    "collapsed": false
   },
   "outputs": [],
   "source": [
    "n = [0, 1, 2, 3, 4, 5, 6, 7, 8, 9, 10]"
   ]
  },
  {
   "cell_type": "markdown",
   "metadata": {},
   "source": [
    "Notice the square brackets and the commas separating the values, which is how\n",
    "we tell Python that `n` is a list variable.\n",
    "Now we have a single variable that can hold all the values we want. Python lists\n",
    "are not reserved just for numbers and can hold any kind of object, and even\n",
    "different kinds of objects. They also have a great deal of convenient\n",
    "built-in functionality, which makes them very flexible and useful and extremely\n",
    "popular in Python programs.\n",
    "\n",
    "We will not cover all the aspects of lists and\n",
    "list operations in this book, but we will use some of the more basic ones.\n",
    "We have already seen how to initialize a list using square brackets and\n",
    "comma-separated values, such as"
   ]
  },
  {
   "cell_type": "code",
   "execution_count": 10,
   "metadata": {
    "collapsed": false
   },
   "outputs": [],
   "source": [
    "L1 = [-91, 'a string', 7.2, 0]"
   ]
  },
  {
   "cell_type": "markdown",
   "metadata": {},
   "source": [
    "To retrieve individual elements from the list, we can use an index, for\n",
    "instance `L1[3]` will pick out the element with index 3,\n",
    "that is, the fourth element (having a value of zero) in the list, since the numbering\n",
    "starts at zero. List indices start\n",
    "at zero and run to the $n-1$, where $n$ is the number of elements in the list:"
   ]
  },
  {
   "cell_type": "code",
   "execution_count": 11,
   "metadata": {
    "collapsed": false
   },
   "outputs": [],
   "source": [
    "mylist = [4, 6, -3.5]\n",
    "print(mylist[0])\n",
    "print(mylist[1])\n",
    "print(mylist[2])\n",
    "len(mylist)  # length of list"
   ]
  },
  {
   "cell_type": "markdown",
   "metadata": {},
   "source": [
    "The last line uses the built-in Python function `len`, which returns the\n",
    "number of elements in the list. This function works on\n",
    "lists and any other object that has a natural length (e.g., strings),\n",
    "and is very useful.\n",
    "\n",
    " Other built-in list operations allow us, for instance,\n",
    "to append an element to a list, add two lists together, check if a list contains\n",
    "a given element, and delete an element from a list:"
   ]
  },
  {
   "cell_type": "code",
   "execution_count": 12,
   "metadata": {
    "collapsed": false
   },
   "outputs": [],
   "source": [
    "n = [0, 1, 2, 3, 4, 5, 6, 7, 8]\n",
    "n.append(9)   # add new element 9 at the end\n",
    "print(n)\n",
    "n = n  + [10, 11]     # extend n at the end\n",
    "print(n)\n",
    "print(9 in n)       #is the value 9 found in n? True/False\n",
    "del n[0]            #remove the first item from the list"
   ]
  },
  {
   "cell_type": "markdown",
   "metadata": {},
   "source": [
    "These list operations, in particular those to initialize, append to, and index\n",
    "a list, are extremely common in Python programs, and\n",
    "will be used throughout this book. It is a good idea to spend some time\n",
    "making sure you fully understand how they work.\n",
    "\n",
    "It is also worth noting one important difference between lists and\n",
    "the simpler variable types\n",
    "we introduced in Chapter 2. For instance, two\n",
    "statements, such as `a = 2; b = a` would create two integer variables, both\n",
    "having value 2, but they are not the same variable. The second statement\n",
    "`b=a` will create a copy of `a` and assign it to `b`, and if we later change\n",
    "`b`, `a` will not be affected. With lists, the situation is different, as illustrated\n",
    "by the following example:"
   ]
  },
  {
   "cell_type": "code",
   "execution_count": 13,
   "metadata": {
    "collapsed": false
   },
   "outputs": [],
   "source": [
    "l[0] = 2\n",
    "a = [1,2,3,4]\n",
    "b = a\n",
    "b[-1] = 6\n",
    "a"
   ]
  },
  {
   "cell_type": "markdown",
   "metadata": {},
   "source": [
    "Here, both `a` and `b` are lists, and when `b` changes `a` also changes.\n",
    "This happens because assigning a list to a new variable does not copy the original\n",
    "list, but instead creates a *reference* to the same list. So `a` and `b` are, in\n",
    "this case, just two variables pointing to the exact same list. If we actually want\n",
    "to create a copy of the original list, we need to state this explicitly with\n",
    "`b = a.copy()`.\n",
    "\n",
    "# Iterating Over a List with a for Loop\n",
    "Having introduced lists, we are ready to look at the second type of loop\n",
    "we will use in this book: the for loop. The\n",
    "for loop is less general than the while loop, but it is also a bit simpler\n",
    "to use. The for loop simply iterates over elements\n",
    "in a list, and performs operations on each one:"
   ]
  },
  {
   "cell_type": "markdown",
   "metadata": {},
   "source": [
    "```Python\n",
    "        for element in list:\n",
    "            <statement 1>\n",
    "            <statement 2>\n",
    "            ...\n",
    "        <first statement after loop>\n",
    "```"
   ]
  },
  {
   "cell_type": "markdown",
   "metadata": {},
   "source": [
    "The key line is the first one, which will simply run through the list,\n",
    "element by element. For each pass of the loop, the single element is\n",
    "stored in the variable `element`, and the block of code inside the\n",
    "for loop typically involves calculations using this\n",
    "`element` variable. When the code lines in this block are completed, the\n",
    "loop moves on to the next element in the list, and continues in this\n",
    "manner until there are no more elements in the list.\n",
    "It is easy to see why this loop is simpler than the while loop, since no\n",
    "condition is needed to stop the loop and there\n",
    "is no need to update a variable inside the loop. The for loop will simply\n",
    "iterate over all the elements in a predefined list,\n",
    "and stop when there are no more elements. On the other hand, the for loop is\n",
    "slightly less flexible, since the list needs to\n",
    "predefined. The for loop is the best choice in most cases in which we know in\n",
    "advance how many times we want to perform a set of operations.\n",
    "In cases in which this number is not known, the while loop is usually the best choice.\n",
    "\n",
    "For a concrete for loop example, we return to the investment growth example\n",
    "introduced above.\n",
    "To write a for loop for a given task, two key questions must be answered:\n",
    "(i) What should the list contain, and (ii) what operations should be performed\n",
    "on the elements in the list? In the present case, the natural answers\n",
    "are (i) the list should be a range of $n$-values from zero to 10, in steps of 1,\n",
    "and (ii) the operations to be repeated are the computation of `A` and the\n",
    "printing of the two values, essentially the same as in the while loop.\n",
    "The full program using a for loop thus becomes"
   ]
  },
  {
   "cell_type": "code",
   "execution_count": 14,
   "metadata": {
    "collapsed": false
   },
   "outputs": [],
   "source": [
    "years = [0, 1, 2, 3, 4, 5, 6, 7, 8, 9, 10]\n",
    "r = 5.0\n",
    "P = 100.0\n",
    "for n in years:\n",
    "    A = P * (1+r/100)**n\n",
    "    print(n, A)"
   ]
  },
  {
   "cell_type": "markdown",
   "metadata": {},
   "source": [
    "As with the while loop, the statements inside the loop must be indented.\n",
    "Simply by counting the lines of code in the two programs shows\n",
    "that the for loop is somewhat simpler and quicker to write\n",
    "than the while loop. Most people will argue that the overall structure of the\n",
    "program is also simpler and less error-prone, with no need to check a\n",
    "criterion to stop the loop or to update any variables inside\n",
    "it. The for loop will simply iterate over a given list, perform the\n",
    "operations we want on each element, and then stop when it reaches\n",
    "the end of the list. Tasks of this kind are very common, and for loops are\n",
    "extensively used in Python programs.\n",
    "\n",
    "The observant reader might notice that the way we defined the list `years` in the\n",
    "code above is not very scalable to long lists,\n",
    "and quickly becomes repetitive and boring. As stated above, when programming\n",
    "become repetitive and boring, a better solution usually exists. Such is the\n",
    "case here, and very rarely do values in a list need to be filled explicitly,\n",
    "as done here. Better alternatives include a built-in Python function\n",
    "called `range`, often in combination with a for loop or\n",
    "a so-called *list comprehension*. We will return to these tools later in the\n",
    "chapter. When running the code, one can also observe that the\n",
    "two columns of degrees values are not perfectly aligned, since\n",
    "`print` always uses the minimum amount of space to output the numbers. If we\n",
    "want the output in two nicely aligned columns, this is easily achieved\n",
    "by using the f-string formatting we introduced in the previous chapter.\n",
    "The resulting code can look like this:"
   ]
  },
  {
   "cell_type": "code",
   "execution_count": 15,
   "metadata": {
    "collapsed": false
   },
   "outputs": [],
   "source": [
    "years = [0, 1, 2, 3, 4, 5, 6, 7, 8, 9, 10]\n",
    "for n in years:\n",
    "    r = 5.0\n",
    "    P = 100.0\n",
    "    A = P * (1+r/100)**n\n",
    "    print(f'{n:5d}{A:8.2f}')"
   ]
  },
  {
   "cell_type": "markdown",
   "metadata": {},
   "source": [
    "### A for loop can always be translated to a while loop.\n",
    "\n",
    "As described above, a while loop is more flexible than a for loop. A for loop\n",
    "can always be transformed into a while loop, but not all while loops can\n",
    "be expressed as for loops. A for loop always traverses traverses a list,\n",
    "carries out some processing on each element, and stops when it reaches\n",
    "the last one. This behavior is easy to mimic in a while loop using list\n",
    "indexing and the `len` function, which were both introduced above. A for loop\n",
    "of the form"
   ]
  },
  {
   "cell_type": "markdown",
   "metadata": {},
   "source": [
    "```Python\n",
    "        for element in somelist:\n",
    "            # process element\n",
    "```"
   ]
  },
  {
   "cell_type": "markdown",
   "metadata": {},
   "source": [
    "translates to the following while loop:"
   ]
  },
  {
   "cell_type": "markdown",
   "metadata": {},
   "source": [
    "```Python\n",
    "        index = 0\n",
    "        while index < len(somelist):\n",
    "            element = somelist[index]\n",
    "            # process element\n",
    "            index += 1\n",
    "```"
   ]
  },
  {
   "cell_type": "markdown",
   "metadata": {},
   "source": [
    "### Using the function `range` to loop over indices\n",
    "\n",
    "Sometimes we do not have a list, but want to repeat the same\n",
    "operation a given number of times. If we know the number of repetitions this task\n",
    "is an obvious candidate for a for loop,\n",
    "but for loops in Python always iterate over an existing list (or a list-like object).\n",
    "The solution is to use a built-in Python function named `range`, which\n",
    "returns a list of integers:"
   ]
  },
  {
   "cell_type": "code",
   "execution_count": 16,
   "metadata": {
    "collapsed": false
   },
   "outputs": [],
   "source": [
    "P = 100\n",
    "r = 5.0\n",
    "N = 10\n",
    "for n in range(N+1):\n",
    "    A = P * (1+r/100)**n\n",
    "    print(n,A)"
   ]
  },
  {
   "cell_type": "markdown",
   "metadata": {},
   "source": [
    "Here we used `range` with a single argument $N+1$ which will generate a\n",
    "list of integers from zero to $N$ (not including $N+1$). We can also use `range` with two\n",
    "or three arguments. The most general case `range(start, stop, inc)` generates a list of integers\n",
    "`start`, `start+inc`, `start+2*inc`, and so on up to, *but not including*, `stop`.\n",
    "When used with just a single argument, as\n",
    "above, this argument is treated as the `stop` value, and `range(stop)`\n",
    "is short for `range(0, stop, 1)`.\n",
    "With two arguments, the interpretation is `range(start,stop)`,\n",
    "short for `range(start,stop,1)`. This behavior, where\n",
    "a single function can be used with different numbers of arguments,\n",
    "is common both in Python and many other programming\n",
    "languages, and makes the use of such functions very flexible and efficient.\n",
    "If we want the most common behavior, we\n",
    "need only provide a single argument and the others are automatically\n",
    "set to default values; however, if we want something\n",
    "different, we can do so easily by including more arguments. We\n",
    "will use the `range` function in\n",
    "combination with for loops extensively\n",
    "through this book, and it is a good idea to spend some time becoming familiar\n",
    "with it. A good way to gain a feel for how the `range`-function works is to test\n",
    "statements such as `print(list(range(start,stop,inc)))` in an\n",
    "interactive Python shell, for different argument values.\n",
    "\n",
    "\n",
    "### Filling a list with values using a for loop.\n",
    "\n",
    "One motivation for introducing lists is to conveniently store a sequence of\n",
    "numbers as a single variable, for instance, for processing later in the program.\n",
    "However, in the code above, we did not\n",
    "really utilize this, since all we did was print the numbers\n",
    "to the screen, and the only list we created was a simple sequence from zero to 10.\n",
    "It could be more useful to store the amounts in a list, which can be easily\n",
    "be achieved with a for loop. The following code illustrates\n",
    "a very common way to fill lists with values in Python:"
   ]
  },
  {
   "cell_type": "code",
   "execution_count": 17,
   "metadata": {
    "collapsed": false
   },
   "outputs": [],
   "source": [
    "P = 100\n",
    "r = 5.0\n",
    "N = 10\n",
    "amounts = []               # start with empty list\n",
    "for n in range(N+1):\n",
    "    A = P*(1+r/100)**n\n",
    "    amounts.append(A)      # add new element to amounts list\n",
    "print(amounts)"
   ]
  },
  {
   "cell_type": "markdown",
   "metadata": {},
   "source": [
    "The parts worth noting in this code are `amounts = []`, which simply creates\n",
    "a list with no elements, and\n",
    "the use of the `append` function inside the for loop to add elements to\n",
    "the list. This simple way of creating a list and filling it with values is very common\n",
    "in Python programs.\n",
    "\n",
    "### Mathematical sums are implemented as for loops.\n",
    "\n",
    "A very common example of a repetitive task in mathematics is the computation of\n",
    "a sum, for instance,"
   ]
  },
  {
   "cell_type": "markdown",
   "metadata": {},
   "source": [
    "$$\n",
    "S = \\sum_{i=1}^N i^2 .\n",
    "$$"
   ]
  },
  {
   "cell_type": "markdown",
   "metadata": {},
   "source": [
    "For large values of $N$ such sums are tedious to calculate by hand, but they are\n",
    "very easy to program using `range` and a for loop:"
   ]
  },
  {
   "cell_type": "code",
   "execution_count": 18,
   "metadata": {
    "collapsed": false
   },
   "outputs": [],
   "source": [
    "N = 14\n",
    "S = 0\n",
    "for i in range(1, N+1):\n",
    "    S += i**2\n",
    "print(S)"
   ]
  },
  {
   "cell_type": "markdown",
   "metadata": {},
   "source": [
    "Notice the structure of this code, which is quite similar to the way\n",
    "we filled a list with values in the previous example. First, we initialize the summation\n",
    "variable (`S`) to zero, and then the terms of the sum are added one by\n",
    "one for each iteration of the for loop. The example shown here illustrates the\n",
    "standard recipe for implementing mathematical sums, which\n",
    "are common in scientific programming and appear frequently in this book.\n",
    "It is worthwhile spending some time to fully understand and remember how\n",
    "such sums is implemented.\n",
    "\n",
    "### How can we change the elements in a list?\n",
    "\n",
    "In some cases we want to change elements in a list. Consider first a simple\n",
    "example where we have a list of numbers,\n",
    "and want to add the value of two to all the numbers. Following the ideas introduced above, a\n",
    "natural approach is to use a for loop to traverse the list, as follows:"
   ]
  },
  {
   "cell_type": "code",
   "execution_count": 19,
   "metadata": {
    "collapsed": false
   },
   "outputs": [],
   "source": [
    "v = [-1, 1, 10]\n",
    "for e in v:\n",
    "    e = e + 2\n",
    "print(v)"
   ]
  },
  {
   "cell_type": "markdown",
   "metadata": {},
   "source": [
    "As demonstrated by this small program, the result is not what we want.\n",
    "We added the value of two to every element, but after the loop\n",
    "finished, our list `v` was unchanged. The reason for this behavior\n",
    "is that although the list is traversed as desired when we create the for\n",
    "loop using `for e in v:`, the variable `e` is an ordinary (`int`)\n",
    "variable, and it is in fact a *copy* of\n",
    "each element in the list, and not the actual element.\n",
    "Therefore, when we change `e`, we change only the copy and not the actual list element.\n",
    "The copy is overwritten in the next pass of the loop anyway, so, in this case,\n",
    "all the numbers that are incremented by two are simply lost.\n",
    "The solution is to access the actual elements by indexing into the list:"
   ]
  },
  {
   "cell_type": "code",
   "execution_count": 20,
   "metadata": {
    "collapsed": false
   },
   "outputs": [],
   "source": [
    "v = [-1, 1, 10]\n",
    "for i in range(len(v)):\n",
    "    v[i] = v[i] + 2\n",
    "print(v)"
   ]
  },
  {
   "cell_type": "markdown",
   "metadata": {},
   "source": [
    "Notice in particular the use of `range(len(v))`, which is a common\n",
    "construction in Python programs.\n",
    "It creates a set of integers running from zero to `len(v)-1` that can be iterated over\n",
    "with the for loop and used to loop through all the elements in the list `v`.\n",
    "\n",
    "### List comprehensions for compact creation of lists.\n",
    "\n",
    "Above, we introduced one common way of constructing lists,\n",
    "which is to start with an empty list and use a for loop to fill\n",
    "it with values. We can extend this example to fill several lists in one\n",
    "loop, for instance, if we want to examine the effect of low and high\n",
    "interest rates on our bank deposit. We start with two empty lists and\n",
    "fill both with values in the same loop:"
   ]
  },
  {
   "cell_type": "code",
   "execution_count": 21,
   "metadata": {
    "collapsed": false
   },
   "outputs": [],
   "source": [
    "P = 100\n",
    "r_low = 2.5\n",
    "r_high = 5.0\n",
    "N = 10\n",
    "A_high = []\n",
    "A_low = []\n",
    "for n in range(N+1):\n",
    "    A_low.append(P*(1+r_low/100)**n)\n",
    "    A_high.append(P*(1+r_high/100)**n)\n",
    "print(A_low)\n",
    "print(A_high)"
   ]
  },
  {
   "cell_type": "markdown",
   "metadata": {},
   "source": [
    "This approach to using a for loop to fill a list with values\n",
    "is so common in Python that a compact\n",
    "construct has been introduced, called a *list comprehension*. The code in\n",
    "the previous example can be replaced by the following:"
   ]
  },
  {
   "cell_type": "code",
   "execution_count": 22,
   "metadata": {
    "collapsed": false
   },
   "outputs": [],
   "source": [
    "P = 100\n",
    "r_low = 2.5\n",
    "r_high = 5.0\n",
    "N = 10\n",
    "A_low = [P*(1+r_low/100)**n for n in range(N+1)]\n",
    "A_high = [P*(1+r_high/100)**n for n in range(N+1)]\n",
    "print(A_low)\n",
    "print(A_high)"
   ]
  },
  {
   "cell_type": "markdown",
   "metadata": {},
   "source": [
    "The resulting lists `A_low` and `A_high` are exactly the same as those\n",
    "from the for loop, but the code is obviously much more\n",
    "compact. To an experienced Python programmer, the use of list comprehensions\n",
    "also makes the code more readable, since it becomes obvious that\n",
    "the code creates a list, and the contents of the list are usually easy to\n",
    "understand from the code inside the brackets.\n",
    "The general form of a list comprehension looks like"
   ]
  },
  {
   "cell_type": "markdown",
   "metadata": {},
   "source": [
    "```Python\n",
    "        newlist = [expression for element in somelist]\n",
    "```"
   ]
  },
  {
   "cell_type": "markdown",
   "metadata": {},
   "source": [
    "where `expression` typically involves `element`. The list comprehension works\n",
    "exactly like a for loop; it runs through all the elements\n",
    "in `somelist`, stores a copy of each element in the variable `element`,\n",
    "evaluates `expression`, and appends the result to\n",
    "the list `newlist`. The resulting list `newlist` will have the same length\n",
    "as `somelist`, and its elements are given by `expression`.\n",
    "List comprehensions are important to know about,\n",
    "since you will see them frequently when reading Python code written\n",
    "by others. They are convenient to use for the programming tasks covered\n",
    "in this book, but not strictly necessary, since the same thing can always\n",
    "be accomplished with a regular for loop.\n",
    "\n",
    "### Traversing multiple lists simultaneously with `zip`.\n",
    "\n",
    "Sometimes we want to loop over two lists at the same time. For instance,\n",
    "consider printing out the contents of the `A_low` and\n",
    "`A_high` lists of the example above. We can accomplish\n",
    "this using `range` and list indexing, as in"
   ]
  },
  {
   "cell_type": "code",
   "execution_count": 23,
   "metadata": {
    "collapsed": false
   },
   "outputs": [],
   "source": [
    "for i in range(len(A_low)):\n",
    "    print(A_low[i], A_high[i])"
   ]
  },
  {
   "cell_type": "markdown",
   "metadata": {},
   "source": [
    "However, a built-in Python function named `zip` provides an\n",
    "alternative solution, which many consider more elegant and\n",
    "\"Pythonic\":"
   ]
  },
  {
   "cell_type": "code",
   "execution_count": 24,
   "metadata": {
    "collapsed": false
   },
   "outputs": [],
   "source": [
    "for low, high in zip(A_low, A_high):\n",
    "    print(low, high)"
   ]
  },
  {
   "cell_type": "markdown",
   "metadata": {},
   "source": [
    "The output is exactly the same, but the use of `zip` makes the for loop\n",
    "more similar to the way we traverse a single list. We run through both\n",
    "lists, extract the elements from each one into the variables `low` and `high`, and\n",
    "use these variables inside the loop, as we are used to.\n",
    "We can also use `zip` with three lists:"
   ]
  },
  {
   "cell_type": "code",
   "execution_count": 25,
   "metadata": {
    "collapsed": false
   },
   "outputs": [],
   "source": [
    "l1 = [3, 6, 1];  l2 = [1.5, 1, 0];  l3 = [9.1, 3, 2]\n",
    "for e1, e2, e3 in zip(l1, l2, l3):\n",
    "    print(e1, e2, e3)"
   ]
  },
  {
   "cell_type": "markdown",
   "metadata": {},
   "source": [
    "Lists traversed with `zip` typically have the same length, but the\n",
    "function also works for lists of different lengths.\n",
    "In this case, the for loop will simply stop when it reaches the end of the\n",
    "shortest list, and the remaining elements of the longer lists are not visited.\n",
    "\n",
    "# Nested Lists and List Slicing\n",
    "As described above, lists in Python are quite general and can store *any*\n",
    "object, including another list. The resulting list of lists\n",
    "is often referred to as a *nested list*. Instead of storing the amounts\n",
    "resulting from the low and high interest rates above as two separate lists,\n",
    "we could put them together in a new list:"
   ]
  },
  {
   "cell_type": "code",
   "execution_count": 26,
   "metadata": {
    "collapsed": false
   },
   "outputs": [],
   "source": [
    "A_low = [P*(1+2.5/100)**n for n in range(11)]\n",
    "A_high = [P*(1+5.0/100)**n for n in range(11)]\n",
    "\n",
    "amounts = [A_low, A_high]  # list of two lists\n",
    "\n",
    "print(amounts[0])    # the A_low list\n",
    "print(amounts[1])    # the A_high list\n",
    "print(amounts[1][2])  # the 3rd element in A_high"
   ]
  },
  {
   "cell_type": "markdown",
   "metadata": {},
   "source": [
    "The indexing of nested lists illustrated here is quite logical, but can take\n",
    "some time getting used to. The important thing\n",
    "is that, if `amounts` is a list containing lists, then, for instance, `amounts[0]`\n",
    "is also a list and can be indexed in the way we are used to.\n",
    "Indexing into this list is done in the usual way, such that, for instance, `amounts[0][0]`\n",
    "is the first element of the first list contained in `amounts`.\n",
    "Playing a bit with indexing nested lists in the interactive Python shell is a\n",
    "useful exercise to understand how they are used.\n",
    "\n",
    "Iterating over nested lists also works as expected. Consider, for instance,\n",
    "the following code"
   ]
  },
  {
   "cell_type": "markdown",
   "metadata": {},
   "source": [
    "```Python\n",
    "        for sublist1 in somelist:\n",
    "            for sublist2 in sublist1:\n",
    "                    for value in sublist2:\n",
    "                        # work with value\n",
    "```"
   ]
  },
  {
   "cell_type": "markdown",
   "metadata": {},
   "source": [
    "Here, `somelist` is a three-dimensional nested list, that is, its elements are lists,\n",
    "which, in turn, contain lists. The resulting nested for loop looks a bit\n",
    "complicated, but it follows exactly the same logic as the simpler for loops\n",
    "used above. When the outer loop starts, the first element from `somelist`\n",
    "is copied into the variable `sublist1`, and then we then enter the code block\n",
    "inside the loop, which is a new for loop that will start traversing `sublist1`,\n",
    "that is, first copying the first element into the variable\n",
    "`sublist2`. Then the process is repeated, with the innermost loop traversing all the\n",
    "elements of  `sublist2`, copying each element into the\n",
    "variable `value`, and doing some calculations with this variable. When it reaches\n",
    "the end of `sublist2`, the innermost for loop is over, we\n",
    "\"move outward\" one level in terms of the loops, to the loop `for sublist2 in sublist`, which moves to\n",
    "the next element and starts a new run through the innermost loop.\n",
    "\n",
    "Similar iterations over nested loops can be obtained by looping over the list indices,\n",
    "as follows:"
   ]
  },
  {
   "cell_type": "markdown",
   "metadata": {},
   "source": [
    "```Python\n",
    "        for i1 in range(len(somelist)):\n",
    "            for i2 in range(len(somelist[i1])):\n",
    "                for i3 in range(len(somelist[i1][i2])):\n",
    "                    value = somelist[i1][i2][i3]\n",
    "                    # work with value\n",
    "```"
   ]
  },
  {
   "cell_type": "markdown",
   "metadata": {},
   "source": [
    "Although their logic is the same as regular (one-dimensional) for loops, nested\n",
    "loops look more complicated and it can take some time\n",
    "to fully understand how they work. As noted above, a good way to obtain such\n",
    "understanding is to create some examples of small nested lists in a Python shell\n",
    "or a small Python program,\n",
    "and examine the results of indexing and looping over the lists.\n",
    "The following code is one such example. Try to step through this program by\n",
    "hand and predict the output before running the code\n",
    "and checking the result:"
   ]
  },
  {
   "cell_type": "code",
   "execution_count": 27,
   "metadata": {
    "collapsed": false
   },
   "outputs": [],
   "source": [
    "L = [[9, 7], [-1, 5, 6]]\n",
    "for row in L:\n",
    "    for column in row:\n",
    "        print(column)"
   ]
  },
  {
   "cell_type": "markdown",
   "metadata": {},
   "source": [
    "### List slicing is used to extract parts of a list.\n",
    "\n",
    "We have seen how we can index a list to extract a single\n",
    "element, but sometimes it is useful to capture parts of a list, for instance,\n",
    "all the elements from an index $n$ to an index $m$. Python offers *list slicing*\n",
    "for such tasks. For a list `A`, we have seen\n",
    "that a single element is extracted with `A[n]`, where `n` is an integer, but we\n",
    "can also use the more general syntax `A[start:stop:step]`\n",
    "to extract a *slice* of `A`. The arguments resemble those of the `range` function,\n",
    "and such a list slicing will extract all\n",
    "elements starting from index `start` up to but not including `stop`, with a\n",
    "step `step`. As for the `range` function, we can omit some\n",
    "of the arguments and rely on default values. The following examples illustrate the\n",
    "use of slicing:"
   ]
  },
  {
   "cell_type": "code",
   "execution_count": 28,
   "metadata": {
    "collapsed": false
   },
   "outputs": [],
   "source": [
    "a = [2, 3.5, 8, 10]\n",
    "a[2:]   # from index 2 to end of list"
   ]
  },
  {
   "cell_type": "code",
   "execution_count": 29,
   "metadata": {
    "collapsed": false
   },
   "outputs": [],
   "source": [
    "a[1:3]  # from index 1 up to, but not incl., index 3"
   ]
  },
  {
   "cell_type": "code",
   "execution_count": 30,
   "metadata": {
    "collapsed": false
   },
   "outputs": [],
   "source": [
    "a[:3]   # from start up to, but not incl., index 3"
   ]
  },
  {
   "cell_type": "code",
   "execution_count": 31,
   "metadata": {
    "collapsed": false
   },
   "outputs": [],
   "source": [
    "a[1:-1] # from index 1 to next last element"
   ]
  },
  {
   "cell_type": "code",
   "execution_count": 32,
   "metadata": {
    "collapsed": false
   },
   "outputs": [],
   "source": [
    "a[:]    # the whole list"
   ]
  },
  {
   "cell_type": "markdown",
   "metadata": {},
   "source": [
    "Note that these sublists (slices) are *copies* of the original list.\n",
    "A statement such as, for instance, `b = a[:]` will make a copy of the entire\n",
    "list `a`, and any subsequent changes to `b` will not change `a`.\n",
    "As for the nested lists\n",
    "considered above, a good way to become familiar with list slicing is to create a\n",
    "small list in the interactive Python shell and explore the\n",
    "effect of various slicing operations. It is, of course ,possible to combine list\n",
    "slicing with nested lists, and the results can be confusing even to experienced\n",
    "Python programmers. Fortunately, we will consider only fairly simple cases\n",
    "of list slicing in this book, and we will work mostly with lists of one or\n",
    "two dimensions (i.e., non-nested lists or the simplest lists-of-lists).\n",
    "\n",
    "# Tuples\n",
    "Lists are a flexible and user-friendly way to store sequences of numbers, and\n",
    "are used in nearly all Python programs. However, a few other data types are\n",
    "also made to store sequences of data. One of the most important ones\n",
    "is called a *tuple*, and it is essentially\n",
    "a constant list that cannot be changed. A tuple is defined in\n",
    "almost the same way as a list, but with normal parentheses instead of the\n",
    "square brackets. Alternatively, we can skip the parentheses and just\n",
    "use a comma-separated sequence of values to define a tuple. The following are two\n",
    "examples that are entirely equivalent and define the same tuple:"
   ]
  },
  {
   "cell_type": "markdown",
   "metadata": {},
   "source": [
    "Tuples also provide much of the same functionality as lists, including indexing\n",
    "and and slicing:"
   ]
  },
  {
   "cell_type": "code",
   "execution_count": 33,
   "metadata": {
    "collapsed": false
   },
   "outputs": [],
   "source": [
    "t = t + (-1.0, -2.0)           # add two tuples\n",
    "t"
   ]
  },
  {
   "cell_type": "code",
   "execution_count": 34,
   "metadata": {
    "collapsed": false
   },
   "outputs": [],
   "source": [
    "t[1]                           # indexing"
   ]
  },
  {
   "cell_type": "code",
   "execution_count": 35,
   "metadata": {
    "collapsed": false
   },
   "outputs": [],
   "source": [
    "t[2:]                          # subtuple/slice"
   ]
  },
  {
   "cell_type": "code",
   "execution_count": 36,
   "metadata": {
    "collapsed": false
   },
   "outputs": [],
   "source": [
    "6 in t                         # membership"
   ]
  },
  {
   "cell_type": "markdown",
   "metadata": {},
   "source": [
    "However, tuples are *immutable*, which means that they cannot be changed.\n",
    "Therefore, some operations we are used to from lists will not work. Continuing the\n",
    "interactive session from above, the following are some examples of illegal tuple operations:"
   ]
  },
  {
   "cell_type": "code",
   "execution_count": 37,
   "metadata": {
    "collapsed": false
   },
   "outputs": [],
   "source": [
    "t[1] = -1"
   ]
  },
  {
   "cell_type": "code",
   "execution_count": 38,
   "metadata": {
    "collapsed": false
   },
   "outputs": [],
   "source": [
    "t.append(0)"
   ]
  },
  {
   "cell_type": "code",
   "execution_count": 39,
   "metadata": {
    "collapsed": false
   },
   "outputs": [],
   "source": [
    "del t[1]"
   ]
  },
  {
   "cell_type": "markdown",
   "metadata": {},
   "source": [
    "The observant reader might wonder why the line `t = t + (-1.0, -2.0)`\n",
    "in the example above works, since `t` is supposed to be immutable and\n",
    "therefore impossible to\n",
    "change. The answer is related to the way assignment statements work in programming.\n",
    "As briefly explained in Chapter 2, assignment works by first\n",
    "evaluating the expression on the right hand side, which in this example means\n",
    "to add two tuples together. The result is a new tuple, and neither `t` nor\n",
    "`(-1.0, 2.0)` are changed in the process. Then, the new tuple is *assigned* to the\n",
    "variable `t`, meaning that the original tuple is replaced by the new and longer\n",
    "tuple. The tuple itself is never changed, but the contents of the variable `t` is\n",
    "replaced with a new one.\n",
    "\n",
    "A natural question to ask, then, is why do we need tuples at all, when lists can do the same job and are\n",
    "much more flexible? The main reason for this is that, in many cases, it is\n",
    "convenient to work on item that is constant, since it is protected against accidental\n",
    "changes and can be used as a key in so-called *dictionaries*,\n",
    "an important Python datastructure that will be introduced in\n",
    "Chapter 7.\n",
    "Throughout this book, we will not do much explicit programming\n",
    "with tuples, but we will run into them as part of the modules\n",
    "we import and use, so it is important to know what they are."
   ]
  }
 ],
 "metadata": {},
 "nbformat": 4,
 "nbformat_minor": 2
}
