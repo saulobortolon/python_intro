{
 "cells": [
  {
   "cell_type": "markdown",
   "metadata": {},
   "source": [
    "This book teaches the Python programming language, which is currently currently\n",
    "one of the most popular languages for introductory programming courses.\n",
    "The main advantage of Python is that it is a so-called \"high-level\" language,\n",
    "with simple and intuitive syntax that makes it easy to get started. However,\n",
    "although it works well as a beginner's language, Python is also\n",
    "suitable for more advanced tasks, and is currently one of the most widely used\n",
    "programming languages worldwide.\n",
    "\n",
    "# The first example; Hello world!\n",
    "Most introductory books on programming start with a so-called \"Hello world!\"-program,\n",
    "which is a program that simply writes the words \"Hello world!\" to the screen. In\n",
    "Python, this program is just a single line;"
   ]
  },
  {
   "cell_type": "code",
   "execution_count": 1,
   "metadata": {},
   "outputs": [
    {
     "name": "stdout",
     "output_type": "stream",
     "text": [
      "Hello world!\n"
     ]
    }
   ],
   "source": [
    "print(\"Hello world!\")"
   ]
  },
  {
   "cell_type": "markdown",
   "metadata": {},
   "source": [
    "To actually write and run such a program, Python offers a number of different options.\n",
    "Throughout this book we will mostly apply the classical programming approach,\n",
    "where a program is written in a text editor and stored as a file, which is then\n",
    "run from the command-line window or an (Integrated development environment).\n",
    "To write and run the \"Hello world!\"-program open your favourite\n",
    "editor (Atom, gedit, Emacs etc.), type the given line and save the file\n",
    "with a suitable filename, for instance `hello.py`.[^Install] Then, open a terminal or\n",
    "an iPython window, navigate to the directory where you saved the file, and type\n",
    "`python hello.py` if you are using a regular terminal, or `run hello.py` if you\n",
    "are using iPython. The output appears in the terminal right after the command.\n",
    "If you are using an IDE, this is essentially an editor and an iPython/terminal\n",
    "window combined. For instance, in the popular Spyder IDE the editor is usually\n",
    "in the upper left window, while the window in the lower right corner is the\n",
    "iPython window where you run the program.\n",
    "\n",
    "[^Install]: We do not describe the technical details of acquiring and installing\n",
    "Python here, since this information is platform dependent and very quickly becomes\n",
    "outdated. For updated hints on installing Python, please refer to the webpage for\n",
    "the IN1900 course at the University of Oslo\n",
    "(`https://www.uio.no/studier/emner/matnat/ifi/IN1900/index-eng.html`), or to the\n",
    "numerous other resources found online.\n",
    "\n",
    "Although the \"Hello world!\"-program may seem like a silly example, it\n",
    "actually serves a number of useful purposes. First of all,\n",
    "running this small program will verify that you have installed Python properly,\n",
    "and that you have installed the right version. It also introduces the\n",
    "function `print`, which will be used virtually every time we program, and\n",
    "illustrates how we use quotes to define a `string` in Python. While `print` is\n",
    "a word that Python understands, *hello* and *world* are not. By using the\n",
    "quotes we tell Python that it should not try to understand (or interprete)\n",
    "these words, but rather treat it as a simple text that in this case is to be\n",
    "printed to the screen. More about this later.\n",
    "\n",
    "# Different ways to use Python\n",
    "\n",
    "As mentioned above, Python offers some alternatives to the traditional style\n",
    "of programming using a text editor and a terminal window, and some of these\n",
    "alternatives may be very useful when learning to program. For instance, we can\n",
    "use Python interactively by simply typing `python` or `ipython` in a terminal window,\n",
    "without a subsequent file name. This will open an environment for typing and\n",
    "running Python commands, which is not very\n",
    "suitable for writing programs over several lines, but extremely useful for\n",
    "testing Python commands and statements, or simply using Python as a calculator.\n",
    "In a regular terminal window on Mac or Linux, the interactive version\n",
    "of the \"Hello world!\"-example would look something like this:"
   ]
  },
  {
   "cell_type": "code",
   "execution_count": 2,
   "metadata": {},
   "outputs": [
    {
     "name": "stdout",
     "output_type": "stream",
     "text": [
      "Hello world\n"
     ]
    }
   ],
   "source": [
    "print(\"Hello world\")"
   ]
  },
  {
   "cell_type": "markdown",
   "metadata": {},
   "source": [
    "The two versions `python` and `ipython` work largely the same way, but\n",
    "`ipython` has a number of additional features and is recommended.\n",
    "\n",
    "An third alternative for how we use Python is through *Jupyter notebooks*, which\n",
    "are a form of interactive notebooks that combine code and text. These are\n",
    "viewed through a browser and look quite similar to a simple web page, but an\n",
    "important difference is that the code segments are \"live\" Python code that can\n",
    "be run, changed and re-run while reading the document. These features are\n",
    "particularly useful for teaching purposes, since detailed explanations of new\n",
    "concepts is combined with interactive example. All the chapters of this book\n",
    "are available as Jupyter notebooks.\n",
    "\n",
    "### Minor drawbacks of the Python language.\n",
    "\n",
    "Although Python is a very popular and suitable language for learning to program,\n",
    "it also has some small drawbacks. One of the more important ones is tightly\n",
    "linked to its main advantages, of being a flexible high-level language with\n",
    "intuitive syntax. Writing small programs in such a language\n",
    "can be very quick, and beginners can quickly start writing useful\n",
    "programs, but the downside is that the code can get messy as the\n",
    "programs grow in size and complexity.\n",
    "Other languages like C, C++ and Java enforces more structure in the code,\n",
    "which can be confusing for beginners and annoying when you want to write a\n",
    "small program quickly, but can\n",
    "be more efficient in the long run when writing larger programs. However, it is\n",
    "certainly possible to write neat and nicely structured programs in Python as\n",
    "well, but this requires a choice of the programmer to follow certain\n",
    "principles of coding style, and is not forced by the language itself.\n",
    "\n",
    "Another slightly annoying aspect of Python is that it exists in different\n",
    "versions. At the time of writing this Python 3 has been dominant\n",
    "for quite a while, but if you look for programming resources online or read\n",
    "older textbooks you may find many examples using Python 2. One excellent resource for\n",
    "scientific Python (on which this book is largely based)\n",
    "is \"A Primer on Scientific Programming with Python\", by\n",
    "Hans Petter Langtangen [[primer]](#primer). However, the latest\n",
    "version of that book was written in 2016, and it is still\n",
    "Python 2. For the mathematics-centred programming covered here\n",
    "the difference between Python 2 and Python 3 is fairly small, and [[primer]](#primer)\n",
    "is still a very useful resource and supplement to the\n",
    "present book. However, some differences are important to be aware\n",
    "of, and the most obvious one is how print-statements are written. In Python 2, the\n",
    "program above would read `print \"Hello world\"`, i.e. without\n",
    "the parentheses. Since nearly all the examples in [[primer]](#primer)\n",
    "use print-statements to write text and numbers to the screen, they will\n",
    "stop with an error message if you try to run them using Python 3. In most cases the only\n",
    "error is the missing parentheses, so adding parentheses to all the print statements\n",
    "will make most of the examples run fine in Python 3. We will comment on\n",
    "some of the other differences between the Python versions later."
   ]
  }
 ],
 "metadata": {
  "kernelspec": {
   "display_name": "Python 3",
   "language": "python",
   "name": "python3"
  },
  "language_info": {
   "codemirror_mode": {
    "name": "ipython",
    "version": 3
   },
   "file_extension": ".py",
   "mimetype": "text/x-python",
   "name": "python",
   "nbconvert_exporter": "python",
   "pygments_lexer": "ipython3",
   "version": "3.7.3"
  }
 },
 "nbformat": 4,
 "nbformat_minor": 2
}
