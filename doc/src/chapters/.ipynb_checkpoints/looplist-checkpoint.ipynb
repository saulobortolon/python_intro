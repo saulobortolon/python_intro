{
 "cells": [
  {
   "cell_type": "markdown",
   "metadata": {},
   "source": [
    "In this chapter programming starts to become useful.\n",
    "The concepts introduced in the previous chapter are essential building blocks\n",
    "in all computer programs, but our example programs only performed a\n",
    "few calculations, which we could easily do using a regular calculator. In this\n",
    "chapter we will introduce the concept of *loops*, which can be used to automate\n",
    "repetitive and tedious operations. Loops are used in\n",
    "most computer programs, and they look very similar across a wide range of\n",
    "programming languages. We will primarily use loops for calculations, but as\n",
    "you gain more experience you will be able to automate other repetitive tasks.\n",
    "Two types of loops will be introduced in this chapter; the `while` loop  and\n",
    "the `for` loop. Both will be used extensively in all subsequent chapters. In\n",
    "addition to the loop concept we will introduce Boolean expressions,\n",
    "which are expressions with a True/False value, and a new variable type called a list,\n",
    "which is used for storing sequences of data.\n",
    "\n",
    "# Loops for automating repetitive tasks\n",
    "To start with a motivating example, consider again the simple interest\n",
    "calculation formula;"
   ]
  },
  {
   "cell_type": "markdown",
   "metadata": {},
   "source": [
    "$$\n",
    "A = P\\cdot(1+(r/100))^n .\n",
    "$$"
   ]
  },
  {
   "cell_type": "markdown",
   "metadata": {},
   "source": [
    "In the chapter [ch:formulas](#ch:formulas) we implemented this formula\n",
    "as a single-line Python program, but what if we  want to make a table showing how\n",
    "the invested amount grows with the number of years? For instance we could\n",
    "write $n$ and $A$ in two columns like this"
   ]
  },
  {
   "cell_type": "markdown",
   "metadata": {},
   "source": [
    "        0    100\n",
    "        1    105\n",
    "        2    110\n",
    "        3    ...\n",
    "        ...  ...\n"
   ]
  },
  {
   "cell_type": "markdown",
   "metadata": {},
   "source": [
    "How can we make a program that writes such a table? We know from the previous chapter how to\n",
    "make one line in the table:"
   ]
  },
  {
   "cell_type": "code",
   "execution_count": 1,
   "metadata": {},
   "outputs": [],
   "source": [
    "P = 100\n",
    "r = 5.0\n",
    "n = 7\n",
    "A = P * (1+r/100)**n\n",
    "print(n,A)"
   ]
  },
  {
   "cell_type": "markdown",
   "metadata": {},
   "source": [
    "and we could simply repeat these statements to write the complete program:"
   ]
  },
  {
   "cell_type": "code",
   "execution_count": 2,
   "metadata": {},
   "outputs": [],
   "source": [
    "P =100; r = 5.0;\n",
    "n=0;  A = P * (1+r/100)**n;  print(n,A)\n",
    "n=1;  A = P * (1+r/100)**n;  print(n,A)\n",
    "# ...\n",
    "n=9;  A = P * (1+r/100)**n;  print(n,A)\n",
    "n=10;  A = P * (1+r/100)**n;  print(n,A)"
   ]
  },
  {
   "cell_type": "markdown",
   "metadata": {},
   "source": [
    "This is obviously not a very good solution, since it is very boring to write,\n",
    "and it is easy to introduce errors in the code.\n",
    "As a general rule, when programming becomes repetitive and boring, there is\n",
    "usually a better way of solving the problem at hand.\n",
    "In this case, we will utilize one of the main strengths of computers,\n",
    "that they are extremely good at performing a large number of simple and repetitive tasks.\n",
    "For this purpose we use *loops*.\n",
    "\n",
    "The most general loop in Python is called a while loop. This loop will\n",
    "repeatedly execute a set of statements as long as a given condition is satisfied.\n",
    "The syntax of the while loop looks as follows:"
   ]
  },
  {
   "cell_type": "markdown",
   "metadata": {},
   "source": [
    "```Python\n",
    "        while condition:\n",
    "            <statement 1>\n",
    "            <statement 2>\n",
    "            ...\n",
    "        <first statement after loop>\n",
    "```"
   ]
  },
  {
   "cell_type": "markdown",
   "metadata": {},
   "source": [
    "Here, `condition` is a Python expression that evaluates to either true or\n",
    "false, which in computer science terms is called a Boolean expression.\n",
    "Notice also the indentation of all the statements that belong inside the loop.\n",
    "Indentation is the way Python groups code together in blocks. In a loop like\n",
    "this, all the lines we want to be repeated inside the loop must be indented,\n",
    "with exactly the same indentation. The loop ends when an unindented\n",
    "statement is encountered.\n",
    "\n",
    "To make things a bit more concrete, let us use write a while loop to\n",
    "produce the investment growth table above.\n",
    "More precisely, the task we want to solve is the following:\n",
    "Given a range of years $n$ from 0 to 10, in steps of 1,\n",
    "calculate the corresponding amount and print both\n",
    "values to the screen. To write the correct while loop for solving a given task,\n",
    "we need to answer four key questions: (i) Where/how does\n",
    "the loop start, i.e., what are the initial values of the variables, (ii) which\n",
    "statements should be repeated inside the loop, (iii) when does the loop stop,\n",
    "that is, what condition should become false to make the loop stop, and (iv)\n",
    "how should variables be updated for each pass of the loop. Looking at the\n",
    "task definition above, we should be able to answer all of these questions:\n",
    "(i) The loop should start at zero years, so our initial condition\n",
    "should be `n = 0`, (ii) the statements to be repeated are the\n",
    "evaluation of the formula and the printing of `n` and `A`,\n",
    "(iii) we want the loop to stop when `n` reaches 10 years,\n",
    "so our `condition` becomes something like `n <= 10`, and\n",
    "(iv) we want to print the values for steps of one year, so we need\n",
    "to increase `n` with 1 for every pass of the loop. Inserting these details into the\n",
    "general while loop framework above yields the following code:"
   ]
  },
  {
   "cell_type": "code",
   "execution_count": 3,
   "metadata": {},
   "outputs": [],
   "source": [
    "P = 100\n",
    "r = 5.0\n",
    "n = 0\n",
    "while n <= 10:             # loop heading with condition\n",
    "    A = P * (1+r/100)**n   # 1st statement inside loop\n",
    "    print(n, A)            # 2nd statement inside loop\n",
    "    n = n + 1              # last statement inside loop"
   ]
  },
  {
   "cell_type": "markdown",
   "metadata": {},
   "source": [
    "The flow of this program is as follows:\n",
    "\n",
    "1. First `n` is 0, $0 \\leq 10$ is true, therefore we enter the loop and\n",
    "    execute the loop statements:\n",
    "\n",
    "    * Compute `A`\n",
    "\n",
    "    * Print `n` and `A`\n",
    "\n",
    "    * Update `n` to 1\n",
    "\n",
    "\n",
    "2. When we have reached the last line inside the loop, we jump back\n",
    "    up to the `while` line and  evaluate $n\\leq 10$ again. This condition is\n",
    "    still true, and the loop statements are therefore executed again. A new `A` is\n",
    "    computed and printed, and `n` is updated to 2.\n",
    "\n",
    "3. We continue this way until `n` is updated from 10 to 11, and when we now jump\n",
    "    back to evaluate $11\\leq 10$ it is false. The program then jumps straight\n",
    "    to the first line after the loop - the loop is over\n",
    "\n",
    "*Useful tip:* A very common mistake in while loops is to forget to update\n",
    "the variables inside the loop, in this case forgetting the line `n = n + 1`.\n",
    "This error will lead to an eternal loop, which repeats printing the same line\n",
    "forever. If you run the program from the terminal window it can be stopped\n",
    "with `Ctrl-C`, so you can correct the mistake and re-run the program.\n",
    "\n",
    "\n",
    "# Boolean expressions\n",
    "An expression with value true or false is called a boolean expression. Boolean\n",
    "expressions are essential in while loops and other important programming\n",
    "constructs, and they exist in most modern programming languages. We have seen a few\n",
    "examples already, including comparisons like `a == 5` in the chapter [ch:formulas](#ch:formulas)\n",
    "and the condition `n <= 10` in the while loop above. Other examples\n",
    "of (mathematical) boolean expressions are $t=140$, $t\\neq 140$, $t\\geq 40$, $t>40$,\n",
    "$t<40$. In Python code, these are written as"
   ]
  },
  {
   "cell_type": "markdown",
   "metadata": {},
   "source": [
    "```Python\n",
    "        t == 40  # note the double ==, t = 40 is an assignment!\n",
    "        t != 40\n",
    "        t >= 40\n",
    "        t >  40\n",
    "        t <  40\n",
    "```"
   ]
  },
  {
   "cell_type": "markdown",
   "metadata": {},
   "source": [
    "Notice the use of the double `==` when checking for equality. As we mentioned in\n",
    "the chapter [ch:formulas](#ch:formulas) the single equality sign\n",
    "has a  different meaning in Python (and many other programming languages) than\n",
    "we are used to from mathematics,\n",
    "since it is used for assigning a value to a variable. Checking two variables\n",
    "for equality is a different operation, and\n",
    "to distinguish it from assignment we use `==`.\n",
    "We can output the value of boolean expressions by statements like `print(C<40)` or in an interactive Python shell:"
   ]
  },
  {
   "cell_type": "code",
   "execution_count": 4,
   "metadata": {},
   "outputs": [],
   "source": [
    "C = 41\n",
    "C != 40"
   ]
  },
  {
   "cell_type": "code",
   "execution_count": 5,
   "metadata": {},
   "outputs": [],
   "source": [
    "C < 40"
   ]
  },
  {
   "cell_type": "code",
   "execution_count": 6,
   "metadata": {},
   "outputs": [],
   "source": [
    "C == 41"
   ]
  },
  {
   "cell_type": "markdown",
   "metadata": {},
   "source": [
    "Most of the boolean expressions we will use in this course are of the simple\n",
    "kind above, consisting of a single comparison that should be familiar\n",
    "from mathematics. However, we can combine multiple conditions using\n",
    "`and/or`, to construct while loops such as these:"
   ]
  },
  {
   "cell_type": "markdown",
   "metadata": {},
   "source": [
    "```Python\n",
    "        while condition1 and condition2:\n",
    "            ...\n",
    "        \n",
    "        while condition1 or condition2:\n",
    "            ...\n",
    "```"
   ]
  },
  {
   "cell_type": "markdown",
   "metadata": {},
   "source": [
    "The rules for evaluating such compound expressions are as you would\n",
    "expect: `C1 and C2` is `True` if both `C1` and `C2` are `True`,\n",
    "while `C1 or C2` is `True` if at least one of `C1` or `C2` is `True`.\n",
    "One can also negate a boolean\n",
    "expression using the word `not`, which simply gives\n",
    "that `not C` is `True` if `C` is `False`, and vice versa.\n",
    "To get a feel for compound boolean expressions, you can go through the\n",
    "following examples by hand and predict the outcome, and then try to run\n",
    "the code to get the result:"
   ]
  },
  {
   "cell_type": "code",
   "execution_count": 7,
   "metadata": {},
   "outputs": [],
   "source": [
    "x = 0;  y = 1.2\n",
    "print(x >= 0 and y < 1)\n",
    "print(x >= 0 or y < 1)\n",
    "print(x > 0 or y > 1)\n",
    "print(x > 0 or not y > 1)\n",
    "print(-1 < x <= 0)   # same as -1 < x and x <= 0\n",
    "print(not (x > 0 or y > 0))"
   ]
  },
  {
   "cell_type": "markdown",
   "metadata": {},
   "source": [
    "Boolean expressions are important for controlling the flow of programs,\n",
    "both in while loops and in other constructs that we will\n",
    "introduce in the chapter [ch:funcif](#ch:funcif). Their evaluation and use should be fairly\n",
    "familiar from mathematics, but it is always a good\n",
    "idea to explore fundamental concepts like this by typing in a few examples\n",
    "in an interactive Python shell.\n",
    "\n",
    "\n",
    "# Using *lists* to store sequences of data\n",
    "So far, we have used one variable to refer to one number (or string).\n",
    "Sometimes we naturally have a collection of numbers, such as the $n$-values\n",
    "(years) $0, 1, 2, \\ldots, 10$ created\n",
    "in the example above. In some cases, like the one above, we are simply\n",
    "interested in writing out all the values to the\n",
    "screen, and in this case it works fine to use a single variable that we\n",
    "update and print for each pass of the loop. However,\n",
    "sometimes want to store such a sequence of variables, for instance to\n",
    "process it further elsewhere in our program. We could of course\n",
    "use a separate variable for each value of `n`:"
   ]
  },
  {
   "cell_type": "code",
   "execution_count": 8,
   "metadata": {},
   "outputs": [],
   "source": [
    "n0 = 0\n",
    "n1 = 1\n",
    "n2 = 2\n",
    "# ...\n",
    "n10 = 10"
   ]
  },
  {
   "cell_type": "markdown",
   "metadata": {},
   "source": [
    "However, this is another example of programming becoming extremely repetitive\n",
    "and boring, and there is obviously a better solution. In Python, the most\n",
    "flexible way to store such a sequence of variables is to use a list:"
   ]
  },
  {
   "cell_type": "code",
   "execution_count": 9,
   "metadata": {},
   "outputs": [],
   "source": [
    "n = [0, 1, 2, 3, 4, 5, 6, 7, 8, 9, 10]"
   ]
  },
  {
   "cell_type": "markdown",
   "metadata": {},
   "source": [
    "Notice the square brackets and the commas separating the values, which is how\n",
    "we tell Python that `n` is a list variable.\n",
    "Now we have a single variable that holds all the values we want. Python lists\n",
    "are not reserved to numbers, but can hold\n",
    "any kind of object and even different kinds of objects in one list. They also\n",
    "have lots of convenient built-in functionality, which makes them very flexible\n",
    "and useful, and extremely popular in Python programs.\n",
    "\n",
    "We will not cover all aspects of lists and list operations in this book, but\n",
    "some of the more basic ones will be used frequently. We have already seen how\n",
    "to initialize a list, using square brackets and comma-separated values, such as"
   ]
  },
  {
   "cell_type": "code",
   "execution_count": 10,
   "metadata": {},
   "outputs": [],
   "source": [
    "L1 = [-91, 'a string', 7.2, 0]"
   ]
  },
  {
   "cell_type": "markdown",
   "metadata": {},
   "source": [
    "To retrieve individual elements from the list, we can use an index, for\n",
    "instance `L1[3]` will pick out the element with index 3,\n",
    "i.e. the fourth element (having value 0) in the list since the numbering\n",
    "starts at 0. List indices start\n",
    "at 0 and run to the $n-1$, where $n$ is the number of elements in the list:"
   ]
  },
  {
   "cell_type": "code",
   "execution_count": 11,
   "metadata": {},
   "outputs": [],
   "source": [
    "mylist = [4, 6, -3.5]\n",
    "print(mylist[0])\n",
    "print(mylist[1])\n",
    "print(mylist[2])\n",
    "len(mylist)  # length of list"
   ]
  },
  {
   "cell_type": "markdown",
   "metadata": {},
   "source": [
    "The last line uses the builtin Python function `len`, which returns the\n",
    "number of element in the list. This function works on\n",
    "lists and any other object that has a natural length (for instance strings),\n",
    "and is very useful.\n",
    "\n",
    "Other built-in list operations allow us to append an element to a list and\n",
    "to add two lists together:"
   ]
  },
  {
   "cell_type": "code",
   "execution_count": 12,
   "metadata": {},
   "outputs": [],
   "source": [
    "n = [0, 1, 2, 3, 4, 5, 6, 7, 8]\n",
    "n.append(9)   # add new element 9 at the end\n",
    "print(C)\n",
    "n = n  + [10, 11]     # extend n at the end\n",
    "print(n)\n",
    "print(len(n))               # length of list"
   ]
  },
  {
   "cell_type": "markdown",
   "metadata": {},
   "source": [
    "These list operations, in particular to initialize, append to, and index\n",
    "a list, are extremely common in Python programs, and\n",
    "will be used throughout this book. It is a good idea to spend some time\n",
    "making sure you fully understand how they work.\n",
    "\n",
    "# Iterating over a list with a for loop\n",
    "Having introduced lists, we are ready to look at the second type of loop\n",
    "we will use in this book; the for loop. The\n",
    "for loop is less general than the while loop, but it is also a bit simpler\n",
    "to use. The for loop simply iterates over elements\n",
    "in a list, and performs operations on each:"
   ]
  },
  {
   "cell_type": "markdown",
   "metadata": {},
   "source": [
    "```Python\n",
    "        for element in list:\n",
    "            <statement 1>\n",
    "            <statement 2>\n",
    "            ...\n",
    "        <first statement after loop>\n",
    "```"
   ]
  },
  {
   "cell_type": "markdown",
   "metadata": {},
   "source": [
    "The key line here is the first one, which will simply run through the list\n",
    "element by element. For each pass of the loop the single element\n",
    "is stored in the variable `element`, and the block of code inside the\n",
    "for loop typically involves some calculations using this\n",
    "`element` variable. When the code lines in this block are completed, the\n",
    "loop moves on to the next element in the list, and continues in this\n",
    "way until there are no more elements in the list.\n",
    "It is easy to see why this loop is simpler than the while loop, since no\n",
    "conditional is needed to stop the loop and there\n",
    "is no need to update a variable inside the loop. The for loop will simply\n",
    "iterate over all the elements in a pre-defined list,\n",
    "and stop when there are no more elements. On the other hand, the for loop is\n",
    "slightly less flexible, since the list needs to\n",
    "pre-defined. The for loop is the best choice in most cases where we know in\n",
    "advance how many times we want to pass through a list.\n",
    "For cases where this number is not known, the while loop is usually the best choice.\n",
    "\n",
    "To make a concrete for loop example, we return to the investment growth example\n",
    "introduced above.\n",
    "To write a for loop for a given task, there are  two key questions to answer:\n",
    "(i) What should the list contain, and (ii) what operations should be performed\n",
    "on all elements in the list? For the present case, the natural answers\n",
    "are (i) the list should be a range of $n$-values from 0 to 10, in steps of 1,\n",
    "and (ii) the operations to be repeated are the computation of `A` and the\n",
    "printing of the two values, essentially the same as in the while loop.\n",
    "The full program using a for loop becomes"
   ]
  },
  {
   "cell_type": "code",
   "execution_count": 2,
   "metadata": {},
   "outputs": [
    {
     "name": "stdout",
     "output_type": "stream",
     "text": [
      "0 100.0\n",
      "1 105.0\n",
      "2 110.25\n",
      "3 115.76250000000002\n",
      "4 121.55062500000003\n",
      "5 127.62815625000003\n",
      "6 134.00956406250003\n",
      "7 140.71004226562505\n",
      "8 147.7455443789063\n",
      "9 155.13282159785163\n",
      "10 162.8894626777442\n"
     ]
    }
   ],
   "source": [
    "years = [0, 1, 2, 3, 4, 5, 6, 7, 8, 9, 10]\n",
    "r = 5.0\n",
    "P = 100.0\n",
    "for n in years:\n",
    "    A = P * (1+r/100)**n\n",
    "    print(n, A)"
   ]
  },
  {
   "cell_type": "markdown",
   "metadata": {},
   "source": [
    "As with the while loop, the statements inside the loop must be indented.\n",
    "Simply by counting the lines of code in the two programs we get\n",
    "an indication that the for loop is somewhat simpler and quicker to write\n",
    "than the while loop. Most people will argue that the overall structure of the\n",
    "program is also simpler and less error-prone, with no need for checking a\n",
    "criterion to stop the loop or to update any variables inside\n",
    "it. The for loop will simply iterate over a given list, perform the\n",
    "operations we want on each element, and then stop when it reaches\n",
    "the end of the list. Tasks of this kind are very common, and for loops are\n",
    "extensively used in Python programs.\n",
    "\n",
    "The observant reader may notice that the definition of the list `years` in the\n",
    "code above is not very scalable to long lists,\n",
    "and quickly becomes repetitive and boring. And as stated above, when\n",
    "programming become repetitive and boring there usually exists\n",
    "a better solution. So also in this case, and we will very rarely fill values\n",
    "into a list explicitly like we have done here. Better alternatives include\n",
    "a builtin Python function called `range`, in combination with a for loop or\n",
    "a so-called *list comprehension*. We will get back to these tools later in the\n",
    "chapter. When running the code, one may also observe that the\n",
    "two columns of degrees values are not perfectly aligned, since\n",
    "`print` always uses the minimum amount of space to output the numbers. If we\n",
    "want the output in two nicely aligned columns, this is easily achieved\n",
    "by using the f-string formatting we introduced in the previous chapter.\n",
    "The resulting code may look like this:"
   ]
  },
  {
   "cell_type": "code",
   "execution_count": 1,
   "metadata": {},
   "outputs": [
    {
     "ename": "NameError",
     "evalue": "name 'P' is not defined",
     "output_type": "error",
     "traceback": [
      "\u001b[0;31m---------------------------------------------------------------------------\u001b[0m",
      "\u001b[0;31mNameError\u001b[0m                                 Traceback (most recent call last)",
      "\u001b[0;32m<ipython-input-1-077b22c374e8>\u001b[0m in \u001b[0;36m<module>\u001b[0;34m\u001b[0m\n\u001b[1;32m      1\u001b[0m \u001b[0myears\u001b[0m \u001b[0;34m=\u001b[0m \u001b[0;34m[\u001b[0m\u001b[0;36m0\u001b[0m\u001b[0;34m,\u001b[0m \u001b[0;36m1\u001b[0m\u001b[0;34m,\u001b[0m \u001b[0;36m2\u001b[0m\u001b[0;34m,\u001b[0m \u001b[0;36m3\u001b[0m\u001b[0;34m,\u001b[0m \u001b[0;36m4\u001b[0m\u001b[0;34m,\u001b[0m \u001b[0;36m5\u001b[0m\u001b[0;34m,\u001b[0m \u001b[0;36m6\u001b[0m\u001b[0;34m,\u001b[0m \u001b[0;36m7\u001b[0m\u001b[0;34m,\u001b[0m \u001b[0;36m8\u001b[0m\u001b[0;34m,\u001b[0m \u001b[0;36m9\u001b[0m\u001b[0;34m,\u001b[0m \u001b[0;36m10\u001b[0m\u001b[0;34m]\u001b[0m\u001b[0;34m\u001b[0m\u001b[0;34m\u001b[0m\u001b[0m\n\u001b[1;32m      2\u001b[0m \u001b[0;32mfor\u001b[0m \u001b[0mn\u001b[0m \u001b[0;32min\u001b[0m \u001b[0myears\u001b[0m\u001b[0;34m:\u001b[0m\u001b[0;34m\u001b[0m\u001b[0;34m\u001b[0m\u001b[0m\n\u001b[0;32m----> 3\u001b[0;31m     \u001b[0mA\u001b[0m \u001b[0;34m=\u001b[0m \u001b[0mP\u001b[0m \u001b[0;34m*\u001b[0m \u001b[0;34m(\u001b[0m\u001b[0;36m1\u001b[0m\u001b[0;34m+\u001b[0m\u001b[0mr\u001b[0m\u001b[0;34m/\u001b[0m\u001b[0;36m100\u001b[0m\u001b[0;34m)\u001b[0m\u001b[0;34m**\u001b[0m\u001b[0mn\u001b[0m\u001b[0;34m\u001b[0m\u001b[0;34m\u001b[0m\u001b[0m\n\u001b[0m\u001b[1;32m      4\u001b[0m     \u001b[0mprint\u001b[0m\u001b[0;34m(\u001b[0m\u001b[0;34mf'{n:5d}{A:8.2f}'\u001b[0m\u001b[0;34m)\u001b[0m\u001b[0;34m\u001b[0m\u001b[0;34m\u001b[0m\u001b[0m\n",
      "\u001b[0;31mNameError\u001b[0m: name 'P' is not defined"
     ]
    }
   ],
   "source": [
    "years = [0, 1, 2, 3, 4, 5, 6, 7, 8, 9, 10]\n",
    "r = 5.0\n",
    "P = 100.0\n",
    "for n in years:\n",
    "    A = P * (1+r/100)**n\n",
    "    print(f'{n:5d}{A:8.2f}')"
   ]
  },
  {
   "cell_type": "markdown",
   "metadata": {},
   "source": [
    "### A for loop can always be translated to a while loop.\n",
    "\n",
    "As described above, the while loop is more flexible than a for loop. In fact, a for loop can always be transformed into a\n",
    "while loop, but not all while loops can be expressed as for loops.\n",
    "for loops always traverse through lists, do some processing of each element, and stop when they reach the last one. This behavior is\n",
    "easy to mimic in a while loop, using list indexing and the `len` function, which were both introduced above. A for loop on this\n",
    "form"
   ]
  },
  {
   "cell_type": "markdown",
   "metadata": {},
   "source": [
    "```Python\n",
    "        for element in somelist:\n",
    "            # process element\n",
    "```"
   ]
  },
  {
   "cell_type": "markdown",
   "metadata": {},
   "source": [
    "translates to the following while loop"
   ]
  },
  {
   "cell_type": "markdown",
   "metadata": {},
   "source": [
    "```Python\n",
    "        index = 0\n",
    "        while index < len(somelist):\n",
    "            element = somelist[index]\n",
    "            # process element\n",
    "            index += 1\n",
    "```"
   ]
  },
  {
   "cell_type": "markdown",
   "metadata": {},
   "source": [
    "### Using the function `range` to loop over indices\n",
    "\n",
    "Sometimes we don't have a list, but want to repeat an\n",
    "operation $N$ times. Since we know the number of repetitions this is an obvious candidate for a for loop,\n",
    "but for loops in Python always iterate over an existing list (or a \"list-like\" object). The solution is to use a\n",
    "builtin Python function `range`, which returns a list of integers[^range]:"
   ]
  },
  {
   "cell_type": "code",
   "execution_count": 15,
   "metadata": {},
   "outputs": [],
   "source": [
    "P = 100\n",
    "r = 5.0\n",
    "N = 10\n",
    "for n in range(N+1):\n",
    "    A = P * (1+r/100)**n\n",
    "    print(n,A)"
   ]
  },
  {
   "cell_type": "markdown",
   "metadata": {},
   "source": [
    "Here we used `range` with a single argument $N+1$ which will generate a list of integers from 0 to $N$ (not including $N+1$).\n",
    "We can also use `range` with two\n",
    "or three arguments. The most general case `range(start, stop, inc)` generates a list of integers\n",
    "`start`, `start+inc`, `start+2*inc`, and so on up to, *but not including*, `stop`. When used with just a single argument,\n",
    "like above, this argument is treated as the `stop` value, and `range(stop)` becomes short for `range(0, stop, 1)`.\n",
    "With two arguments, the interpretation is `range(start,stop)`, short for `range(start,stop,1)`. This behavior, where\n",
    "a single function can be used with different numbers of arguments, is common both in Python and many other programming\n",
    "languages, and makes the use of such functions very flexible and efficient. If we want the most common behavior we\n",
    "only need to provide a single argument, and the others are automatically set to default values, but if we want something\n",
    "different this is easily obtained by including more arguments. We will use the `range`-function in\n",
    "combination with for loops extensively\n",
    "through this book, and it is a good idea to spend some time getting familiar\n",
    "with it. Testing statements like `print(list(range(start,stop, inc)))` in an\n",
    "interactive Python shell, for different argument values,\n",
    "is a good way to get a feel for how the `range`-function works.\n",
    "\n",
    "[^range]:In Python 3, `range` does not technically produce a list, but a list-like object called an iterator. For use in a for loop,\n",
    "which is the most common use of `range`, there is no practical difference between a list and an iterator. However, if we\n",
    "try for instance `print(range(3))` the output does not look like a list. To get output that looks like a list, which may be useful\n",
    "for debugging, the iterator must be converted to an actual list: `print(list(range(3)))`.\n",
    "\n",
    "\n",
    "### Filling a list with values using a for loop.\n",
    "\n",
    "One motivation for introducing lists was to conveniently store a sequence of\n",
    "numbers as a single variable, for instance if we want\n",
    "to process it later in the program. However, in the code above we did not\n",
    "really utilize this, since all we did was print the numbers\n",
    "to the screen, and the only list we created was a simple sequence from 0 to 10.\n",
    "It would be more useful to put the amounts in a list, which can easily be achieved\n",
    "with a for loop. The resulting code illustrates\n",
    "a very common way to fill lists with values in Python:"
   ]
  },
  {
   "cell_type": "code",
   "execution_count": 16,
   "metadata": {},
   "outputs": [],
   "source": [
    "P = 100\n",
    "r = 5.0\n",
    "N = 10\n",
    "amounts = []               # start with empty list\n",
    "for n in range(N+1):\n",
    "    A = P*(1+r/100)**n\n",
    "    amounts.append(A)      # add new element to amounts list\n",
    "print(amounts)"
   ]
  },
  {
   "cell_type": "markdown",
   "metadata": {},
   "source": [
    "The parts worth noticing in this code are `amounts = []`, which simply creates\n",
    "a list with no elements, and\n",
    "the use of the `append` function inside the for loop to add elements to\n",
    "the list. This is a convenient and very commonly used way of filling a Python\n",
    "list with values.\n",
    "\n",
    "### Mathematical sums are implemented as for loops.\n",
    "\n",
    "A very common example of a repetitive task in mathematics is the computation of\n",
    "a sum, for instance"
   ]
  },
  {
   "cell_type": "markdown",
   "metadata": {},
   "source": [
    "$$\n",
    "S = \\sum_{i=1}^N i^2 .\n",
    "$$"
   ]
  },
  {
   "cell_type": "markdown",
   "metadata": {},
   "source": [
    "For large values of $N$ such sums are tedious to calculate by hand, but they are\n",
    "very easy to program using `range` and a for loop:"
   ]
  },
  {
   "cell_type": "code",
   "execution_count": 17,
   "metadata": {},
   "outputs": [],
   "source": [
    "N = 14\n",
    "S = 0\n",
    "for i in range(1, N+1):\n",
    "    S += i**2\n",
    "print(S)"
   ]
  },
  {
   "cell_type": "markdown",
   "metadata": {},
   "source": [
    "Notice the structure of this code. First we initialize the summation\n",
    "variable (`S`) to zero, and then the terms are added one by\n",
    "one for each iteration of the for loop. The example shown here illustrates the\n",
    "standard recipe for implementing mathematical sums, which\n",
    "appear frequently in this course and later. It is worthwhile spending some time to\n",
    "fully understand and remember how they are implemented.\n",
    "\n",
    "### How can we change the elements in a list?\n",
    "\n",
    "In some cases we want to change elements in a list. Consider first a simple\n",
    "example where we have a list of numbers,\n",
    "and want to add 2 to all the numbers. Following the ideas introduced above, a\n",
    "natural approach is to use a for loop to traverse the list:"
   ]
  },
  {
   "cell_type": "code",
   "execution_count": 18,
   "metadata": {},
   "outputs": [],
   "source": [
    "v = [-1, 1, 10]\n",
    "for e in v:\n",
    "    e = e + 2\n",
    "print(v)"
   ]
  },
  {
   "cell_type": "markdown",
   "metadata": {},
   "source": [
    "As demonstrated by this small program, the result is not what we want.\n",
    "We added 2 to every element, but after the loop\n",
    "finished our list `v` remained unchanged. The reason for this behavior is that\n",
    "when we created the for loop using `for e in v:`,\n",
    "the list is traversed as we want, but the variable `e` is an ordinary (`int`)\n",
    "variable, and is in fact a *copy* of\n",
    "each element in the list, and not the actual element.\n",
    "So when we change `e`, we only change the copy and not the actual list element.\n",
    "The copy is over-written in the next pass of the\n",
    "loop anyway, so in this case all the numbers that we increment with 2 are simply\n",
    "lost. The solution is to access the actual elements\n",
    "by indexing into the list:"
   ]
  },
  {
   "cell_type": "code",
   "execution_count": 19,
   "metadata": {},
   "outputs": [],
   "source": [
    "v = [-1, 1, 10]\n",
    "for i in range(len(v)):\n",
    "    v[i] = v[i] + 2\n",
    "print(v)"
   ]
  },
  {
   "cell_type": "markdown",
   "metadata": {},
   "source": [
    "Notice in particular the use of `range(len(v))`, which is a very common\n",
    "construction to see in Python programs.\n",
    "It creates a set of integers running from 0 to `len(v)-1`, which can be iterated over\n",
    "with the for loop and used to loop through all the elements in the list `v`.\n",
    "\n",
    "\n",
    "### List comprehensions for compact creation of lists.\n",
    "\n",
    "Above, we introduced one common way to construct lists, which was to start\n",
    "with an empty list and use a for loop to fill the list with\n",
    "values. We can extend this example to fill several lists in one loop, for\n",
    "instance if we want to examine the effect of low and high interest rate on our\n",
    "bank deposit. We start with two empty lists and fill both with values in the\n",
    "same loop:"
   ]
  },
  {
   "cell_type": "code",
   "execution_count": 20,
   "metadata": {},
   "outputs": [],
   "source": [
    "P = 100\n",
    "r_low = 2.5\n",
    "r_high = 5.0\n",
    "N = 10\n",
    "A_high = []\n",
    "A_low = []\n",
    "for n in range(N+1):\n",
    "    A_low.append(P*(1+r_low/100)**n)\n",
    "    A_high.append(P*(1+r_high/100)**n)\n",
    "print(A_low)\n",
    "print(A_high)"
   ]
  },
  {
   "cell_type": "markdown",
   "metadata": {},
   "source": [
    "In fact, this way of using a for loop to fill a list with values\n",
    "is so common in Python that a compact\n",
    "construct has been introduced, called a *list comprehension*. The code in\n",
    "the previous example can be replaced by:"
   ]
  },
  {
   "cell_type": "code",
   "execution_count": 21,
   "metadata": {},
   "outputs": [],
   "source": [
    "P = 100\n",
    "r_low = 2.5\n",
    "r_high = 5.0\n",
    "N = 10\n",
    "A_low = [P*(1+r_low/100)**n for n in range(N+1)]\n",
    "A_high = [P*(1+r_high/100)**n for n in range(N+1)]\n",
    "print(A_low)\n",
    "print(A_high)"
   ]
  },
  {
   "cell_type": "markdown",
   "metadata": {},
   "source": [
    "The resulting lists `A_low` and `A_high` are exactly the same as we got from\n",
    "the for loop, but the code is obviously much more\n",
    "compact. To an experienced Python programmer, the use of list comprehensions\n",
    "also makes the code more readable, since it becomes obvious that\n",
    "the code creates a list, and the contents of the list is usually easy to\n",
    "understand from the code inside the brackets.\n",
    "The general form of a list comprehension looks like"
   ]
  },
  {
   "cell_type": "markdown",
   "metadata": {},
   "source": [
    "```Python\n",
    "        newlist = [expression for element in somelist]\n",
    "```"
   ]
  },
  {
   "cell_type": "markdown",
   "metadata": {},
   "source": [
    "where `expression` typically involves `element`. The list comprehension works\n",
    "exactly like a for loop; it runs through all the elements\n",
    "in `somelist`, stores a copy of each element in the variable `element`,\n",
    "evaluates `expression`, and appends the result to\n",
    "the list `newlist`. The resulting list `newlist` will have the same length\n",
    "as `somelist`, and its elements given by `expression`.\n",
    "List comprehensions are important to know about, since you will see them\n",
    "frequently when reading Python code written by others.\n",
    "For the programming tasks covered in this book they are convenient to use,\n",
    "but not strictly necessary, since you can always accomplish the\n",
    "same thing with a regular for loop.\n",
    "\n",
    "### Traversing multiple lists simultaneously with `zip`.\n",
    "\n",
    "Sometimes we want to loop over two lists at the same time. For instance,\n",
    "consider printing out the contents of the `A_low` and\n",
    "`A_high` lists above. We can do this using `range` and list indexing, as in"
   ]
  },
  {
   "cell_type": "code",
   "execution_count": 22,
   "metadata": {},
   "outputs": [],
   "source": [
    "for i in range(len(A_low)):\n",
    "    print(A_low[i], A_high[i])"
   ]
  },
  {
   "cell_type": "markdown",
   "metadata": {},
   "source": [
    "However, a builtin Python function named `zip` provides an\n",
    "alternative solution, which many consider more elegant and\n",
    "\"Pythonic\":"
   ]
  },
  {
   "cell_type": "code",
   "execution_count": 23,
   "metadata": {},
   "outputs": [],
   "source": [
    "for low, high in zip(A_low, A_high):\n",
    "    print(low, high)"
   ]
  },
  {
   "cell_type": "markdown",
   "metadata": {},
   "source": [
    "The output is exactly the same, but the use of `zip` makes the for loop\n",
    "more similar to how we traverse a single list. We run through both\n",
    "lists, extract the elements from each into the variables `low` and `high`, and\n",
    "use these variables inside the loop like we are used to.\n",
    "We can also use `zip` with three lists:"
   ]
  },
  {
   "cell_type": "code",
   "execution_count": 24,
   "metadata": {},
   "outputs": [],
   "source": [
    "l1 = [3, 6, 1];  l2 = [1.5, 1, 0];  l3 = [9.1, 3, 2]\n",
    "for e1, e2, e3 in zip(l1, l2, l3):\n",
    "    print(e1, e2, e3)"
   ]
  },
  {
   "cell_type": "markdown",
   "metadata": {},
   "source": [
    "Lists we traverse with `zip` typically have the same length, but the\n",
    "function actually works also for lists of different length.\n",
    "In this case the for loop will simply stop when it reaches the end of the\n",
    "shortest list, and the remaining elements of the longer lists are not visited.\n",
    "\n",
    "# Nested lists and list slicing\n",
    "As described above, lists in Python are quite general and can store *any*\n",
    "object, including another list. The resulting list of lists\n",
    "is usually referred to as a *nested list*. For the amounts resulting\n",
    "from low and high interest rates above, instead of storing the numbers\n",
    "as two separate lists we could stick them together in a new list:"
   ]
  },
  {
   "cell_type": "code",
   "execution_count": 25,
   "metadata": {},
   "outputs": [],
   "source": [
    "A_low = [P*(1+2.5/100)**n for n in range(11)]\n",
    "A_high = [P*(1+5.0/100)**n for n in range(11)]\n",
    "\n",
    "amounts = [A_low, A_high]  # list of two lists\n",
    "\n",
    "print(amounts[0])    # the A_low list\n",
    "print(amounts[1])    # the A_high list\n",
    "print(amounts[1][2])  # the 3rd element in A_high"
   ]
  },
  {
   "cell_type": "markdown",
   "metadata": {},
   "source": [
    "The indexing of nested lists illustrated here is quite logical, but may take\n",
    "some time getting used to. The important thing to consider\n",
    "is that if `amounts` is a list containing lists, then for instance `amounts[0]`\n",
    "is also a list and can be indexed as we are used to.\n",
    "Indexing into this list is done in the usual way, so for instance `amounts[0][0]`\n",
    "is the first element of the first list contained in `amounts`.\n",
    "Playing a bit with indexing nested lists in the interactive Python shell is a\n",
    "useful exercise to understand how they are used.\n",
    "\n",
    "Iterating over nested lists also works as we would expect, consider for instance\n",
    "the following code"
   ]
  },
  {
   "cell_type": "markdown",
   "metadata": {},
   "source": [
    "```Python\n",
    "        for sublist1 in somelist:\n",
    "            for sublist2 in sublist1:\n",
    "                    for value in sublist2:\n",
    "                        # work with value\n",
    "```"
   ]
  },
  {
   "cell_type": "markdown",
   "metadata": {},
   "source": [
    "Here, `somelist` is a three-dimensional nested list, i.e. its elements are lists,\n",
    "which in turn contain lists. The resulting nested for loop looks a bit\n",
    "complicated, but it follows exactly the same logic as the simpler for loops\n",
    "we used above. When the \"outer\" loop starts, the first element from `somelist`\n",
    "is copied into the variable `sublist1`, and then we enter the code block\n",
    "inside the loop, which is a new for loop that will start traversing `sublist1`,\n",
    "i.e. first copying the first element into the variable\n",
    "`sublist2`. Then the process is repeated, the innermost loop traverses all the\n",
    "elements of  `sublist2`, copies each element into the\n",
    "variable `value`, and does some calculations with this variable. When it reaches\n",
    "the end of `sublist2`, the innermost for loop is over, we\n",
    "move \"out\" one level in the loops, the loop `for sublist2 in sublist` moves to\n",
    "the next element and starts a new iteration\n",
    "through the innermost loop.\n",
    "\n",
    "Similar iterations over nested loops can be obtained by looping over the list indices:"
   ]
  },
  {
   "cell_type": "markdown",
   "metadata": {},
   "source": [
    "```Python\n",
    "        for i1 in range(len(somelist)):\n",
    "            for i2 in range(len(somelist[i1])):\n",
    "                for i3 in range(len(somelist[i1][i2])):\n",
    "                    value = somelist[i1][i2][i3]\n",
    "                    # work with value\n",
    "```"
   ]
  },
  {
   "cell_type": "markdown",
   "metadata": {},
   "source": [
    "Although the logic is the same as regular (one-dimensional) for loops, nested\n",
    "loops look more complicated and it may take some time\n",
    "to fully understand how they work. As noted above, a good way to obtain such\n",
    "understanding is to create some examples of small nested lists in a Python shell,\n",
    "and examine the results of indexing and looping over the lists.\n",
    "The following code is one such example. Try to step through this program by\n",
    "hand and predict the output, before running the code\n",
    "and checking the result."
   ]
  },
  {
   "cell_type": "code",
   "execution_count": 26,
   "metadata": {},
   "outputs": [],
   "source": [
    "L = [[9, 7], [-1, 5, 6]]\n",
    "for row in L:\n",
    "    for column in row:\n",
    "        print(column)"
   ]
  },
  {
   "cell_type": "markdown",
   "metadata": {},
   "source": [
    "### List slicing is used to extract parts of a list.\n",
    "\n",
    "We have seen how we can index a list to extract a single\n",
    "element, but sometimes it is useful to grab parts of a list, for instance\n",
    "all elements from an index $n$ to index $m$. Python offers so-called *list slicing*\n",
    "for such tasks. For a list `A`, we have seen\n",
    "that a single element is extracted with `A[n]`, where `n` is an integer, but we\n",
    "can also use the more general syntax `A[start:stop:step]`\n",
    "to extract a *slice* of `A`. The arguments resemble those of the `range` function,\n",
    "and such a list slicing will extract all\n",
    "elements starting from index `start` up to but not including `stop`, and with\n",
    "step `step`. As for the `range` function we can omit some\n",
    "of the arguments and rely on default values. The following examples illustrate the\n",
    "use of slicing:"
   ]
  },
  {
   "cell_type": "code",
   "execution_count": 27,
   "metadata": {},
   "outputs": [],
   "source": [
    "A = [2, 3.5, 8, 10]\n",
    "A[2:]   # from index 2 to end of list"
   ]
  },
  {
   "cell_type": "code",
   "execution_count": 28,
   "metadata": {},
   "outputs": [],
   "source": [
    "A[1:3]  # from index 1 up to, but not incl., index 3"
   ]
  },
  {
   "cell_type": "code",
   "execution_count": 29,
   "metadata": {},
   "outputs": [],
   "source": [
    "A[:3]   # from start up to, but not incl., index 3"
   ]
  },
  {
   "cell_type": "code",
   "execution_count": 30,
   "metadata": {},
   "outputs": [],
   "source": [
    "A[1:-1] # from index 1 to next last element"
   ]
  },
  {
   "cell_type": "code",
   "execution_count": 31,
   "metadata": {},
   "outputs": [],
   "source": [
    "A[:]    # the whole list"
   ]
  },
  {
   "cell_type": "markdown",
   "metadata": {},
   "source": [
    "Note that these sublists (slices) are *copies* of the original list. In\n",
    "contrast to regular indexing, where we could actually access\n",
    "and change a single elements, the slices are copies and changing them will not\n",
    "affect the original lists. As for the nested lists\n",
    "considered above, a good way to get familiar with list slicing is to create a\n",
    "small list in the interactive Python shell and explore the\n",
    "effect of various slicing operations. It is of course possible to combine list\n",
    "slicing with nested lists, and the results may be confusing even to experienced\n",
    "Python programmers. Fortunately, we will only consider fairly simple cases of list slicing in this\n",
    "book, and we will mostly work with lists of one or two dimensions (i.e. non-nested lists or the simplest lists-of-lists).\n",
    "\n",
    "# Tuples\n",
    "Lists are a flexible and user friendly way to store sequences of numbers, and\n",
    "are used in nearly all Python programs. However, there are also a few other\n",
    "data types that are made for storing sequences of\n",
    "data. One of the most important ones is called a *tuple*, and is essentially\n",
    "a constant list that cannot be changed:"
   ]
  },
  {
   "cell_type": "code",
   "execution_count": 32,
   "metadata": {},
   "outputs": [],
   "source": [
    "t = (2, 4, 6, 'temp.pdf')    # define a tuple\n",
    "t =  2, 4, 6, 'temp.pdf'     # can skip parenthesis\n",
    "t[1] = -1"
   ]
  },
  {
   "cell_type": "code",
   "execution_count": 33,
   "metadata": {},
   "outputs": [],
   "source": [
    "t.append(0)"
   ]
  },
  {
   "cell_type": "code",
   "execution_count": 34,
   "metadata": {},
   "outputs": [],
   "source": [
    "del t[1]"
   ]
  },
  {
   "cell_type": "markdown",
   "metadata": {},
   "source": [
    "Tuples can do much of what lists can do:"
   ]
  },
  {
   "cell_type": "code",
   "execution_count": 35,
   "metadata": {},
   "outputs": [],
   "source": [
    "t = t + (-1.0, -2.0)           # add two tuples\n",
    "t"
   ]
  },
  {
   "cell_type": "code",
   "execution_count": 36,
   "metadata": {},
   "outputs": [],
   "source": [
    "t[1]                           # indexing"
   ]
  },
  {
   "cell_type": "code",
   "execution_count": 37,
   "metadata": {},
   "outputs": [],
   "source": [
    "t[2:]                          # subtuple/slice"
   ]
  },
  {
   "cell_type": "code",
   "execution_count": 38,
   "metadata": {},
   "outputs": [],
   "source": [
    "6 in t                         # membership"
   ]
  },
  {
   "cell_type": "markdown",
   "metadata": {},
   "source": [
    "A natural question to ask is why we need tuples when lists can do the same job and are\n",
    "much more flexible. There are several reasons for using tuples:\n",
    "\n",
    "  * Tuples are constant and thus protected against accidental changes\n",
    "\n",
    "  * Tuples are faster than lists\n",
    "\n",
    "  * Tuples are widely used in Python software\n",
    "    (so you need to know about them!)\n",
    "\n",
    "  * Tuples (but not lists) can be used as keys is dictionaries\n",
    "    (more about dictionaries later)\n",
    "\n",
    "We will not program much with tuples as part of this course, but we will run into them as part of modules\n",
    "we import and use, so it is important to know what they are."
   ]
  }
 ],
 "metadata": {
  "kernelspec": {
   "display_name": "Python 3",
   "language": "python",
   "name": "python3"
  },
  "language_info": {
   "codemirror_mode": {
    "name": "ipython",
    "version": 3
   },
   "file_extension": ".py",
   "mimetype": "text/x-python",
   "name": "python",
   "nbconvert_exporter": "python",
   "pygments_lexer": "ipython3",
   "version": "3.7.3"
  }
 },
 "nbformat": 4,
 "nbformat_minor": 2
}
