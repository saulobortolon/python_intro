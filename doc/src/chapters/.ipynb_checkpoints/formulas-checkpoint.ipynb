{
 "cells": [
  {
   "cell_type": "markdown",
   "metadata": {},
   "source": [
    "In this chapter we will take one step beyond the \"Hello world!\"-example of\n",
    "the first chapter, and introduce programming with mathematical formulas.\n",
    "Such formulas are essential parts of most programs written for scientific\n",
    "applications, and they are also useful for introducing the concept of\n",
    "*variables*, which is a fundamental part of all programming languages.\n",
    "\n",
    "# Programming simple mathematics\n",
    "\n",
    "To introduce the concepts of this chapter, we first consider a simple formula\n",
    "for calculating interest on a bank deposit:"
   ]
  },
  {
   "cell_type": "markdown",
   "metadata": {},
   "source": [
    "$$\n",
    "A = P(1+(r/100))^n .\n",
    "$$"
   ]
  },
  {
   "cell_type": "markdown",
   "metadata": {},
   "source": [
    "Here $P$ is the initial deposit (the *principal*), $r$ is the yearly interest\n",
    "rate given in percent, $n$ is the number of years, and $A$ is the final amount.\n",
    "\n",
    "The task is now to write a program that computes $A$ for given\n",
    "values of $P$, $r$ and $n$. We could of course easily do\n",
    "this with a calculator, but we shall see that a small program can be much\n",
    "more flexible and powerful. To evaluate the formula above,\n",
    "we first need to assign some values to $P$, $r$ and $n$, and then\n",
    "make the calculation. Choosing for instance\n",
    "$P=100, r=5.0$, and $n=7$, a complete Python program that does the calculation\n",
    "and outputs  the result reads"
   ]
  },
  {
   "cell_type": "code",
   "execution_count": 1,
   "metadata": {},
   "outputs": [
    {
     "name": "stdout",
     "output_type": "stream",
     "text": [
      "140.71004226562505\n"
     ]
    }
   ],
   "source": [
    "print(100*(1 + 5.0/100)**7)"
   ]
  },
  {
   "cell_type": "markdown",
   "metadata": {},
   "source": [
    "As described in the previous chapter, this line can be typed into an\n",
    "interactive Python session, or written in an editor and stored in a file,\n",
    "for instance `interest0.py`. The program is then run with the command `python interest0.py`\n",
    "in a regular terminal, or `run interest0.py` in an iPython window or Spyder.\n",
    "\n",
    "The `interest0.py`-program is not much more complex or useful than the\n",
    "\"Hello world!\"-example from the previous chapter, but there are a couple of\n",
    "important differences. First, notice that in this case\n",
    "we did not use quotation marks inside the parentheses. The reason is that\n",
    "we want Python to evaluate the mathematical formula,\n",
    "and print the result to the screen. This works fine as long as the text inside\n",
    "the parenthesis is valid Python code, or, more precisely, a valid *expression* that\n",
    "can be evaluated to give some result. If we put quotation marks around the\n",
    "formula above, the code would still work, but the result is not what we want (try it!).\n",
    "At this point it is also worth noting that while Python may be a\n",
    "\"flexible\" and \"high-level\" language, as described above,\n",
    "all programming languages are extremely picky about spelling and\n",
    "grammar. Consider for instance the line"
   ]
  },
  {
   "cell_type": "markdown",
   "metadata": {},
   "source": [
    "        write(100*(1+5,0/100)^7)\n"
   ]
  },
  {
   "cell_type": "markdown",
   "metadata": {},
   "source": [
    "While most people may read this line quite easily, and interpret it as the\n",
    "same formula as the one above, it makes no sense\n",
    "as a Python program. There are multiple errors: `write` is not a legal Python\n",
    "word in this context, comma has another meaning than the point, and the hat does\n",
    "not mean exponentiation. We have to be extremely accurate with how we write\n",
    "computer programs, and it takes time and experience to learn this.\n",
    "\n",
    "The evaluation of the mathematical formula above is performed according to\n",
    "the standard rules. Terms are evaluated one by one, starting from left,\n",
    "exponentiation is performed first and then multiplication and division. We use\n",
    "parentheses to control the order of the evaluation, just as we do in regular\n",
    "mathematics. Here, the parentheses around `(1 + 5.0/100)` means that this sum\n",
    "is evaluated first (to give 1.05), and then raised to the power of 7.\n",
    "Forgetting the parenthesis and writing `1 + 5.0/100**7` will give a very\n",
    "different result, just as in mathematics. Because the use of parentheses to\n",
    "group calculations works exactly as in mathematics, it is not very difficult\n",
    "to understand for people with a mathematical background. However, when\n",
    "programming more complicated formulas it is very easy to make mistakes such\n",
    "as forgetting or misplacing a closing parenthesis. This mistake is probably\n",
    "the most common source of error when programming mathematical formulas, and even for\n",
    "experienced programmers it is worth paying close attention to the order and\n",
    "number of parentheses in the expressions. Getting it wrong will\n",
    "either lead to an error message when the code is run or to a program that runs\n",
    "fine but gives an unexpected results. The first type of error is usually quite\n",
    "easy to find and to fix, but the latter may be much harder.\n",
    "\n",
    "Although Python is quite strict on the spelling and grammar, or *syntax*,\n",
    "of the formulas, there is some flexibility. For instance,\n",
    "whitespace inside a formula does not matter at all. An expression\n",
    "like `5    *2` works just as well as `5*2`. In general, whitespace\n",
    "in a Python program only matters if it is at the start of a line, which we\n",
    "will come back to later. Otherwise, one should use whitespace\n",
    "in order to make the code as readable as possible to humans, since Python will\n",
    "ignore it anyway.\n",
    "\n",
    "\n",
    "# Variables and variable types\n",
    "\n",
    "In mathematics we are used to variables, such as $P$, $r$ and $n$ in the interest\n",
    "formula above. We can use variables in a\n",
    "program too, and this makes the program easier to read and understand:"
   ]
  },
  {
   "cell_type": "code",
   "execution_count": 2,
   "metadata": {},
   "outputs": [
    {
     "name": "stdout",
     "output_type": "stream",
     "text": [
      "140.71004226562505\n"
     ]
    }
   ],
   "source": [
    "primary = 100\n",
    "r = 5.0\n",
    "n = 7\n",
    "amount = primary * (1+r/100)**n\n",
    "print(amount)"
   ]
  },
  {
   "cell_type": "markdown",
   "metadata": {},
   "source": [
    "This program spans several lines of text and uses variables, but otherwise\n",
    "performs exactly the same calculations and gives the same output as the one-line\n",
    "program above. Still, the use of variables has a few advantages even for\n",
    "this very simple example. The program becomes easier to read,\n",
    "since the meaning of the numbers becomes more intuitive and the formula\n",
    "is easier to recognize, and it is also easier to change the value of one\n",
    "of the variables. The latter point becomes even more important in more\n",
    "complex formulas where the same variable may occurs multiple times.\n",
    "If the same number occurs more\n",
    "than once in a program, should always be stored in a variable.\n",
    "\n",
    "The instructions in the program above are called *statements*, and are\n",
    "executed one by one when we run the program. It is common to have one\n",
    "statement per line, although it is possible to put multiple statements on\n",
    "one line, separated by semicolon, as in `primary = 100; r = 5.0; n=7`.\n",
    "For people new to programming, especially those\n",
    "used to reading mathematics, it is worth taking note of\n",
    "the strict sequence in which the lines are executed. In the mathematical\n",
    "equation above we first introduced a formula with\n",
    "some variables ($P, r, n$, and $A$), and then defined these variables\n",
    "further down. This approach is completely standard\n",
    "in mathematics, but it makes no sense in programming. Programs are\n",
    "executed line by line from the top, so all definitions of\n",
    "variables must be done *above* the line where they are used.\n",
    "\n",
    "Choosing variable names is up to the programmer, and in general there is\n",
    "great flexibility in choosing such names. In mathematics it is common to use\n",
    "a single letter for a variable, but a variable in Python program can be any\n",
    "word containing the letters a-z, A-Z, underscore `_` and the digits 0-9, but\n",
    "it cannot start with a digit. Variable names Python are also case-sensitive,\n",
    "for instance `a` is different from `A`. The following program is identical to the\n",
    "one above, but with different variable names:"
   ]
  },
  {
   "cell_type": "code",
   "execution_count": 3,
   "metadata": {},
   "outputs": [
    {
     "name": "stdout",
     "output_type": "stream",
     "text": [
      "140.71004226562505\n"
     ]
    }
   ],
   "source": [
    "initial_amount = 100\n",
    "interest_rate = 5.0\n",
    "number_of_years = 7\n",
    "final_amount = initial_amount*(1 + interest_rate/100)**number_of_years\n",
    "print(final_amount)"
   ]
  },
  {
   "cell_type": "markdown",
   "metadata": {},
   "source": [
    "These variable names are arguably\n",
    "more descriptive, but they also make the formula very long and cumbersome\n",
    "to read. Choosing good variable names is often a balance of being descriptive\n",
    "and being short and compact, and can be quite important for making a program easy to\n",
    "read and understand. Writing readable and understandable code also makes\n",
    "it easier to find errors in the code, so choosing good variable names is\n",
    "worthwhile even if you are the only person who will ever read your code.\n",
    "\n",
    "The program above contains two different types of statements;\n",
    "several assignment statements, which assign values to variables,\n",
    "followed by a single print statement at the end. It may be quite intuitive\n",
    "how these statements work, but the assignment statements\n",
    "are worth looking into in more detail. In these statements, the right\n",
    "hand side of the equality sign is evaluated first, and then\n",
    "the result is assigned to the variable on the left. An effect of this\n",
    "execution order is that statements like the following work just\n",
    "fine, and are common to see in programs:"
   ]
  },
  {
   "cell_type": "code",
   "execution_count": 4,
   "metadata": {},
   "outputs": [
    {
     "name": "stdout",
     "output_type": "stream",
     "text": [
      "0.7\n"
     ]
    }
   ],
   "source": [
    "t = 0.6\n",
    "t = t + 0.1\n",
    "print(t)"
   ]
  },
  {
   "cell_type": "markdown",
   "metadata": {},
   "source": [
    "The second line of this code does not make sense as a mathematical equation,\n",
    "but is a perfectly valid assignment in a computerprogram. The right hand side is\n",
    "evaluated first, using the value of `t` already defined, and then `t` is\n",
    "updated to the result of the calculation. The equality sign in Python is\n",
    "called the *assignment operator*, and it works almost like an equality sign\n",
    "in mathematics, but not quite. If, for instance, we want to compare two\n",
    "numbers to figure out if they are equal, the operator to use in\n",
    "Python is `==`. For instance, a trivial comparison may look like"
   ]
  },
  {
   "cell_type": "code",
   "execution_count": 5,
   "metadata": {},
   "outputs": [
    {
     "name": "stdout",
     "output_type": "stream",
     "text": [
      "True\n"
     ]
    }
   ],
   "source": [
    "a = 5\n",
    "print(a == 5)"
   ]
  },
  {
   "cell_type": "markdown",
   "metadata": {},
   "source": [
    "We will see many more such examples later.\n",
    "\n",
    "### Comments are useful to explain how you think in programs.\n",
    "\n",
    "It is possible to combine the strengths of the two programs above, and have\n",
    "both compact variable names *and* a more detailed description of what each\n",
    "variable means. This can be done using *comments*, as illustrated in the\n",
    "following example:"
   ]
  },
  {
   "cell_type": "code",
   "execution_count": 6,
   "metadata": {},
   "outputs": [
    {
     "name": "stdout",
     "output_type": "stream",
     "text": [
      "140.71004226562505\n"
     ]
    }
   ],
   "source": [
    "# program for computing the growth of\n",
    "# money deposited in a bank\n",
    "primary = 100    # initial amount\n",
    "r = 5.0          # interest rate\n",
    "n = 7            # the number of years\n",
    "amount = primary * (1+r/100)**n\n",
    "print(amount)"
   ]
  },
  {
   "cell_type": "markdown",
   "metadata": {},
   "source": [
    "In this code all the text following the `#` symbol is treated as a comment,\n",
    "and effectively ignored by Python. Comments are used to explain what the\n",
    "computer instructions mean, what variables mean, and how the\n",
    "programmer reasoned when the program was written.  They can be\n",
    "very useful for increasing readability, but they should not be over-used.\n",
    "Comments that say no more than the code, for instance `a = 5  # set a to 5`,\n",
    "are not very useful.\n",
    "\n",
    "### All variables have types.\n",
    "\n",
    "So far all the variables we have used have been numbers, which is also how\n",
    "we are used to think of variables in mathematics. However, in\n",
    "a computer program we can have many different kinds of variables, not\n",
    "just numbers. All variables have a *type*, which in Python is\n",
    "usually decided automatically based on the value we assign to it.\n",
    "For instance, the statement `n = 7` will create\n",
    "a variable of the type *integer*, or `int`, while for instance `r = 5.0`\n",
    "will create a variable of type `float`, representing\n",
    "a floating point number. We can also have text variables, called strings in\n",
    "Python, having type `str`, for string.\n",
    "For instance, the \"Hello world!\"-example above could have been written as"
   ]
  },
  {
   "cell_type": "code",
   "execution_count": 7,
   "metadata": {},
   "outputs": [
    {
     "name": "stdout",
     "output_type": "stream",
     "text": [
      "Hello world!\n"
     ]
    }
   ],
   "source": [
    "hello = \"Hello world!\"\n",
    "print(hello)"
   ]
  },
  {
   "cell_type": "markdown",
   "metadata": {},
   "source": [
    "We can check the type of a variable using the builtin function `type`:"
   ]
  },
  {
   "cell_type": "code",
   "execution_count": 8,
   "metadata": {},
   "outputs": [
    {
     "name": "stdout",
     "output_type": "stream",
     "text": [
      "<class 'str'>\n",
      "<class 'float'>\n",
      "<class 'int'>\n",
      "<class 'int'>\n"
     ]
    }
   ],
   "source": [
    "print(type(hello))\n",
    "print(type(r))\n",
    "print(type(primary))\n",
    "print(type(n))"
   ]
  },
  {
   "cell_type": "markdown",
   "metadata": {},
   "source": [
    "We see that the output is as we would expect from how these variables\n",
    "were defined above. The word `class` preceding the types\n",
    "indicates that these types are defined as *classes* in Python, a concept\n",
    "we will get back to later. It is usually not necessary to check the type of\n",
    "variables inside a Python program, but it may be very useful when learning\n",
    "new concepts or if you get errors or unexpected behavior from your program.\n",
    "\n",
    "We will encounter many more variable types in subsequent chapters. The type\n",
    "of a variable decides how it can be used, and also decides the effect of\n",
    "various operations on that variable. The rules for these operations are usually\n",
    "quite intuitive. For instance, most mathematical operations only work with\n",
    "variable types that actually represent numbers, or they have a different effect\n",
    "on other variable types, when this is natural. To get an idea of how this\n",
    "works in Python, think about some simple mathematical operations on strings.\n",
    "Which of the following operations do you think are allowed, and what are the\n",
    "results? (i) Adding two strings together, (ii) multiplying a string with an integer,\n",
    "(iii) multiplying two strings, and (iv) multiplying a string with a decimal\n",
    "number. After giving some thought to this, check your guesses by trying them in\n",
    "Python:"
   ]
  },
  {
   "cell_type": "code",
   "execution_count": 9,
   "metadata": {},
   "outputs": [
    {
     "name": "stdout",
     "output_type": "stream",
     "text": [
      "Hello world!Hello world!\n",
      "Hello world!Hello world!Hello world!Hello world!Hello world!\n"
     ]
    }
   ],
   "source": [
    "print(hello + hello)\n",
    "print(hello*5)"
   ]
  },
  {
   "cell_type": "markdown",
   "metadata": {},
   "source": [
    "Strings that contain numbers are a potential source of confusion. Consider for\n",
    "instance the code"
   ]
  },
  {
   "cell_type": "code",
   "execution_count": 10,
   "metadata": {},
   "outputs": [
    {
     "name": "stdout",
     "output_type": "stream",
     "text": [
      "4\n",
      "22\n"
     ]
    }
   ],
   "source": [
    "x1 = 2\n",
    "x2 = \"2\"\n",
    "print(x1+x1)\n",
    "print(x2+x2)"
   ]
  },
  {
   "cell_type": "markdown",
   "metadata": {},
   "source": [
    "We see that the `x2` variable is still treated as a text string in Python,\n",
    "because it was defined using the quotation marks, even though it contains a\n",
    "single number. For the examples we have seen so far it is of course easy to\n",
    "ensure the numbers are numbers, simply by not using quotation marks when they are\n",
    "defined. However, later in this book we will write programs that read data from\n",
    "files or user input. Such data will always come in as text, and any numbers\n",
    "will be text strings similar to the `x2` variable above. Before using the\n",
    "numbers in calculations we need to convert them to actual numbers, which\n",
    "can be done with the builtin function `float`:"
   ]
  },
  {
   "cell_type": "code",
   "execution_count": 11,
   "metadata": {},
   "outputs": [
    {
     "name": "stdout",
     "output_type": "stream",
     "text": [
      "<class 'float'>\n",
      "<class 'float'>\n",
      "4.0\n"
     ]
    }
   ],
   "source": [
    "x1 = float(x1)\n",
    "x2 = float(x2)\n",
    "print(type(x1))\n",
    "print(type(x2))\n",
    "print(x2+x2)"
   ]
  },
  {
   "cell_type": "markdown",
   "metadata": {},
   "source": [
    "Of course, using `float` to convert a string to a number requires that the\n",
    "string is actually a number. Trying to convert\n",
    "a regular word, as in `float(hello)` will make the program stop with an\n",
    "error message. There are numerous other builtin functions for converting between\n",
    "types, such as `int` for converting to an integer and `str` for converting to a\n",
    "string. Throughout this book we will mostly use the `float` conversion, but we\n",
    "will also see examples where it is useful to convert numbers to text using `str`.\n",
    "\n",
    "# Formatting text output\n",
    "\n",
    "The calculations in the programs above would output a single number, and\n",
    "simply print this number to the screen.\n",
    "In many cases this solution is fine, but sometimes we want\n",
    "several numbers or other types of output from a program. This is easy to do\n",
    "with the `print` function, by simply putting several variables inside the\n",
    "parentheses, separated by comma. For instance, if we want to output both\n",
    "`primary` and `final_amount` from the calculation above, the following line would work:"
   ]
  },
  {
   "cell_type": "code",
   "execution_count": 12,
   "metadata": {},
   "outputs": [
    {
     "name": "stdout",
     "output_type": "stream",
     "text": [
      "100 140.71004226562505\n"
     ]
    }
   ],
   "source": [
    "print(primary,final_amount)"
   ]
  },
  {
   "cell_type": "markdown",
   "metadata": {},
   "source": [
    "However, although this line works, the output is not very\n",
    "readable or useful. Sometimes it is useful to\n",
    "format the output better, and to use a combination of text and numbers, for instance"
   ]
  },
  {
   "cell_type": "markdown",
   "metadata": {},
   "source": [
    "        After 7 years, 100 EUR has grown to xxx EUR.\n"
   ]
  },
  {
   "cell_type": "markdown",
   "metadata": {},
   "source": [
    "There are multiple ways to accomplish this in Python, but the most\n",
    "recent and arguably most convenient is to use so\n",
    "called *f-strings*, which were introduced in Python 3.6. If you are using an\n",
    "earlier version of Python the following examples\n",
    "will therefore not work, but there are alternative and fairly similar\n",
    "ways of formatting text output.\n",
    "\n",
    "To achieve the output string above, using the *f-string* formatting, we\n",
    "would replace the final line of our  program by with"
   ]
  },
  {
   "cell_type": "code",
   "execution_count": 13,
   "metadata": {},
   "outputs": [
    {
     "name": "stdout",
     "output_type": "stream",
     "text": [
      "After 7 years, 100 EUR has grown to 140.71004226562505 EUR.\n"
     ]
    }
   ],
   "source": [
    "print(f\"After {n} years, 100 EUR has grown to {amount} EUR.\")"
   ]
  },
  {
   "cell_type": "markdown",
   "metadata": {},
   "source": [
    "There are three things worth noticing here. First, we enclose the\n",
    "output in quotation marks, just as in the \"Hello world!\"-example above, which\n",
    "tells Python that this is a string. Second, the string is prefixed with the\n",
    "letter `f`, which indicates that the string may contain something extra.\n",
    "More specifically, the string may contain expressions or variables enclosed\n",
    "in curly braces. Third, we have included two such variables, `n` and\n",
    "`amount`, enclosed in curly braces. When Python encounters these braces inside\n",
    "an f-string, it will evaluate the contents of the braces, which may be an\n",
    "expression or a variable, and insert the resulting value into the string.\n",
    "In this case it will simply insert the\n",
    "current values of the variables `n` and\n",
    "`amount`. If we want, we can also include a mathematical expression inside the\n",
    "braces, such as"
   ]
  },
  {
   "cell_type": "code",
   "execution_count": 14,
   "metadata": {},
   "outputs": [
    {
     "name": "stdout",
     "output_type": "stream",
     "text": [
      "2+2 = 4\n"
     ]
    }
   ],
   "source": [
    "print(f\"2+2 = {2+2}\")"
   ]
  },
  {
   "cell_type": "markdown",
   "metadata": {},
   "source": [
    "The only requirement for the contents inside the braces is that it must be a\n",
    "valid Python expression, which can be evaluated to give some kind of value.\n",
    "In these notes we will typically use it for numbers, but it may also be used\n",
    "for expressions with other types of output.\n",
    "\n",
    "The f-string formatting will usually give nicely formatted output by\n",
    "default, but sometimes we want more detailed control of the formatting. For\n",
    "instance, we may want to control the number of decimals when outputting\n",
    "numbers. This is conveniently obtained\n",
    "by including a *format specifier* inside the curly braces. Consider for\n",
    "instance the following code:"
   ]
  },
  {
   "cell_type": "code",
   "execution_count": 15,
   "metadata": {},
   "outputs": [
    {
     "name": "stdout",
     "output_type": "stream",
     "text": [
      "Default output gives t = 1.234567.\n",
      "We can set the precision: t = 1.2.\n",
      "Or control the number of decimals: t = 1.23.\n"
     ]
    }
   ],
   "source": [
    "t = 1.234567\n",
    "print(f\"Default output gives t = {t}.\")\n",
    "print(f\"We can set the precision: t = {t:.2}.\")\n",
    "print(f\"Or control the number of decimals: t = {t:.2f}.\")"
   ]
  },
  {
   "cell_type": "markdown",
   "metadata": {},
   "source": [
    "There are many different format specifiers, for controlling the output format\n",
    "of both numbers and other types of variables. We will\n",
    "only use a small subset in this book, and primarily to control the formatting\n",
    "of numbers. In addition to those shown above, the following\n",
    "may be useful;"
   ]
  },
  {
   "cell_type": "code",
   "execution_count": 16,
   "metadata": {},
   "outputs": [
    {
     "name": "stdout",
     "output_type": "stream",
     "text": [
      "We may set the space used for the output: t =     1.23.\n"
     ]
    }
   ],
   "source": [
    "print(f\"We may set the space used for the output: t = {t:8.2f}.\")"
   ]
  },
  {
   "cell_type": "markdown",
   "metadata": {},
   "source": [
    "This specifier is used to control the number of decimals in a number, and also how much\n",
    "space (the number of characters) used to output the number\n",
    "on the screen. Here we have specified the number to be output with two decimals\n",
    "and a total length of eight, including the decimals.\n",
    "This form of control is very useful for outputting multiple lines in a\n",
    "table-like format, to ensure that the columns in the table are\n",
    "properly aligned. A similar feature can be used for integers"
   ]
  },
  {
   "cell_type": "code",
   "execution_count": 17,
   "metadata": {},
   "outputs": [
    {
     "name": "stdout",
     "output_type": "stream",
     "text": [
      "Integer set to occupy exactly 8 chars of space: r =       87\n"
     ]
    }
   ],
   "source": [
    "r = 87\n",
    "print(f\"Integer set to occupy exactly 8 chars of space: r = {r:8d}\")"
   ]
  },
  {
   "cell_type": "markdown",
   "metadata": {},
   "source": [
    "Finally, the generic format specifier `g` will output a floating point number\n",
    "in the most compact form, consider for instance:"
   ]
  },
  {
   "cell_type": "code",
   "execution_count": 18,
   "metadata": {},
   "outputs": [
    {
     "name": "stdout",
     "output_type": "stream",
     "text": [
      "Without the format specifier: a = 786345687.12, b = 1.2345.\n",
      "With the format specifier: a = 7.86346e+08, b = 1.2345.\n"
     ]
    }
   ],
   "source": [
    "a = 786345687.12\n",
    "b = 1.2345\n",
    "print(f\"Without the format specifier: a = {a}, b = {b}.\")\n",
    "print(f\"With the format specifier: a = {a:g}, b = {b:g}.\")"
   ]
  },
  {
   "cell_type": "markdown",
   "metadata": {},
   "source": [
    "# Importing modules\n",
    "We have seen that standard arithmetic operations are directly available in Python, without any\n",
    "extra effort. However, what if need more advanced operations such as $\\sin x$, $\\cos x$, $\\ln x$, etc.?\n",
    "These functions are not available directly, but can be found in a so-called *module*,\n",
    "which must be imported before we can use them in our program. In general, lots of functionality in Python\n",
    "is found in such modules, and we will import a few modules in nearly all programs we write. The standard\n",
    "mathematical functions are found in the `math` module. For instance, the following code computes\n",
    "the square root of a number, using the `sqrt` function in the `math` module:"
   ]
  },
  {
   "cell_type": "code",
   "execution_count": 19,
   "metadata": {},
   "outputs": [],
   "source": [
    "import math\n",
    "r = math.sqrt(2)\n",
    "# or\n",
    "from math import sqrt\n",
    "r = sqrt(2)\n",
    "# or\n",
    "from math import *   # import everything in math\n",
    "r = sqrt(2)"
   ]
  },
  {
   "cell_type": "markdown",
   "metadata": {},
   "source": [
    "These examples illustrate three different ways of important modules. In the first one, we import\n",
    "everything from the `math` module, but everything we want to use must be prefixed with `math`. The\n",
    "second option involves only the `sqrt` function, and it imports it into the main *namespace* of the\n",
    "program, which means it can be used with no prefix. Finally, the third option imports everything\n",
    "from `math` into the main namespace, so all functions from the module are available in our program\n",
    "without the prefix.\n",
    "\n",
    "A natural question to ask is why we need three different ways to import a module. Why not use the\n",
    "simple `from math import *` and get access to all the mathematics functions we need? The reason is\n",
    "that we will often import from several modules in the same program,\n",
    "and some of these modules may contain functions with\n",
    "identical names. In these cases it is useful to have some control over which functions we actually\n",
    "use, either by selecting only what we need from each module, as in `from math import sqrt`, or\n",
    "by importing with `import math` so that all functions must be prefixed with the module name.\n",
    "To avoid confusion later it may be good to get into the habit of importing modules like this right away,\n",
    "although in small programs where we only import a single module there is nothing wrong with `from math import *`.\n",
    "\n",
    "As another example of computing with functions from `math`, consider evaluating\n",
    "the bell-shaped Gaussian function"
   ]
  },
  {
   "cell_type": "markdown",
   "metadata": {},
   "source": [
    "$$\n",
    "f(x) = \\frac{1}{\\sqrt{2\\pi}s} \\exp\\left[\n",
    "\\frac{1}{2}\\left(\\frac{x-m}{s}\\right)^2\\right]\n",
    "$$"
   ]
  },
  {
   "cell_type": "markdown",
   "metadata": {},
   "source": [
    "for $m = 0, s = 2$, and $x=1$. For this calculation need to import the\n",
    "square root, exponential function and $\\pi$ from the math module, and\n",
    "the Python code may look as follows:"
   ]
  },
  {
   "cell_type": "code",
   "execution_count": 20,
   "metadata": {},
   "outputs": [],
   "source": [
    "from math import sqrt, pi, exp\n",
    "m = 0\n",
    "s = 2\n",
    "x = 1.0\n",
    "f = 1/(sqrt(2*pi)*s) * exp(-0.5*((x-m)/s)**2)\n",
    "print(f)"
   ]
  },
  {
   "cell_type": "markdown",
   "metadata": {},
   "source": [
    "Notice that for this more complex formula it is very easy to make mistakes\n",
    "with the parentheses. Such errors will often lead to an error message that\n",
    "points to a syntax error on the *next* line of your program.\n",
    "This can be confusing at first, so it is useful to be aware of. If you get\n",
    "an error message pointing to a line directly below a complex mathematical\n",
    "formula, the source is usually a missing closing parenthesis in the formula itself.\n",
    "\n",
    "### How to find information about Python modules?\n",
    "\n",
    "At this point it is\n",
    "natural to ask how we know where to find the functions we want. For instance,\n",
    "say we need to compute with complex numbers. How can we know if there is a\n",
    "module in Python for this? And if there is one, what is it called?\n",
    "In general, learning about the useful modules and what they contain are part\n",
    "of learning Python programming, but it may be even more important to know\n",
    "where to find such information. An excellent source\n",
    "is the Python Library Reference (https://docs.python.org/3/library/), which\n",
    "contains information about all the standard modules that are distributed with\n",
    "Python. More generally, a google search such as `complex numbers python` quickly\n",
    "leads us to the `cmath` module, which contains mostly the same functions\n",
    "as `math`, but with support for complex numbers. If we know the name of a module\n",
    "and want to check its contents we can go to straight to the Python Library\n",
    "Reference, but there are also other options. The\n",
    "command `pydoc` in the terminal window can be used to list information about a\n",
    "module (for instance `pydoc math`), or we can import the module in a Python\n",
    "program and list its contents with the builtin function `dir`."
   ]
  },
  {
   "cell_type": "code",
   "execution_count": 21,
   "metadata": {},
   "outputs": [],
   "source": [
    "import math\n",
    "print(dir(math))"
   ]
  },
  {
   "cell_type": "markdown",
   "metadata": {},
   "source": [
    "# Pitfalls when programming mathematics\n",
    "\n",
    "Usually, the mathematical operations as described above work as we would expect.\n",
    "When the results are not what we expect, the\n",
    "cause is usually a trivial error we have introduced while typing, typically\n",
    "assigning the wrong value to a variable or (most common)\n",
    "messing up the number of parentheses. However, some potential error sources\n",
    "are less obvious, and are worth knowing about even if they are\n",
    "relatively rare.\n",
    "\n",
    "### Some words are reserved and cannot be used as variables.\n",
    "\n",
    "Although the\n",
    "choice of variable names is up to the programmer, some names are reserved in\n",
    "Python and are not allowed to be used. These are `and`,\n",
    "`as`,\n",
    "`assert`,\n",
    "`break`,\n",
    "`class`,\n",
    "`continue`,\n",
    "`def`,\n",
    "`del`,\n",
    "`elif`,\n",
    "`else`,\n",
    "`except`,\n",
    "`exec`,\n",
    "`finally`,\n",
    "`for`,\n",
    "`from`,\n",
    "`global`,\n",
    "`if`,\n",
    "`import`,\n",
    "`in`,\n",
    "`is`,\n",
    "`lambda`,\n",
    "`not`,\n",
    "`or`,\n",
    "`pass`,\n",
    "`print`,\n",
    "`raise`,\n",
    "`return`,\n",
    "`try`,\n",
    "`with`,\n",
    "`while`, and\n",
    "`yield`.\n",
    "It is by no means necessary to memorize this list at this point, and we will use\n",
    "many of these reserved words in our programs later so it will be quite natural that\n",
    "they cannot be used as variable names. However, for programming physics and\n",
    "mathematics it may be worth taking note of `lambda`, since the Greek\n",
    "letter $\\lambda$ is commonly used in physics and mathematics formulas. Since\n",
    "Python does not understand Greek letters it is common to just spell\n",
    "them out when programming a formula, i.e. $\\alpha$ becomes `alpha` etc.,\n",
    "but for $\\lambda$ we will need to introduce a small intentional typo\n",
    "and write `lmbda` or similar.\n",
    "\n",
    "### Round-off errors give inexact results.\n",
    "\n",
    "Computers have inexact arithmetics because of rounding errors. This is\n",
    "usually not a problem in\n",
    "computations, but in some cases it\n",
    "may cause unexpected results. Let us for instance compute $1/49\\cdot 49$\n",
    "and $1/51\\cdot 51$:"
   ]
  },
  {
   "cell_type": "code",
   "execution_count": 22,
   "metadata": {},
   "outputs": [],
   "source": [
    "v1 = 1/49.0*49\n",
    "v2 = 1/51.0*51\n",
    "print(f\"{v1:.16f} {v2:.16f}\")"
   ]
  },
  {
   "cell_type": "markdown",
   "metadata": {},
   "source": [
    "Most real numbers are represented inexactly on a computer, typically with 17 digits accuracy.\n",
    "Neither 1/49 nor 1/51 are represented exactly, and the error is approximately $10^{-16}$.\n",
    "Errors of this order usually don't matter, but there are two particular cases\n",
    "where they may be significant. One is that in some cases they may accumulate\n",
    "through numerous computations and end up as a significant error in the final\n",
    "result. The other, which you are more likely to\n",
    "encounter through the examples of this book, is that comparison of two\n",
    "decimal numbers may be unpredictable. The two numbers\n",
    "`v1` and `v2` above are both supposed to be equal to 1, but look at the\n",
    "result of this code:"
   ]
  },
  {
   "cell_type": "code",
   "execution_count": 23,
   "metadata": {},
   "outputs": [],
   "source": [
    "print(v1 == 1)\n",
    "print(v2 == 1)"
   ]
  },
  {
   "cell_type": "markdown",
   "metadata": {},
   "source": [
    "We see that the evaluation works as expected in one case but not the other,\n",
    "and this is a general problem when comparing floating\n",
    "point numbers. In most cases it works, but in some cases it doesn't. It is\n",
    "difficult or impossible to predict when it will not\n",
    "work, and the behavior of the program therefore becomes unpredictable. The\n",
    "solution is to always compare floats using a tolerance,\n",
    "as in"
   ]
  },
  {
   "cell_type": "code",
   "execution_count": 24,
   "metadata": {},
   "outputs": [],
   "source": [
    "tol = 1e-14\n",
    "print(abs(v1-1) < tol)\n",
    "print(abs(v2-1) < tol)"
   ]
  },
  {
   "cell_type": "markdown",
   "metadata": {},
   "source": [
    "There is no strict rule for how to set the value of the tolerance `tol`, but it should be small number, but larger than the\n",
    "typical machine precision $10^{-16}$.\n",
    "\n",
    "### Integer division may cause surprising errors.\n",
    "\n",
    "In Python 2, and many other programming languages, unintended *integer division* may sometimes cause surprising\n",
    "results. In Python 3 this is no longer a problem, so you are not likely to run into it during this course, but\n",
    "it is worth being aware of the problem since many other programming languages behave in this way. Recall from above that\n",
    "various operations behave differently depending on the type of the variable they work on, for instance adding two strings\n",
    "vs adding numbers. In Python 2, the division operator, $/$, behaves like normal division if one of the two arguments\n",
    "are floats, but if both are integers then it will perform integer division, and discard the decimal part of the result.\n",
    "Consider the following interactive session, which runs Python 2.7:"
   ]
  },
  {
   "cell_type": "markdown",
   "metadata": {},
   "source": [
    "        Terminal> python2.7\n",
    "        Python 2.7.14 (default, Sep 22 2017, 00:06:07)\n",
    "        (...)\n",
    "        >>> print(5.0/100)   #the parentheses are optional in Python 2.7\n",
    "        0.05\n",
    "        >>> print(5/100)\n",
    "        0\n"
   ]
  },
  {
   "cell_type": "markdown",
   "metadata": {},
   "source": [
    "Integer division is useful for many tasks in computer science, and is therefore the default behavior of many\n",
    "programming languages, but it is usually not what want when programming mathematical formulas. Therefore, it may be\n",
    "a good habit to ensure that variables used in calculations are actually floats, by simply defining them as `r = 5.0` rather\n",
    "than `r = 5`. Although it does not really make a difference in Python 3, it is good to get into this habit simply to avoid\n",
    "problems when programming in other languages later."
   ]
  }
 ],
 "metadata": {
  "kernelspec": {
   "display_name": "Python 3",
   "language": "python",
   "name": "python3"
  },
  "language_info": {
   "codemirror_mode": {
    "name": "ipython",
    "version": 3
   },
   "file_extension": ".py",
   "mimetype": "text/x-python",
   "name": "python",
   "nbconvert_exporter": "python",
   "pygments_lexer": "ipython3",
   "version": "3.7.3"
  }
 },
 "nbformat": 4,
 "nbformat_minor": 2
}
