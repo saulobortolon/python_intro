{
 "cells": [
  {
   "cell_type": "markdown",
   "metadata": {},
   "source": [
    "This chapter introduces two fundamental programming concepts; *functions* and *branching*.\n",
    "We are used to *functions* from mathematics, were we typically define a function $f(x)$ as\n",
    "some mathematical expression of $x$, and then we can evaluate the function for different\n",
    "values of $x$, plot the curve $y=f(x)$, solve equations of the kind $f(x)=0$ etc. A similar\n",
    "function concept exists in programming, where a function is a piece of code that takes some\n",
    "variables as input, does some processing, and gives some output in return. The function\n",
    "concept in programming is more general than in mathematics, and is not restricted to\n",
    "numbers or mathematical expressions, but the general idea is exactly the same.\n",
    "\n",
    "*Branching*, or if-tests, is another fundamental concept that exists in all common\n",
    "programming languages. The idea is that we make decisions in the code based on the\n",
    "value of some Boolean expression or variable. If the expression evaluates to True we perform\n",
    "one set operations, and if it is False we do something different. Such tests are essential\n",
    "for controlling the flow of a computer program.\n",
    "\n",
    "# Programming with functions\n",
    "We have already used a number of Python functions in the previous chapters. The mathematical\n",
    "functions from the `math` module are essentially the same as we are used to from mathematics\n",
    "or from pushing buttons on a calculator:"
   ]
  },
  {
   "cell_type": "markdown",
   "metadata": {},
   "source": [
    "```Python\n",
    "        from math import *\n",
    "        y = sin(x)*log(x)\n",
    "```"
   ]
  },
  {
   "cell_type": "markdown",
   "metadata": {},
   "source": [
    "We have also used a few non-mathematical functions, such as `len` and `range`"
   ]
  },
  {
   "cell_type": "markdown",
   "metadata": {},
   "source": [
    "```Python\n",
    "        n = len(somelist)\n",
    "        for i in range(5, n, 2):\n",
    "            (...)\n",
    "```"
   ]
  },
  {
   "cell_type": "markdown",
   "metadata": {},
   "source": [
    "and we have used methods that were bound to specific objects, and\n",
    "accessed with the dot syntax, for instance `append` to add elements\n",
    "to a list:"
   ]
  },
  {
   "cell_type": "markdown",
   "metadata": {},
   "source": [
    "```Python\n",
    "        C = [5, 10, 40, 45]\n",
    "        C.append(50)\n",
    "```"
   ]
  },
  {
   "cell_type": "markdown",
   "metadata": {},
   "source": [
    "This latter type of function is quite special since it is bound to an\n",
    "object, and operates directly on that object (`C.append` will change `C`).\n",
    "These bound functions are also referred to as *methods*, and will be\n",
    "considered in more detail in the chapter [ch:class](#ch:class). In the present chapter we\n",
    "will primarily consider regular, un-bound, functions.\n",
    "In Python, such functions give easy access to already existing\n",
    "program code written by others (such as `sin(x)`). There is plenty of such\n",
    "code in Python, and nearly all programs\n",
    "involve importing one or more modules and using pre-defined functions from\n",
    "these modules. A good thing about functions is that we can use them without\n",
    "knowing anything about how they are implemented. All we need to know is\n",
    "what goes in and what comes out, and then the function can be used as a black box.\n",
    "\n",
    "Functions also provide a way of reusing code we have written ourselves, either in\n",
    "previous projects or as part of the current code, and this is the main focus of this chapter.\n",
    "Functions let us delegate responsibilities and split a program into smaller tasks, which\n",
    "is essential for solving all problems of some complexity. As we shall see\n",
    "later in this chapter, splitting a program into smaller functions is also\n",
    "convenient for testing and verifying that a program works as it should. We\n",
    "can write small pieces of code that test individual functions and ensure\n",
    "that they work correctly, before putting the functions together to a complete\n",
    "program. If such tests are done properly, we can have some confidence that our\n",
    "main program works as expected. We will come back to this topic towards the end\n",
    "of the chapter.\n",
    "\n",
    "So how do we write a function in Python? Starting with a simple example,\n",
    "consider the mathematical function\n",
    "considered previously"
   ]
  },
  {
   "cell_type": "markdown",
   "metadata": {},
   "source": [
    "$$\n",
    "A(n)= P(1+r/100)^n .\n",
    "$$"
   ]
  },
  {
   "cell_type": "markdown",
   "metadata": {},
   "source": [
    "For given values $P=100$ and $r=5.0$, we could implement this in Python as follows:"
   ]
  },
  {
   "cell_type": "code",
   "execution_count": 1,
   "metadata": {},
   "outputs": [],
   "source": [
    "def amount(n):\n",
    "    P = 100\n",
    "    r = 5.0\n",
    "    return P*(1+r/100)**n"
   ]
  },
  {
   "cell_type": "markdown",
   "metadata": {},
   "source": [
    "These two lines of code are very similar to the examples from the chapter [ch:looplist](#ch:looplist),\n",
    "but they contain a few new concepts that are worth taking note of. Starting with the first\n",
    "line, `def amount(n):`, this is called the function *header*, and\n",
    "defines the function's interface. All function\n",
    "definitions in Python start with the word `def`, which is simply how we tell\n",
    "Python that the following code defines a function. After `def` comes the name\n",
    "of the function, followed by parentheses containing the function's *arguments*\n",
    "(sometimes called parameters). This simple function takes a single argument, but\n",
    "we can define functions that take multiple arguments by separating the\n",
    "arguments with commas. The parentheses need to be there even if we\n",
    "don't want the function to take any arguments, in that case we would just leave\n",
    "them empty.\n",
    "\n",
    "The lines following the function header are the *function body*, which need to be\n",
    "indented. The indentation serves the same\n",
    "purpose as in the loops in the chapter [ch:looplist](#ch:looplist); it is how we specify\n",
    "which code lines that belong inside the function, or to the function body.\n",
    "The two first lines of the function body are regular assignments, but since\n",
    "they occur inside a function they define *local variables* `P` and `r`. Local\n",
    "variables, and also the argument `n`, are used inside the function just as\n",
    "regular variables. We will come back to this topic in more detail later. The\n",
    "last line of the function body starts with the keyword `return`, which is also new\n",
    "in this chapter, and is used to specify the output returned by the function.\n",
    "It is important not to confuse this return statement\n",
    "with the print statements we have used previously. The use of `print` will\n",
    "simply output something to the screen, while `return` makes the function\n",
    "provide an output, which one can think of as a variable being passed back to\n",
    "the code that called the function. Consider for instance the example `n = len(somelist)`\n",
    "used in the previous chapter, where `len` returned an integer which was\n",
    "assigned to a variable `n`.\n",
    "\n",
    "Another important thing to note about the code above is that it does not\n",
    "do much. In fact, a function definition does essentially nothing before it\n",
    "is *called*.[^fun] The analogue to the function definition in mathematics is\n",
    "to simply write down a function $f(x)$ as a mathematical expression. This\n",
    "defines the function, but we don't get any output until we start evaluating\n",
    "it for some specific values of $x$. In programming, we say that we\n",
    "*call* the function when we use it. When programming with functions, it is\n",
    "common to refer to the *main program*, basically being\n",
    "every line of code that is not inside a function. When running the program,\n",
    "only the statements in the main program are executed. Code inside function\n",
    "definitions is not run until we put a call to the function\n",
    "in the main program. We have already called pre-defined functions like\n",
    "`sin, len`, etc, in previous\n",
    "chapters, and a function we have written ourselves is called in exactly the\n",
    "same way:"
   ]
  },
  {
   "cell_type": "code",
   "execution_count": 2,
   "metadata": {},
   "outputs": [],
   "source": [
    "def amount(n):\n",
    "    P = 100\n",
    "    r = 5.0\n",
    "    return P*(1+r/100)**n\n",
    "\n",
    "year1 = 10\n",
    "a1 = amount(year1)                     # call\n",
    "a2 = amount(5)                         # call\n",
    "print(a1, a2)\n",
    "print(amount(6))                       # call\n",
    "a_list = [amount(year) for year in range(11)] #multiple calls"
   ]
  },
  {
   "cell_type": "markdown",
   "metadata": {},
   "source": [
    "The call `amount(n)`, for some argument `n`, returns a `float` object,\n",
    "which essentially means that `amount(n)` is replaced by this `float` object.\n",
    "We can therefore make the call `amount(n)` everywhere a `float` can be used.\n",
    "\n",
    "Note that, unlike many other programming languages, Python does not require\n",
    "us to specify the type of function arguments. Judging\n",
    "from the function header only, the argument to `amount(n)` above could be any\n",
    "kind of variable. However, by looking at\n",
    "how `n` is used inside the function, we can tell that it must be a\n",
    "number (int or float). If we write complex functions where the types of the\n",
    "arguments are not obvious, we may insert a comment right after the header,\n",
    "a so-called *doc string*, to tell users what the arguments should be. We will\n",
    "come back to the topic of doc strings later in this chapter.\n",
    "\n",
    "[^fun]: This is not entirely true, as defining the function creates a function\n",
    "object, which we can see by defining a dummy\n",
    "function in the Python shell and then calling `dir()` to get a list of\n",
    "defined variables. However, no visible output is\n",
    "produced until we actually call the function, and forgetting to call the\n",
    "function is a common mistake when starting to program with functions.\n",
    "\n",
    "\n",
    "## Function arguments and local variables\n",
    "Just as in mathematics, we can define Python functions with more than one argument.\n",
    "The formula above involves both $P$ and $r$ in addition to $n$, and it could\n",
    "be useful to include them all as arguments. The function definition may then\n",
    "look like:"
   ]
  },
  {
   "cell_type": "code",
   "execution_count": 3,
   "metadata": {},
   "outputs": [],
   "source": [
    "def amount(P, r, n):\n",
    "    return P*(1+r/100.0)**n\n",
    "\n",
    "# sample calls:\n",
    "a1 = amount(100, 5.0, 10)\n",
    "a2 = amount(10, r= 3.0, n=6)\n",
    "a3 = amount(r= 4, n = 2, P=100)"
   ]
  },
  {
   "cell_type": "markdown",
   "metadata": {},
   "source": [
    "We see that we are using the arguments `P`, `r`, and `n` inside the function\n",
    "exactly as in the previous example where we defined `P` and `r` inside the\n",
    "function. Inside a function, there is no distinction between such\n",
    "*local variables* and the arguments passed to the function. The arguments\n",
    "also become local variables, and are used in exactly the same way as any variable\n",
    "we define inside the function. However, there\n",
    "is an important distinction between *local* and *global* variables. Variables\n",
    "defined in the main program become global\n",
    "variables, while variables define inside functions are local. The local variables\n",
    "are only defined and available inside the function, while global variables can be\n",
    "used everywhere in the program. If we tried to access `P, r`, or\n",
    "`n` (for instance by `print(P)`) from outside the function,\n",
    "we will simply get an error message stating that the variable is not defined.\n",
    "\n",
    "### Arguments can be *positional arguments* or *keyword arguments*.\n",
    "\n",
    "Notice\n",
    "also the alternative ways of calling the function. We can either specify\n",
    "the argument names in the call, as in `r=3.0, n=6`, or simply pass the values.\n",
    "If we specify the names the order of the arguments becomes arbitrary, as\n",
    "in the last call above. Arguments that are passed without specifying the name\n",
    "are called *positional arguments*, because their position in the argument list\n",
    "determines which variable they are assigned to. Arguments that are passed\n",
    "including the name are called *keyword arguments*. The keyword arguments\n",
    "need to match the definition of the function, i.e., calling the\n",
    "function above with `amount(100, 5.0, year=5)` would cause an error message\n",
    "because `year` is not defined as an argument to the function.\n",
    "Another rule worth taking note of is that a positional argument cannot\n",
    "follow a keyword argument; a call such as `amount(100, 5.0, n=5)` is fine,\n",
    "but `amount(P=100, 5.0, 5)` is not and the program will stop with an error\n",
    "message. This rule is quite logical, since a complete mix of positional\n",
    "and keyword arguments would make the call very confusing.\n",
    "\n",
    "### What is the difference between local and global variables?\n",
    "\n",
    "The distinction between local and global variables is generally important\n",
    "in programming, and may be confusing at first. As stated\n",
    "above, the arguments passed to a function, as well as variables we\n",
    "define inside the function, become local variables. These\n",
    "variables behave exactly like we are used to inside the function, but are\n",
    "not visible outside it. The potential source of confusion is that global\n",
    "variables are also accessible inside a function, just as everywhere else\n",
    "in the code. We could have assigned a value to the variable `P` and `r`\n",
    "outside the function, anywhere before the first call to `amount`, and the\n",
    "code would still work:"
   ]
  },
  {
   "cell_type": "code",
   "execution_count": 1,
   "metadata": {},
   "outputs": [
    {
     "name": "stdout",
     "output_type": "stream",
     "text": [
      "140.71004226562505\n"
     ]
    }
   ],
   "source": [
    "P = 100\n",
    "r = 5.0\n",
    "\n",
    "def amount(n):\n",
    "    return P*(1+r/100)**n\n",
    "\n",
    "print(amount(7))"
   ]
  },
  {
   "cell_type": "markdown",
   "metadata": {},
   "source": [
    "Here `n` is passed as an argument, while for `P` and `r` the values assigned\n",
    "outside the function will be used.\n",
    "However, it is also possible to define local and global variables with the same name, such as"
   ]
  },
  {
   "cell_type": "code",
   "execution_count": 5,
   "metadata": {},
   "outputs": [],
   "source": [
    "P = 100\n",
    "r = 5.0\n",
    "\n",
    "def amount(n):\n",
    "    r = 4.0\n",
    "    return P*(1+r/100)**n"
   ]
  },
  {
   "cell_type": "markdown",
   "metadata": {},
   "source": [
    "Which value of `r` is used in the function call here? The answer is that\n",
    "local variable names always take precedence\n",
    "over the global names. When the mathematical formula is encountered in\n",
    "the code above, Python will look for values\n",
    "of the variables `P, r`, and `n` that appear in the formula.\n",
    "First, the so-called *local namespace* is searched, i.e.\n",
    "Python looks for local variables with the given names. If local variables\n",
    "are found, as for `r` and `n` in this case, these values\n",
    "are used. If some variables are not found in the local namespace, Python\n",
    "will move to the *global namespace*, and look for\n",
    "global variables that match the given names. If a variable with the right name is found among the global\n",
    "variables, i.e. it has been defined in the main program, then the corresponding value is used.\n",
    "If no global variable with the right name is found there are no more places to search and the program ends with an error message.\n",
    "This sequential search for variables is quite natural and logical, but is still a potential\n",
    "source of confusion and programming errors. Additional confusion may occur if we attempt to change a global variable\n",
    "inside a function. Consider for instance this small extension of the code above:"
   ]
  },
  {
   "cell_type": "code",
   "execution_count": 2,
   "metadata": {},
   "outputs": [
    {
     "name": "stdout",
     "output_type": "stream",
     "text": [
      "126.53190184960003\n",
      "5.0\n"
     ]
    }
   ],
   "source": [
    "P = 100\n",
    "r = 5.0\n",
    "\n",
    "def amount(n):\n",
    "    r = 4.0\n",
    "    return P*(1+r/100)**n\n",
    "\n",
    "print(amount(n=6))\n",
    "print(r)"
   ]
  },
  {
   "cell_type": "markdown",
   "metadata": {},
   "source": [
    "<!-- ... -->\n",
    "As revealed by the print statements, `r` is set to 4.0 inside the function, but\n",
    "the global `r` remains unchanged after the function has been called. In fact,\n",
    "since the line `r = 4.0` occurs inside a function, Python will treat this as\n",
    "the definition of a new local variable, rather than trying to change a global\n",
    "one. As such, we define a new local `r` with\n",
    "value 4.0, while there is still another `r` defined in the global namespace. After\n",
    "the function call has ended, the local variable no longer exists (in programming\n",
    "terms, it *goes out of scope*), while the global `v0` is still there and has\n",
    "its original value. If we actually want to change a global variable inside a\n",
    "function, we must explicitly state this using\n",
    "the keyword `global`. Consider this minor change of the code above:"
   ]
  },
  {
   "cell_type": "code",
   "execution_count": 7,
   "metadata": {},
   "outputs": [],
   "source": [
    "P = 100\n",
    "r = 5.0\n",
    "\n",
    "def amount(n):\n",
    "    global r\n",
    "    r = 4.0\n",
    "    return P*(1+r/100)**n\n",
    "\n",
    "print(amount(n=6))\n",
    "print(r)"
   ]
  },
  {
   "cell_type": "markdown",
   "metadata": {},
   "source": [
    "In this case the global `r` is in fact changed. The keyword `global` tells\n",
    "Python that we do in fact want to change a global variable, and not define\n",
    "a new local one. As a general rule, one to avoid confusion of this kind,\n",
    "one should minimize the use of global variables. In particular, all variables\n",
    "used inside a function should either be local variables or passed as arguments\n",
    "to the function. Similarly, if we want the function to change a global variable\n",
    "then this variable should be returned from the function, instead of using the keyword `global`.\n",
    "It is difficult to think of a single example where using `global` is the best\n",
    "solution, and in practice it should never be used. If we actually wanted the\n",
    "function above to change the global `r`, this would be a better way to do it"
   ]
  },
  {
   "cell_type": "code",
   "execution_count": 8,
   "metadata": {},
   "outputs": [],
   "source": [
    "P = 100\n",
    "r = 5.0\n",
    "\n",
    "def amount(n):\n",
    "    a = P*(1+r/100)**n\n",
    "    return a, r\n",
    "\n",
    "a0, r = amount(7)\n",
    "print(a0, r)"
   ]
  },
  {
   "cell_type": "markdown",
   "metadata": {},
   "source": [
    "Notice that we here return two values from the function, separated by commas\n",
    "just as in the list of arguments, and how we also assign the returned values\n",
    "to the global variables `a0, r` in the line where the function is called.\n",
    "Although this simple example may not be the most useful in  practice,\n",
    "there are many cases where it is useful for a function call to change a global variable.\n",
    "In such cases it should always be done in this way, by returning the variable\n",
    "from the function and assigning the return value to the\n",
    "global variable, rather than using the `global` keyword inside the function.\n",
    "Sticking to this rules ensures that\n",
    "each function is a self-contained entity, with a clearly defined interface to\n",
    "the rest of the code through the list of arguments and return values.\n",
    "\n",
    "### Multiple return values are returned as a tuple.\n",
    "\n",
    "To consider a more practically relevant example of multiple return values, say\n",
    "we want to implement a mathematical function so that both the function value\n",
    "and its derivative are returned. Consider for instance the simple physics\n",
    "formula that describes the height of an object in vertical motion;\n",
    "$y(t) = v_0 t + (1/2) g t^2$. Here $v_0$ is the initial velocity, $g$ is the\n",
    "gravitational constant and $t$ is time. The derivative of the function\n",
    "is $y'(t)=v_0-gt$, and we can implement a Python function that returns both:"
   ]
  },
  {
   "cell_type": "code",
   "execution_count": 9,
   "metadata": {},
   "outputs": [],
   "source": [
    "def yfunc(t, v0):\n",
    "    g = 9.81\n",
    "    y = v0*t - 0.5*g*t**2\n",
    "    dydt = v0 - g*t\n",
    "    return y, dydt\n",
    "\n",
    "# call:\n",
    "position, velocity = yfunc(0.6, 3)"
   ]
  },
  {
   "cell_type": "markdown",
   "metadata": {},
   "source": [
    "As above, the return arguments are separated by comma, and we assign the values to the two global\n",
    "variables `position` and `velocity`, also separated with commas. When a function returns multiple values like this,\n",
    "it actually returns a tuple, the non-mutable list type defined in the previous chapter. So we could replace the\n",
    "call above with something like this"
   ]
  },
  {
   "cell_type": "code",
   "execution_count": 10,
   "metadata": {},
   "outputs": [],
   "source": [
    "pos_vel = yfunc(0.6,3)\n",
    "print(pos_vel)\n",
    "print(type(pos_vel))"
   ]
  },
  {
   "cell_type": "markdown",
   "metadata": {},
   "source": [
    "We see that the function returns a tuple with two elements. In the previous call, when we included a comma-separated list\n",
    "of variable names on the left hand side (i.e. `position, velocity`) Python will *unpack* the elements in the tuple into the\n",
    "corresponding variables. For this to work the number of variables must match the length of the tuple, otherwise we get\n",
    "an error message stating that there are too many or not enough values to unpack.\n",
    "\n",
    "A function can return any number arguments, separated by commas exactly as above. Here we have three"
   ]
  },
  {
   "cell_type": "code",
   "execution_count": 11,
   "metadata": {},
   "outputs": [],
   "source": [
    "def f(x):\n",
    "    return x, x**2, x**4\n",
    "\n",
    "s = f(2)\n",
    "print(type(s), s)\n",
    "x, x2, x4 = s"
   ]
  },
  {
   "cell_type": "markdown",
   "metadata": {},
   "source": [
    "Notice the last line, where a tuple of length 3 is unpacked into three individual variables.\n",
    "\n",
    "### Example: Function for computing a sum.\n",
    "\n",
    "To look at a more relevant function example, of a kind that will occur frequently in this course, consider the\n",
    "sum"
   ]
  },
  {
   "cell_type": "markdown",
   "metadata": {},
   "source": [
    "$$\n",
    "L(x;n) = \\sum_{i=1}^n \\frac{1}{i}\\left( \\frac{x}{1+x}\\right)^{i} ,\n",
    "$$"
   ]
  },
  {
   "cell_type": "markdown",
   "metadata": {},
   "source": [
    "which is an approximation to $\\ln (1+x)$ for a finite $n$ and $x\\geq 1$. The corresponding Python function for $L(x;n)$ looks like"
   ]
  },
  {
   "cell_type": "code",
   "execution_count": 12,
   "metadata": {},
   "outputs": [],
   "source": [
    "def L(x, n):\n",
    "    s = 0\n",
    "    for i in range(1, n+1):\n",
    "        s += (1.0/i)*(x/(1+x))**i\n",
    "    return s\n",
    "\n",
    "#example use\n",
    "x = 5\n",
    "from math import log as ln\n",
    "print(L(x, 10), L(x, 100), ln(1+x))"
   ]
  },
  {
   "cell_type": "markdown",
   "metadata": {},
   "source": [
    "The output from the print statement indicates that the approximation improves as the number of terms $n$ is increased,\n",
    "as usual for such approximating series. For many purposes, it would be useful if the function returned the first\n",
    "neglected term in the sum, since this gives an indication of the error in the approximation, as well as the actual\n",
    "error $\\ln (1+x) - L(x;n)$. We can make the function return these values by including them in the return\n",
    "statement, just like we did above:"
   ]
  },
  {
   "cell_type": "code",
   "execution_count": 13,
   "metadata": {},
   "outputs": [],
   "source": [
    "def L2(x, n):\n",
    "    x = float(x)\n",
    "    s = 0\n",
    "    for i in range(1, n+1):\n",
    "        s += (1.0/i)*(x/(1+x))**i\n",
    "    value_of_sum = s\n",
    "    first_neglected_term = (1.0/(n+1))*(x/(1+x))**(n+1)\n",
    "    from math import log\n",
    "    exact_error = log(1+x) - value_of_sum\n",
    "    return value_of_sum, first_neglected_term, exact_error\n",
    "\n",
    "# typical call:\n",
    "x = 1.2; n = 100\n",
    "value, approximate_error, exact_error = L2(x, n)"
   ]
  },
  {
   "cell_type": "markdown",
   "metadata": {},
   "source": [
    "### A function does not need a return statement.\n",
    "\n",
    "All the functions considered so far have included a return statement. While this will be the case for most of functions\n",
    "we write in this course, there will be exceptions, and a function does not need to have a return statement.\n",
    "For instance, some functions only serve the purpose of printing information to the screen, as in"
   ]
  },
  {
   "cell_type": "code",
   "execution_count": 14,
   "metadata": {},
   "outputs": [],
   "source": [
    "def somefunc(obj):\n",
    "    print(obj)\n",
    "\n",
    "return_value = somefunc(3.4)"
   ]
  },
  {
   "cell_type": "markdown",
   "metadata": {},
   "source": [
    "Here, the last line does not make much sense, although it is actually valid Python\n",
    "code and will run without errors. We do not return anything from `somefunc`, how\n",
    "can we then call the function and assign the result to a variable? The\n",
    "answer is that if we do not include a return statement in a function,  Python\n",
    "will automatically return a variable with value `None`. So the variable `return_value`\n",
    "variable in this case will be `None`, which is not very useful, but serves\n",
    "to illustrate the behavior of a function with no return statement.\n",
    "Most functions we will write in this course will either\n",
    "return some variables, or print or plot something to the screen. One typical use\n",
    "of a function without a return value is to print information in a table-like\n",
    "format to the screen. This is useful in many contexts, including studying\n",
    "the convergence of series approximations like the one above. The following function\n",
    "calls the `L2(x,n)` function defined above, and uses a for-loop to\n",
    "print relevant information in a nicely formatted table."
   ]
  },
  {
   "cell_type": "code",
   "execution_count": 15,
   "metadata": {},
   "outputs": [],
   "source": [
    "def table(x):\n",
    "    print(f'x={x}, ln(1+x)={log(1+x)}')\n",
    "    for n in [1, 2, 10, 100, 500]:\n",
    "        value, next, error = L2(x, n)\n",
    "        print('n={n:4d} approx: {value:6.2f}, next term: {next:6.2f} error: {error:6.2f}')\n",
    "\n",
    "print(table(10))"
   ]
  },
  {
   "cell_type": "markdown",
   "metadata": {},
   "source": [
    "There is no need to return anything from this function, since the entire\n",
    "purpose is to print information to the screen.\n",
    "\n",
    "\n",
    "### Default arguments are used to simplify function calls.\n",
    "\n",
    "When we used the `range`-function in the previous chapter we saw that we could\n",
    "vary the number of arguments in the function call from one to three, and the\n",
    "non-specified arguments would get default values. We can achieve the same\n",
    "functionality in our own functions, by defining *default arguments* in the\n",
    "function definition:"
   ]
  },
  {
   "cell_type": "markdown",
   "metadata": {},
   "source": [
    "```Python\n",
    "        def somefunc(arg1, arg2, kwarg1=True, kwarg2=0):\n",
    "            print(arg1, arg2, kwarg1, kwarg2)\n",
    "```"
   ]
  },
  {
   "cell_type": "markdown",
   "metadata": {},
   "source": [
    "A function defined in this way can be called with two, three, or four arguments.\n",
    "The first two have no default value and therefore must be included in the call,\n",
    "while the last two are optional and will be set to the default value if not\n",
    "specified in the call. In texts on Python programming, *default arguments* is\n",
    "often referred to as keyword arguments, although these terms do not mean exactly\n",
    "the same thing. They are, however, closely related, and this is why the terms are sometimes\n",
    "interchanged. Just as we cannot have keyword arguments preceding positional\n",
    "arguments in a function call, we cannot have\n",
    "default arguments preceding non-default arguments in the function header.\n",
    "The following code demonstrates some use of the alternative function calls\n",
    "for a completely useless but illustrative\n",
    "function. Testing a simple function like this, which does nothing but print\n",
    "out the argument values, is a good way to understand the implications of\n",
    "default arguments and the resulting flexibility in argument lists."
   ]
  },
  {
   "cell_type": "code",
   "execution_count": 16,
   "metadata": {},
   "outputs": [],
   "source": [
    "def somefunc(arg1, arg2, kwarg1=True, kwarg2=0):\n",
    "    print(arg1, arg2, kwarg1, kwarg2)"
   ]
  },
  {
   "cell_type": "code",
   "execution_count": 17,
   "metadata": {},
   "outputs": [],
   "source": [
    "somefunc('Hello', [1,2])   # drop kwarg1 and kwarg2"
   ]
  },
  {
   "cell_type": "code",
   "execution_count": 18,
   "metadata": {},
   "outputs": [],
   "source": [
    "somefunc('Hello', [1,2], 'Hi')"
   ]
  },
  {
   "cell_type": "code",
   "execution_count": 19,
   "metadata": {},
   "outputs": [],
   "source": [
    "somefunc('Hello', [1,2], 'Hi', 6)"
   ]
  },
  {
   "cell_type": "code",
   "execution_count": 20,
   "metadata": {},
   "outputs": [],
   "source": [
    "somefunc('Hello', [1,2], kwarg2='Hi') #kwarg2"
   ]
  },
  {
   "cell_type": "code",
   "execution_count": 21,
   "metadata": {},
   "outputs": [],
   "source": [
    "somefunc('Hello', [1,2], kwarg2='Hi', kwarg1=6)"
   ]
  },
  {
   "cell_type": "markdown",
   "metadata": {},
   "source": [
    "Using what we now know about default argument, we may improve the function\n",
    "considered above, which implemented the formula"
   ]
  },
  {
   "cell_type": "markdown",
   "metadata": {},
   "source": [
    "$$\n",
    "y(t) = v_0t- \\frac{1}{2}gt^2 .\n",
    "$$"
   ]
  },
  {
   "cell_type": "markdown",
   "metadata": {},
   "source": [
    "Here, it may be natural to think of $t$ as the primary argument to the function,\n",
    "which should always be provided, while $v_0$ and\n",
    "possibly also $g$ could be provided as default arguments. The function\n",
    "definition in Python\n",
    "could read"
   ]
  },
  {
   "cell_type": "code",
   "execution_count": 22,
   "metadata": {},
   "outputs": [],
   "source": [
    "def yfunc(t, v0=5, g=9.81):\n",
    "    g = 9.81\n",
    "    y = v0*t - 0.5*g*t**2\n",
    "    dydt = v0 - g*t\n",
    "    return y, dydt\n",
    "\n",
    "#example calls:\n",
    "y1, dy1 = yfunc(0.2)\n",
    "y2, dy2 = yfunc(0.2,v0=7.5)\n",
    "y3, dy3 = yfunc(0.2,7.5,10.0)"
   ]
  },
  {
   "cell_type": "markdown",
   "metadata": {},
   "source": [
    "### Documentation of Python functions\n",
    "\n",
    "An important Python convention is to document the purpose of a\n",
    "function, its arguments, and its return values in a *doc string* -\n",
    "a (triple-quoted) string written right after the function header.\n",
    "The doc string can be long or short, depending on the complexity of the function\n",
    "and its inputs and outputs. The following two examples show how it can be used:"
   ]
  },
  {
   "cell_type": "code",
   "execution_count": 23,
   "metadata": {},
   "outputs": [],
   "source": [
    "def amount(P, r, n):\n",
    "    \"\"\"Compute the growth of an investment over time.\"\"\"\n",
    "    a = P*(1+r/100.0)**n\n",
    "    return a\n",
    "    \"\"\"Convert Celsius degrees (C) to Fahrenheit.\"\"\"\n",
    "    return (9.0/5)*C + 32\n",
    "\n",
    "def line(x0, y0, x1, y1):\n",
    "    \"\"\"\n",
    "    Compute the coefficients a and b in the mathematical\n",
    "    expression for a straight line y = a*x + b that goes\n",
    "    through two points (x0, y0) and (x1, y1).\n",
    "\n",
    "    x0, y0: a point on the line (floats).\n",
    "    x1, y1: another point on the line (floats).\n",
    "    return: a, b (floats) for the line (y=a*x+b).\n",
    "    \"\"\"\n",
    "    a = (y1 - y0)/(x1 - x0)\n",
    "    b = y0 - a*x0\n",
    "    return a, b"
   ]
  },
  {
   "cell_type": "markdown",
   "metadata": {},
   "source": [
    "Doc strings do not take much time to write, and are very useful for others who want to\n",
    "use the function. Being a widely accepted convention in the Python community, doc strings\n",
    "are also used by various tools for automatically generating nicely formatted software documentation.\n",
    "Much of the online documentation of Python libraries and modules is automatically generated from doc-strings\n",
    "included in the code.\n",
    "\n",
    "\n",
    "# If-tests for branching the program flow\n",
    "In computer programs we often want to perform different actions depending\n",
    "on a condition. As usual, we can find a similar\n",
    "concept in mathematics, which should be familiar to most readers of this book.\n",
    "Consider a function defined in a piecewise manner, for instance"
   ]
  },
  {
   "cell_type": "markdown",
   "metadata": {},
   "source": [
    "$$\n",
    "f(x) = \\left\\lbrace\\begin{array}{ll}\n",
    "\\sin x, & 0\\leq x\\leq \\pi\\\\\n",
    "0, & \\hbox{otherwise}\n",
    "\\end{array}\\right.\n",
    "$$"
   ]
  },
  {
   "cell_type": "markdown",
   "metadata": {},
   "source": [
    "The Python implementation of such a function needs to test on the value of\n",
    "the input $x$, and choose to return either 0 or $\\sin(x)$ depending on the\n",
    "outcome. Such a decision taking place in the program code is called *branching*\n",
    "and is obtained using an if-test, or more generally an if-else block. The code looks like"
   ]
  },
  {
   "cell_type": "code",
   "execution_count": 24,
   "metadata": {},
   "outputs": [],
   "source": [
    "from math import sin, pi\n",
    "\n",
    "def f(x):\n",
    "    if 0 <= x <= pi:\n",
    "        return sin(x)\n",
    "    else:\n",
    "        return 0\n",
    "\n",
    "print(f(0.5))\n",
    "print(f(5*pi))"
   ]
  },
  {
   "cell_type": "markdown",
   "metadata": {},
   "source": [
    "The new item here is the if-else block. An if-test is simply constructed by\n",
    "the keyword `if` followed by a Boolean variable or\n",
    "expression, and then a block of code which is to be executed if the condition is true.\n",
    "When the if-test is reached in the function above, the Boolean condition is tested, just as for the\n",
    "while loops of the previous chapter. If it is True, the following block of\n",
    "indented code is executed (here just one line). If not, the indented code\n",
    "block after `else` is executed. One may also notice that unlike the functions seen so far, this\n",
    "function has two return statements. This is perfectly valid, and is quite common\n",
    "in functions with if-tests.  When a return statement is executed, the function\n",
    "call is over and any following lines in the function are simply ignored.\n",
    "Therefore, there is usually no point in having multiple return statements\n",
    "unless they are combined with some if-tests, since if the first one is always\n",
    "executed the others will never be reached.\n",
    "\n",
    "In its simplest form, we may skip `else` and define only an if-test:"
   ]
  },
  {
   "cell_type": "markdown",
   "metadata": {},
   "source": [
    "```Python\n",
    "        if condition:\n",
    "            <block of statements, executed if condition is True>\n",
    "        \n",
    "        <next line after if-block, always executed>\n",
    "```"
   ]
  },
  {
   "cell_type": "markdown",
   "metadata": {},
   "source": [
    "Here, whatever is inside the if-block is executed if `condition` is True,\n",
    "otherwise the program simply moves to the next line\n",
    "after the block. As we did above, we may add an else-block to ensure that exactly\n",
    "one of two code blocks is executed"
   ]
  },
  {
   "cell_type": "markdown",
   "metadata": {},
   "source": [
    "```Python\n",
    "        if condition:\n",
    "            <block of statements, executed if condition is True>\n",
    "        else:\n",
    "            <block of statements, executed if condition is False>\n",
    "```"
   ]
  },
  {
   "cell_type": "markdown",
   "metadata": {},
   "source": [
    "For mathematical functions of the form considered above we usually want to\n",
    "include an else-block, since we want the function to return a meaningful value\n",
    "for all input arguments. Forgetting the else-block in the definition `f(x)` above would\n",
    "make the function return $\\sin(x)$ (a `float`) for $0\\leq x \\leq \\pi$, and\n",
    "otherwise `None`, which is obviously not what we want. Finally, we may combine\n",
    "multiple if-else statements with different conditions"
   ]
  },
  {
   "cell_type": "markdown",
   "metadata": {},
   "source": [
    "```Python\n",
    "        if condition1:\n",
    "            <block of statements>\n",
    "        elif condition2:\n",
    "            <block of statements>\n",
    "        elif condition3:\n",
    "            <block of statements>\n",
    "        else:\n",
    "            <block of statements>\n",
    "        <next statement>\n",
    "```"
   ]
  },
  {
   "cell_type": "markdown",
   "metadata": {},
   "source": [
    "Notice the keyword `elif`, short for *else if*, which ensures that that\n",
    "subsequent conditions are only tested if the preceding ones are False. The\n",
    "conditions are checked one by one, and as soon as one evaluates to True the corresponding\n",
    "block is executed and the program moves to the first statement after the else-block.\n",
    "The remaining conditions are not checked. If none of the conditions are True,\n",
    "the code inside the else-block is executed.\n",
    "\n",
    "Multiple branching has useful applications in mathematics, since we often see\n",
    "piecewisely defined functions defined on multiple intervals. Consider for\n",
    "instance the piecewise linear function"
   ]
  },
  {
   "cell_type": "markdown",
   "metadata": {},
   "source": [
    "$$\n",
    "N(x) = \\left\\lbrace\\begin{array}{ll}\n",
    "0, & x < 0\\\\\n",
    "x, & 0\\leq x < 1\\\\\n",
    "2-x, & 1\\leq x < 2\\\\\n",
    "0, & x \\geq 2\n",
    "\\end{array}\\right. .\n",
    "$$"
   ]
  },
  {
   "cell_type": "markdown",
   "metadata": {},
   "source": [
    "which in Python is implemented with multiple if-else-branching"
   ]
  },
  {
   "cell_type": "code",
   "execution_count": 25,
   "metadata": {},
   "outputs": [],
   "source": [
    "def N(x):\n",
    "    if x < 0:\n",
    "        return 0\n",
    "    elif 0 <= x < 1:\n",
    "        return x\n",
    "    elif 1 <= x < 2:\n",
    "        return 2 - x\n",
    "    elif x >= 2:\n",
    "        return 0"
   ]
  },
  {
   "cell_type": "markdown",
   "metadata": {},
   "source": [
    "In later chapters we will see multiple examples of more general use of\n",
    "branching, not restricted to mathematics and piecewisely defined functions.\n",
    "\n",
    "### Inline if-tests for shorter code.\n",
    "\n",
    "The list comprehensions in Chapter 2, and the lambda functions above, offered\n",
    "more compact alternatives to the standard way of defining lists or functions.\n",
    "Not surprisingly, a similar concept exists for if-tests. A common use of if-else\n",
    "blocks is to assign a value to a variable, where the value depends on some\n",
    "condition, just as we did in the examples above. The general form looks like"
   ]
  },
  {
   "cell_type": "markdown",
   "metadata": {},
   "source": [
    "```Python\n",
    "        if condition:\n",
    "            variable = value1\n",
    "        else:\n",
    "            variable = value2\n",
    "```"
   ]
  },
  {
   "cell_type": "markdown",
   "metadata": {},
   "source": [
    "This code can be replaced by the following one-line if-else block:"
   ]
  },
  {
   "cell_type": "markdown",
   "metadata": {},
   "source": [
    "```Python\n",
    "        variable = (value1 if condition else value2)\n",
    "```"
   ]
  },
  {
   "cell_type": "markdown",
   "metadata": {},
   "source": [
    "With such compact"
   ]
  },
  {
   "cell_type": "code",
   "execution_count": 26,
   "metadata": {},
   "outputs": [],
   "source": [
    "def f(x):\n",
    "    return (sin(x) if 0 <= x <= pi else 0)"
   ]
  },
  {
   "cell_type": "markdown",
   "metadata": {},
   "source": [
    "# Functions as arguments to functions\n",
    "Arguments to Python functions can be any Python object, including another\n",
    "function. This functionality is quite useful for many scientific applications,\n",
    "where we need to define mathematical functions that operate on or make use of\n",
    "other mathematical functions. For instance, we can easily write Python functions\n",
    "for numerical approximations of integrals $\\int_a^b f(x)dx$, derivatives $f'(x)$,\n",
    "and roots $f(x)=0$. For such functions to be general and useful, they should work\n",
    "with an arbitrary function $f(x)$. This is most conveniently accomplished by passing a\n",
    "Python function `f(x)` as an argument to the function.\n",
    "\n",
    "Consider the example of approximating the second derivative $f''(x)$ by centered finite differences,"
   ]
  },
  {
   "cell_type": "markdown",
   "metadata": {},
   "source": [
    "$$\n",
    "f''(x) \\approx \\frac{f(x-h) - 2f(x) + f(x+h)}{h^2}.\n",
    "$$"
   ]
  },
  {
   "cell_type": "markdown",
   "metadata": {},
   "source": [
    "The corresponding Python function looks like"
   ]
  },
  {
   "cell_type": "code",
   "execution_count": 27,
   "metadata": {},
   "outputs": [],
   "source": [
    "def diff2(f, x, h=1E-6):\n",
    "    r = (f(x-h) - 2*f(x) + f(x+h))/float(h*h)\n",
    "    return r"
   ]
  },
  {
   "cell_type": "markdown",
   "metadata": {},
   "source": [
    "We see that the function `f` is passed to the function just like any other argument, and called as a regular function\n",
    "inside `diff2`. Of course, for this to work we need to actually send a callable function as the first\n",
    "argument to `diff2`. If we send something else, like a number or  a string, the\n",
    "code will stop with an error when it tries to make the call `f(x-h)` in the next line.\n",
    "Such potential errors are part of the price we pay for Python's flexibility. We can pass any argument\n",
    "to a function, but the object we pass must be possible to use as intended inside the function. As noted above,\n",
    "for more complex functions it is useful to include a doc string that specifies what types of arguments the\n",
    "function expects.\n",
    "\n",
    "\n",
    "### Lambda functions for compact inline function definitions.\n",
    "\n",
    "In order to use the function `diff2` above, the standard way would be to define our `f(x)` as a Python function,\n",
    "and then pass it as an argument to `diff2`. The following code shows an example."
   ]
  },
  {
   "cell_type": "code",
   "execution_count": 28,
   "metadata": {},
   "outputs": [],
   "source": [
    "def f(x):\n",
    "    return x**2 - 1\n",
    "\n",
    "df2 = diff2(f,1.5)\n",
    "print(df2)"
   ]
  },
  {
   "cell_type": "markdown",
   "metadata": {},
   "source": [
    "A concept known as a *lambda function* offers a compact way to define functions,\n",
    "which can be convenient for the\n",
    "present application. Using the keyword `lambda`, we can define our `f` on a single line:"
   ]
  },
  {
   "cell_type": "code",
   "execution_count": 29,
   "metadata": {},
   "outputs": [],
   "source": [
    "f = lambda x: x**2 - 1"
   ]
  },
  {
   "cell_type": "markdown",
   "metadata": {},
   "source": [
    "More generally, a lambda function defined by"
   ]
  },
  {
   "cell_type": "markdown",
   "metadata": {},
   "source": [
    "```Python\n",
    "        somefunc = lambda a1, a2, ...: some_expression\n",
    "```"
   ]
  },
  {
   "cell_type": "markdown",
   "metadata": {},
   "source": [
    "is equivalent to"
   ]
  },
  {
   "cell_type": "markdown",
   "metadata": {},
   "source": [
    "```Python\n",
    "        def somefunc(a1, a2, ...):\n",
    "            return some_expression\n",
    "```"
   ]
  },
  {
   "cell_type": "markdown",
   "metadata": {},
   "source": [
    "One may ask if anything is really gained here, and whether it is useful to\n",
    "introduce a new concept just to reduce a function definition from two lines to\n",
    "one line. One answer is that the lambda function definition can be put directly\n",
    "into the argument list of the other function. Instead of first defining `f(x)`\n",
    "and then passing it as an argument, as in\n",
    "the code above, we may combine these tasks into one line:"
   ]
  },
  {
   "cell_type": "code",
   "execution_count": 30,
   "metadata": {},
   "outputs": [],
   "source": [
    "df2 = diff2(lambda x: x**2-1,1.5)\n",
    "print(df2)"
   ]
  },
  {
   "cell_type": "markdown",
   "metadata": {},
   "source": [
    "Using lambda functions in this way can be quite convenient in cases where we\n",
    "need to pass a simple mathematical expression as an argument to a Python function.\n",
    "We save some typing, and may also improve the readability of the code.\n",
    "\n",
    "# Solving equations with Python functions\n",
    "Solving equations on the form $f(x) = 0$ is a frequently occuring task in all\n",
    "branches of science and engineering. For special cases, such as a\n",
    "linear or quadratic $f$, we have simple formulas that give us the solution\n",
    "directly. In the general case, however, the equation cannot be solved analytically, and\n",
    "we need to find an approximate solution using numerical methods. We shall see\n",
    "that we can create powerful and flexible tools for equation solving based on\n",
    "the building blocks introduced so far. Specifically, we will combine functions\n",
    "and function arguments with the while loop we introduced in the chapter [ch:looplist](#ch:looplist).\n",
    "\n",
    "### Finding roots on an interval with the bisection method.\n",
    "\n",
    "One of the simplest algorithms for solving equations of the form $f(x)=0$\n",
    "is called the *bisection method*. The method is founded on the intermediate value\n",
    "theorem, which states that if a continuous function changes sign on an interval\n",
    "$[a,b]$\n",
    "then there must be value $x\\in$[a,b]$ such that $f(x)=0$. In the bisection\n",
    "method we start by choosing an interval $[a,b]$ on which $f$ changes sign\n",
    "(i.e. $f(a)f(b) <0$), and then compute the midpoint $m = (a+b)/2$ and check the\n",
    "sign of $f(m)$. If $f$ changes sign on $[a,m]$ then we repeat the process\n",
    "on the interval $[a,m], otherwise we choose $[m,b]$ as our new interval\n",
    "and repeat the process there. These steps are conveniently implemented\n",
    "as a while loop, and we can make a generic tool by placing the while loop\n",
    "inside a function that takes a function as argument:"
   ]
  },
  {
   "cell_type": "markdown",
   "metadata": {},
   "source": [
    "        from math import exp\n",
    "        \n",
    "        def bisection(f,a,b,tol= 1e-3):\n",
    "            if f(a)*f(b) > 0:\n",
    "                print(f'No roots or more than one root in [{a},{b}]')\n",
    "                return\n",
    "        \n",
    "            m = (a+b)/2\n",
    "        \n",
    "            while abs(f(m)) > tol:\n",
    "                if f(a)*f(m) < 0:\n",
    "                    b = m\n",
    "                else:\n",
    "                    a = m\n",
    "                m = (a+b)/2\n",
    "            return m\n",
    "        \n",
    "        #call the method for f(x)= x**2-4*x+exp(-x)\n",
    "        f = lambda x: x**2-4*x+exp(-x)\n",
    "        sol = bisection(f,-0.5,1,1e-6)\n",
    "        \n",
    "        print(f'x = {sol:g} is an approximate root, with f({sol:g}) = {f(sol):g}')\n"
   ]
  },
  {
   "cell_type": "markdown",
   "metadata": {},
   "source": [
    "We see that the `bisection` function takes four arguments; the mathematical\n",
    "function $f(x)$ implemented as a Python function, the bounds for our initial\n",
    "interval, and the tolerance for the approximate solution. The first if-test\n",
    "of the function simply checks that $f$ changes sign\n",
    "in $[a,b]$, which ensures that the function has at least one root on\n",
    "the interval. We then proceed to define the midpoint `m` and enter\n",
    "the while-loop which forms the core of the algorithm. This loop will continue\n",
    "running as long as `abs(f(m)) > tol` (otherwise `m` is our solution), and will repeatedly\n",
    "check whether $f$ changes sign on $[a,m]$ or $[m,b]$, and then calculate\n",
    "a new `m` to repeat the process on an interval of half the size.\n",
    "\n",
    "### Newton's method gives faster convergence.\n",
    "\n",
    "The bisection method converges quite slowly, and there are other methods that\n",
    "are far more popular for solving non-linear equations. In particular,\n",
    "numerous varieties of Newton's method are widely used in practice. Newton's\n",
    "method is based on a *local linearization* of the non-linear function $f(x)$.\n",
    "Starting with an initial guess $x_0$, we replaces $f(x)$ by a linear function\n",
    "$g(x)$ which satisfies $g(x)\\approx f(x)$ in a small interval around $x_0$.\n",
    "Then we solve the equation $g(x)=0$ to find an updated guess $x_1$, and repeat\n",
    "the process of linearization around that point. Repeated application of\n",
    "these steps converges quickly towards the true solution, provided that the\n",
    "initial guess $x_0$ is sufficiently close. In mathematics, one step of\n",
    "the algorithm looks like"
   ]
  },
  {
   "cell_type": "markdown",
   "metadata": {},
   "source": [
    "$$\n",
    "x_{n+1} = x_n -\\frac{f(x_n)}{f'(x_n)} ,\n",
    "$$"
   ]
  },
  {
   "cell_type": "markdown",
   "metadata": {},
   "source": [
    "where $x_n$ is the solution after $n$ iterations, $x_{n+1}$ is the improved\n",
    "approximation, and $f'(x_n)$ is the derivative of $f$ in $x_n$.\n",
    "\n",
    "Just as the bisection method, Newton's method is easy to implement in a while\n",
    "loop, and we can implement it as a generic function that takes a Python function\n",
    "implementing $f(x)$ as argument. The function will also need\n",
    "$f'(x)$, since this is used in the algorithm, and also an initial guess $x_0$\n",
    "and a tolerance:"
   ]
  },
  {
   "cell_type": "markdown",
   "metadata": {},
   "source": [
    "        from math import exp\n",
    "        \n",
    "        def newton(f,dfdx,x0,tol= 1e-3):\n",
    "            f0 = f(x0)\n",
    "            while abs(f0) > tol:\n",
    "                x1 = x0 - f0/dfdx(x0)\n",
    "                x0 = x1\n",
    "                f0 = f(x0)\n",
    "            return x0\n",
    "        \n",
    "        #call the method for f(x)= x**2-4*x+exp(-x)\n",
    "        f = lambda x: x**2-4*x+exp(-x)\n",
    "        dfdx = lambda x: 2*x-4-exp(-x)\n",
    "        \n",
    "        sol = newton(f,dfdx,0,1e-6)\n",
    "        \n",
    "        print(f'x = {sol:g} is an approximate root, with f({sol:g}) = {f(sol):g}')\n"
   ]
  },
  {
   "cell_type": "markdown",
   "metadata": {},
   "source": [
    "Notice how the `x0` variable is updated inside the loop. The algorithm only needs\n",
    "to know the value at one iteration to compute the next one, so for each iteration\n",
    "we update `x0` to hold the most recent approximation, and then use this to\n",
    "compute the next.  Also note that the implementation provided here\n",
    "is not very robust, and if the method does not converge it will\n",
    "simply continue in an eternal loop. One simple way to improve the implementation\n",
    "is to stop the method after a given number of iterations:"
   ]
  },
  {
   "cell_type": "markdown",
   "metadata": {},
   "source": [
    "        from math import exp\n",
    "        \n",
    "        def newton2(f,dfdx,x0, max_it=20, tol= 1e-3):\n",
    "            f0 = f(x0)\n",
    "            iter = 0\n",
    "            while abs(f0) > tol and iter < max_it:\n",
    "                x1 = x0 - f0/dfdx(x0)\n",
    "                x0 = x1\n",
    "                f0 = f(x0)\n",
    "                iter += 1\n",
    "        \n",
    "            converged = iter < max_it\n",
    "            return x0, converged, iter\n",
    "        \n",
    "        #call the method for f(x)= x**2-4*x+exp(-x)\n",
    "        f = lambda x: x**2-4*x+exp(-x)\n",
    "        dfdx = lambda x: 2*x-4-exp(-x)\n",
    "        \n",
    "        sol, converged, iter = newton2(f,dfdx,0,tol=1e-3)\n",
    "        \n",
    "        if converged:\n",
    "            print(f'Newtons method converged in {iter} iterations')\n",
    "        else:\n",
    "            print(f'The method did not converge')\n"
   ]
  },
  {
   "cell_type": "markdown",
   "metadata": {},
   "source": [
    "Newton's method usually converges much faster than the\n",
    "bisection method, but has the disadvantage that we need to manually\n",
    "differentiate the function $f$. In the chapter [ch:class](#ch:class) we will see some examples\n",
    "of how this step can be avoided.\n",
    "\n",
    "\n",
    "# Test functions to verify your programs\n",
    "\n",
    "In the first part of this chapter we mentioned the idea of writing tests to verify that\n",
    "functions work as intended. This approach\n",
    "to programming may be very effective, and although we spend some time writing\n",
    "the tests we often save much more time by the fact that we discover errors early,\n",
    "and can build our program from components that are known to work. The\n",
    "process is often referred to as *unit testing*, since each test verifies that a\n",
    "small unit of the program works as expected. Many programmers even\n",
    "take the approach one step further, and write the test before they write the\n",
    "actual function. This is often referred to as test-driven development, and is\n",
    "an increasingly popular method for software development.\n",
    "\n",
    "The tests we write to test our functions will also be functions; a special\n",
    "type of function known as *test functions*. Writing good test functions, which\n",
    "test the functionality of our code in a reliable manner, can be quite challenging.\n",
    "However, the overall idea is very simple. For a given function, which often takes\n",
    "some arguments, we choose arguments where we can calculate the result of the\n",
    "function by hand. Inside the test function we will then simply\n",
    "call our function with the right arguments and compare the result returned by the function\n",
    "with the expected (hand-calculated) result. The following example illustrates how we can write a\n",
    "test function to test that the (very) simple function `double(x)` works as it should:"
   ]
  },
  {
   "cell_type": "code",
   "execution_count": 31,
   "metadata": {},
   "outputs": [],
   "source": [
    "def double(x):            # some function\n",
    "    return 2*x\n",
    "\n",
    "def test_double():        # associated test function\n",
    "    \"\"\"Call double(x) to check that it works.\"\"\"\n",
    "    x = 4                 # some chosen x value\n",
    "    expected = 8          # expected result from double(x)\n",
    "    computed = double(x)\n",
    "    success = computed == expected  # boolean value: test passed?\n",
    "    msg = f'computed {computed}, expected {expected}'\n",
    "    assert success, msg"
   ]
  },
  {
   "cell_type": "markdown",
   "metadata": {},
   "source": [
    "In this code, the only Python keyword that we have not seen previously\n",
    "is `assert` which is used in place of\n",
    "`return` whenever we write a test function. Test functions should not return anything, so a regular\n",
    "return statement would not make sense. The only purpose of the test function\n",
    "is to compare the value returned by a function with the value\n",
    "we expect it to return, and write an error message if the two are different.\n",
    "This task is precisely what `assert` does. The assert keyword should always be\n",
    "followed by a condition, `success` in the code above, which is True if the test passes and\n",
    "False if it fails. The code above follows the typical recipe; we compare the\n",
    "the expected with the returned result with `computed == expected`, which is a\n",
    "Boolean expression returning True or False. This value is then assigned\n",
    "to the variable `success`, which is included in the `assert` statement. The\n",
    "last part of the assert statement, the text string `msg`, is\n",
    "optional and is simply included to give a more meaningful error message if\n",
    "the test fails. If we leave this out, and only write `assert success`, we will\n",
    "get a general message stating that the test failed (a so-called *assertion error*),\n",
    "but without much information about what actually went wrong.\n",
    "\n",
    "There are some rules to observe when writing test functions:\n",
    " * The test function must have at least one statement of the type `assert success`, where `success` is a Boolean variable\n",
    "   or expression, which is `True`\n",
    "   if the test passed and `False` otherwise. We can include more than one\n",
    "   assert statement if we want, but we always need at least one.\n",
    "\n",
    " * The test function should take no arguments. The function to be tested will\n",
    "   typically be called with some arguments,\n",
    "   but these should be defined as local variables inside the test function.\n",
    "\n",
    " * The name of the function should always be `test_`, followed by the name\n",
    "   of the function we want to test. Following this convention\n",
    "   is useful because it makes it obvious to anyone reading the code that the\n",
    "   function is a test function, and it is also used by tools that can\n",
    "   automatically run all test functions in a given file or directly. More about this below.\n",
    "\n",
    "If we follow these rules, and remember the fundamental idea that a test function\n",
    "simply compares the returned result with the expected result, writing test\n",
    "functions does not have to be complicated. In particular, many of the\n",
    "functions we write in this course will evaluate some kind of mathematical function and then\n",
    "return either a number or a list/tuple of numbers. For this type of function the recipe for test functions\n",
    "is quite rigid, and the structure is usually exactly the same as in the simple example above.\n",
    "\n",
    "If you are new\n",
    "to programming, it may be confusing to be faced with a general task like\n",
    "\"write a test function for the Python function `somefunc(x,y)`\", and it is\n",
    "natural to ask questions about what arguments the function should be tested for,\n",
    "and how you can know what the expected values are. In such cases it is important\n",
    "to remember the overall idea of test functions, and also that these are\n",
    "choices that must be made by the programmer. You have to choose a set of\n",
    "suitable arguments, then calculate or otherwise predict by hand what the\n",
    "function *should* return for these arguments, and write the comparison into the\n",
    "test function.\n",
    "\n",
    "### A test function can include multiple tests.\n",
    "\n",
    "We can have multiple assert statements in a single test function. This can be useful if we want to\n",
    "test a function with different arguments.\n",
    "For instance, if we write a test function for one of the piecewisely defined mathematical functions considered earlier\n",
    "in this chapter it would be\n",
    "natural to test all the separate intervals on which the function is defined. The following code illustrates how this can\n",
    "be done."
   ]
  },
  {
   "cell_type": "code",
   "execution_count": 32,
   "metadata": {},
   "outputs": [],
   "source": [
    "from math import sin, pi\n",
    "\n",
    "def f(x):\n",
    "    if 0 <= x <= pi:\n",
    "        return sin(x)\n",
    "    else:\n",
    "        return 0\n",
    "\n",
    "def test_f():\n",
    "    x1, exp1 = -1.0, 0.0\n",
    "    x2, exp2 = pi/2, 1.0\n",
    "    x3, exp3 = 3.5, 0.0\n",
    "\n",
    "    tol = 1e-10\n",
    "    assert abs(f(x1)-exp1) < tol, f'Failed for x = {x1}'\n",
    "    assert abs(f(x2)-exp2) < tol, f'Failed for x = {x2}'\n",
    "    assert abs(f(x3)-exp3) < tol, f'Failed for x = {x3}'"
   ]
  },
  {
   "cell_type": "markdown",
   "metadata": {},
   "source": [
    "Note here that since we compare floating point numbers, which have finite\n",
    "precision on a computer, we compare with a tolerance rather than the equality `==`.\n",
    "The tolerance `tol` is some small number, chosen by the programmer,\n",
    "which should be small enough that we would consider a difference of this magnitude\n",
    "insignificant, but larger than the machine precision ($\\approx 10^{-16}$). In\n",
    "practice it will quite often work to compare floats using `==`, but\n",
    "sometimes it fails and it is impossible to predict when it fails. The code\n",
    "therefore becomes unreliable, and it is much safer\n",
    "to compare with a tolerance. On the other hand, when we work with integers we can always use `==`.\n",
    "\n",
    "One may argue that the test function code above is quite inelegant and repetitive,\n",
    "since we repeat the same lines multiple\n",
    "times with very minor changes. Since we only repeat three lines it may not be a big deal in this case, but\n",
    "if we included more assert statements it would certainly be both boring and error-prone to write code in this way.\n",
    "In the previous chapter we introduced loops as a much more elegant tool for performing such\n",
    "repetitive tasks. Using\n",
    "lists and a for-loop, the example above can  be written as follows:"
   ]
  },
  {
   "cell_type": "code",
   "execution_count": 33,
   "metadata": {},
   "outputs": [],
   "source": [
    "from math import sin, pi\n",
    "\n",
    "def f(x):\n",
    "    if 0 <= x <= pi:\n",
    "        return sin(x)\n",
    "    else:\n",
    "        return 0\n",
    "\n",
    "def test_f():\n",
    "    x_vals = [-1, pi/2, 3.5]\n",
    "    exp_vals = [0.0, 1.0, 0.0]\n",
    "\n",
    "    tol = 1e-10\n",
    "    for x, exp in zip(x_vals, exp_vals):\n",
    "    \tassert abs(f(x)-exp) < tol, \\\n",
    "\t       f'Failed for x = {x}, expected {exp}, but got {f(x)}'"
   ]
  },
  {
   "cell_type": "markdown",
   "metadata": {},
   "source": [
    "### Python tools for automatic testing.\n",
    "\n",
    "An advantage of following the naming convention for test functions defined above is that there\n",
    "are tools that can be used to automatically run *all* test functions in a file or folder, and\n",
    "report if any bug has sneaked into the code. The use of such automatic testing tools is essential in\n",
    "larger development projects with multiple people working on the same code, but may also be quite useful\n",
    "for your own projects. The recommended and most widely used tool is called `pytest` or `py.test`.\n",
    "(`pytest` is simply the new name for `py.test`, they are the same tool.)\n",
    "We can run `pytest` from the terminal window, and pass it either a file name or a folder name\n",
    "as argument, as in"
   ]
  },
  {
   "cell_type": "markdown",
   "metadata": {},
   "source": [
    "        Terminal> py.test .\n",
    "        Terminal> py.test my_python_project.py\n"
   ]
  },
  {
   "cell_type": "markdown",
   "metadata": {},
   "source": [
    "If we pass it a file name, `pytest` will look for functions in this file with a name starting with `test_`, as specified by\n",
    "the naming convention above. All these functions will be identified as test functions and called by `pytest`, regardless of\n",
    "whether the test functions are actually called from elsewhere in the code. After execution, `pytest` will print a small summary of how\n",
    "many tests it found, and how many that passed and failed. For larger software projects it may be more relevant to give a folder\n",
    "name as argument to `pytest`, as in the first line above. In this case the tool will search the given folder (here `.`, the\n",
    "folder we are currently in) and all its sub-folders for Python files with names starting or ending with `test`\n",
    "(for instance `test_math.py`, `math_test.py`, etc.). All these files will be searched for test functions following the\n",
    "naming convention, and these will be run as above. Large software projects typically have thousands of test functions, and\n",
    "collecting them in separate file and using automatic tools like `pytest` is very convenient. For the smaller programs we\n",
    "write in this course it may be just as easy to write the test functions in the same file as the functions we are testing.\n",
    "\n",
    "It is important to remember that test functions run *silently* if the test passes. That is, we only get an output if\n",
    "there is an assertion error, otherwise nothing is printed to the screen. When using `pytest` we always get a\n",
    "summary specifying how many tests were run, but if we include calls to the test functions in the `.py` file, and\n",
    "run this file as normal, we will get no output if the test passes. This can be confusing, and one is sometimes left wondering\n",
    "if the test was called at all. When first writing a test function it may be useful to include a print-statement inside the\n",
    "function simply to verify that the function\n",
    "is actually called. This statement should be removed once we know the function works correctly,\n",
    "and as we get used to how test functions work."
   ]
  }
 ],
 "metadata": {
  "kernelspec": {
   "display_name": "Python 3",
   "language": "python",
   "name": "python3"
  },
  "language_info": {
   "codemirror_mode": {
    "name": "ipython",
    "version": 3
   },
   "file_extension": ".py",
   "mimetype": "text/x-python",
   "name": "python",
   "nbconvert_exporter": "python",
   "pygments_lexer": "ipython3",
   "version": "3.7.3"
  }
 },
 "nbformat": 4,
 "nbformat_minor": 2
}
