{
 "cells": [
  {
   "cell_type": "markdown",
   "metadata": {},
   "source": [
    "So far, all the values we have assigned to variables have been written directly\n",
    "into our programs. If we want a different value of a variable, we need to edit\n",
    "the code and re-run the program. Of course, this is not how we are\n",
    "used to interacting with computer programs. Usually, a program will receive\n",
    "some input from users, most often through a graphical user interface (GUI).\n",
    "However, although GUIs dominate in modern human-computer interaction, other\n",
    "ways of interacting with computer programs may be just as efficient, and in some\n",
    "cases far more suitable for processing large amounts of data and for automating\n",
    "repetitive tasks. In this chapter we will show how we can extend our programs\n",
    "with simple yet powerful systems for user input. In particular, we will see\n",
    "how a program can *receive command-line arguments* when it is run,\n",
    "how to make a program *stop and ask for user input*, and how a program can *read data from files*.\n",
    "\n",
    "A side-effect of allowing users to interact with programs is that things will\n",
    "often go wrong. Users will often provide the wrong input, and programs should\n",
    "be able to handle this without simply stopping and writing a cryptic error message to the\n",
    "screen. We will introduce a concept known as *exception handling*, and\n",
    "try-except blocks, which is a widespread system for handling\n",
    "errors in programs, used in Python and many other programming languages.\n",
    "\n",
    "Finally in this chapter, we shall see how we can *create our own modules*,\n",
    "which can be imported used in other programs just as we have done with modules\n",
    "like `math` and `sys`.\n",
    "\n",
    "# Reading input data from users\n",
    "\n",
    "So far, we have implemented various mathematical formulas that involved input\n",
    "variables and parameter, but all of these values have been hardcoded into the\n",
    "programs. Consider for instance the following formula, which gives an\n",
    "estimate of the atmospheric pressure $p$ as a function of altitude $h$:"
   ]
  },
  {
   "cell_type": "markdown",
   "metadata": {},
   "source": [
    "$$\n",
    "p = p_0 e^{-h/h_0}.\n",
    "$$"
   ]
  },
  {
   "cell_type": "markdown",
   "metadata": {},
   "source": [
    "Here $p_0$ is the pressure at sea level ($\\approx 100$ kPa) and\n",
    "$h_0$ is the scale height ($\\approx 8.4$km). A Python program for evaluating\n",
    "this formula may look like"
   ]
  },
  {
   "cell_type": "code",
   "execution_count": 1,
   "metadata": {},
   "outputs": [
    {
     "name": "stdout",
     "output_type": "stream",
     "text": [
      "34.8773231887747\n"
     ]
    }
   ],
   "source": [
    "from math import exp\n",
    "\n",
    "p0 = 100.0    #sea level pressure (kPa)\n",
    "h0 = 8400     #scale height (m)\n",
    "\n",
    "h = 8848\n",
    "p = p0 * exp(-h/h0)\n",
    "print(p)"
   ]
  },
  {
   "cell_type": "markdown",
   "metadata": {},
   "source": [
    "Of course, we are usually interested in evaluating the formula for\n",
    "different altitudes, which in this code would require editing the line\n",
    "`h = 8848` to change the respective variable.\n",
    "This may be an acceptable solution for programs we write and use ourselves,\n",
    "but it is not how we are used to interact with computers. In particular, if we write\n",
    "programs that may be used by others, editing the code in this way\n",
    "is inconvenient and may easily introduce errors.\n",
    "\n",
    "For our programs to be robust and usable they need to be able to read relevant\n",
    "input data from the user. There are several ways this can be accomplished, and\n",
    "we will here consider three different ones, each with its strengths and weaknesses.\n",
    "We will (i) create programs that stop and asks for input from the user, and then\n",
    "continue the execution when the input is received, (ii) enable our programs to\n",
    "receive *command line arguments*, i.e arguments provided when we run the program,\n",
    "and (iii) make the programs read input data from files.\n",
    "<!-- This way of user interaction is not very common in professional programs, but it is quite intuitive and easy to use, and you may have seen -->\n",
    "<!-- such behavior for instance in installers for other programs. These will often stop and ask questions about installation location etc., -->\n",
    "<!-- often through a GUI but sometimes in the standard terminal window. Second, we will see how our programs can receive -->\n",
    "<!-- command line arguments, which is a standard way of interacting with programs in the terminal window. For instance, when you -->\n",
    "\n",
    "\n",
    "### Getting input from questions and answers.\n",
    "\n",
    "A natural extension of this program is to let it ask the user for a value of `h`,\n",
    "and then compute and output the corresponding\n",
    "atmospheric pressure. A Python function called `input` provides exactly\n",
    "this functionality. For instance a code line like"
   ]
  },
  {
   "cell_type": "code",
   "execution_count": 2,
   "metadata": {},
   "outputs": [
    {
     "name": "stdout",
     "output_type": "stream",
     "text": [
      "Input the altitude (in meters):8848\n"
     ]
    },
    {
     "data": {
      "text/plain": [
       "'8848'"
      ]
     },
     "execution_count": 2,
     "metadata": {},
     "output_type": "execute_result"
    }
   ],
   "source": [
    "input('Input the altitude (in meters):')"
   ]
  },
  {
   "cell_type": "markdown",
   "metadata": {},
   "source": [
    "will make the program stop and display the text\n",
    "`Input the altitude (in meters):` in the terminal, and then continue when\n",
    "the user presses `Enter`. The complete code could look like"
   ]
  },
  {
   "cell_type": "code",
   "execution_count": 6,
   "metadata": {},
   "outputs": [
    {
     "name": "stdout",
     "output_type": "stream",
     "text": [
      "Input the altitude (in meters):2469\n",
      "74.53297273796525\n"
     ]
    }
   ],
   "source": [
    "from math import exp\n",
    "\n",
    "h = input('Input the altitude (in meters):')\n",
    "h = float(h)\n",
    "\n",
    "p0 = 100.0    #sea level pressure (kPa)\n",
    "h0 = 8400     #scale height (m)\n",
    "\n",
    "p = p0 * exp(-h/h0)\n",
    "print(p)"
   ]
  },
  {
   "cell_type": "markdown",
   "metadata": {},
   "source": [
    "Notice in particular the line `h = float(h)`, which is an example of the\n",
    "type conversions mentioned in Chapter XXX.\n",
    "The `input` function will always return a text string, which\n",
    "must be converted to an actual number before we can use it in computations.\n",
    "Forgetting this line in the code above will lead to an error\n",
    "in the line that calculates `amount`, since we would try to multiply a string\n",
    "with a float. From these considerations we can also imagine\n",
    "how easy it is to break the program above. The user can type any string,\n",
    "or simply press enter (which makes `t` an empty string), but the\n",
    "conversion `t = float(t)` only works if the string is actually a number.\n",
    "Later in this chapter we shall look at ways to handle such errors\n",
    "and make the programs more robust.\n",
    "\n",
    "As another example, consider a program that asks the user for an integer `n`\n",
    "and prints the `n` first even numbers:"
   ]
  },
  {
   "cell_type": "code",
   "execution_count": 5,
   "metadata": {},
   "outputs": [
    {
     "name": "stdout",
     "output_type": "stream",
     "text": [
      "n=? 21\n",
      "2\n",
      "4\n",
      "6\n",
      "8\n",
      "10\n",
      "12\n",
      "14\n",
      "16\n",
      "18\n",
      "20\n",
      "22\n",
      "24\n",
      "26\n",
      "28\n",
      "30\n",
      "32\n",
      "34\n",
      "36\n",
      "38\n",
      "40\n",
      "42\n"
     ]
    },
    {
     "data": {
      "text/plain": [
       "'\\nfor i in range(2, 2*n+1, 2):\\n    print(i)\\n'"
      ]
     },
     "execution_count": 5,
     "metadata": {},
     "output_type": "execute_result"
    }
   ],
   "source": [
    "n = int(input('n=? '))\n",
    "\n",
    "for i in range(1, n+1):\n",
    "    print(2*i)"
   ]
  },
  {
   "cell_type": "markdown",
   "metadata": {},
   "source": [
    "Just as the example above, the code is not very robust since it will break\n",
    "from any input that cannot be converted to an integer. We will look at ways to\n",
    "improve this later in the chapter.\n",
    "\n",
    "\n",
    "### Command-line arguments are words written after the program name.\n",
    "\n",
    "When working in a Unix-style terminal window (i.e. Mac, Linux, Windows powershell, etc)\n",
    "we often provide arguments when we run\n",
    "a command. These arguments may for instance be names of files or directories,\n",
    "for instance when copying a file with `cp`, or they may\n",
    "change the output from the command, such as `ls -l` to get more detailed output\n",
    "from the `ls` command. We frequently use commands like"
   ]
  },
  {
   "cell_type": "markdown",
   "metadata": {},
   "source": [
    "        Terminal> cp -r yourdir ../mydir\n",
    "        Terminal> ls -l\n",
    "        terminal> cd ../mydir\n"
   ]
  },
  {
   "cell_type": "markdown",
   "metadata": {},
   "source": [
    "Some commands require arguments, for instance you get an error message if\n",
    "you don't give two arguments to `cp`, while other arguments are optional.\n",
    "Standard Unix programs (`rm`, `ls`, `cp`, ...) make heavy use of\n",
    "command-line arguments, (try for instance `man ls`), because they are a very\n",
    "efficient way to provide input. We will make our Python programs do the same.\n",
    "For instance, we want a Python program to be run like"
   ]
  },
  {
   "cell_type": "markdown",
   "metadata": {},
   "source": [
    "        Terminal> python myprog.py arg1 arg2 arg3 ...\n"
   ]
  },
  {
   "cell_type": "markdown",
   "metadata": {},
   "source": [
    "where `arg1 arg2 arg3` etc. are input arguments to the program.\n",
    "\n",
    "We consider again the air pressure calculation program above, but\n",
    "now we want the altitude to be specified as a\n",
    "command line argument rather than by asking for input, as in"
   ]
  },
  {
   "cell_type": "markdown",
   "metadata": {},
   "source": [
    "        Terminal> python altitude_cml.py 2469\n",
    "        XXX\n"
   ]
  },
  {
   "cell_type": "markdown",
   "metadata": {},
   "source": [
    "To use command line arguments in a Python program, we need to import a\n",
    "module named `sys`. More specifically, the command line arguments,\n",
    "or in reality any words we type after the command `python altitude.py`, are\n",
    "automatically stored in a named `sys.argv` (short for argument values), and can be accessed from there:"
   ]
  },
  {
   "cell_type": "code",
   "execution_count": 7,
   "metadata": {},
   "outputs": [],
   "source": [
    "# Need to fill in sys.argv for use in the notebook\n",
    "import sys\n",
    "sys.argv[1] = '2469'"
   ]
  },
  {
   "cell_type": "code",
   "execution_count": 8,
   "metadata": {},
   "outputs": [
    {
     "name": "stdout",
     "output_type": "stream",
     "text": [
      "74.53297273796525\n"
     ]
    }
   ],
   "source": [
    "import sys\n",
    "from math import exp\n",
    "\n",
    "h = sys.argv[1]\n",
    "h = float(h)\n",
    "\n",
    "p0 = 100.0    #sea level pressure (kPa)\n",
    "h0 = 8400     #scale height (m)\n",
    "\n",
    "p = p0 * exp(-h/h0)\n",
    "print(p)"
   ]
  },
  {
   "cell_type": "markdown",
   "metadata": {},
   "source": [
    "Here, we see that we pull out the element with index one of the `sys.argv`\n",
    "list, and convert  this to a float. Just as input provided with the\n",
    "`input` function above, the command line arguments are always strings and\n",
    "need to be converted to floats or integers before they are used in computations.\n",
    "The `sys.argv` variable is simply a list that is created automatically when\n",
    "you run your Python program. The first element, `sys.argv[0]` is the name of\n",
    "the `.py`-file with the program. The rest of the list is made up of whatever words one\n",
    "includes after the program file name. Words separated by space become separate\n",
    "elements in the list. A nice way to get a feel for the use of\n",
    "`sys.argv` is to test a simple program that will just print out the contents\n",
    "of the list, for instance by writing this simple code into the\n",
    "file `print_cml.py`:"
   ]
  },
  {
   "cell_type": "code",
   "execution_count": 9,
   "metadata": {},
   "outputs": [
    {
     "name": "stdout",
     "output_type": "stream",
     "text": [
      "['/Users/sundnes/anaconda3/lib/python3.7/site-packages/ipykernel_launcher.py', '2469', '/Users/sundnes/Library/Jupyter/runtime/kernel-0b395007-140c-45e5-be13-f74f9673d5c0.json']\n"
     ]
    }
   ],
   "source": [
    "import sys\n",
    "print(sys.argv)"
   ]
  },
  {
   "cell_type": "markdown",
   "metadata": {},
   "source": [
    "Running this program in different ways illustrates how the list works, for instance"
   ]
  },
  {
   "cell_type": "markdown",
   "metadata": {},
   "source": [
    "        Terminal> python print_cml.py 21 string with blanks 1.3\n",
    "        ['print_cml.py', '21', 'string', 'with', 'blanks', '1.3']\n",
    "        \n",
    "        Terminal> python print_cml.py 21 \"string with blanks\" 1.3\n",
    "        ['print_cml.py', '21', 'string with blanks', '1.3']\n"
   ]
  },
  {
   "cell_type": "markdown",
   "metadata": {},
   "source": [
    "We see from the second example that if we want to read in a string containing\n",
    "blanks as a single command line argument, we need to use quotation marks to\n",
    "override the default behavior of putting each word as a separate list element.\n",
    "\n",
    "In general, the best and safest way to handle input data as above, which comes\n",
    "in as strings, is to convert it to the specific variable type that we need in\n",
    "the program. Below we shall see how such conversions can be made failsafe, so that they\n",
    "handle wrong input from the user. However, Python also offers a couple of very\n",
    "flexible functions to handle input data, named `eval` and `exec`, which are nice\n",
    "to know about. It is not recommended to use these functions extensively, especially not in larger\n",
    "programs, since the code can become messy and error-prone. However, they offer\n",
    "some flexible and fun opportunities for handling input data and are nice to\n",
    "know about. Starting with `eval`, this function simply takes a string `s` as\n",
    "input, and `eval(s)` will evaluate `s` as a regular Python expression [^eval],\n",
    "just as if it was written directly into the program.\n",
    "The following interactive Python session illustrates how eval works:"
   ]
  },
  {
   "cell_type": "code",
   "execution_count": 10,
   "metadata": {},
   "outputs": [
    {
     "data": {
      "text/plain": [
       "3"
      ]
     },
     "execution_count": 10,
     "metadata": {},
     "output_type": "execute_result"
    }
   ],
   "source": [
    "s = '1+2'\n",
    "r = eval(s)\n",
    "r"
   ]
  },
  {
   "cell_type": "code",
   "execution_count": 11,
   "metadata": {},
   "outputs": [
    {
     "data": {
      "text/plain": [
       "int"
      ]
     },
     "execution_count": 11,
     "metadata": {},
     "output_type": "execute_result"
    }
   ],
   "source": [
    "type(r)"
   ]
  },
  {
   "cell_type": "code",
   "execution_count": 12,
   "metadata": {},
   "outputs": [
    {
     "data": {
      "text/plain": [
       "[1, 6, 7.5, 1, 2]"
      ]
     },
     "execution_count": 12,
     "metadata": {},
     "output_type": "execute_result"
    }
   ],
   "source": [
    "r = eval('[1, 6, 7.5] + [1, 2]')\n",
    "r"
   ]
  },
  {
   "cell_type": "code",
   "execution_count": 13,
   "metadata": {},
   "outputs": [
    {
     "data": {
      "text/plain": [
       "list"
      ]
     },
     "execution_count": 13,
     "metadata": {},
     "output_type": "execute_result"
    }
   ],
   "source": [
    "type(r)"
   ]
  },
  {
   "cell_type": "markdown",
   "metadata": {},
   "source": [
    "Here, the line `r = eval(s)` is equivalent to writing `r = 1+2`, but\n",
    "using `eval` of course gives much more flexibility since\n",
    "the string is stored in a variable and can be read as input.\n",
    "[^eval]: This of course requires that `s` is a legal Python expression,\n",
    "otherwise the code stops with an error message.\n",
    "\n",
    "Using `eval`, a small Python program can be quite flexible. Consider for\n",
    "instance the following code"
   ]
  },
  {
   "cell_type": "code",
   "execution_count": 14,
   "metadata": {},
   "outputs": [
    {
     "name": "stdout",
     "output_type": "stream",
     "text": [
      "operand 1: [3,4]\n",
      "operand 2: [2,1]\n",
      "<class 'list'> + <class 'list'> becomes <class 'list'> with value[3, 4, 2, 1]\n"
     ]
    }
   ],
   "source": [
    "i1 = eval(input('operand 1: '))\n",
    "i2 = eval(input('operand 2: '))\n",
    "r = i1 + i2\n",
    "print(f'{type(i1)} + {type(i2)} becomes {type(r)} with value{r}')"
   ]
  },
  {
   "cell_type": "markdown",
   "metadata": {},
   "source": [
    "This code can handle multiple input types. If we save the code\n",
    "in a file `add_input.py` and run it from the terminal,\n",
    "we can for instance add integer and float:"
   ]
  },
  {
   "cell_type": "markdown",
   "metadata": {},
   "source": [
    "        Terminal> python add_input.py\n",
    "        operand 1: 1\n",
    "        operand 2: 3.0\n",
    "        <type 'int'> + <type 'float'> becomes <type 'float'>\n",
    "        with value 4\n"
   ]
  },
  {
   "cell_type": "markdown",
   "metadata": {},
   "source": [
    "or two lists:"
   ]
  },
  {
   "cell_type": "markdown",
   "metadata": {},
   "source": [
    "        Terminal> python add_input.py\n",
    "        operand 1: [1,2]\n",
    "        operand 2: [-1,0,1]\n",
    "        <type 'list'> + <type 'list'> becomes <type 'list'>\n",
    "        with value [1, 2, -1, 0, 1]\n"
   ]
  },
  {
   "cell_type": "markdown",
   "metadata": {},
   "source": [
    "We could achieve similar flexibility with conventional type conversion,\n",
    "i.e. using `float(i1)`, `int(i1)`, etc., but it would\n",
    "require much more programming to correctly process the input strings.\n",
    "The `eval` function makes such flexible input handling\n",
    "extremely compact and efficient, but it also quickly breaks if we give it\n",
    "slightly wrong input. Consider for instance\n",
    "the following examples"
   ]
  },
  {
   "cell_type": "markdown",
   "metadata": {},
   "source": [
    "        Terminal> python add_input.py\n",
    "        operand 1: (1,2)\n",
    "        operand 2: [3,4]\n",
    "        Traceback (most recent call last):\n",
    "          File \"add_input.py\", line 3, in <module>\n",
    "            r = i1 + i2\n",
    "        TypeError: can only concatenate tuple (not \"list\") to tuple\n",
    "        \n",
    "        Terminal> python add_input.py\n",
    "        operand 1: one\n",
    "        Traceback (most recent call last):\n",
    "          File \"add_input.py\", line 1, in <module>\n",
    "            i1 = eval(input('operand 1: '))\n",
    "          File \"<string>\", line 1, in <module>\n",
    "        NameError: name 'one' is not defined\n"
   ]
  },
  {
   "cell_type": "markdown",
   "metadata": {},
   "source": [
    "In the first of these examples we try to add a tuple and a list, which one\n",
    "could easily imagine would work, but Python\n",
    "does not allow this and therefore the program breaks. In the second example\n",
    "we try to make the program add two strings,\n",
    "which usually works fine, for instance `\"one\" +\"one\"` becomes the\n",
    "string `\"oneone\"`. However, the eval function breaks when\n",
    "we try to input the first string. To understand why, we need to think about\n",
    "what the corresponding line really means.\n",
    "We try to make the assignment `i1 = eval('one')`, which is equivalent to\n",
    "writing `i1 = one`, but this line does not work\n",
    "unless we have already defined a variable named one. A remedy to this problem\n",
    "is to input the strings with quotation marks,\n",
    "as in the following example"
   ]
  },
  {
   "cell_type": "markdown",
   "metadata": {},
   "source": [
    "        Terminal> python add_input.py\n",
    "        operand 1: \"one\"\n",
    "        operand 2: \"two\"\n",
    "        <class 'str'> + <class 'str'> becomes <class 'str'> with value onetwo\n"
   ]
  },
  {
   "cell_type": "markdown",
   "metadata": {},
   "source": [
    "These examples illustrate the benefits of the `eval` function, and also how\n",
    "it easily breaks programs and is generally not\n",
    "recommended for \"real\" programs. It is useful for quick prototypes, but should usually\n",
    "be avoided in programs that we expect to be used by others, or that we expect\n",
    "to use ourselves over a longer time frame.\n",
    "\n",
    "The other \"magic\" input function, named `exec` is similar to `eval`, but\n",
    "while `eval` evaluates an *expression*, `exec` will\n",
    "execute its string argument as one or more complete statements. For instance,\n",
    "if we define a string `s = \"r = 1+1\"`, `eval(s)` is illegal since the value\n",
    "of `s` (`\"r = 1+1\"`) is a statement (an assignment), and not a Python\n",
    "expression. However, `exec(s)` will work\n",
    "fine, and is the same as including the line `r = 1+1` directly in the code.\n",
    "The following code provides a very simple example to illustrate the difference"
   ]
  },
  {
   "cell_type": "code",
   "execution_count": 15,
   "metadata": {},
   "outputs": [
    {
     "name": "stdout",
     "output_type": "stream",
     "text": [
      "2 2\n"
     ]
    }
   ],
   "source": [
    "expression = '1+1'      #store expression in a string\n",
    "statement = 'r = 1+1'   # store statement in a string\n",
    "q = eval(expression)\n",
    "exec(statement)\n",
    "\n",
    "print(q,r)                 # results are the same"
   ]
  },
  {
   "cell_type": "markdown",
   "metadata": {},
   "source": [
    "We can also use `exec` to execute multiple statements, for instance using multi-line strings:"
   ]
  },
  {
   "cell_type": "code",
   "execution_count": 14,
   "metadata": {},
   "outputs": [],
   "source": [
    "somecode = '''\n",
    "def f(t):\n",
    "    term1 = exp(-a*t)*sin(w1*x)\n",
    "    term2 = 2*sin(w2*x)\n",
    "    return term1 + term2\n",
    "'''\n",
    "exec(somecode)  # execute the string as Python code"
   ]
  },
  {
   "cell_type": "markdown",
   "metadata": {},
   "source": [
    "Here, the `exec`-line will simply execute the string somecode, just as if we\n",
    "had typed the code in directly. After the execution we have defined the\n",
    "function `f(t)` and can call the function later in the code. In itself this example is\n",
    "not very useful, but if we combine exec with actual input its flexibility\n",
    "becomes more apparent. For instance, consider the following code, which will\n",
    "ask the user to type a mathematical expression involving $x$, and then embed\n",
    "this expression in a Python function:"
   ]
  },
  {
   "cell_type": "code",
   "execution_count": 15,
   "metadata": {},
   "outputs": [],
   "source": [
    "formula = input('Write a formula involving x: ')\n",
    "code = f\"\"\"\n",
    "def f(x):\n",
    "    return {formula}\n",
    "\"\"\"\n",
    "from math import *  # make sure we have sin, cos, log, etc\n",
    "exec(code)          # turn string formula into live function\n",
    "\n",
    "\n",
    "#Now the function is defined, and we can ask the\n",
    "#user for x values and evaluate f(x)\n",
    "x = 0\n",
    "while x is not None:\n",
    "    x = eval(input('Give x (None to quit): '))\n",
    "    if x is not None:\n",
    "        y = f(x)\n",
    "        print(f'f({x})={y}')"
   ]
  },
  {
   "cell_type": "markdown",
   "metadata": {},
   "source": [
    "While the program is running, the user is first asked to type a formula, which\n",
    "becomes a function. Then the user is asked to input `x` values until the\n",
    "answer is `None`, and the program evaluates the function\n",
    "`f(x)` for each `x`. The program works even if the programmer knows nothing\n",
    "about the user's choice of `f(x)` when the program is written, which\n",
    "demonstrates the flexibility offered by the `exec` and `eval` functions.\n",
    "\n",
    "To consider another example, say we want to create a program `diff.py`, which\n",
    "evaluates the numerical derivative of a mathematical expression $f(x)$ for a\n",
    "given value of $x$. The mathematical expression and the $x$ value shall be\n",
    "given as command line arguments. Usage of the program may look as follows:"
   ]
  },
  {
   "cell_type": "markdown",
   "metadata": {},
   "source": [
    "        Terminal> python diff.py 'exp(x)*sin(x)' 3.4\n",
    "        Numerical derivative: -36.6262969164\n"
   ]
  },
  {
   "cell_type": "markdown",
   "metadata": {},
   "source": [
    "The derivative of a function $f(x)$ can be approximated with a centered\n",
    "finite difference:"
   ]
  },
  {
   "cell_type": "markdown",
   "metadata": {},
   "source": [
    "$$\n",
    "f'(x)\\approx \\frac{f(x+h)-f(x-h)}{2h} ,\n",
    "$$"
   ]
  },
  {
   "cell_type": "markdown",
   "metadata": {},
   "source": [
    "for some small $h$. The implementation of the `diff.py` program may look like\n",
    "<!-- Must use pypro-t here since the notebook cannot handle sys.argv[1] -->"
   ]
  },
  {
   "cell_type": "markdown",
   "metadata": {},
   "source": [
    "```Python\n",
    "        from math import *\n",
    "        import sys\n",
    "        \n",
    "        formula = sys.argv[1]\n",
    "        code = f\"\"\"\n",
    "        def f(x):\n",
    "            return {formula}\n",
    "        \"\"\"\n",
    "        \n",
    "        exec(code)\n",
    "        x = float(sys.argv[2])\n",
    "        \n",
    "        def numerical_derivative(f, x, h=1E-5):\n",
    "            return (f(x+h) - f(x-h))/(2*h)\n",
    "        \n",
    "        print(f'Numerical derivative: {numerical_derivative(f, x)}')\n",
    "```"
   ]
  },
  {
   "cell_type": "markdown",
   "metadata": {},
   "source": [
    "Again we see that the flexibility of the `exec` function enables us to\n",
    "implement fairly advanced functionality in a very compact program.\n",
    "\n",
    "\n",
    "# Reading data from files\n",
    "Scientific data are often available in files, and reading and processing data\n",
    "from files has always been an important task in programming. The\n",
    "*data science revolution* that we have witnessed in recent years only increases\n",
    "this importance further, since all data analysis starts with being able to read\n",
    "the data from a file and store it in a suitable data structure.\n",
    "To start with a simple example, consider a file named `data.txt` containing\n",
    "a single column of numbers:"
   ]
  },
  {
   "cell_type": "markdown",
   "metadata": {},
   "source": [
    "        21.8\n",
    "        18.1\n",
    "        19\n",
    "        23\n",
    "        26\n",
    "        17.8\n"
   ]
  },
  {
   "cell_type": "markdown",
   "metadata": {},
   "source": [
    "We assume that we know in advance that there is one number per line, but we\n",
    "don't know the number of lines. How can we read these numbers into a Python program?\n",
    "\n",
    "<!-- Have to make a tmp.txt file with the right content -->"
   ]
  },
  {
   "cell_type": "code",
   "execution_count": 16,
   "metadata": {
    "collapsed": true
   },
   "outputs": [],
   "source": [
    "f = open('data.txt', 'w')\n",
    "f.write(\"\"\"21.8\n",
    "18.1\n",
    "19\n",
    "23\n",
    "26\n",
    "17.8\n",
    "\"\"\")\n",
    "f.close()"
   ]
  },
  {
   "cell_type": "markdown",
   "metadata": {},
   "source": [
    "The basic way to read a file in Python is to use the function `open`, which\n",
    "takes a file name as argument. The following code illustrates its use:"
   ]
  },
  {
   "cell_type": "markdown",
   "metadata": {},
   "source": [
    "```Python\n",
    "        infile = open('data.txt', 'r')    # open file\n",
    "        for line in infile:\n",
    "            # do something with line\n",
    "        infile.close()                    # close file\n",
    "```"
   ]
  },
  {
   "cell_type": "markdown",
   "metadata": {},
   "source": [
    "Here, the first line opens the file `data.txt` for reading, as specified\n",
    "with the letter `r`, and creates a file object named `infile`. If we want to\n",
    "open a file for writing, which we will consider later, we have to\n",
    "use `open('data.txt','w')`. The default is `r`, so for reading a file we\n",
    "could also write `infile = open('data.txt')`. However, including the `r` can\n",
    "be a good bad habit since it makes the purpose of the line more obvious to\n",
    "anyone reading the code. In the second line we enter a usual for-loop, which\n",
    "will treat the object `infile` as a list-like object, and step through the\n",
    "file line by line. For each pass through the for-loop, a single line of the\n",
    "file is read and stored in the string variable `line`. Inside the for-loop\n",
    "we add the code we want for extracting information and processing this\n",
    "line. When there are no more lines in the file the for-loop ends.\n",
    "The final line `infile.close()` closes the file and makes it unavailable\n",
    "for further reading. This line is not very important when reading from\n",
    "files, but it is a good habit to always include it, since it may make a difference when we write to files.\n",
    "\n",
    "To return to the concrete data file above, say the only processing we\n",
    "want to do is to compute the mean values of the\n",
    "numbers in the file. The complete code could look like this:"
   ]
  },
  {
   "cell_type": "code",
   "execution_count": 17,
   "metadata": {},
   "outputs": [],
   "source": [
    "infile = open('data.txt', 'r')    # open file\n",
    "mean = 0\n",
    "lines = 0\n",
    "for line in infile:\n",
    "    number = float(line)          # line is string\n",
    "    mean = mean + number\n",
    "    lines += 1\n",
    "    print(f'number={number}')\n",
    "mean = mean/lines\n",
    "print(f'The mean value is {mean}')"
   ]
  },
  {
   "cell_type": "markdown",
   "metadata": {},
   "source": [
    "This is a standard way to read files in Python, but as usual in programming there are multiple ways to do things.\n",
    "An alternative way of opening a file, which many will consider more modern, is by\n",
    "the following code:"
   ]
  },
  {
   "cell_type": "markdown",
   "metadata": {},
   "source": [
    "```Python\n",
    "        with open('data.txt', 'r') as infile:   # open file\n",
    "             for line in infile:\n",
    "             \t # do something with line\n",
    "```"
   ]
  },
  {
   "cell_type": "markdown",
   "metadata": {},
   "source": [
    "The first line, using `with` and `as` probably does not look familiar, but does\n",
    "essentially the same thing as the\n",
    "`infile = ...` file considered above. One important exception is that if we\n",
    "use `with` we see that all file reading and processing\n",
    "is put inside an indented block of code, and the file is automatically closed\n",
    "when this block is over. For this reason the use of `with` to open files\n",
    "is quite popular, and you are likely to see examples of this in Python programs\n",
    "you encounter. The keyword `with` has other uses in Python too, which we will\n",
    "not cover in this book, but it is particularly common and\n",
    "convenient for reading files and therefore worth mentioning here.\n",
    "\n",
    "For actually reading the file, after it has been opened, there are also a\n",
    "couple of alternatives to the approach used above.\n",
    "For instance, we may read all lines into a list of strings (lines), and then\n",
    "process the list items one by one:"
   ]
  },
  {
   "cell_type": "markdown",
   "metadata": {},
   "source": [
    "```Python\n",
    "        lines = infile.readlines()\n",
    "        infile.close()\n",
    "        for line in lines:\n",
    "            # process line\n",
    "```"
   ]
  },
  {
   "cell_type": "markdown",
   "metadata": {},
   "source": [
    "This approach is very similar to the one used above, but here we are done\n",
    "working directly with the file after the first line,\n",
    "and the for-loop instead traverses a list of strings. In practice there is\n",
    "not much difference. Usually, reading and processing files line by line is\n",
    "very convenient, and our good friend the for-loop makes such processing quite\n",
    "easy. However, for files with no natural line structure it may sometimes be\n",
    "easier to read the entire text file into a single string:"
   ]
  },
  {
   "cell_type": "markdown",
   "metadata": {},
   "source": [
    "```Python\n",
    "        text = infile.read()\n",
    "        # process the string text\n",
    "```"
   ]
  },
  {
   "cell_type": "markdown",
   "metadata": {},
   "source": [
    "The `data.txt` file above contained a single number for each line, which is\n",
    "usually not the case. More often, each line contains\n",
    "many data items, typically both text and numbers, and we want to treat each\n",
    "one differently. For this purpose Python's string class has a built-in\n",
    "method `split`, which is extremely useful. Say we define a string\n",
    "variable `s` with some words separated by blanks. Then, calling `s.split()`\n",
    "will simply return a list containing the individual words in the string. By\n",
    "default the words are assumed to be separated by blanks, but if we want a\n",
    "different separator we can pass this as an argument\n",
    "to `split`. The following code gives some examples:"
   ]
  },
  {
   "cell_type": "code",
   "execution_count": 18,
   "metadata": {},
   "outputs": [],
   "source": [
    "s = \"This is a typical string\"\n",
    "csvline = \"Excel;sheets;often;use;semicolon;as;separator\"\n",
    "print(s.split())\n",
    "print(csvline.split())\n",
    "print(csvline.split(';'))"
   ]
  },
  {
   "cell_type": "markdown",
   "metadata": {},
   "source": [
    "We see that the first attempt to split the `csvline` does not work very well,\n",
    "since the string contains no spaces and the\n",
    "result is therefore a list of length one. Specifying the right separator, as\n",
    "in the last line, solves the problem.\n",
    "\n",
    "To use `split` in the context of file data, assume we have a file with data about rainfall:"
   ]
  },
  {
   "cell_type": "markdown",
   "metadata": {},
   "source": [
    "        Average rainfall (in mm) in Rome: 1188 months between 1782 and 1970\n",
    "        Jan  81.2\n",
    "        Feb  63.2\n",
    "        Mar  70.3\n",
    "        Apr  55.7\n",
    "        May  53.0\n",
    "        Jun  36.4\n",
    "        Jul  17.5\n",
    "        Aug  27.5\n",
    "        Sep  60.9\n",
    "        Oct  117.7\n",
    "        Nov  111.0\n",
    "        Dec  97.9\n",
    "        Year 792.9\n"
   ]
  },
  {
   "cell_type": "markdown",
   "metadata": {},
   "source": [
    "This is a fairly typical example of a data file. Often, there is one or more\n",
    "header lines with information that we are not really interested in, and\n",
    "the rest of the lines contain a mix of text and numbers. How can we read such a file?\n",
    "<!-- Have to make a rainfall.txt file with the right content -->"
   ]
  },
  {
   "cell_type": "code",
   "execution_count": 19,
   "metadata": {
    "collapsed": true
   },
   "outputs": [],
   "source": [
    "f = open('rainfall.txt', 'w')\n",
    "f.write(\"\"\"Average rainfall (in mm) in Rome: 1188 months between 1782 and 1970\n",
    "Jan  81.2\n",
    "Feb  63.2\n",
    "Mar  70.3\n",
    "Apr  55.7\n",
    "May  53.0\n",
    "Jun  36.4\n",
    "Jul  17.5\n",
    "Aug  27.5\n",
    "Sep  60.9\n",
    "Oct  117.7\n",
    "Nov  111.0\n",
    "Dec  97.9\n",
    "Year 792.9\n",
    "\"\"\")\n",
    "f.close()"
   ]
  },
  {
   "cell_type": "markdown",
   "metadata": {},
   "source": [
    "The key to processing each line is to use `split` to separate the two words,\n",
    "and for instance store this in two separate lists for later processing:"
   ]
  },
  {
   "cell_type": "markdown",
   "metadata": {},
   "source": [
    "```Python\n",
    "        months = []\n",
    "        values = []\n",
    "        for line in infile:\n",
    "            words = line.split()  # split into words\n",
    "            months.append(words[0])\n",
    "            values.append(float(words[1]))\n",
    "```"
   ]
  },
  {
   "cell_type": "markdown",
   "metadata": {},
   "source": [
    "This recipe, based on a for-loop and then `split` to process each line, will\n",
    "be the fundamental recipe for all file processing throughout this course.\n",
    "It is important to understand it properly, and well worth spending some\n",
    "time reading small data files and playing around with `split` to get familiar\n",
    "with its use. To write the complete program for reading the rainfall data,\n",
    "we must also account for the header line and the fact that the last line\n",
    "contains data of a different type. The complete code may look like:"
   ]
  },
  {
   "cell_type": "code",
   "execution_count": 20,
   "metadata": {},
   "outputs": [],
   "source": [
    "def extract_data(filename):\n",
    "    infile = open(filename, 'r')\n",
    "    infile.readline() # skip the first line\n",
    "    months = []\n",
    "    rainfall = []\n",
    "    for line in infile:\n",
    "        words = line.split() #words[0]: month, words[1]: rainfall\n",
    "        months.append(words[0])\n",
    "        rainfall.append(float(words[1]))\n",
    "    infile.close()\n",
    "    months = months[:-1]      # Drop the \"Year\" entry\n",
    "    annual_avg = rainfall[-1] # Store the annual average\n",
    "    rainfall = rainfall[:-1]  # Redefine to contain monthly data\n",
    "    return months, rainfall, annual_avg\n",
    "\n",
    "months, values, avg = extract_data('rainfall.dat')\n",
    "print('The average rainfall for the months:')\n",
    "for month, value in zip(months, values):\n",
    "    print(month, value)\n",
    "print('The average rainfall for the year:', avg)"
   ]
  },
  {
   "cell_type": "markdown",
   "metadata": {},
   "source": [
    "This code is merely a combination of tools and functions that we have already\n",
    "introduced above and in earlier chapters, so nothing is truly new. Note however\n",
    "how we skip the first line with a single call to `infile.readline()`, which will\n",
    "simply read the first line and move to the next, thereby being ready to read the\n",
    "lines we are interested in. If there were multiple header lines we would simply\n",
    "add multiple `readline` calls to skip whatever we don't want to process.\n",
    "Notice also how list slicing is used to remove the yearly data from the lists.\n",
    "Negative indices in Python lists run backward starting from the last element,\n",
    "so `annual_avg = rainfall[-1]` will extract the last value in the `rainfall` list and assign it to\n",
    "`annual_avg`. The list slicing `months[:-1]`, `rainfall[:-1]` will extract\n",
    "all elements from the lists up to, but not including\n",
    "the last, thereby removing the yearly data from both lists.\n",
    "\n",
    "### Writing data to files.\n",
    "\n",
    "Writing data to files follows the same pattern as reading. We open a file for\n",
    "writing, and typically use a for-loop to traverse\n",
    "the data we and write it to the file using `write`:"
   ]
  },
  {
   "cell_type": "markdown",
   "metadata": {},
   "source": [
    "```Python\n",
    "        outfile = open(filename, 'w')  # 'w' for writing\n",
    "        \n",
    "        for data in somelist:\n",
    "            outfile.write(sometext + '\\n')\n",
    "        \n",
    "        outfile.close()\n",
    "```"
   ]
  },
  {
   "cell_type": "markdown",
   "metadata": {},
   "source": [
    "Notice the inclusion of `\\mathbf{n}` in the call to `write`. Unlike `print`, a call\n",
    "to `write` will not by default add a linebreak after each call, so if we don't\n",
    "add this explicitly the resulting file will consist a single long line. It is often more\n",
    "convenient to have a line-structured file, and for this we include the `\\mathbf{n}`,\n",
    "which adds a linebreak. The alternative way\n",
    "of opening files can also be used for writing, and ensures that the file is\n",
    "automatically closed:"
   ]
  },
  {
   "cell_type": "markdown",
   "metadata": {},
   "source": [
    "```Python\n",
    "        with open(filename, 'w') as outfile:  # 'w' for writing\n",
    "             for data in somelist:\n",
    "             \t outfile.write(sometext + '\\n')\n",
    "```"
   ]
  },
  {
   "cell_type": "markdown",
   "metadata": {},
   "source": [
    "One should use some caution when writing to files from Python programs. If you\n",
    "call `open(filename,'w')` with a file name that does not exist, a new file will be created.\n",
    "However, if a file with that name exists it will simply be deleted and replaced by an\n",
    "empty file. So even if we don't actually write any data to the file, simply\n",
    "opening it for reading will erase all its contents.\n",
    "A safer way to write to files is to use `open(filename,`a`), which\n",
    "will *append* data at the end of the file if it already\n",
    "exists, and create a new file if it does not exist.\n",
    "\n",
    "To look at a concrete example, consider the task of writing information\n",
    "from a nested list to a file. We have the nested list (rows and columns):"
   ]
  },
  {
   "cell_type": "code",
   "execution_count": 21,
   "metadata": {},
   "outputs": [],
   "source": [
    "data = \\\n",
    "[[ 0.75,        0.29619813, -0.29619813, -0.75      ],\n",
    " [ 0.29619813,  0.11697778, -0.11697778, -0.29619813],\n",
    " [-0.29619813, -0.11697778,  0.11697778,  0.29619813],\n",
    " [-0.75,       -0.29619813,  0.29619813,  0.75      ]]"
   ]
  },
  {
   "cell_type": "markdown",
   "metadata": {},
   "source": [
    "To write these data to a file in tabular form, we follow the steps outlined\n",
    "above and use a nested for-loop (one for-loop inside another) to traverse the\n",
    "list and write the data. The following code will do the trick:"
   ]
  },
  {
   "cell_type": "code",
   "execution_count": 22,
   "metadata": {},
   "outputs": [],
   "source": [
    "with open('tmp_table.dat', 'w') as outfile:\n",
    "    for row in data:\n",
    "        for column in row:\n",
    "            outfile.write(f'{column:14.8f}')\n",
    "        outfile.write('\\n')"
   ]
  },
  {
   "cell_type": "markdown",
   "metadata": {},
   "source": [
    "The resulting file looks like:"
   ]
  },
  {
   "cell_type": "markdown",
   "metadata": {},
   "source": [
    "            0.75000000    0.29619813   -0.29619813   -0.75000000\n",
    "            0.29619813    0.11697778   -0.11697778   -0.29619813\n",
    "           -0.29619813   -0.11697778    0.11697778    0.29619813\n",
    "           -0.75000000   -0.29619813    0.29619813    0.75000000\n"
   ]
  },
  {
   "cell_type": "markdown",
   "metadata": {},
   "source": [
    "The nicely aligned columns are caused by the format specifier given to the f-string in the `write` call.\n",
    "The code will work fine without the format specifier, but the columns will not be aligned, and we\n",
    "also need to add a space (' ') after every number,\n",
    "otherwise each line will just be a long string of numbers that are difficult to separate.\n",
    "Another part worth stepping through in the code above is the structure of the nested for-loop.\n",
    "The innermost loop traverses each row, writing the numbers one by one to the file.\n",
    "When this inner loop is done the program moves to the next\n",
    "line (`outfile.write('\\mathbf{n}')`), which writes a linebreak to the file to end\n",
    "the line. After this line we have finished one pass of the outer for-loop, and the\n",
    "program moves to the next iteration and the next line in the table. The code\n",
    "for writing each number belongs inside the innermost loop, while writing\n",
    "the linebreak is done in the outer loop, since we only want one linebreak for each line.\n",
    "\n",
    "\n",
    "# Handling errors in programs\n",
    "As demonstrated above, allowing user input in our programs will often introduce errors, and as our programs grow in\n",
    "complexity there may be multiple other sources of errors as well. Python has a general set of tools for handling such errors,\n",
    "which is commonly referred to as *exception handling* and is used in many different programming languages. As a motivating\n",
    "example, let us return to the example with the atmospheric pressure formula:"
   ]
  },
  {
   "cell_type": "markdown",
   "metadata": {},
   "source": [
    "```Python\n",
    "        import sys\n",
    "        from math import exp\n",
    "        \n",
    "        h = sys.argv[1]\n",
    "        h = float(h)\n",
    "        \n",
    "        p0 = 100.0; h0 = 8400\n",
    "        print(p0 * exp(-h/h0))\n",
    "```"
   ]
  },
  {
   "cell_type": "markdown",
   "metadata": {},
   "source": [
    "As we mentioned above, this code can easily break if the user provides a\n",
    "command line argument that cannot be converted to a\n",
    "float, i.e. any argument that is not a pure number. What may be even worse is that\n",
    "our program will fail with a fairly cryptic error message\n",
    "if the user does not include a command line argument at all, as in:"
   ]
  },
  {
   "cell_type": "markdown",
   "metadata": {},
   "source": [
    "        Terminal> python altitude_cml.py\n",
    "        Traceback (most recent call last):\n",
    "          File \"altitude_cml.py\", line 4, in ?\n",
    "            h = sys.argv[1]\n",
    "        IndexError: list index out of range\n"
   ]
  },
  {
   "cell_type": "markdown",
   "metadata": {},
   "source": [
    "How can we fix such problems, and make the program more robust with respect to\n",
    "user errors? One possible solution is to add an if-test to check if any command line arguments\n",
    "have been included:"
   ]
  },
  {
   "cell_type": "markdown",
   "metadata": {},
   "source": [
    "```Python\n",
    "        import sys\n",
    "        if len(sys.argv) < 2:\n",
    "            print('You failed to provide a command-line arg.!')\n",
    "            exit()  # abort\n",
    "        \n",
    "        h = float(sys.argv[1])\n",
    "        \n",
    "        p0 = 100.0; h0 = 8400\n",
    "        print(p0 * exp(-h/h0))\n",
    "```"
   ]
  },
  {
   "cell_type": "markdown",
   "metadata": {},
   "source": [
    "The function call `exit()` will simply abort the\n",
    "program, so this\n",
    "extension solves part of the problem. The program will still stop if it is used incorrectly, but\n",
    "it will provide a more sensible and useful error message:"
   ]
  },
  {
   "cell_type": "markdown",
   "metadata": {},
   "source": [
    "        Terminal> python altitude_cml.py\n",
    "        You failed to provide a command-line arg.!\n"
   ]
  },
  {
   "cell_type": "markdown",
   "metadata": {},
   "source": [
    "However, we only handle one of the potential errors, and using if-tests to test for\n",
    "every possible error can lead to quite\n",
    "complex programs. Instead, it is common in Python and many other languages\n",
    "to *try* to do what we intend to,\n",
    "and if it fails, we recover from the error. This principle makes use of\n",
    "a `try-except` block, which has the following general\n",
    "structure:"
   ]
  },
  {
   "cell_type": "markdown",
   "metadata": {},
   "source": [
    "```Python\n",
    "        try:\n",
    "            <statements we intend to do>\n",
    "        except:\n",
    "            <statements for handling errors>\n",
    "```"
   ]
  },
  {
   "cell_type": "markdown",
   "metadata": {},
   "source": [
    "If something goes wrong in the `try` block, Python will raise an *exception*\n",
    "and the execution jumps to the `except` block. Inside the `except` block we\n",
    "need to add our own code for *catching* the exception, basically to detect what went wrong and\n",
    "try to fix it.\n",
    "\n",
    "### Improving the temperature conversion program with try-except.\n",
    "\n",
    "To apply the try-except idea to the conversion program, we try to read `h` from\n",
    "the command-line and convert it to a float, and if this fails we tell the user\n",
    "what went wrong and stop the program:"
   ]
  },
  {
   "cell_type": "markdown",
   "metadata": {},
   "source": [
    "```Python\n",
    "        import sys\n",
    "        try:\n",
    "            h = float(sys.argv[1])\n",
    "        except:\n",
    "            print('You failed to provide a command-line arg.!')\n",
    "            exit()\n",
    "        \n",
    "        p0 = 100.0; h0 = 8400\n",
    "        print(p0 * exp(-h/h0))\n",
    "```"
   ]
  },
  {
   "cell_type": "markdown",
   "metadata": {},
   "source": [
    "One may argue that this is not very different from the one using the if-test,\n",
    "but we shall see that the try-except block gives\n",
    "some benefits. First, we can try to run this program with different input,\n",
    "which immediately reveals a problem:"
   ]
  },
  {
   "cell_type": "markdown",
   "metadata": {},
   "source": [
    "        Terminal> python altitude_cml_except1.py\n",
    "        You failed to provide a command-line arg.!\n",
    "        \n",
    "        Terminal> python altitude_cml_except1.py 2469m\n",
    "        You failed to provide a command-line arg.!\n"
   ]
  },
  {
   "cell_type": "markdown",
   "metadata": {},
   "source": [
    "Regardless of what goes wrong inside our try-block, Python will raise an\n",
    "exception which needs to be handled by the except-block. The problem in our code\n",
    "is that all possible errors will be handled in the same way.\n",
    "In the first case the problem was that there were no arguments, i.e. `sys.argv[1]`\n",
    "does not exist, which gives an `IndexError`.\n",
    "This is handled correctly by our code. In the second case we provide an argument,\n",
    "so the indexing of `sys.argv` goes fine, but the conversion to a float\n",
    "fails since Python does not know how to convert the string `21C`. This is a\n",
    "different type of error, known as a `ValueError`,\n",
    "and we see that it is not treated very well by our except block. We can improve\n",
    "the code by letting the except-block test for different types of errors, and\n",
    "handle each one differently:"
   ]
  },
  {
   "cell_type": "markdown",
   "metadata": {},
   "source": [
    "```Python\n",
    "        import sys\n",
    "        try:\n",
    "            h = float(sys.argv[1])\n",
    "        except IndexError:\n",
    "            print('No command-line argument for h!')\n",
    "            sys.exit(1)  # abort execution\n",
    "        except ValueError:\n",
    "            print(f'h must be a pure number, not {sys.argv[1]}')\n",
    "            exit()\n",
    "        \n",
    "        p0 = 100.0; h0 = 8400\n",
    "        print(p0 * exp(-h/h0))\n",
    "```"
   ]
  },
  {
   "cell_type": "markdown",
   "metadata": {},
   "source": [
    "Executions:"
   ]
  },
  {
   "cell_type": "markdown",
   "metadata": {},
   "source": [
    "        Terminal> python altitude.py\n",
    "        No command-line argument for h!\n",
    "        \n",
    "        Terminal> python altitude.py 2469m\n",
    "        The altitude must be a pure number, not \"2469m\"\n"
   ]
  },
  {
   "cell_type": "markdown",
   "metadata": {},
   "source": [
    "Of course, a drawback of this approach is that we need to predict in advance\n",
    "what could possibly go wrong inside the\n",
    "try-block, and write code to handle these errors. With some experience this\n",
    "is usually not very difficult. Python has many builtin error types, but only\n",
    "a few that are likely to occur and and need to be considered in the programs of this\n",
    "course. In the code above, if the try-block would lead to a different exception\n",
    "than what we catch in our except-block,\n",
    "the code will simply end with a standard error message from Python.\n",
    "If we want to avoid this behavior, and catch all\n",
    "possible exceptions, we could add a generic except block such as"
   ]
  },
  {
   "cell_type": "markdown",
   "metadata": {},
   "source": [
    "```Python\n",
    "        except:\n",
    "            print('Something went wrong in reading input data!')\n",
    "            exit()\n",
    "```"
   ]
  },
  {
   "cell_type": "markdown",
   "metadata": {},
   "source": [
    "Such block should be added after the `except ValueError` block in the code\n",
    "above, and will catch any exception that is\n",
    "not an IndexError nor a ValueError. In this particular case it is difficult\n",
    "to imagine what kind of error that would be,\n",
    "but if it occurs it will be caught and handled by our generic except-block.\n",
    "\n",
    "### The programmer can also raise exceptions.\n",
    "\n",
    "In the code above, the exceptions were raised by standard Python functions,\n",
    "and we wrote the code to catch them. Instead of just letting Python raise\n",
    "exceptions, we can raise our own and tailor the message to the problem at hand.\n",
    "We provide two examples on this:\n",
    "  * catching an exception, but raising a new one with an improved (tailored) error message\n",
    "\n",
    "  * raising an exception because of wrong input data\n",
    "\n",
    "The basic syntax both for raising and re-raising an exception\n",
    "is `raise ExceptionType(message)`. The following code includes both examples."
   ]
  },
  {
   "cell_type": "markdown",
   "metadata": {},
   "source": [
    "```Python\n",
    "        import sys\n",
    "        \n",
    "        def read_altitude():\n",
    "            try:\n",
    "                h = float(sys.argv[1])\n",
    "            except IndexError:\n",
    "                # re-raise, but with specific explanation:\n",
    "                raise IndexError(\n",
    "                  'The altitude must be supplied on the command line.')\n",
    "            except ValueError:\n",
    "                # re-raise, but with specific explanation:\n",
    "                raise ValueError(\n",
    "                 f'Altitude must be number, not \"{sys.argv[1]}\".')\n",
    "        \n",
    "            # h is read correctly as a number, but can have wrong value:\n",
    "            if h < -430 or h > 13000:\n",
    "                raise ValueError(f'The formula is not valid for h={h}')\n",
    "            return h\n",
    "```"
   ]
  },
  {
   "cell_type": "markdown",
   "metadata": {},
   "source": [
    "The two except-blocks here are similar to the ones we used above, but\n",
    "instead of catching the exception and handling them (i.e. stopping the program),\n",
    "the blocks here will equip the exceptions with more specific error messages, and\n",
    "then pass them on for Python to handle them. For this particular case the\n",
    "difference is not very large, and one may argue\n",
    "that our first approach is simpler and therefore better, but in larger\n",
    "programs it may often be better to re-raise exceptions and handle them elsewhere.\n",
    "The last part of the function is different, since the error raised here is not\n",
    "an error as far as Python is concerned. We can input any value of `h` into our\n",
    "formula, and unless we input a large negative number it will not give rise to a\n",
    "Python error[^overflow]. However, as an air pressure estimate it is only valid in\n",
    "the troposphere, the lower part of the earth's atmosphere. The troposphere stretches\n",
    "to around 13km above sea level, and the lowest point on earth (on land) is\n",
    "430 m below sea level. We therefore chose to let the program raise a `ValueError`\n",
    "for any `h` outside this range, even if it is not a Python error in the usual sense.\n",
    "\n",
    "[^overflow]: If we set `h` to be a large negative number, the argument to the `exp` function\n",
    "becomes large and positive, and leads to an `OverflowError`. But this error\n",
    "would only occur for values far outside the range of validity for our air pressure estimate.\n",
    "\n",
    "The following code shows how we can use the function above, and how we can catch and print the error message\n",
    "provided with the exceptions. The construction `except <error> as e` is used to be able to access the error and use\n",
    "it inside the except-block."
   ]
  },
  {
   "cell_type": "markdown",
   "metadata": {},
   "source": [
    "```Python\n",
    "        try:\n",
    "            C = read_altitude()\n",
    "        except (IndexError, ValueError) as e:\n",
    "            # print exception message and stop the program\n",
    "            print(e)\n",
    "            exit()\n",
    "```"
   ]
  },
  {
   "cell_type": "markdown",
   "metadata": {},
   "source": [
    "We can run the code in the terminal to confirm that we get the correct error messages:"
   ]
  },
  {
   "cell_type": "markdown",
   "metadata": {},
   "source": [
    "        Terminal> python altitude_cml_except2.py\n",
    "        The altitude must be supplied on the command line.\n",
    "        \n",
    "        Terminal> python altitude_cml_except2.py 1000m\n",
    "        Altitude must be number, not 1000m.\n",
    "        \n",
    "        Terminal> python altitude_cml_except2.py 20000\n",
    "        The formula is not valid for h=20000.\n",
    "        \n",
    "        Terminal> python altitude_cml_except2.py 8848\n",
    "        XXX\n"
   ]
  },
  {
   "cell_type": "markdown",
   "metadata": {},
   "source": [
    "# Making your own modules\n",
    "So far in this course we have frequently used modules like `math` and `sys`, by importing them\n",
    "into our code:"
   ]
  },
  {
   "cell_type": "code",
   "execution_count": 23,
   "metadata": {},
   "outputs": [],
   "source": [
    "from math import log\n",
    "r = log(6)   # call log function in math module\n",
    "\n",
    "import sys\n",
    "x = eval(sys.argv[1])  # access list argv in sys module"
   ]
  },
  {
   "cell_type": "markdown",
   "metadata": {},
   "source": [
    "Modules are extremely useful in Python program, as they contain a collection of useful data and functions\n",
    "(later also classes), that we can reuse in our code. But what if you have written some general and useful functions\n",
    "yourself, that you would like to reuse in more than one program? In such cases it would be convenient to make our own\n",
    "module that we can import in other programs when we need it. Fortunately, this task is very simple in Python; just\n",
    "collect the functions you want in a file, and you have a new module!\n",
    "\n",
    "To look at a specific example, say we want create a module containing the interest formula considered earlier\n",
    "and a few other useful formulas for computing with interest rates. We have the mathematical formulas"
   ]
  },
  {
   "cell_type": "markdown",
   "metadata": {},
   "source": [
    "<!-- Equation labels as ordinary links -->\n",
    "<div id=\"input:mod:eq1\"></div>\n",
    "\n",
    "$$\n",
    "\\begin{equation}\n",
    "A = P( 1 + r/100)^{n},\n",
    "\\label{input:mod:eq1} \\tag{1}\n",
    "\\end{equation}\n",
    "$$"
   ]
  },
  {
   "cell_type": "markdown",
   "metadata": {},
   "source": [
    "<!-- Equation labels as ordinary links -->\n",
    "<div id=\"input:mod:eq2\"></div>\n",
    "\n",
    "$$\n",
    "\\begin{equation} \n",
    "P = A( 1 + r/100)^{-n},\n",
    "\\label{input:mod:eq2} \\tag{2}\n",
    "\\end{equation}\n",
    "$$"
   ]
  },
  {
   "cell_type": "markdown",
   "metadata": {},
   "source": [
    "<!-- Equation labels as ordinary links -->\n",
    "<div id=\"input:mod:eq3\"></div>\n",
    "\n",
    "$$\n",
    "\\begin{equation} \n",
    "n = \\frac{\\ln {A\\over P}}{\\ln ( 1 + r/100)} ,\n",
    "\\label{input:mod:eq3} \\tag{3}\n",
    "\\end{equation}\n",
    "$$"
   ]
  },
  {
   "cell_type": "markdown",
   "metadata": {},
   "source": [
    "<!-- Equation labels as ordinary links -->\n",
    "<div id=\"input:mod:eq4\"></div>\n",
    "\n",
    "$$\n",
    "\\begin{equation} \n",
    "r =  100 \\left(\\left({A\\over P}\\right)^{1/n} - 1\\right),\n",
    "\\label{input:mod:eq4} \\tag{4}\n",
    "\\end{equation}\n",
    "$$"
   ]
  },
  {
   "cell_type": "markdown",
   "metadata": {},
   "source": [
    "where as above $P$ is the initial amount, $p$ the interest rate (percent), $n$ is the number\n",
    "of years and $A$ is the final amount.\n",
    "We now want to implement these formulas as Python functions and make a module of them. We write the\n",
    "functions in the usual way:"
   ]
  },
  {
   "cell_type": "code",
   "execution_count": 24,
   "metadata": {},
   "outputs": [],
   "source": [
    "from math import log as ln\n",
    "\n",
    "def present_amount(P, r, n):\n",
    "    return P*(1 + r/100)**n\n",
    "\n",
    "def initial_amount(A, r, n):\n",
    "    return A*(1 + r/100)**(-n)\n",
    "\n",
    "def years(P, A, r):\n",
    "    return ln(A/P)/ln(1 + r/100)\n",
    "\n",
    "def annual_rate(P, A, n):\n",
    "    return 100*((A/P)**(1.0/n) - 1)"
   ]
  },
  {
   "cell_type": "markdown",
   "metadata": {},
   "source": [
    "If we now save these functions in a file `interest.py`, it becomes a module that we can import as we are used to\n",
    "with the builtin Python modules.\n",
    "Write the module code to file:"
   ]
  },
  {
   "cell_type": "code",
   "execution_count": 25,
   "metadata": {},
   "outputs": [],
   "source": [
    "with open('interest.py', 'w') as outfile:\n",
    "    outfile.write(\"\"\"\n",
    "from math import log as ln\n",
    "\n",
    "def present_amount(A0, p, n):\n",
    "    return A0*(1 + p/(360.0*100))**n\n",
    "\n",
    "def initial_amount(A, p, n):\n",
    "    return A*(1 + p/(360.0*100))**(-n)\n",
    "\n",
    "def years(A0, A, p):\n",
    "    return ln(A/A0)/ln(1 + p/(360.0*100))\n",
    "\n",
    "def annual_rate(A0, A, n):\n",
    "    return 360*100*((A/A0)**(1.0/n) - 1)\n",
    "\"\"\")"
   ]
  },
  {
   "cell_type": "markdown",
   "metadata": {},
   "source": [
    "As an example of use, say we want to know how much time it takes to double an amount of money, for an interest\n",
    "rate of 5%. The `years` function in the module provides the right formula, and we can import and use it in our program:"
   ]
  },
  {
   "cell_type": "code",
   "execution_count": 26,
   "metadata": {},
   "outputs": [],
   "source": [
    "from interest import years\n",
    "P = 1; r = 5\n",
    "n = years(P, 2*P, p)\n",
    "print(f'Money has doubled after {n} years')"
   ]
  },
  {
   "cell_type": "markdown",
   "metadata": {},
   "source": [
    "### We can add a *test block* to a module file.\n",
    "\n",
    "If we try to run the module file above with `python interest.py` from the terminal, no output is produced since\n",
    "the functions are never called. Sometimes it can be useful to be able to add some examples of use in a module file,\n",
    "which demonstrate how the functions are called and used. However, if we add regular function calls, print statements\n",
    "and other code to the file, this code will be run when we import the module, which is usually not what we want.\n",
    "The solution is to add such example code in a *test block* at the end of the module file. The test block includes\n",
    "an if-test to check if the file is imported as a module or if it is run as a regular Python program. The code inside the test block\n",
    "is then executed only when the file is run as a program, not when it is imported as a module into another program.\n",
    "The structure of the if-test and the test block looks as follows:"
   ]
  },
  {
   "cell_type": "markdown",
   "metadata": {},
   "source": [
    "```Python\n",
    "        if __name__ == '__main__': # this test defines the test block\n",
    "            <block of statements>\n",
    "```"
   ]
  },
  {
   "cell_type": "markdown",
   "metadata": {},
   "source": [
    "The key is the first line, which checks the value of the builtin variable `__name__`. This string variable is\n",
    "automatically created and is always defined when Python runs.\n",
    "(Try putting `print(__name__)` inside one of your programs or type it\n",
    "in an interactive session.) Inside an imported module, `__name__` holds the name of the module, while in the main\n",
    "program its value is `\"__main__\"`.\n",
    "\n",
    "For our specific case, the complete test block may look like"
   ]
  },
  {
   "cell_type": "code",
   "execution_count": 27,
   "metadata": {},
   "outputs": [],
   "source": [
    "if __name__ == '__main__':\n",
    "    A = 2.31525\n",
    "    P = 2.0\n",
    "    r = 5\n",
    "    n = 3\n",
    "    A_ = present_amount(P, r, n)\n",
    "    P_ = initial_amount(A, r, n)\n",
    "    n_ = years(P, A, r)\n",
    "    r_ = annual_rate(P, A, n)\n",
    "    print(f'A={A_} ({A}) P={P_} ({A}) n={n_} ({n}) r={r_} ({p})')"
   ]
  },
  {
   "cell_type": "markdown",
   "metadata": {},
   "source": [
    "A test block is often included simply for demonstrating and documenting how a model is used, or it is used\n",
    "in files that we sometimes use as stand-alone programs and sometimes as modules. As indicated by the name, they are also\n",
    "frequently used to test modules. Using what we learnt about test functions in the previous chapter, we can do this\n",
    "by writing a standard test function that tests the functions in the module, and\n",
    "then simply call this function from the test block:"
   ]
  },
  {
   "cell_type": "code",
   "execution_count": 28,
   "metadata": {},
   "outputs": [],
   "source": [
    "def test_all_functions():\n",
    "    # Define compatible values\n",
    "    A = 2.31525; P = 2.0; r = 5.0; n = 3\n",
    "    # Given three of these, compute the remaining one\n",
    "    # and compare with the correct value (in parenthesis)\n",
    "    A_computed = present_amount(P, r, n)\n",
    "    P_computed = initial_amount(A, r, n)\n",
    "    n_computed = years(P, A, r)\n",
    "    r_computed = annual_rate(P, A, n)\n",
    "    def float_eq(a, b, tolerance=1E-12):\n",
    "        \"\"\"Return True if a == b within the tolerance.\"\"\"\n",
    "        return abs(a - b) < tolerance\n",
    "\n",
    "    success = float_eq(A_computed,  A)  and \\\n",
    "              float_eq(A0_computed, A0) and \\\n",
    "              float_eq(p_computed,  p)  and \\\n",
    "              float_eq(n_computed,  n)\n",
    "    assert success  # could add message here if desired\n",
    "\n",
    "if __name__ == '__main__':\n",
    "    test_all_functions()"
   ]
  },
  {
   "cell_type": "markdown",
   "metadata": {},
   "source": [
    "Since we have followed the naming convention of test functions, the function will be called if we run for instance\n",
    "`pytest interest.py`, but since we call it from inside the test block the test can also be run simply\n",
    "by `python interest.py`. In the latter case the test will produce no output unless there are errors.\n",
    "\n",
    "\n",
    "\n",
    "### How can Python find our new module?\n",
    "\n",
    "Python has a number of designated places where it looks for modules. The first place it looks is in the same folder as\n",
    "the main program, so if we put our module files there it will always be found. However, this is not\n",
    "very convenient if we write a more general module that we plan to use from several other programs. Such modules\n",
    "can be put in a designated directory, say `/Users/sundnes/lib/python/mymods` or any other directory name that\n",
    "you choose. Then we need to tell Python that it should look for modules in this directory, otherwise it will not find\n",
    "the module. On Unix-like systems (Linux, Mac, etc.), the standard way to tell Python where to look is to\n",
    "edit the *environment variable* called `PYTHONPATH`. Environment variables are variables that\n",
    "hold important information used by the operating system, and `PYTHONPATH` is used to specify folders\n",
    "where Python should look for modules. If you type `echo $PYTHONPATH` in the terminal window you will most likely\n",
    "get no output, since you have not added any folders names to this variable. We can put our new folder name in this\n",
    "variable by running\n",
    "command"
   ]
  },
  {
   "cell_type": "markdown",
   "metadata": {},
   "source": [
    "        export PYTHONPATH=/Users/sundnes/lib/python/mymods\n"
   ]
  },
  {
   "cell_type": "markdown",
   "metadata": {},
   "source": [
    "However, if the `PYTHONPATH` already contained some folders these would now be lost, so to be on the\n",
    "safe side it is better to use"
   ]
  },
  {
   "cell_type": "markdown",
   "metadata": {},
   "source": [
    "        export PYTHONPATH=$PYTHONPATH:/Users/sundnes/lib/python/mymods\n"
   ]
  },
  {
   "cell_type": "markdown",
   "metadata": {},
   "source": [
    "This latter command will simply add our new folder at the end of what is already in our `PYTHONPATH` variable.\n",
    "To avoid having to run this command every time we want to import some modules, we can put it in the file `.bashrc`,\n",
    "which ensures it is run automatically when we open a new terminal window. The `.bashrc` file should be in\n",
    "your home directory (e.g. `/Users/sundnes/.bashrc'), and will show up with `ls -l`. (The dot at the start of the\n",
    "filename makes this a *hidden* file, so it will not show up simply with `ls`.) If the file is not there, you can simply\n",
    "create it in an editor and save it in your home directory, and the system should find it and read it automatically\n",
    "the next time you open a terminal window. As an alternative to editing the system-wide environment variable,\n",
    "we can also add our directory to the path from inside the\n",
    "program. Putting a line like this inside your code, before import the module, should make Python able to find it:"
   ]
  },
  {
   "cell_type": "markdown",
   "metadata": {},
   "source": [
    "```Python\n",
    "        sys.path.insert(0, '/Users/sundnes/lib/python/mymods')\n",
    "```"
   ]
  },
  {
   "cell_type": "markdown",
   "metadata": {},
   "source": [
    "As an alternative to creating our own directory for modules, and then tell Python where to find it,\n",
    "we can place our modules in one of the places where Python always looks for modules. The location of these vary a\n",
    "bit between different Python installations, but the directory itself is usually named `site-packages`. If you have\n",
    "installed `numpy`[^numpy] or another package which is not part of the standard Python distribution, you can locate the\n",
    "correct directory by importing this package. For instance, type the following in an interactive Python shell:"
   ]
  },
  {
   "cell_type": "code",
   "execution_count": 29,
   "metadata": {},
   "outputs": [],
   "source": [
    "import numpy\n",
    "numpy.__file__"
   ]
  },
  {
   "cell_type": "markdown",
   "metadata": {},
   "source": [
    "The last line reveals the location of the `site-packages` directory, and placing your own modules here will ensure that\n",
    "Python finds them.\n",
    "\n",
    "[^numpy]: Numpy is a package for numerical calculations. It is not part of the\n",
    "standard Python distribution, but it is often installed automatically if you install Python from\n",
    "other sources, for instance from  Anaconda.  Otherwise it can be installed for\n",
    "instance with `pip` or other tools. The Numpy package will be\n",
    "used extensively in the next chapter."
   ]
  }
 ],
 "metadata": {
  "kernelspec": {
   "display_name": "Python 3",
   "language": "python",
   "name": "python3"
  },
  "language_info": {
   "codemirror_mode": {
    "name": "ipython",
    "version": 3
   },
   "file_extension": ".py",
   "mimetype": "text/x-python",
   "name": "python",
   "nbconvert_exporter": "python",
   "pygments_lexer": "ipython3",
   "version": "3.7.3"
  }
 },
 "nbformat": 4,
 "nbformat_minor": 2
}
