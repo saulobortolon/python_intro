{
 "cells": [
  {
   "cell_type": "markdown",
   "metadata": {},
   "source": [
    "When reading the chapter title *Object-oriented programming*, one may wonder\n",
    "why this title is introduced now. We have used objects\n",
    "since the chapter [ch:formulas](#ch:formulas), and we started making our own\n",
    "classes and object types\n",
    "in the chapter [ch:class](#ch:class), so what is new in the chapter [ch:oo](#ch:oo)? The answer to this is that\n",
    "the term *object-oriented programming (OOP)* may have two different meanings.\n",
    "The first is simply programming with classes and objects and classes, which\n",
    "we introduced in Chapter 7. This is more commonly\n",
    "referred to as object-*based* programming. The second meaning\n",
    "of OOP is programming with *class hierarchies*,  which are\n",
    "families of classes that inherit methods and attributes from each other.\n",
    "This is the topic of the present chapter. We will learn how to collect\n",
    "classes in families (hierarchies) and let child classes inherit\n",
    "attributes and methods from parent classes.\n",
    "\n",
    "# Class hierarchies and inheritance\n",
    "A class hierarchy is a family of closely related classes, organized in a\n",
    "hierarchical manner. A key concept is *inheritance*, which means that\n",
    "child classes can inherit attributes and methods from parent classes.\n",
    "A typical strategy is to write a general class as a parent class (base class),\n",
    "and then let special cases be represented as child classes (subclasses).\n",
    "This approach can often save much typing and code duplication. As usual, the\n",
    "easiest way to introduce the topic is to look at some examples.\n",
    "\n",
    "### Classes for lines and parabolas.\n",
    "\n",
    "As a first example, let us create a class for representing and evaluating straight lines;\n",
    "$y=c_0 + c_1x$. Following the concepts and ideas introduced in\n",
    "the chapter [ch:class](#ch:class), the implementation of the class may look as follows"
   ]
  },
  {
   "cell_type": "code",
   "execution_count": 1,
   "metadata": {},
   "outputs": [],
   "source": [
    "import numpy as np\n",
    "\n",
    "class Line:\n",
    "    def __init__(self, c0, c1):\n",
    "        self.c0, self.c1 = c0, c1\n",
    "\n",
    "    def __call__(self, x):\n",
    "        return self.c0 + self.c1*x\n",
    "\n",
    "    def table(self, L, R, n):\n",
    "        \"\"\"Return a table with n points for L <= x <= R.\"\"\"\n",
    "        s = ''\n",
    "        for x in np.linspace(L, R, n):\n",
    "            y = self(x)\n",
    "            s += f'{x:12g} {y:12g}\\n'\n",
    "        return s"
   ]
  },
  {
   "cell_type": "markdown",
   "metadata": {},
   "source": [
    "We see that we have equipped the class with a standard constructor, a `__call__` special method\n",
    "for evaluating the linear function, and a method `table` for writing a table of $x$ and $y$ values.\n",
    "Say we now want to write a similar class for evaluating a parabola $y=c_0 + c_1x + c_2x^2$.\n",
    "The code could look like:"
   ]
  },
  {
   "cell_type": "code",
   "execution_count": 2,
   "metadata": {},
   "outputs": [],
   "source": [
    "class Parabola:\n",
    "    def __init__(self, c0, c1, c2):\n",
    "        self.c0, self.c1, self.c2 = c0, c1, c2\n",
    "\n",
    "    def __call__(self, x):\n",
    "        return self.c2*x**2 + self.c1*x + self.c0\n",
    "\n",
    "    def table(self, L, R, n):\n",
    "        \"\"\"Return a table with n points for L <= x <= R.\"\"\"\n",
    "        s = ''\n",
    "        for x in linspace(L, R, n):\n",
    "            y = self(x)\n",
    "            s += f'{x:12g} {y:12g}\\n'\n",
    "        return s"
   ]
  },
  {
   "cell_type": "markdown",
   "metadata": {},
   "source": [
    "We observe that the two classes are nearly identical, only differing in the parts\n",
    "that involve `c2`. Although we could very quickly just copy all the code from the `Line` class\n",
    "and edit the small parts that are needed, such duplication of code is usually a bad idea.\n",
    "At some point we may need to make some changes to the code, for instance to correct an error or\n",
    "improve the functionality, and having to correct the same error in multiple places is a recipe for\n",
    "wasting time. So, is there a way we can utilize the class `Line` code in `Parabola` without\n",
    "resorting to copy-paste? This is exactly what inheritance is about.\n",
    "\n",
    "Look at the following class definition:"
   ]
  },
  {
   "cell_type": "code",
   "execution_count": 3,
   "metadata": {},
   "outputs": [],
   "source": [
    "class Parabola(Line):\n",
    "    pass"
   ]
  },
  {
   "cell_type": "markdown",
   "metadata": {},
   "source": [
    "Here `pass` is just a Python keyword that can be used wherever Python expects to find some code, but we don't really want to define anything. So at\n",
    "first site this `Parabola` class seems to be empty. Notice however the class definition `class Parabola(Line)`, which means that parabola *inherits*\n",
    "all methods and attributes from `Line`. The new `Parabola` class therefore has attributes `c0` and `c1` and three methods `__init__`, `__call__`, and\n",
    "`table`. `Line` is a *base class* (or parent class, superclass) , `Parabola` is a *subclass*  (or child class, derived class). So the new `Parabola` class\n",
    "is not as useless as it first seemed, but it is still just a copy of the `Line` class. To make it represent a parabola, we need to add the missing code,\n",
    "i.e. the code that differs between `Line` and `Parabola`. The principle when creating such subclasses is to reuse as much as possible from the base class,\n",
    "and add only what is needed in the subclass. In this way we avoid duplicating code. Inspecting the two original classes above, we see that the\n",
    "`Parabola` class must add code to `Line`'s constructor (an extra `c2` attribute), and an extra term in `__call__`, but `table` can be used unaltered.\n",
    "The full definition of `Parabola` as a subclass of `Line` becomes:"
   ]
  },
  {
   "cell_type": "code",
   "execution_count": 4,
   "metadata": {},
   "outputs": [],
   "source": [
    "class Parabola(Line):\n",
    "    def __init__(self, c0, c1, c2):\n",
    "        super().__init__(c0, c1)  # Line stores c0, c1\n",
    "        self.c2 = c2\n",
    "\n",
    "    def __call__(self, x):\n",
    "        return super().__call__(x) + self.c2*x**2"
   ]
  },
  {
   "cell_type": "markdown",
   "metadata": {},
   "source": [
    "To maximize code reuse, we let the `Parabola` class call the methods from `Line`, and then add the parts that are missing. A subclass can always access\n",
    "its base class using the builtin function `super()`, and this is the preferred way to involve methods from the base class. We could, however, also\n",
    "use the class name directly, for instance `Line.__init__(self,c0,c1)`. In general, these two methods for invoking superclass methods look like:"
   ]
  },
  {
   "cell_type": "markdown",
   "metadata": {},
   "source": [
    "```Python\n",
    "        SuperClassName.method(self, arg1, arg2, ...)\n",
    "        super().method(arg1, arg2, ...)\n",
    "```"
   ]
  },
  {
   "cell_type": "markdown",
   "metadata": {},
   "source": [
    "Notice the difference between the two approaches. When using the class name directly we need to include `self` as argument, while this is handled\n",
    "automatically when using `super()`. The use of `super()` is usually preferred, but in most cases the two approaches are equivalent.\n",
    "What exactly have we gained by creating a subclass?\n",
    "  * Class `Parabola` just adds code to the already existing code in class `Line` - no duplication of storing `c0` and `c1`, and computing $c_0+c_1x$\n",
    "\n",
    "  * Class `Parabola` also has a `table` method - it is inherited and did not need to be written\n",
    "\n",
    "  * `__init__` and `__call__` are *overridden* or *redefined* in the subclass, with no code duplication\n",
    "\n",
    "We use the `Parabola` class and call its methods just as if they were implemented in the class directly:"
   ]
  },
  {
   "cell_type": "code",
   "execution_count": 5,
   "metadata": {},
   "outputs": [
    {
     "name": "stdout",
     "output_type": "stream",
     "text": [
      "8.5\n",
      "           0            1\n",
      "         0.5          0.5\n",
      "           1            1\n",
      "\n"
     ]
    }
   ],
   "source": [
    "p = Parabola(1, -2, 2)\n",
    "p1 = p(2.5)\n",
    "print(p1)\n",
    "print(p.table(0, 1, 3))"
   ]
  },
  {
   "cell_type": "markdown",
   "metadata": {},
   "source": [
    "### What does inheritance really mean?\n",
    "\n",
    "From a practical viewpoint, and for the examples in this book, the point of inheritance is to reuse methods and attributes from the\n",
    "base class, and minimize code duplication. On a more theoretical level, inheritance should be thought of as an \"is-a\"-relationship between the\n",
    "the two classes. By this we mean that if `Parabola` is a subclass of `Line`, an instance of `Parabola` is also a `Line` instance. The `Parabola` class\n",
    "is thought of as a special case of the `Line` class, and therefore every `Parabola` is also a `Line`, but not vice versa. We can\n",
    "check class type and class relations with the builtin functions `isinstance(obj, type)` and `issubclass(subclassname, superclassname)`:"
   ]
  },
  {
   "cell_type": "code",
   "execution_count": 6,
   "metadata": {},
   "outputs": [
    {
     "data": {
      "text/plain": [
       "True"
      ]
     },
     "execution_count": 6,
     "metadata": {},
     "output_type": "execute_result"
    }
   ],
   "source": [
    "l = Line(-1, 1)\n",
    "isinstance(l, Line)"
   ]
  },
  {
   "cell_type": "code",
   "execution_count": 7,
   "metadata": {},
   "outputs": [
    {
     "data": {
      "text/plain": [
       "False"
      ]
     },
     "execution_count": 7,
     "metadata": {},
     "output_type": "execute_result"
    }
   ],
   "source": [
    "isinstance(l, Parabola)"
   ]
  },
  {
   "cell_type": "code",
   "execution_count": 8,
   "metadata": {},
   "outputs": [
    {
     "data": {
      "text/plain": [
       "True"
      ]
     },
     "execution_count": 8,
     "metadata": {},
     "output_type": "execute_result"
    }
   ],
   "source": [
    "p = Parabola(-1, 0, 10)\n",
    "isinstance(p, Parabola)"
   ]
  },
  {
   "cell_type": "code",
   "execution_count": 9,
   "metadata": {},
   "outputs": [
    {
     "data": {
      "text/plain": [
       "True"
      ]
     },
     "execution_count": 9,
     "metadata": {},
     "output_type": "execute_result"
    }
   ],
   "source": [
    "isinstance(p, Line)"
   ]
  },
  {
   "cell_type": "code",
   "execution_count": 10,
   "metadata": {},
   "outputs": [
    {
     "data": {
      "text/plain": [
       "True"
      ]
     },
     "execution_count": 10,
     "metadata": {},
     "output_type": "execute_result"
    }
   ],
   "source": [
    "issubclass(Parabola, Line)"
   ]
  },
  {
   "cell_type": "code",
   "execution_count": 11,
   "metadata": {},
   "outputs": [
    {
     "data": {
      "text/plain": [
       "False"
      ]
     },
     "execution_count": 11,
     "metadata": {},
     "output_type": "execute_result"
    }
   ],
   "source": [
    "issubclass(Line, Parabola)"
   ]
  },
  {
   "cell_type": "code",
   "execution_count": 12,
   "metadata": {},
   "outputs": [
    {
     "data": {
      "text/plain": [
       "True"
      ]
     },
     "execution_count": 12,
     "metadata": {},
     "output_type": "execute_result"
    }
   ],
   "source": [
    "p.__class__ == Parabola"
   ]
  },
  {
   "cell_type": "code",
   "execution_count": 13,
   "metadata": {},
   "outputs": [
    {
     "data": {
      "text/plain": [
       "'Parabola'"
      ]
     },
     "execution_count": 13,
     "metadata": {},
     "output_type": "execute_result"
    }
   ],
   "source": [
    "p.__class__.__name__   # string version of the class name"
   ]
  },
  {
   "cell_type": "markdown",
   "metadata": {},
   "source": [
    "We will not use these methods much in practical applications[^isinstance], but they are very useful for getting a feel for class relationships when\n",
    "learning OOP.\n",
    "\n",
    "[^isinstance]:In fact, if you have to use `isinstance` in your code to check what kind of object you are working with it is usually a sign that\n",
    "the design of the program is wrong. There are exceptions, but normally `isinstance` and `issubclass` should only be used for learning and debugging.\n",
    "\n",
    "Mathematically oriented readers may have noticed a logical fault in the small class hierarchy we have presented so far. We stated that a subclass\n",
    "is usually thought of as a special case of the base class, but a parabola is not really a special case of a straight line. In fact it is the\n",
    "other way around, a line $c_0+c_1x$ is a parabola $c_0+c_1x+c_2x^2$ with $c_2=0$. Could then `Line` be a subclass of `Parabola`? Certainly, and many\n",
    "will prefer this relation between a line and a parabola, since it follows the usual is-a relationship between a subclass and its base.\n",
    "The code may look like:"
   ]
  },
  {
   "cell_type": "code",
   "execution_count": 14,
   "metadata": {},
   "outputs": [],
   "source": [
    "class Parabola:\n",
    "    def __init__(self, c0, c1, c2):\n",
    "        self.c0, self.c1, self.c2 = c0, c1, c2\n",
    "\n",
    "    def __call__(self, x):\n",
    "        return self.c2*x**2 + self.c1*x + self.c0\n",
    "\n",
    "    def table(self, L, R, n):\n",
    "        \"\"\"Return a table with n points for L <= x <= R.\"\"\"\n",
    "        s = ''\n",
    "        for x in linspace(L, R, n):\n",
    "            y = self(x)\n",
    "            s += '%12g %12g\\n' % (x, y)\n",
    "        return s\n",
    "\n",
    "class Line(Parabola):\n",
    "    def __init__(self, c0, c1):\n",
    "        super().__init__(c0, c1, 0)"
   ]
  },
  {
   "cell_type": "markdown",
   "metadata": {},
   "source": [
    "Notice that this version allows even more code reuse than the previous one, since both `__call__` and `table` can be reused without changes.\n",
    "\n",
    "\n",
    "# Example; classes for numerical differentiation\n",
    "Common tasks in scientific computing, such as differentiation and integration,\n",
    "can be solved with a large variety of numerical methods. Many such methods\n",
    "are closely related, and can easily be grouped into families of methods that\n",
    "are very suitable for implementing in a class hierarchy.\n",
    "As a first example we consider methods for numerical differentiation. The\n",
    "simplest formula is a one-sided finite difference;"
   ]
  },
  {
   "cell_type": "markdown",
   "metadata": {},
   "source": [
    "$$\n",
    "f'(x) \\approx {f(x+h)-f(x)\\over h} ,\n",
    "$$"
   ]
  },
  {
   "cell_type": "markdown",
   "metadata": {},
   "source": [
    "which can be implemented in the following class:"
   ]
  },
  {
   "cell_type": "code",
   "execution_count": 15,
   "metadata": {},
   "outputs": [],
   "source": [
    "class Derivative:\n",
    "    def __init__(self, f, h=1E-5):\n",
    "        self.f = f\n",
    "        self.h = float(h)\n",
    "\n",
    "    def __call__(self, x):\n",
    "        f, h = self.f, self.h      # make short forms\n",
    "        return (f(x+h) - f(x))/h"
   ]
  },
  {
   "cell_type": "markdown",
   "metadata": {},
   "source": [
    "To use the `Derivative` class, we simply define a function `f(x)`,\n",
    "create an instance of the class, and call it as if it was a regular function\n",
    "(effectively calling the `__call__` method behind the scenes):"
   ]
  },
  {
   "cell_type": "code",
   "execution_count": 16,
   "metadata": {},
   "outputs": [
    {
     "name": "stdout",
     "output_type": "stream",
     "text": [
      "-3.239208844119101\n"
     ]
    }
   ],
   "source": [
    "from math import exp, sin, pi\n",
    "\n",
    "def f(x):\n",
    "    return exp(-x)*sin(4*pi*x)\n",
    "\n",
    "dfdx = Derivative(f)\n",
    "print(dfdx(1.2))"
   ]
  },
  {
   "cell_type": "markdown",
   "metadata": {},
   "source": [
    "However, there are numerous other formulas for numerical differentiation,\n",
    "for instance"
   ]
  },
  {
   "cell_type": "markdown",
   "metadata": {},
   "source": [
    "$$\n",
    "\\begin{align*}\n",
    "f'(x) &= \\frac{f(x+h)-f(x)}{h} + {\\cal O}(h) ,\\\\\n",
    "f'(x) &= \\frac{f(x)-f(x-h)}{h} + {\\cal O}(h) ,\\\\\n",
    "f'(x) &= \\frac{f(x+h)-f(x-h)}{2h} + {\\cal O}(h^2) ,\\\\\n",
    "f'(x) &=  \\frac{4}{3}\\frac{f(x+h)-f(x-h)}{2h}\n",
    "  -\\frac{1}{3}\\frac{f(x+2h) - f(x-2h)}{4h} + {\\cal O}(h^4), \\\\\n",
    "f'(x) &=  \\frac{3}{2}\\frac{f(x+h)-f(x-h)}{2h}\n",
    "  -\\frac{3}{5}\\frac{f(x+2h) - f(x-2h)}{4h} + \\nonumber\\\\\n",
    "&  \\frac{1}{10}\\frac{f(x+3h) - f(x-3h)}{6h} + {\\cal O}(h^6), \\\\\n",
    "f'(x) &=  \\frac{1}{h}\\left(\n",
    "-\\frac{1}{6}f(x+2h) + f(x+h) - \\frac{1}{2}f(x) - \\frac{1}{3}f(x-h)\\right)\n",
    "  + {\\cal O}(h^3).\n",
    "\\end{align*}\n",
    "$$"
   ]
  },
  {
   "cell_type": "markdown",
   "metadata": {},
   "source": [
    "We can easily make a module that offers all of the formulas:"
   ]
  },
  {
   "cell_type": "code",
   "execution_count": 17,
   "metadata": {},
   "outputs": [],
   "source": [
    "class Forward1:\n",
    "    def __init__(self, f, h=1E-5):\n",
    "        self.f, self.h = f, h\n",
    "\n",
    "    def __call__(self, x):\n",
    "        f, h = self.f, self.h\n",
    "        return (f(x+h) - f(x))/h\n",
    "\n",
    "class Backward1:\n",
    "    def __init__(self, f, h=1E-5):\n",
    "        self.f, self.h = f, h\n",
    "\n",
    "    def __call__(self, x):\n",
    "        f, h = self.f, self.h\n",
    "        return (f(x) - f(x-h))/h\n",
    "\n",
    "class Central2:\n",
    "    def __init__(self, f, h=1E-5):\n",
    "        self.f, self.h = f, h\n",
    "\n",
    "    def __call__(self, x):\n",
    "        f, h = self.f, self.h\n",
    "        return (f(x+h) - f(x-h))/(2*h)"
   ]
  },
  {
   "cell_type": "markdown",
   "metadata": {},
   "source": [
    "The problem with this code is of course that all the constructors are\n",
    "identical, so we duplicate lots of code. Although duplicating this simple\n",
    "constructor may not be a big problem, it may easily lead to errors if we want\n",
    "to change the constructor later, and is therefore worth avoiding.\n",
    "As mentioned above, a general idea of OOP is to place\n",
    "code common to many classes in a superclass and inherit that code.\n",
    "In this case, we can make a superclass containing the constructor, and\n",
    "let the different subclasses implement their own version of the `__call__` method.\n",
    "The superclass will be very simple, and not really useful on its own:"
   ]
  },
  {
   "cell_type": "code",
   "execution_count": 18,
   "metadata": {},
   "outputs": [],
   "source": [
    "class Diff:\n",
    "    def __init__(self, f, h=1E-5):\n",
    "        self.f, self.h = f, h"
   ]
  },
  {
   "cell_type": "markdown",
   "metadata": {},
   "source": [
    "The subclasses for the 1st-order forward formula and the 2nd and\n",
    "4th order central difference formulas may then look like"
   ]
  },
  {
   "cell_type": "code",
   "execution_count": 19,
   "metadata": {},
   "outputs": [],
   "source": [
    "class Forward1(Diff):\n",
    "    def __call__(self, x):\n",
    "        f, h = self.f, self.h\n",
    "        return (f(x+h) - f(x))/h\n",
    "\n",
    "class Central2(Diff):\n",
    "    def __call__(self,x):\n",
    "        f, h = self.f, self.h\n",
    "        return (f(x+h)-f(x-h))/(2*h)\n",
    "\n",
    "class Central4(Diff):\n",
    "    def __call__(self, x):\n",
    "        f, h = self.f, self.h\n",
    "        return (4./3)*(f(x+h)   - f(x-h))  /(2*h) - \\\n",
    "               (1./3)*(f(x+2*h) - f(x-2*h))/(4*h)"
   ]
  },
  {
   "cell_type": "markdown",
   "metadata": {},
   "source": [
    "To use this simple class hierarchy in an example, say we want to compute\n",
    "the derivative of $f(x)=\\sin x$ for $x=\\pi$ with the fourth order\n",
    "central difference formula:"
   ]
  },
  {
   "cell_type": "code",
   "execution_count": 20,
   "metadata": {},
   "outputs": [
    {
     "data": {
      "text/plain": [
       "-1.000000000006551"
      ]
     },
     "execution_count": 20,
     "metadata": {},
     "output_type": "execute_result"
    }
   ],
   "source": [
    "from math import sin\n",
    "mycos = Central4(sin)\n",
    "mycos(pi)"
   ]
  },
  {
   "cell_type": "markdown",
   "metadata": {},
   "source": [
    "Here, the line `mycos = Central4(sin)` will create an instance of the\n",
    "`Central4` class by calling the constructor inherited from the superclass,\n",
    "while `mycos(pi)` calls the `__call__` method implemented in the subclass.\n",
    "\n",
    "As indicated by the $O(h^n)$ terms in the formulas above, the methods\n",
    "have different accuracy. We can empirically investigate the accuracy of the numerical\n",
    "differentiation formulas, using the class hierarchy created above.\n",
    "Using $f(x)=\\sin x, x = \\pi/4$ as an example, the code may look as follows"
   ]
  },
  {
   "cell_type": "code",
   "execution_count": 42,
   "metadata": {},
   "outputs": [
    {
     "name": "stdout",
     "output_type": "stream",
     "text": [
      "    h     Forward1    Central2   Central4\n",
      "       1 3.53554e-06 1.39637e-11 2.86149e-12\n",
      "     0.5 3.53554e-06 1.39637e-11 2.86149e-12\n",
      "    0.25 3.53554e-06 1.39637e-11 2.86149e-12\n",
      "   0.125 3.53554e-06 1.39637e-11 2.86149e-12\n",
      "  0.0625 3.53554e-06 1.39637e-11 2.86149e-12\n",
      "/bin/sh: ec: command not found\r\n"
     ]
    },
    {
     "data": {
      "text/plain": [
       "'\\n  * Sample function: $f(x)=\\\\exp{(-10x)}$\\n  * See the book for a little program that computes the errors:\\n\\n!bc pycod\\n.   h        Forward1        Central2        Central4\\n6.25E-02 -2.56418286E+00  6.63876231E-01 -5.32825724E-02\\n3.12E-02 -1.41170013E+00  1.63556996E-01 -3.21608292E-03\\n1.56E-02 -7.42100948E-01  4.07398036E-02 -1.99260429E-04\\n7.81E-03 -3.80648092E-01  1.01756309E-02 -1.24266603E-05\\n3.91E-03 -1.92794011E-01  2.54332554E-03 -7.76243120E-07\\n1.95E-03 -9.70235594E-02  6.35795004E-04 -4.85085874E-08\\n'"
      ]
     },
     "execution_count": 42,
     "metadata": {},
     "output_type": "execute_result"
    }
   ],
   "source": [
    "from math import pi, sin, cos\n",
    "import numpy as np\n",
    "\n",
    "#f1 = Forward1(sin); c2 = Central2(sin); c4 = Central4(sin)\n",
    "h = [1.0/(2**i) for i in range(5)]\n",
    "\n",
    "ref = cos(pi/4)\n",
    "\n",
    "print(f'    h     Forward1    Central2   Central4')\n",
    "for h_ in h:\n",
    "    f1 = Forward1(sin,h_); c2 = Central2(sin,h_); c4 = Central4(sin,h_)\n",
    "    e1 = abs(f1(pi/4)-ref)\n",
    "    e2 = abs(c2(pi/4)-ref)\n",
    "    e4 = abs(c4(pi/4)-ref)\n",
    "    print(f'{h_:>8g} {e1:>10g} {e2:>10g} {e4:>10g}')\n"
   ]
  },
  {
   "cell_type": "markdown",
   "metadata": {},
   "source": [
    "Observations:\n",
    "\n",
    "  * Halving $h$ from row to row reduces the errors by a factor of 2, 4 and 16, i.e, the errors go like $h$, $h^2$, and $h^4$\n",
    "\n",
    "  * `Central4` has really superior accuracy compared with `Forward1`\n",
    "\n",
    "# Example; classes for numerical integration\n",
    "Just as numerical differentiation, numerical integration is a mainstay of\n",
    "computational mathematics, and there are numerous formulas to choose from.\n",
    "All of them can be written as a sum on the form"
   ]
  },
  {
   "cell_type": "markdown",
   "metadata": {},
   "source": [
    "$$\n",
    "\\int_a^b f(x)dx \\approx \\sum_{i=0}^{n-1} w_i f(x_i) ,\n",
    "$$"
   ]
  },
  {
   "cell_type": "markdown",
   "metadata": {},
   "source": [
    "and the\n",
    "Based on this general formula, different methods are realized by choosing the integration points\n",
    "$x_i$ and associated weights $w_i$. For instance, the Trapezoidal rule has $h=(b-a)/(n-1)$ and"
   ]
  },
  {
   "cell_type": "markdown",
   "metadata": {},
   "source": [
    "$$\n",
    "x_i = a+ih, \\quad w_0=w_{n-1}={h\\over2},\\ w_i=h\\ (i\\neq 0,n-1) ,\n",
    "$$"
   ]
  },
  {
   "cell_type": "markdown",
   "metadata": {},
   "source": [
    "the midpoint rule has $h=(b-a)/n$ and"
   ]
  },
  {
   "cell_type": "markdown",
   "metadata": {},
   "source": [
    "$$\n",
    "x_i = a + {h\\over 2} + ih,\\quad w_i=h ,\n",
    "$$"
   ]
  },
  {
   "cell_type": "markdown",
   "metadata": {},
   "source": [
    "while Simpson's rule has"
   ]
  },
  {
   "cell_type": "markdown",
   "metadata": {},
   "source": [
    "$$\n",
    "\\begin{align*}\n",
    "x_i &= a+ih,\\quad h={b-a\\over n-1}, \\\\\n",
    "w_0 &=w_{n-1}={h\\over6}, \\\\\n",
    "w_i &= {h\\over3}\\hbox{ for }i\\hbox{ even},\\quad w_i={2h\\over3}\\hbox{ for }i\\hbox{ odd} .\n",
    "\\end{align*}\n",
    "$$"
   ]
  },
  {
   "cell_type": "markdown",
   "metadata": {},
   "source": [
    "Other methods have more complicated formulas for $w_i$ and $x_i$\n",
    "\n",
    "A numerical integration formula can be implemented as a class, with\n",
    "$a$, $b$ and $n$ as attributes and an `integrate` method to evaluate the formula and compute\n",
    "the integral. As with the family of numerical differentiation methods considered above,\n",
    "all such classes will be quite similar. The evaluation of $\\sum_jw_jf(x_j)$ is the same,\n",
    "and the only difference between the methods is the definition of the points and\n",
    "weights. Following the ideas above, it makes sense to place all common code in\n",
    "a superclass, and code specific to the different methods in subclasses. Here, we can\n",
    "put $\\sum_jw_jf(x_j)$ in a superclass (method `integrate`), and let the subclasses extend this\n",
    "class with code specific to a specific formula, i.e. $w_i$ and $x_i$. This method-specific code\n",
    "can be placed inside a method, for instance named `construct_rule`. The superclass for the numerical\n",
    "integration hierarchy may look like this:"
   ]
  },
  {
   "cell_type": "code",
   "execution_count": 22,
   "metadata": {},
   "outputs": [],
   "source": [
    "class Integrator:\n",
    "    def __init__(self, a, b, n):\n",
    "        self.a, self.b, self.n = a, b, n\n",
    "        self.points, self.weights = self.construct_method()\n",
    "\n",
    "    def construct_method(self):\n",
    "        raise NotImplementedError('no rule in class %s' % \\\n",
    "                                  self.__class__.__name__)\n",
    "\n",
    "    def integrate(self, f):\n",
    "        s = 0\n",
    "        for i in range(len(self.weights)):\n",
    "            s += self.weights[i]*f(self.points[i])\n",
    "        return s\n",
    "\n",
    "    def vectorized_integrate(self, f):\n",
    "        # f must be vectorized for this to work\n",
    "        return dot(self.weights, f(self.points))"
   ]
  },
  {
   "cell_type": "markdown",
   "metadata": {},
   "source": [
    "Notice the implementation of `construct_method`, which will raise an error if it is called, indicating\n",
    "that the only purpose of the `Integrator` is as a superclass, it should not be used directly.\n",
    "Alternatively, we could of course just not include `construct_method` method in the superclass at all.\n",
    "However, the approach\n",
    "used here makes it even more obvious that the class is just a superclass and that this method has\n",
    "to be implemented in subclasses.\n",
    "\n",
    "The superclass provides a common framework for implementing the different methods, which can be\n",
    "then be realized as subclasses. The trapezoidal and midpoint methods may be implemented like this:"
   ]
  },
  {
   "cell_type": "code",
   "execution_count": 23,
   "metadata": {},
   "outputs": [],
   "source": [
    "class Trapezoidal(Integrator):\n",
    "    def construct_method(self):\n",
    "        h = (self.b - self.a)/float(self.n - 1)\n",
    "        x = linspace(self.a, self.b, self.n)\n",
    "        w = zeros(len(x))\n",
    "        w[1:-1] += h\n",
    "        w[0] = h/2;  w[-1] = h/2\n",
    "        return x, w\n",
    "\n",
    "class Midpoint(Integrator):\n",
    "    def construct_method(self):\n",
    "        a, b, n = self.a, self.b, self.n  # quick forms\n",
    "        h = (b-a)/float(n)\n",
    "        x = np.linspace(a + 0.5*h, b - 0.5*h, n)\n",
    "        w = np.zeros(len(x)) + h\n",
    "\treturn x, w"
   ]
  },
  {
   "cell_type": "markdown",
   "metadata": {},
   "source": [
    "And the more complex Simpson's rule can be added in the following subclass:"
   ]
  },
  {
   "cell_type": "code",
   "execution_count": 24,
   "metadata": {},
   "outputs": [],
   "source": [
    "class Simpson(Integrator):\n",
    "    def construct_method(self):\n",
    "        if self.n % 2 != 1:\n",
    "            print ’n=%d must be odd, 1 is added’ % self.n\n",
    "            self.n += 1\n",
    "        x = np.linspace(self.a, self.b, self.n)\n",
    "        h = (self.b - self.a)/float(self.n - 1)*2\n",
    "        w = np.zeros(len(x))\n",
    "        w[0:self.n:2] = h*1.0/3\n",
    "        w[1:self.n-1:2] = h*2.0/3\n",
    "        w[0] /= 2\n",
    "        w[-1] /= 2\n",
    "        return x, w"
   ]
  },
  {
   "cell_type": "markdown",
   "metadata": {},
   "source": [
    "Simpson's rule is more complex because it uses different weights for odd and even points. We\n",
    "present all the details here for completeness, but it is not necessary to study the detailed\n",
    "implementation of all the formulas. The important parts here are the class design and usage of\n",
    "the class hierarchy.\n",
    "\n",
    "To demonstrate how the class can be used, let us compute the integral\n",
    "$\\int_0^2 x^2dx$ using 101 points:"
   ]
  },
  {
   "cell_type": "code",
   "execution_count": 25,
   "metadata": {},
   "outputs": [],
   "source": [
    "def f(x):\n",
    "    return x*x\n",
    "\n",
    "simpson = Simpson(0, 2, 101)\n",
    "print(simpson.integrate(f))\n",
    "trapez = Trapezoidal(0,2,101)\n",
    "print(trapez.integrate(f))"
   ]
  },
  {
   "cell_type": "markdown",
   "metadata": {},
   "source": [
    "The program flow in this case may not be entirely obvious. When we construct the instance\n",
    "with `method = Simpson(...)`, it invokes the superclass constructor, but then this method\n",
    "calls `construct_method` in class `Simpson`. The call `method.integrate(f)` invokes the\n",
    "`integrate` method inherited from the class `Integrator`. However, to us as users of\n",
    "the class none of these details really matter. We use the `Simpson` class just as if all\n",
    "the methods were implemented directly in the class, regardless of whether they were actually\n",
    "inherited from another class."
   ]
  }
 ],
 "metadata": {
  "kernelspec": {
   "display_name": "Python 3",
   "language": "python",
   "name": "python3"
  },
  "language_info": {
   "codemirror_mode": {
    "name": "ipython",
    "version": 3
   },
   "file_extension": ".py",
   "mimetype": "text/x-python",
   "name": "python",
   "nbconvert_exporter": "python",
   "pygments_lexer": "ipython3",
   "version": "3.7.3"
  }
 },
 "nbformat": 4,
 "nbformat_minor": 2
}
