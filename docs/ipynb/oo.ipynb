{
 "cells": [
  {
   "cell_type": "markdown",
   "metadata": {},
   "source": [
    "# Object-Oriented Programming\n",
    "\n",
    "Upon reading the chapter title, one could wonder why object-oriented programming\n",
    "(OOP) is introduced only now.  We have used objects\n",
    "since Chapter 2, and we started making our own\n",
    "classes and object types\n",
    "in Chapter 8, so what is new in Chapter 9? The answer is that\n",
    "the term OOP can have two different meanings.\n",
    "The first simply involves programming with objects and classes, which\n",
    "we introduced in Chapter 8, and is more commonly\n",
    "referred to as object-*based* programming. The second meaning\n",
    "of OOP is programming with *class hierarchies*, which are\n",
    "families of classes that inherit their methods and attributes from each other.\n",
    "This is the topic of the present chapter. We will learn how to collect\n",
    "classes in families (hierarchies) and let child classes inherit\n",
    "attributes and methods from parent classes.\n",
    "\n",
    "# Class Hierarchies and Inheritance\n",
    "A class hierarchy is a family of closely related classes organized in a\n",
    "hierarchical manner. A key concept is *inheritance*, which means that\n",
    "child classes can inherit attributes and methods from parent classes.\n",
    "A typical strategy is to write a general class as a base class (or parent class)\n",
    "and then let special cases be represented as subclasses (child classes).\n",
    "This approach can often save much typing and code duplication. As usual, we\n",
    "introduce the topic by looking at some examples.\n",
    "\n",
    "### Classes for lines and parabolas.\n",
    "\n",
    "As a first example, let us create a class for representing and evaluating straight lines,\n",
    "$y=c_0 + c_1x$. Following the concepts and ideas introduced in\n",
    "Chapter 8, the implementation of the class can look like"
   ]
  },
  {
   "cell_type": "code",
   "execution_count": 1,
   "metadata": {},
   "outputs": [],
   "source": [
    "import numpy as np\n",
    "\n",
    "class Line:\n",
    "    def __init__(self, c0, c1):\n",
    "        self.c0, self.c1 = c0, c1\n",
    "\n",
    "    def __call__(self, x):\n",
    "        return self.c0 + self.c1*x\n",
    "\n",
    "    def table(self, L, R, n):\n",
    "        \"\"\"Return a table with n points for L <= x <= R.\"\"\"\n",
    "        s = ''\n",
    "        for x in np.linspace(L, R, n):\n",
    "            y = self(x)\n",
    "            s += f'{x:12g} {y:12g}\\n'\n",
    "        return s"
   ]
  },
  {
   "cell_type": "markdown",
   "metadata": {},
   "source": [
    "We see that we have equipped the class with a standard constructor, a `__call__` special method\n",
    "for evaluating the linear function, and a method `table` for writing a table of $x$ and $y$ values.\n",
    "Say we now want to write a similar class for evaluating a parabola $y=c_0 + c_1x + c_2x^2$.\n",
    "The code could look like"
   ]
  },
  {
   "cell_type": "code",
   "execution_count": 2,
   "metadata": {},
   "outputs": [],
   "source": [
    "class Parabola:\n",
    "    def __init__(self, c0, c1, c2):\n",
    "        self.c0, self.c1, self.c2 = c0, c1, c2\n",
    "\n",
    "    def __call__(self, x):\n",
    "        return self.c2*x**2 + self.c1*x + self.c0\n",
    "\n",
    "    def table(self, L, R, n):\n",
    "        \"\"\"Return a table with n points for L <= x <= R.\"\"\"\n",
    "        s = ''\n",
    "        for x in linspace(L, R, n):\n",
    "            y = self(x)\n",
    "            s += f'{x:12g} {y:12g}\\n'\n",
    "        return s"
   ]
  },
  {
   "cell_type": "markdown",
   "metadata": {},
   "source": [
    "We observe that the two classes are nearly identical, differing only in the parts\n",
    "that involve `c2`. Although we could very quickly just copy all the code from the `Line` class\n",
    "and edit the small parts that are needed, such duplication of code is usually a bad idea.\n",
    "At some point, we may need change the code, for instance, to correct an error or\n",
    "improve the functionality, and having to make the same change in multiple\n",
    "places often leads to time-consuming errors. So, is there a way we can utilize\n",
    "the class `Line` code in `Parabola` without resorting to copying and pasting?\n",
    "This is exactly what inheritance is about.\n",
    "\n",
    "To introduce inheritance, let us first look at the following class definition:"
   ]
  },
  {
   "cell_type": "code",
   "execution_count": 3,
   "metadata": {},
   "outputs": [],
   "source": [
    "class Parabola(Line):\n",
    "    pass"
   ]
  },
  {
   "cell_type": "markdown",
   "metadata": {},
   "source": [
    "Here `pass` is just a Python keyword that can be used wherever Python expects\n",
    "to find code, but we do not want to define anything. So, at\n",
    "first sight, this `Parabola` class seems to be empty, but notice the class\n",
    "definition `class Parabola(Line)`, which means that `Parabola` is a subclass of\n",
    "`Line` and *inherits* all its methods and attributes. The new `Parabola` class therefore has\n",
    "attributes `c0` and `c1` and three methods `__init__`, `__call__`, and\n",
    "`table`. `Line` is a *base class* (or parent class, superclass) , and `Parabola` is\n",
    "a *subclass*  (or child class, derived class). The new `Parabola` class, therefore,\n",
    "is not as useless as it first seemed, but it is still just a copy of the `Line`\n",
    "class. To make the class represent a parabola, we need to add the missing code,\n",
    "that is, the code that differs between `Line` and `Parabola`. When creating such\n",
    "subclasses, the principle is to reuse as much as possible from the base class,\n",
    "only add what is needed in the subclass, and avoid duplicating\n",
    "code. Inspecting the two original classes above, we see that the\n",
    "`Parabola` class must add code to `Line`'s constructor (an extra `c2` attribute)\n",
    "and an extra term in `__call__`, but `table` can be used unaltered.\n",
    "The full definition of `Parabola` as a subclass of `Line` becomes the following:"
   ]
  },
  {
   "cell_type": "code",
   "execution_count": 4,
   "metadata": {},
   "outputs": [],
   "source": [
    "class Parabola(Line):\n",
    "    def __init__(self, c0, c1, c2):\n",
    "        super().__init__(c0, c1)  # Line stores c0, c1\n",
    "        self.c2 = c2\n",
    "\n",
    "    def __call__(self, x):\n",
    "        return super().__call__(x) + self.c2*x**2"
   ]
  },
  {
   "cell_type": "markdown",
   "metadata": {},
   "source": [
    "To maximize code reuse, we allow the `Parabola` class to call the methods from `Line`,\n",
    "and then add the missing parts.  A subclass can always access\n",
    "its base class bt using the built-in function `super()`, and this is the preferred way\n",
    "to call methods from the base class. We could, however, also\n",
    "use the class name directly, for instance `Line.__init__(self,c0,c1)`.\n",
    "Generally, these two methods for invoking superclass methods look like\n",
    "the following:"
   ]
  },
  {
   "cell_type": "markdown",
   "metadata": {},
   "source": [
    "```Python\n",
    "        SuperClassName.method(self, arg1, arg2, ...)\n",
    "        super().method(arg1, arg2, ...)\n",
    "```"
   ]
  },
  {
   "cell_type": "markdown",
   "metadata": {},
   "source": [
    "Notice the difference between the two approaches. When using the class\n",
    "name directly, we need to include `self` as the first argument, whereas this aspect\n",
    "is handled automatically when using `super()`. The use of `super()` is usually\n",
    "preferred, but in most cases the two approaches are equivalent.\n",
    "\n",
    "To summarize this first example, the main benefits of\n",
    "introducing the subclass are as follows:\n",
    "  * Class `Parabola` just adds code to the already existing code in class `Line`, with no duplication of the code for storing `c0` and `c1` and computing $c_0+c_1x.$\n",
    "\n",
    "  * Class `Parabola` also has a `table` method; it is inherited and does not need to be written.\n",
    "\n",
    "  * `__init__` and `__call__` are *overridden* or *redefined* in the subclass, with no code duplication.\n",
    "\n",
    "We can use the `Parabola` class and call its methods just as if they were implemented in the class directly:"
   ]
  },
  {
   "cell_type": "code",
   "execution_count": 5,
   "metadata": {},
   "outputs": [],
   "source": [
    "p = Parabola(1, -2, 2)\n",
    "p1 = p(2.5)\n",
    "print(p1)\n",
    "print(p.table(0, 1, 3))"
   ]
  },
  {
   "cell_type": "markdown",
   "metadata": {},
   "source": [
    "### The real meaning of inheritance.\n",
    "\n",
    "From a practical viewpoint, and for the examples in this book, the point of\n",
    "inheritance is to reuse methods and attributes from the\n",
    "base class and minimize code duplication. On a more theoretical level, inheritance\n",
    "should be thought of as an \"is-a\" relationship between the\n",
    "the two classes. By this we mean that if `Parabola` is a subclass of `Line`,\n",
    "an instance of `Parabola` is also a `Line` instance. The `Parabola` class\n",
    "is thought of as a special case of the `Line` class, and therefore\n",
    "every `Parabola` is also a `Line`, but not vice versa. We can\n",
    "check class type and class relations with the built-in\n",
    "functions `isinstance(obj, type)` and `issubclass(subclassname, superclassname)`:"
   ]
  },
  {
   "cell_type": "code",
   "execution_count": 6,
   "metadata": {},
   "outputs": [],
   "source": [
    "l = Line(-1, 1)\n",
    "isinstance(l, Line)\n",
    "isinstance(l, Parabola)\n",
    "p = Parabola(-1, 0, 10)\n",
    "isinstance(p, Parabola)"
   ]
  },
  {
   "cell_type": "code",
   "execution_count": 7,
   "metadata": {},
   "outputs": [],
   "source": [
    "isinstance(p, Line)"
   ]
  },
  {
   "cell_type": "code",
   "execution_count": 8,
   "metadata": {},
   "outputs": [],
   "source": [
    "issubclass(Parabola, Line)"
   ]
  },
  {
   "cell_type": "code",
   "execution_count": 9,
   "metadata": {},
   "outputs": [],
   "source": [
    "issubclass(Line, Parabola)"
   ]
  },
  {
   "cell_type": "code",
   "execution_count": 10,
   "metadata": {},
   "outputs": [],
   "source": [
    "p.__class__ == Parabola"
   ]
  },
  {
   "cell_type": "code",
   "execution_count": 11,
   "metadata": {},
   "outputs": [],
   "source": [
    "p.__class__.__name__   # string version of the class name"
   ]
  },
  {
   "cell_type": "markdown",
   "metadata": {},
   "source": [
    "We will not use these methods much in practical applications, but\n",
    "they are very useful for gaining a feel for class relationships when\n",
    "learning OOP.\n",
    "\n",
    "\n",
    "Mathematically oriented readers might have noticed a logical fault in the small\n",
    "class hierarchy we have presented so far. We stated that a subclass\n",
    "is usually thought of as a special case of the base class, but a parabola is not\n",
    "really a special case of a straight line. It is the\n",
    "other way around, since a line $c_0+c_1x$ is a parabola $c_0+c_1x+c_2x^2$ with $c_2=0$.\n",
    "Could then `Line`, then, be a subclass of `Parabola`? Certainly, and many\n",
    "will prefer this relation between a line and a parabola, since it follows the\n",
    "usual is-a relationship between a subclass and its base.\n",
    "The code can look like:"
   ]
  },
  {
   "cell_type": "code",
   "execution_count": 12,
   "metadata": {},
   "outputs": [],
   "source": [
    "class Parabola:\n",
    "    def __init__(self, c0, c1, c2):\n",
    "        self.c0, self.c1, self.c2 = c0, c1, c2\n",
    "\n",
    "    def __call__(self, x):\n",
    "        return self.c2*x**2 + self.c1*x + self.c0\n",
    "\n",
    "    def table(self, L, R, n):\n",
    "        \"\"\"Return a table with n points for L <= x <= R.\"\"\"\n",
    "        s = ''\n",
    "        for x in linspace(L, R, n):\n",
    "            y = self(x)\n",
    "            s += '%12g %12g\\n' % (x, y)\n",
    "        return s\n",
    "\n",
    "class Line(Parabola):\n",
    "    def __init__(self, c0, c1):\n",
    "        super().__init__(c0, c1, 0)"
   ]
  },
  {
   "cell_type": "markdown",
   "metadata": {},
   "source": [
    "Notice that this version allows even more code reuse than the previous one,\n",
    "since both `__call__` and `table` can be reused without changes.\n",
    "\n",
    "\n",
    "# Example: Classes for Numerical Differentiation\n",
    "Common tasks in scientific computing, such as differentiation and integration,\n",
    "can be carried out with a large variety of numerical methods. Many such methods\n",
    "are closely related, and can be easily grouped into families of methods that\n",
    "are very suitable for implementation in a class hierarchy.\n",
    "As a first example, we consider methods for numerical differentiation. The\n",
    "simplest formula is a one-sided finite difference:"
   ]
  },
  {
   "cell_type": "markdown",
   "metadata": {},
   "source": [
    "$$\n",
    "f'(x) \\approx {f(x+h)-f(x)\\over h} ,\n",
    "$$"
   ]
  },
  {
   "cell_type": "markdown",
   "metadata": {},
   "source": [
    "which can be implemented in the following class:"
   ]
  },
  {
   "cell_type": "code",
   "execution_count": 13,
   "metadata": {},
   "outputs": [],
   "source": [
    "class Derivative:\n",
    "    def __init__(self, f, h=1E-5):\n",
    "        self.f = f\n",
    "        self.h = float(h)\n",
    "\n",
    "    def __call__(self, x):\n",
    "        f, h = self.f, self.h      # make short forms\n",
    "        return (f(x+h) - f(x))/h"
   ]
  },
  {
   "cell_type": "markdown",
   "metadata": {},
   "source": [
    "To use the `Derivative` class, we simply define a function `f(x)`,\n",
    "create an instance of the class, and call it as if it were a regular function\n",
    "(effectively calling the `__call__` method behind the scenes):"
   ]
  },
  {
   "cell_type": "code",
   "execution_count": 14,
   "metadata": {},
   "outputs": [],
   "source": [
    "from math import exp, sin, pi\n",
    "\n",
    "def f(x):\n",
    "    return exp(-x)*sin(4*pi*x)\n",
    "\n",
    "dfdx = Derivative(f)\n",
    "print(dfdx(1.2))"
   ]
  },
  {
   "cell_type": "markdown",
   "metadata": {},
   "source": [
    "However, numerous other formulas can be used for numerical differentiation,\n",
    "for instance"
   ]
  },
  {
   "cell_type": "markdown",
   "metadata": {},
   "source": [
    "$$\n",
    "\\begin{align*}\n",
    "f'(x) &= \\frac{f(x+h)-f(x)}{h} + {\\cal O}(h) ,\\\\\n",
    "f'(x) &= \\frac{f(x)-f(x-h)}{h} + {\\cal O}(h) ,\\\\\n",
    "f'(x) &= \\frac{f(x+h)-f(x-h)}{2h} + {\\cal O}(h^2) ,\\\\\n",
    "f'(x) &=  \\frac{4}{3}\\frac{f(x+h)-f(x-h)}{2h}\n",
    "  -\\frac{1}{3}\\frac{f(x+2h) - f(x-2h)}{4h} + {\\cal O}(h^4), \\\\\n",
    "f'(x) &=  \\frac{3}{2}\\frac{f(x+h)-f(x-h)}{2h}\n",
    "  -\\frac{3}{5}\\frac{f(x+2h) - f(x-2h)}{4h} + \\nonumber\\\\\n",
    "&  \\frac{1}{10}\\frac{f(x+3h) - f(x-3h)}{6h} + {\\cal O}(h^6), \\\\\n",
    "f'(x) &=  \\frac{1}{h}\\left(\n",
    "-\\frac{1}{6}f(x+2h) + f(x+h) - \\frac{1}{2}f(x) - \\frac{1}{3}f(x-h)\\right)\n",
    "  + {\\cal O}(h^3).\n",
    "\\end{align*}\n",
    "$$"
   ]
  },
  {
   "cell_type": "markdown",
   "metadata": {},
   "source": [
    "We can easily make a module that offers multiple formulas, as follows:"
   ]
  },
  {
   "cell_type": "code",
   "execution_count": 15,
   "metadata": {},
   "outputs": [],
   "source": [
    "class Forward1:\n",
    "    def __init__(self, f, h=1E-5):\n",
    "        self.f, self.h = f, h\n",
    "\n",
    "    def __call__(self, x):\n",
    "        f, h = self.f, self.h\n",
    "        return (f(x+h) - f(x))/h\n",
    "\n",
    "class Central2:\n",
    "    def __init__(self, f, h=1E-5):\n",
    "        self.f, self.h = f, h\n",
    "\n",
    "    def __call__(self, x):\n",
    "        f, h = self.f, self.h\n",
    "        return (f(x+h) - f(x-h))/(2*h)\n",
    "\n",
    "class Central4:\n",
    "    def __init__(self, f, h=1E-5):\n",
    "        self.f, self.h = f, h\n",
    "\n",
    "    def __call__(self, x):\n",
    "        f, h = self.f, self.h\n",
    "        return (4./3)*(f(x+h)   - f(x-h))  /(2*h) - \\\n",
    "                (1./3)*(f(x+2*h) - f(x-2*h))/(4*h)"
   ]
  },
  {
   "cell_type": "markdown",
   "metadata": {},
   "source": [
    "The problem with this code is, of course, that all the constructors are\n",
    "identical, so we duplicate a great deal of code. Although the duplication of\n",
    "this simple constructor might not be a big problem, it can easily lead to\n",
    "errors if we want to change the constructor later, and it is therefore worth avoiding.\n",
    "As mentioned above, a general idea of OOP is to place\n",
    "code common to many classes in a superclass and to have that code be inherited\n",
    "by the subclasses.\n",
    "In this case, we can make a superclass containing the constructor and\n",
    "let the different subclasses implement their own version of the `__call__` method.\n",
    "The superclass will be very simple and not really useful on its own:"
   ]
  },
  {
   "cell_type": "code",
   "execution_count": 16,
   "metadata": {},
   "outputs": [],
   "source": [
    "class Diff:\n",
    "    def __init__(self, f, h=1E-5):\n",
    "        self.f, self.h = f, h"
   ]
  },
  {
   "cell_type": "markdown",
   "metadata": {},
   "source": [
    "The subclasses for the first-order forward formula and the second-\n",
    "and fourth-order central difference formulas can then look like"
   ]
  },
  {
   "cell_type": "code",
   "execution_count": 17,
   "metadata": {},
   "outputs": [],
   "source": [
    "class Forward1(Diff):\n",
    "    def __call__(self, x):\n",
    "        f, h = self.f, self.h\n",
    "        return (f(x+h) - f(x))/h\n",
    "\n",
    "class Central2(Diff):\n",
    "    def __call__(self,x):\n",
    "        f, h = self.f, self.h\n",
    "        return (f(x+h)-f(x-h))/(2*h)\n",
    "\n",
    "class Central4(Diff):\n",
    "    def __call__(self, x):\n",
    "        f, h = self.f, self.h\n",
    "        return (4./3)*(f(x+h)   - f(x-h))  /(2*h) - \\\n",
    "               (1./3)*(f(x+2*h) - f(x-2*h))/(4*h)"
   ]
  },
  {
   "cell_type": "markdown",
   "metadata": {},
   "source": [
    "To use this simple class hierarchy in an example, say, we want to compute\n",
    "the derivative of $f(x)=\\sin x$ for $x=\\pi$ with the fourth-order\n",
    "central difference formula:"
   ]
  },
  {
   "cell_type": "code",
   "execution_count": 18,
   "metadata": {},
   "outputs": [],
   "source": [
    "from math import sin, pi\n",
    "mycos = Central4(sin)\n",
    "mycos(pi)"
   ]
  },
  {
   "cell_type": "markdown",
   "metadata": {},
   "source": [
    "Here, the line `mycos = Central4(sin)` creates an instance of the\n",
    "`Central4` class by calling the constructor inherited from the superclass,\n",
    "while `mycos(pi)` calls the `__call__` method implemented in the subclass.\n",
    "\n",
    "As indicated by the $O(h^n)$ terms in the formulas above, the methods\n",
    "have different levels of accuracy. We can empirically investigate the\n",
    "accuracy of the numerical differentiation formulas, using the class hierarchy\n",
    "created above. Using $f(x)=\\sin x, x = \\pi/4$ as an example, the code can look like"
   ]
  },
  {
   "cell_type": "code",
   "execution_count": 19,
   "metadata": {},
   "outputs": [],
   "source": [
    "from math import pi, sin, cos\n",
    "import numpy as np\n",
    "\n",
    "h = [1.0/(2**i) for i in range(5)]\n",
    "ref = cos(pi/4)\n",
    "\n",
    "print(f'     h      Forward1      Central2      Central4')\n",
    "for h_ in h:\n",
    "    f1 = Forward1(sin,h_); c2 = Central2(sin,h_); c4 = Central4(sin,h_)\n",
    "    e1 = abs(f1(pi/4)-ref)\n",
    "    e2 = abs(c2(pi/4)-ref)\n",
    "    e4 = abs(c4(pi/4)-ref)\n",
    "    print(f'{h_:1.8f}  {e1:1.10f}  {e2:>1.10f}  {e4:>1.10f}')"
   ]
  },
  {
   "cell_type": "markdown",
   "metadata": {},
   "source": [
    "Notice that we create new instances `f1, c2`, and `c4` for each iteration of the\n",
    "loop, since we want a new value of $h$ in the formula. A more elegant solution\n",
    "could be to add a new method named `set_stepsize(h)` or similar, that would\n",
    "allow us to adjust $h$ for an existing instance. Such a method could easily be\n",
    "added to the superclass and inherited by all subclasses. An examination of\n",
    "the output numbers confirm that the three methods behave as expected. For\n",
    "each row, we reduce $h$ by a factor of two, and the errors are reduced by a factor\n",
    "of about two, four, and 16, respectively. This result is consistent with the\n",
    "theoretical accuracy of the\n",
    "formulas, which states that the errors should be proportional to $h$, $h^2$, and $h^4$, respectively.\n",
    "\n",
    "# Example: Classes for Numerical Integration\n",
    "Just as numerical differentiation, numerical integration is a mainstay of\n",
    "computational mathematics. There are numerous methods to choose from, and they\n",
    "can all be written on the form"
   ]
  },
  {
   "cell_type": "markdown",
   "metadata": {},
   "source": [
    "$$\n",
    "\\int_a^b f(x)dx \\approx \\sum_{i=0}^{n-1} w_i f(x_i) .\n",
    "$$"
   ]
  },
  {
   "cell_type": "markdown",
   "metadata": {},
   "source": [
    "and the\n",
    "Based on this general formula, different methods are realized by choosing the integration points\n",
    "$x_i$ and associated weights $w_i$. For instance, the trapezoidal rule has"
   ]
  },
  {
   "cell_type": "markdown",
   "metadata": {},
   "source": [
    "$$\n",
    "x_i = a+ih, \\quad w_0=w_{n-1}={h\\over2},\\ w_i=h\\ (i\\neq 0,n-1) ,\n",
    "$$"
   ]
  },
  {
   "cell_type": "markdown",
   "metadata": {},
   "source": [
    "with  $h=(b-a)/(n-1)$, the midpoint rule has"
   ]
  },
  {
   "cell_type": "markdown",
   "metadata": {},
   "source": [
    "$$\n",
    "x_i = a + {h\\over 2} + ih,\\quad w_i=h ,\n",
    "$$"
   ]
  },
  {
   "cell_type": "markdown",
   "metadata": {},
   "source": [
    "with $h=(b-a)/n$, and Simpson's rule has"
   ]
  },
  {
   "cell_type": "markdown",
   "metadata": {},
   "source": [
    "$$\n",
    "\\begin{align*}\n",
    "x_i &= a+ih,\\quad h={b-a\\over n-1}, \\\\\n",
    "w_0 &=w_{n-1}={h\\over6}, \\\\\n",
    "w_i &= {h\\over3}\\hbox{ for }i\\hbox{ even},\\quad w_i={2h\\over3}\\hbox{ for }i\\hbox{ odd} .\n",
    "\\end{align*}\n",
    "$$"
   ]
  },
  {
   "cell_type": "markdown",
   "metadata": {},
   "source": [
    "Other methods have more complicated formulas for $w_i$ and $x_i$, and some methods\n",
    "choose the points randomly (e.g., Monte Carlo integration).\n",
    "\n",
    "A numerical integration formula can be implemented as a class, with\n",
    "$a$, $b$, and $n$ as attributes and an `integrate` method to evaluate the formula and compute\n",
    "the integral. As with the family of numerical differentiation methods considered above,\n",
    "all such classes will be quite similar. The evaluation of $\\sum_jw_jf(x_j)$ is the same,\n",
    "and the only difference between the methods is the definition of the points and\n",
    "weights. Following the ideas above, it makes sense to place all common code in\n",
    "a superclass, and code specific to the different methods in subclasses. Here, we can\n",
    "put $\\sum_jw_jf(x_j)$ in a superclass (method `integrate`), and let the subclasses extend this\n",
    "class with code specific to a specific formula, that is, the choices of\n",
    "$w_i$ and $x_i$. This method-specific code\n",
    "can be placed inside a method, for instance, named `construct_rule`. The superclass for the numerical\n",
    "integration hierarchy can look like"
   ]
  },
  {
   "cell_type": "code",
   "execution_count": 20,
   "metadata": {},
   "outputs": [],
   "source": [
    "class Integrator:\n",
    "    def __init__(self, a, b, n):\n",
    "        self.a, self.b, self.n = a, b, n\n",
    "        self.points, self.weights = self.construct_method()\n",
    "\n",
    "    def construct_method(self):\n",
    "        raise NotImplementedError('no rule in class %s' % \\\n",
    "                                  self.__class__.__name__)\n",
    "\n",
    "    def integrate(self, f):\n",
    "        s = 0\n",
    "        for i in range(len(self.weights)):\n",
    "            s += self.weights[i]*f(self.points[i])\n",
    "        return s\n",
    "\n",
    "    def vectorized_integrate(self, f):\n",
    "        # f must be vectorized for this to work\n",
    "        return dot(self.weights, f(self.points))"
   ]
  },
  {
   "cell_type": "markdown",
   "metadata": {},
   "source": [
    "Notice the implementation of `construct_method`, which will raise an error if\n",
    "it is called, indicating that the only purpose of `Integrator` is as a\n",
    "superclass, and it should not be used directly. Alternatively, we could, of course,\n",
    "just not include the `construct_method` method in the superclass at all.\n",
    "However, the approach used here makes it even more obvious that the class is\n",
    "just a superclass and that this method needs to be implemented in subclasses.\n",
    "\n",
    "The superclass provides a common framework for implementing the different methods, which can\n",
    "then be realized as subclasses. The trapezoidal and midpoint methods can\n",
    "be implemented as follows:"
   ]
  },
  {
   "cell_type": "code",
   "execution_count": 21,
   "metadata": {},
   "outputs": [],
   "source": [
    "class Trapezoidal(Integrator):\n",
    "    def construct_method(self):\n",
    "        h = (self.b - self.a)/float(self.n - 1)\n",
    "        x = linspace(self.a, self.b, self.n)\n",
    "        w = zeros(len(x))\n",
    "        w[1:-1] += h\n",
    "        w[0] = h/2;  w[-1] = h/2\n",
    "        return x, w\n",
    "\n",
    "class Midpoint(Integrator):\n",
    "    def construct_method(self):\n",
    "        a, b, n = self.a, self.b, self.n  # quick forms\n",
    "        h = (b-a)/float(n)\n",
    "        x = np.linspace(a + 0.5*h, b - 0.5*h, n)\n",
    "        w = np.zeros(len(x)) + h\n",
    "\treturn x, w"
   ]
  },
  {
   "cell_type": "markdown",
   "metadata": {},
   "source": [
    "The more complex Simpson's rule can be added in the following subclass:"
   ]
  },
  {
   "cell_type": "code",
   "execution_count": 22,
   "metadata": {},
   "outputs": [],
   "source": [
    "class Simpson(Integrator):\n",
    "    def construct_method(self):\n",
    "        if self.n % 2 != 1:\n",
    "            print ’n=%d must be odd, 1 is added’ % self.n\n",
    "            self.n += 1\n",
    "        x = np.linspace(self.a, self.b, self.n)\n",
    "        h = (self.b - self.a)/float(self.n - 1)*2\n",
    "        w = np.zeros(len(x))\n",
    "        w[0:self.n:2] = h*1.0/3\n",
    "        w[1:self.n-1:2] = h*2.0/3\n",
    "        w[0] /= 2\n",
    "        w[-1] /= 2\n",
    "        return x, w"
   ]
  },
  {
   "cell_type": "markdown",
   "metadata": {},
   "source": [
    "Simpson's rule is more complex because it uses different weights for odd and even points. We\n",
    "present all the details here for completeness, but it is not really\n",
    "necessary to study the details of all the formulas. The important parts\n",
    "here are the class design and usage of the class hierarchy.\n",
    "\n",
    "To demonstrate how the class can be used, let us compute the integral\n",
    "$\\int_0^2 x^2dx$ using 101 points:"
   ]
  },
  {
   "cell_type": "code",
   "execution_count": 23,
   "metadata": {},
   "outputs": [],
   "source": [
    "def f(x):\n",
    "    return x*x\n",
    "\n",
    "simpson = Simpson(0, 2, 101)\n",
    "print(simpson.integrate(f))\n",
    "trapez = Trapezoidal(0,2,101)\n",
    "print(trapez.integrate(f))"
   ]
  },
  {
   "cell_type": "markdown",
   "metadata": {},
   "source": [
    "The program flow in this case might not be entirely obvious. When we construct\n",
    "the instance with `method = Simpson(0, 2, 101)`, the superclass constructor is invoked,\n",
    "but this method then calls `construct_method` in class `Simpson`. The\n",
    "call `method.integrate(f)` then invokes the `integrate` method inherited\n",
    "from the superclass. However, as users of\n",
    "the class, none of these details really matter to us. We use the `Simpson` class just as if all\n",
    "the methods were implemented directly in the class, regardless of whether they are actually\n",
    "inherited from another class."
   ]
  }
 ],
 "metadata": {
  "kernelspec": {
   "display_name": "Python 3",
   "language": "python",
   "name": "python3"
  },
  "language_info": {
   "codemirror_mode": {
    "name": "ipython",
    "version": 3
   },
   "file_extension": ".py",
   "mimetype": "text/x-python",
   "name": "python",
   "nbconvert_exporter": "python",
   "pygments_lexer": "ipython3",
   "version": "3.7.3"
  }
 },
 "nbformat": 4,
 "nbformat_minor": 2
}
