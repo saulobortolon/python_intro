{
 "cells": [
  {
   "cell_type": "markdown",
   "metadata": {},
   "source": [
    "# User Input and Error Handling\n",
    "\n",
    "So far, all the values we have assigned to variables have been written directly\n",
    "into our programs. If we want a different value of a variable, we need to edit\n",
    "the code and rerun the program. Of course, this is not how we are\n",
    "used to interacting with computer programs. Usually, a program will receive\n",
    "some input from users, most often through a graphical user interface (GUI).\n",
    "However, although GUIs dominate in modern human - computer interaction, other\n",
    "ways of interacting with computer programs can be just as efficient and, in some\n",
    "cases, far more suitable for processing large amounts of data and automating\n",
    "repetitive tasks. In this chapter we will show how we can extend our programs\n",
    "with simple yet powerful systems for user input. In particular, we will see\n",
    "how a program can receive command line arguments when it is run,\n",
    "how to make a program stop and ask for user input, and how a program can\n",
    "read data from files.\n",
    "\n",
    "A side effect of allowing users to interact with programs is that things will\n",
    "often go wrong. Users will often provide the wrong input, and programs should\n",
    "be able to handle such events without simply stopping and writing a\n",
    "cryptic error message to the screen. We will introduce a concept known as *exception handling*,\n",
    "which is a widespread system for handling\n",
    "errors in programs, used in Python and many other programming languages.\n",
    "\n",
    "Finally, in this chapter, we shall see how to create our own modules\n",
    "that can be imported for use in other programs, just as we have done with the\n",
    "`math` module in previous chapters.\n",
    "\n",
    "# Reading User Input Data\n",
    "So far, we have implemented various mathematical formulas that involved input\n",
    "variables and parameters, but all of these values have been hard-coded into the\n",
    "programs. To introduce a new example, consider the\n",
    "following formula, which gives an\n",
    "estimate of the atmospheric pressure $p$ as a function of altitude $h$:"
   ]
  },
  {
   "cell_type": "markdown",
   "metadata": {},
   "source": [
    "$$\n",
    "p = p_0 e^{-h/h_0},\n",
    "$$"
   ]
  },
  {
   "cell_type": "markdown",
   "metadata": {},
   "source": [
    "where $p_0$ is the pressure at sea level ($\\approx 100$ kPa) and\n",
    "$h_0$ is the so-called scale height ($\\approx 8.4$km). A Python program for evaluating\n",
    "this formula could look like"
   ]
  },
  {
   "cell_type": "code",
   "execution_count": 1,
   "metadata": {
    "collapsed": false
   },
   "outputs": [],
   "source": [
    "from math import exp\n",
    "\n",
    "p0 = 100.0    #sea level pressure (kPa)\n",
    "h0 = 8400     #scale height (m)\n",
    "\n",
    "h = 8848\n",
    "p = p0 * exp(-h/h0)\n",
    "print(p)"
   ]
  },
  {
   "cell_type": "markdown",
   "metadata": {},
   "source": [
    "Of course, we are usually interested in evaluating the formula for\n",
    "different altitudes, which, in this code, would require editing the line\n",
    "`h = 8848` to change the respective variable, and then rerunning the program.\n",
    "This solution could be acceptable for programs we write and use ourselves,\n",
    "but it is not how we are used to interacting with computers. In particular,\n",
    "if we write programs that could be used by others, editing the code this way\n",
    "is inconvenient and can easily introduce errors.\n",
    "\n",
    "For our programs to be robust and usable, they need to be able to read relevant\n",
    "input data from the user. We will consider three different ways to accomplish\n",
    "this, each with its strengths and weaknesses.\n",
    "We will (i) create programs that stop and ask for user input, and then\n",
    "continue the execution when the input is received; (ii) enable our programs to\n",
    "receive *command line arguments*, that is, arguments provided when we run the\n",
    "program from the terminal; and (iii) make the programs read input data from files.\n",
    "<!-- This way of user interaction is not very common in professional programs, but it is quite intuitive and easy to use, and you may have seen -->\n",
    "<!-- such behavior for instance in installers for other programs. These will often stop and ask questions about installation location etc., -->\n",
    "<!-- often through a GUI but sometimes in the standard terminal window. Second, we will see how our programs can receive -->\n",
    "<!-- command line arguments, which is a standard way of interacting with programs in the terminal window. For instance, when you -->\n",
    "\n",
    "### Obtaining input from questions and answers.\n",
    "\n",
    "A natural extension of this program is to allow it to ask the user for a value of `h`,\n",
    "and then compute and output the corresponding\n",
    "atmospheric pressure. A Python function called `input` provides exactly\n",
    "this functionality. For instance a line such as"
   ]
  },
  {
   "cell_type": "code",
   "execution_count": 2,
   "metadata": {
    "collapsed": false
   },
   "outputs": [],
   "source": [
    "input('Input the altitude (in meters):')"
   ]
  },
  {
   "cell_type": "markdown",
   "metadata": {},
   "source": [
    "will make the program stop and display the text\n",
    "`Input the altitude (in meters):` in the terminal, and then continue when\n",
    "the user presses `Enter`. The complete code could look like"
   ]
  },
  {
   "cell_type": "code",
   "execution_count": 3,
   "metadata": {
    "collapsed": false
   },
   "outputs": [],
   "source": [
    "from math import exp\n",
    "\n",
    "h = input('Input the altitude (in meters):')\n",
    "h = float(h)\n",
    "\n",
    "p0 = 100.0    #sea level pressure (kPa)\n",
    "h0 = 8400     #scale height (m)\n",
    "\n",
    "p = p0 * exp(-h/h0)\n",
    "print(p)"
   ]
  },
  {
   "cell_type": "markdown",
   "metadata": {},
   "source": [
    "Notice in particular the line `h = float(h)`, which is an example of the\n",
    "type conversions mentioned in Chapter 2.\n",
    "The `input` function will always return a text string, which\n",
    "must be converted to an actual number before we can use it in computations.\n",
    "Forgetting this line in the code above will lead to an error\n",
    "in the line that calculates `amount`, since we would by trying to multiply a string\n",
    "with a float. From these considerations, we can also imagine\n",
    "how easy it is to break the program above. The user can type any string,\n",
    "or simply press enter (which makes `h` an empty string), but the\n",
    "conversion `h = float(h)` only works if the string is a number.\n",
    "\n",
    "As another example, consider a program that asks the user for an integer `n`\n",
    "and prints the `n` first even numbers:"
   ]
  },
  {
   "cell_type": "code",
   "execution_count": 4,
   "metadata": {
    "collapsed": false
   },
   "outputs": [],
   "source": [
    "n = int(input('n=? '))\n",
    "\n",
    "for i in range(1, n+1):\n",
    "    print(2*i)"
   ]
  },
  {
   "cell_type": "markdown",
   "metadata": {},
   "source": [
    "Here we convert the input text using `int(...)`, since the `range` function only\n",
    "accepts integer arguments. Just as in the example above, the code is not very\n",
    "robust, since it will break from any input that cannot be converted to an integer.\n",
    "Later in this chapter we will look at ways to handle such errors\n",
    "and make the programs more robust.\n",
    "\n",
    "### Command line arguments are words written after the program name.\n",
    "\n",
    "When working in a Unix-style terminal window\n",
    "(e.g., Mac, Linux, Windows PowerShell), we often provide arguments when we run\n",
    "a command. These arguments can be names of files or directories,\n",
    "for example, when copying a file with `cp`, or they can\n",
    "change the output from the command, such as `ls -l` to obtain more detailed output\n",
    "from the `ls` command. Anyone who is used to working in Unix-style terminals\n",
    "will be familiar with commands like these:"
   ]
  },
  {
   "cell_type": "markdown",
   "metadata": {},
   "source": [
    "        Terminal> cp -r yourdir ../mydir\n",
    "        Terminal> ls -l\n",
    "        terminal> cd ../mydir\n"
   ]
  },
  {
   "cell_type": "markdown",
   "metadata": {},
   "source": [
    "Some commands require arguments - for instance, you receive an error message\n",
    "if you do not give two arguments to `cp` - while other arguments are optional.\n",
    "Standard Unix programs make heavy use of\n",
    "command line arguments, (try, for instance, typing `man ls`), because they are a very\n",
    "efficient way of providing input and modifying program behavior.\n",
    "We will make our Python programs do the same, and write programs that\n",
    "can be run as"
   ]
  },
  {
   "cell_type": "markdown",
   "metadata": {},
   "source": [
    "        Terminal> python myprog.py arg1 arg2 arg3 ...\n"
   ]
  },
  {
   "cell_type": "markdown",
   "metadata": {},
   "source": [
    "where `arg1 arg2 arg3`, and so forth are input arguments to the program.\n",
    "\n",
    "We again consider the air pressure calculation program above, but\n",
    "now we want the altitude to be specified as a\n",
    "command line argument rather than obtained by stopping and asking for input. For\n",
    "instance, we want to run the program as followss:"
   ]
  },
  {
   "cell_type": "markdown",
   "metadata": {},
   "source": [
    "        Terminal> python altitude_cml.py 2469\n",
    "        74.53297273796525\n"
   ]
  },
  {
   "cell_type": "markdown",
   "metadata": {},
   "source": [
    "To use command line arguments in a Python program, we need to import a\n",
    "module named `sys`. More specifically, the command line arguments,\n",
    "or, in reality, any words we type after the command `python altitude.py`, are\n",
    "automatically stored in a list named `sys.argv` (short for argument values)\n",
    "and can be accessed from there:"
   ]
  },
  {
   "cell_type": "code",
   "execution_count": 5,
   "metadata": {
    "collapsed": true
   },
   "outputs": [],
   "source": [
    "# Need to fill in sys.argv for use in the notebook\n",
    "import sys\n",
    "sys.argv[1] = '2469'"
   ]
  },
  {
   "cell_type": "code",
   "execution_count": 6,
   "metadata": {
    "collapsed": false
   },
   "outputs": [],
   "source": [
    "import sys\n",
    "from math import exp\n",
    "\n",
    "h = sys.argv[1]\n",
    "h = float(h)\n",
    "\n",
    "p0 = 100.0    #sea level pressure (kPa)\n",
    "h0 = 8400     #scale height (m)\n",
    "\n",
    "p = p0 * exp(-h/h0)\n",
    "print(p)"
   ]
  },
  {
   "cell_type": "markdown",
   "metadata": {},
   "source": [
    "Here, we see that we pull out the element with index one from the `sys.argv`\n",
    "list, and convert it to a float. Just as the input provided with the\n",
    "`input` function above, the command line arguments are always strings and\n",
    "need to be converted to floats or integers before they are used in computations.\n",
    "The `sys.argv` variable is simply a list that is created automatically when\n",
    "your Python program is run. The first element, `sys.argv[0]` is the name of\n",
    "the `.py`-file containing the program. The remainder of the list is made up of whatever\n",
    "words we type after the program filename. Words separated by a space become separate\n",
    "elements in the list. A nice way to gain a feel for the use of\n",
    "`sys.argv` is to test a simple program that will just print out the contents\n",
    "of the list, for instance, by writing this simple code into the\n",
    "file `print_cml.py`:"
   ]
  },
  {
   "cell_type": "code",
   "execution_count": 7,
   "metadata": {
    "collapsed": false
   },
   "outputs": [],
   "source": [
    "import sys\n",
    "print(sys.argv)"
   ]
  },
  {
   "cell_type": "markdown",
   "metadata": {},
   "source": [
    "Running this program in different ways illustrates how the list works; for instance,"
   ]
  },
  {
   "cell_type": "markdown",
   "metadata": {},
   "source": [
    "        Terminal> python print_cml.py 21 string with blanks 1.3\n",
    "        ['print_cml.py', '21', 'string', 'with', 'blanks', '1.3']\n",
    "        \n",
    "        Terminal> python print_cml.py 21 \"string with blanks\" 1.3\n",
    "        ['print_cml.py', '21', 'string with blanks', '1.3']\n"
   ]
  },
  {
   "cell_type": "markdown",
   "metadata": {},
   "source": [
    "We see from the second example that, if we want to read in a string containing\n",
    "blanks as a single command line argument, we need to use quotation marks to\n",
    "override the default behavior of each word being treated as a separate list element.\n",
    "\n",
    "\n",
    "# Flexible User Input with `eval` and `exec`\n",
    "Generally, the safest way to handle input data in the form of text strings\n",
    "is to convert it to the specific variable type needed in\n",
    "the program. We did this above, using the type conversions `int(...)` and\n",
    "`float(...)`, and we will see below how such conversions can be made failproof\n",
    "and handle imporper user input. However, Python also offers a couple of more\n",
    "flexible functions to handle input data, namely, `eval` and `exec`, which are nice\n",
    "to know about. Extensive use of these functions is not recommended,\n",
    "especially not in larger\n",
    "programs, since the code can become messy and error-prone. However, they offer\n",
    "some flexible and fun opportunities for handling input data.\n",
    "Starting with `eval`, this function simply takes a string `s` as\n",
    "input and evaluates it as a regular Python expression,\n",
    "just as if it were written directly into the program. Of course, `s`\n",
    "must be a legal Python expression, otherwise the code stops\n",
    "with an error message.\n",
    "The following interactive Python session illustrates how `eval` works:"
   ]
  },
  {
   "cell_type": "code",
   "execution_count": 8,
   "metadata": {
    "collapsed": false
   },
   "outputs": [],
   "source": [
    "s = '1+2'\n",
    "r = eval(s)\n",
    "r"
   ]
  },
  {
   "cell_type": "code",
   "execution_count": 9,
   "metadata": {
    "collapsed": false
   },
   "outputs": [],
   "source": [
    "type(r)"
   ]
  },
  {
   "cell_type": "code",
   "execution_count": 10,
   "metadata": {
    "collapsed": false
   },
   "outputs": [],
   "source": [
    "r = eval('[1, 6, 7.5] + [1, 2]')\n",
    "r"
   ]
  },
  {
   "cell_type": "code",
   "execution_count": 11,
   "metadata": {
    "collapsed": false
   },
   "outputs": [],
   "source": [
    "type(r)"
   ]
  },
  {
   "cell_type": "markdown",
   "metadata": {},
   "source": [
    "Here, the line `r = eval(s)` is equivalent to writing `r = 1+2`, but\n",
    "using `eval` gives much more flexibility, of course, since\n",
    "the string is stored in a variable and can be read as input.\n",
    "\n",
    "A small Python program using `eval` can be quite flexible. Consider, for\n",
    "instance, the following code"
   ]
  },
  {
   "cell_type": "code",
   "execution_count": 12,
   "metadata": {
    "collapsed": false
   },
   "outputs": [],
   "source": [
    "i1 = eval(input('operand 1: '))\n",
    "i2 = eval(input('operand 2: '))\n",
    "r = i1 + i2\n",
    "print(f'{type(i1)} + {type(i2)} becomes {type(r)} with value{r}')"
   ]
  },
  {
   "cell_type": "markdown",
   "metadata": {},
   "source": [
    "This code can handle multiple input types. If we save the code\n",
    "in a file `add_input.py` and run it from the terminal,\n",
    "we can, for instance, add integer and float numbers, as in:"
   ]
  },
  {
   "cell_type": "markdown",
   "metadata": {},
   "source": [
    "        Terminal> python add_input.py\n",
    "        operand 1: 1\n",
    "        operand 2: 3.0\n",
    "        <type 'int'> + <type 'float'> becomes <type 'float'>\n",
    "        with value 4\n"
   ]
  },
  {
   "cell_type": "markdown",
   "metadata": {},
   "source": [
    "or two lists, as follows:"
   ]
  },
  {
   "cell_type": "markdown",
   "metadata": {},
   "source": [
    "        Terminal> python add_input.py\n",
    "        operand 1: [1,2]\n",
    "        operand 2: [-1,0,1]\n",
    "        <type 'list'> + <type 'list'> becomes <type 'list'>\n",
    "        with value [1, 2, -1, 0, 1]\n"
   ]
  },
  {
   "cell_type": "markdown",
   "metadata": {},
   "source": [
    "We could achieve similar flexibility with conventional type conversion,\n",
    "that is, using `float(i1)`, `int(i1)`, and so on, but that would\n",
    "require much more programming to correctly process the input strings.\n",
    "The `eval` function makes such flexible input handling\n",
    "extremely compact and efficient, but it also quickly breaks if the input\n",
    "is slightly wrong. Consider the following examples:"
   ]
  },
  {
   "cell_type": "markdown",
   "metadata": {},
   "source": [
    "        Terminal> python add_input.py\n",
    "        operand 1: (1,2)\n",
    "        operand 2: [3,4]\n",
    "        Traceback (most recent call last):\n",
    "          File \"add_input.py\", line 3, in <module>\n",
    "            r = i1 + i2\n",
    "        TypeError: can only concatenate tuple (not \"list\") to tuple\n",
    "        \n",
    "        Terminal> python add_input.py\n",
    "        operand 1: one\n",
    "        Traceback (most recent call last):\n",
    "          File \"add_input.py\", line 1, in <module>\n",
    "            i1 = eval(input('operand 1: '))\n",
    "          File \"<string>\", line 1, in <module>\n",
    "        NameError: name 'one' is not defined\n"
   ]
  },
  {
   "cell_type": "markdown",
   "metadata": {},
   "source": [
    "In the first of these examples, we try to add a tuple and a list, which one\n",
    "could easily imagine would work, but Python\n",
    "does not allow this and therefore the program breaks. In the second example,\n",
    "we try to make the program add two strings,\n",
    "which usually works fine; for instance `\"one\" +\"one\"` becomes the\n",
    "string `\"oneone\"`. However, the eval function breaks when\n",
    "we try to input the first string. To understand why, we need to think about\n",
    "what the corresponding line really means.\n",
    "We try to make the assignment `i1 = eval('one')`, which is equivalent to\n",
    "writing `i1 = one`, but this line does not work\n",
    "unless we have already defined a variable named one. A remedy to this problem\n",
    "is to input the strings with quotation marks,\n",
    "as in the following example"
   ]
  },
  {
   "cell_type": "markdown",
   "metadata": {},
   "source": [
    "        Terminal> python add_input.py\n",
    "        operand 1: \"one\"\n",
    "        operand 2: \"two\"\n",
    "        <class 'str'> + <class 'str'> becomes <class 'str'>\n",
    "        with value onetwo\n"
   ]
  },
  {
   "cell_type": "markdown",
   "metadata": {},
   "source": [
    "These examples illustrate the benefits of the `eval` function, and also how\n",
    "it easily breaks programs and is generally not\n",
    "recommended for \"real programs\". It is useful for quick prototypes, but should usually\n",
    "be avoided in programs that we expect others to use or that we expect\n",
    "to use ourselves over a longer time frame.\n",
    "\n",
    "The other \"magic\" text handling function is named `exec`, and it is fairly\n",
    "similar to `eval`. However, whereas `eval` evaluates an *expression*, `exec`\n",
    "executes a string argument as one or more complete statements. For instance,\n",
    "if we define a string `s = \"r = 1+1\"`, `eval(s)` is illegal, since the value\n",
    "of `s` (`\"r = 1+1\"`) is a statement (an assignment), and not a Python\n",
    "expression. However, `exec(s)` will work\n",
    "fine and is the same as including the line `r = 1+1` directly in the code.\n",
    "The following code illustrates the difference:"
   ]
  },
  {
   "cell_type": "code",
   "execution_count": 13,
   "metadata": {
    "collapsed": false
   },
   "outputs": [],
   "source": [
    "expression = '1+1'\t    #store expression in a string\n",
    "statement = 'r = 1+1'   # store statement in a string\n",
    "q = eval(expression)\n",
    "exec(statement)\n",
    "\n",
    "print(q,r)                 # results are the same"
   ]
  },
  {
   "cell_type": "markdown",
   "metadata": {},
   "source": [
    "We can also use `exec` to execute multiple statements, for instance using multi-line strings:"
   ]
  },
  {
   "cell_type": "code",
   "execution_count": 14,
   "metadata": {
    "collapsed": false
   },
   "outputs": [],
   "source": [
    "somecode = \"\"\"\n",
    "def f(t):\n",
    "    term1 = exp(-a*t)*sin(w1*x)\n",
    "    term2 = 2*sin(w2*x)\n",
    "    return term1 + term2\n",
    "\"\"\"\n",
    "exec(somecode)  # execute the string as Python code"
   ]
  },
  {
   "cell_type": "markdown",
   "metadata": {},
   "source": [
    "Here, the `exec` line will simply execute the string `somecode`, just as if we\n",
    "had typed the code directly in our program. After the call to `exec` we have defined the\n",
    "function `f(t)` and can call this function in the usual way.\n",
    "Although this example does not seem very useful, the flexibility of `exec`\n",
    "becomes more apparent if we combine it with actual user input.\n",
    "For instance, consider the following code, which\n",
    "asks the user to type a mathematical expression involving $x$ and then embeds\n",
    "this expression in a Python function:"
   ]
  },
  {
   "cell_type": "code",
   "execution_count": 15,
   "metadata": {
    "collapsed": false
   },
   "outputs": [],
   "source": [
    "formula = input('Write a formula involving x: ')\n",
    "code = f\"\"\"\n",
    "def f(x):\n",
    "    return {formula}\n",
    "\"\"\"\n",
    "from math import *  # make sure we have sin, cos, log, etc.\n",
    "exec(code)          # turn string formula into live function\n",
    "\n",
    "\n",
    "#Now the function is defined, and we can ask the\n",
    "#user for x values and evaluate f(x)\n",
    "x = 0\n",
    "while x is not None:\n",
    "    x = eval(input('Give x (None to quit): '))\n",
    "    if x is not None:\n",
    "        y = f(x)\n",
    "        print(f'f({x})={y}')"
   ]
  },
  {
   "cell_type": "markdown",
   "metadata": {},
   "source": [
    "While the program is running, the user is first asked to type a formula, which\n",
    "becomes a function. Then the user is asked to input `x` values until the\n",
    "answer is `None`, and the program evaluates the function\n",
    "`f(x)` for each `x`. The program works even if the programmer knows nothing\n",
    "about the user's choice of `f(x)` when the program is written, which\n",
    "demonstrates the flexibility offered by the `exec` and `eval` functions.\n",
    "\n",
    "To consider another example, say, we want to create a program `diff.py` that\n",
    "evaluates the numerical derivative of a mathematical expression $f(x)$ for a\n",
    "given value of $x$. The mathematical expression and the $x$ value will be\n",
    "given as command line arguments. The program could be used as follows:"
   ]
  },
  {
   "cell_type": "markdown",
   "metadata": {},
   "source": [
    "        Terminal> python diff.py 'exp(x)*sin(x)' 3.4\n",
    "        Numerical derivative: -36.6262969164\n"
   ]
  },
  {
   "cell_type": "markdown",
   "metadata": {},
   "source": [
    "The derivative of a function $f(x)$ can be approximated with a centered\n",
    "finite difference:"
   ]
  },
  {
   "cell_type": "markdown",
   "metadata": {},
   "source": [
    "$$\n",
    "f'(x)\\approx \\frac{f(x+h)-f(x-h)}{2h} ,\n",
    "$$"
   ]
  },
  {
   "cell_type": "markdown",
   "metadata": {},
   "source": [
    "for some small $h$. The implementation of the `diff.py` program could look like\n",
    "<!-- Must use pycod-t here since the notebook cannot handle sys.argv[1] -->"
   ]
  },
  {
   "cell_type": "markdown",
   "metadata": {},
   "source": [
    "```Python\n",
    "        from math import *\n",
    "        import sys\n",
    "        \n",
    "        formula = sys.argv[1]\n",
    "        code = f\"\"\"\n",
    "        def f(x):\n",
    "            return {formula}\n",
    "        \"\"\"\n",
    "        \n",
    "        exec(code)\n",
    "        x = float(sys.argv[2])\n",
    "        \n",
    "        def numerical_derivative(f, x, h=1E-5):\n",
    "            return (f(x+h) - f(x-h))/(2*h)\n",
    "        \n",
    "        print(f'Numerical derivative: {numerical_derivative(f, x)}')\n",
    "```"
   ]
  },
  {
   "cell_type": "markdown",
   "metadata": {},
   "source": [
    "Again we see that the flexibility of the `exec` function enables us to\n",
    "implement fairly advanced functionality in a very compact program.\n",
    "\n",
    "\n",
    "# Reading Data from Files\n",
    "Scientific data are often available in files, and reading and processing data\n",
    "from files have always been important tasks in programming. The\n",
    "data science revolution that we have witnessed in recent years has only increased\n",
    "their importance further, since all data analysis starts with being able to read\n",
    "data from files and store them in suitable data structures.\n",
    "To start with a simple example, consider a file named `data.txt` containing\n",
    "a single column of numbers:"
   ]
  },
  {
   "cell_type": "markdown",
   "metadata": {},
   "source": [
    "        21.8\n",
    "        18.1\n",
    "        19\n",
    "        23\n",
    "        26\n",
    "        17.8\n"
   ]
  },
  {
   "cell_type": "markdown",
   "metadata": {},
   "source": [
    "We assume that we know in advance that there is one number per line, but we\n",
    "do not know the number of lines. How can we read these numbers into a Python program?"
   ]
  },
  {
   "cell_type": "code",
   "execution_count": 16,
   "metadata": {
    "collapsed": true
   },
   "outputs": [],
   "source": [
    "#For the notebook to work we first make a file data.txt file with the right content\n",
    "f = open('data.txt', 'w')\n",
    "f.write(\"\"\"21.8\n",
    "18.1\n",
    "19\n",
    "23\n",
    "26\n",
    "17.8\n",
    "\"\"\")\n",
    "f.close()"
   ]
  },
  {
   "cell_type": "markdown",
   "metadata": {},
   "source": [
    "The basic way to read a file in Python is to use the function `open`, which\n",
    "takes a file name as an argument. The following code illustrates its use:"
   ]
  },
  {
   "cell_type": "markdown",
   "metadata": {},
   "source": [
    "```Python\n",
    "        infile = open('data.txt', 'r')    # open file\n",
    "        for line in infile:\n",
    "            # do something with line\n",
    "        infile.close()                    # close file\n",
    "```"
   ]
  },
  {
   "cell_type": "markdown",
   "metadata": {},
   "source": [
    "Here, the first line opens the file `data.txt` for reading, as specified\n",
    "with the letter `r`, and creates a file object named `infile`. If we want to\n",
    "open a file for writing, which we will consider later, we have to\n",
    "use `open('data.txt','w')`. The default is `r`, so, to read a file we\n",
    "could also simply write `infile = open('data.txt')`. However, including the `r` can\n",
    "be a good habit, since it makes the purpose of the line more obvious to\n",
    "anyone reading the code. In the second line, we enter a regular for loop, which\n",
    "will treat the object `infile` as a list-like object and step through the\n",
    "file line by line. For each pass through the for loop, a single line of the\n",
    "file is read and stored in the string variable `line`, and inside the for loop\n",
    "we add any code we want for processing this line.\n",
    "When there are no more lines in the file, the for loop ends, just as when\n",
    "looping over a regular list.\n",
    "The final line, `infile.close()`, closes the file and makes it unavailable\n",
    "for further reading. This line is not very important when reading from\n",
    "files, but it is a good habit to always include it, since it can make a\n",
    "difference when writing to files.\n",
    "\n",
    "To return to the concrete data file above, say the only processing we\n",
    "want is to compute the mean value of the\n",
    "numbers in the file. The complete code could look like this:"
   ]
  },
  {
   "cell_type": "code",
   "execution_count": 17,
   "metadata": {
    "collapsed": false
   },
   "outputs": [],
   "source": [
    "infile = open('data.txt', 'r')    # open file\n",
    "mean = 0\n",
    "lines = 0\n",
    "for line in infile:\n",
    "    number = float(line)          # line is string\n",
    "    mean = mean + number\n",
    "    lines += 1\n",
    "    print(f'number={number}')\n",
    "mean = mean/lines\n",
    "print(f'The mean value is {mean}')"
   ]
  },
  {
   "cell_type": "markdown",
   "metadata": {},
   "source": [
    "This is a standard way to read files in Python, but, as usual, in\n",
    "programming there are multiple ways to do things.\n",
    "An alternative way of opening a file, which many will consider more modern, is by\n",
    "using the following code:"
   ]
  },
  {
   "cell_type": "markdown",
   "metadata": {},
   "source": [
    "```Python\n",
    "        with open('data.txt', 'r') as infile:   # open file\n",
    "             for line in infile:\n",
    "             \t # do something with line\n",
    "```"
   ]
  },
  {
   "cell_type": "markdown",
   "metadata": {},
   "source": [
    "The first line, using `with` and `as` probably does not look familiar, but it does\n",
    "essentially the same thing as the line\n",
    "`infile = open(...)` in the first example. One important difference is that, if we\n",
    "use `with` we see that all file reading and processing\n",
    "must be put inside an indented block of code, and the file is automatically closed\n",
    "when this block has been completed. Therefore, the use of `with` to open files\n",
    "is quite popular, and you are likely to see it in Python programs\n",
    "you encounter. The keyword `with` has other uses in Python that we will\n",
    "not cover in this book, but it is particularly common and\n",
    "convenient for reading files and therefore worth mentioning here.\n",
    "\n",
    "To actually read a file after it has been opened, there are a couple of\n",
    "alternatives to the approach above. For instance, we can read all the lines\n",
    "into a list of strings (lines) and then process the list items one by one:"
   ]
  },
  {
   "cell_type": "markdown",
   "metadata": {},
   "source": [
    "```Python\n",
    "        lines = infile.readlines()\n",
    "        infile.close()\n",
    "        for line in lines:\n",
    "            # process line\n",
    "```"
   ]
  },
  {
   "cell_type": "markdown",
   "metadata": {},
   "source": [
    "This approach is very similar to the one used above, but here we are done\n",
    "working directly with the file after the first line,\n",
    "and the for loop instead traverses the list of strings. In practice there is\n",
    "not much difference. Usually, processing files line by line is\n",
    "very convenient, and our good friend the for loop makes such processing quite\n",
    "easy. However, for files with no natural line structure, it can sometimes be\n",
    "easier to read the entire text file into a single string:"
   ]
  },
  {
   "cell_type": "markdown",
   "metadata": {},
   "source": [
    "```Python\n",
    "        text = infile.read()\n",
    "        # process the string text\n",
    "```"
   ]
  },
  {
   "cell_type": "markdown",
   "metadata": {},
   "source": [
    "The `data.txt` file above contain a single number for each line, which is\n",
    "usually not the case. More often, each line contains\n",
    "many data items, typically both text and numbers, and we might want to treat each\n",
    "one differently. For this purpose Python's string type has a built-in\n",
    "method named `split` that is extremely useful. Say we define a string\n",
    "variable `s` with some words separated by blank spaces. Then, calling `s.split()`\n",
    "will simply return a list containing the individual words in the string. By\n",
    "default, the words are assumed to be separated by blanks, but if we want a\n",
    "different separator, we can pass it as an argument\n",
    "to `split`. The following code gives some examples:"
   ]
  },
  {
   "cell_type": "code",
   "execution_count": 18,
   "metadata": {
    "collapsed": false
   },
   "outputs": [],
   "source": [
    "s = \"This is a typical string\"\n",
    "csvline = \"Excel;sheets;often;use;semicolon;as;separator\"\n",
    "print(s.split())\n",
    "print(csvline.split())\n",
    "print(csvline.split(';'))"
   ]
  },
  {
   "cell_type": "markdown",
   "metadata": {},
   "source": [
    "We see that the first attempt to split the string `csvline` does not work very well,\n",
    "since the string contains no spaces and the\n",
    "result is therefore a list of length one. Specifying the correct separator, as\n",
    "in the last line, solves the problem.\n",
    "\n",
    "To illustrate the use of `split` in the context of file data, assume we have a\n",
    "file with data on rainfall:"
   ]
  },
  {
   "cell_type": "markdown",
   "metadata": {},
   "source": [
    "        Average rainfall (in mm) in Rome: 1188 months between 1782 and 1970\n",
    "        Jan  81.2\n",
    "        Feb  63.2\n",
    "        Mar  70.3\n",
    "        Apr  55.7\n",
    "        May  53.0\n",
    "        Jun  36.4\n",
    "        Jul  17.5\n",
    "        Aug  27.5\n",
    "        Sep  60.9\n",
    "        Oct  117.7\n",
    "        Nov  111.0\n",
    "        Dec  97.9\n",
    "        Year 792.9\n"
   ]
  },
  {
   "cell_type": "markdown",
   "metadata": {},
   "source": [
    "Although this data file is very small, it is a fairly typical example.\n",
    "Often, there are one or more header lines with information that we are not\n",
    "really interested in processing, and\n",
    "the remainder of the lines contain a mix of text and numbers. How can we read such a file?\n",
    "<!-- Have to make a rainfall.txt file with the right content -->"
   ]
  },
  {
   "cell_type": "code",
   "execution_count": 19,
   "metadata": {
    "collapsed": true
   },
   "outputs": [],
   "source": [
    "f = open('rainfall.txt', 'w')\n",
    "f.write(\"\"\"Average rainfall (in mm) in Rome: 1188 months between 1782 and 1970\n",
    "Jan  81.2\n",
    "Feb  63.2\n",
    "Mar  70.3\n",
    "Apr  55.7\n",
    "May  53.0\n",
    "Jun  36.4\n",
    "Jul  17.5\n",
    "Aug  27.5\n",
    "Sep  60.9\n",
    "Oct  117.7\n",
    "Nov  111.0\n",
    "Dec  97.9\n",
    "Year 792.9\n",
    "\"\"\")\n",
    "f.close()"
   ]
  },
  {
   "cell_type": "markdown",
   "metadata": {},
   "source": [
    "The key to processing each line is to use `split` to separate the two words\n",
    "and, for instance, store them in two separate lists for later processing:"
   ]
  },
  {
   "cell_type": "markdown",
   "metadata": {},
   "source": [
    "```Python\n",
    "        months = []\n",
    "        values = []\n",
    "        for line in infile:\n",
    "            words = line.split()  # split into words\n",
    "            months.append(words[0])\n",
    "            values.append(float(words[1]))\n",
    "```"
   ]
  },
  {
   "cell_type": "markdown",
   "metadata": {},
   "source": [
    "These steps, involving a for loop and then `split` to process each line, will\n",
    "be the fundamental recipe for all file processing throughout this book.\n",
    "It is important to understand these steps properly and well worth spending some\n",
    "time reading small data files and playing around with `split` to become familiar\n",
    "with its use. To write the complete program for reading the rainfall data,\n",
    "we must also account for the header line and the fact that the last line\n",
    "contains data of a different type. The complete code could look like:"
   ]
  },
  {
   "cell_type": "code",
   "execution_count": 20,
   "metadata": {
    "collapsed": false
   },
   "outputs": [],
   "source": [
    "def extract_data(filename):\n",
    "    infile = open(filename, 'r')\n",
    "    infile.readline() # skip the first line\n",
    "    months = []\n",
    "    rainfall = []\n",
    "    for line in infile:\n",
    "        words = line.split() #words[0]: month, words[1]: rainfall\n",
    "        months.append(words[0])\n",
    "        rainfall.append(float(words[1]))\n",
    "    infile.close()\n",
    "    months = months[:-1]      # Drop the \"Year\" entry\n",
    "    annual_avg = rainfall[-1] # Store the annual average\n",
    "    rainfall = rainfall[:-1]  # Redefine to contain monthly data\n",
    "    return months, rainfall, annual_avg\n",
    "\n",
    "months, values, avg = extract_data('rainfall.txt')\n",
    "print('The average rainfall for the months:')\n",
    "for month, value in zip(months, values):\n",
    "    print(month, value)\n",
    "print('The average rainfall for the year:', avg)"
   ]
  },
  {
   "cell_type": "markdown",
   "metadata": {},
   "source": [
    "This code is merely a combination of tools and functions that we have already\n",
    "introduced above and in earlier chapters, so nothing is truly new. Note, however,\n",
    "how we skip the first line with a single call to `infile.readline()`, which will\n",
    "simply read the first line and move to the next one, thus being ready to read the\n",
    "lines in which we are interested. If there are multiple header lines in the file\n",
    "we can simply add multiple `readline` calls to skip whatever we don't want to process.\n",
    "Notice also how list slicing is used to remove the yearly data from the lists.\n",
    "Negative indices in Python lists run backward, starting from the last element,\n",
    "so `annual_avg = rainfall[-1]` will extract the last value in the `rainfall` list and assign it to\n",
    "`annual_avg`. The list slicing `months[:-1]`, `rainfall[:-1]` will extract\n",
    "all elements from the lists up to, but not including\n",
    "the last one, thereby removing the yearly data from both lists.\n",
    "\n",
    "# Writing Data to Files\n",
    "Writing data to files follows the same pattern as reading. We open a file for\n",
    "writing and typically use a for loop to traverse\n",
    "the data, which we then write to the file using `write`:"
   ]
  },
  {
   "cell_type": "markdown",
   "metadata": {},
   "source": [
    "```Python\n",
    "        outfile = open(filename, 'w')  # 'w' for writing\n",
    "        \n",
    "        for data in somelist:\n",
    "            outfile.write(sometext + '\\n')\n",
    "        \n",
    "        outfile.close()\n",
    "```"
   ]
  },
  {
   "cell_type": "markdown",
   "metadata": {},
   "source": [
    "Notice the inclusion of `\\n` in the call to `write`. Unlike `print`, a call\n",
    "to `write` will not by default add a line break after each call by defauls,\n",
    "so if we do not\n",
    "add this explicitly, the resulting file will consist of a single long line. It is often more\n",
    "convenient to have a line-structured file, and for this we include the `\\n`,\n",
    "which adds a line break. The alternative way\n",
    "of opening files can also be used for writing, and it ensures that the file is\n",
    "automatically closed:"
   ]
  },
  {
   "cell_type": "markdown",
   "metadata": {},
   "source": [
    "```Python\n",
    "        with open(filename, 'w') as outfile:  # 'w' for writing\n",
    "             for data in somelist:\n",
    "             \t outfile.write(sometext + '\\n')\n",
    "```"
   ]
  },
  {
   "cell_type": "markdown",
   "metadata": {},
   "source": [
    "One should use caution when writing to files from Python programs. If you\n",
    "call `open(filename,'w')` with a filename that does not exist, a new file\n",
    "will be created; however, if a file with that name exists,\n",
    "it will simply be deleted and replaced by an\n",
    "empty file. Therefore, even if we do not actually write any data to the file, simply\n",
    "opening it for reading will erase all its contents.\n",
    "A safer way to write to files is to use `open(filename,`a`), which\n",
    "will *append* data to the end of the file if it already\n",
    "exists, and create a new file if it does not exist.\n",
    "\n",
    "For a concrete example, consider the task of writing information\n",
    "from a nested list to a file. We have following the nested list (rows and columns):"
   ]
  },
  {
   "cell_type": "code",
   "execution_count": 21,
   "metadata": {
    "collapsed": false
   },
   "outputs": [],
   "source": [
    "data = \\\n",
    "[[ 0.75,        0.29619813, -0.29619813, -0.75      ],\n",
    " [ 0.29619813,  0.11697778, -0.11697778, -0.29619813],\n",
    " [-0.29619813, -0.11697778,  0.11697778,  0.29619813],\n",
    " [-0.75,       -0.29619813,  0.29619813,  0.75      ]]"
   ]
  },
  {
   "cell_type": "markdown",
   "metadata": {},
   "source": [
    "To write these data to a file in tabular form, we follow the steps outlined\n",
    "above and use a nested for loop (one for loop inside another) to traverse the\n",
    "list and write the data. The following code will do the trick:"
   ]
  },
  {
   "cell_type": "code",
   "execution_count": 22,
   "metadata": {
    "collapsed": false
   },
   "outputs": [],
   "source": [
    "with open('tmp_table.dat', 'w') as outfile:\n",
    "    for row in data:\n",
    "        for column in row:\n",
    "            outfile.write(f'{column:14.8f}')\n",
    "        outfile.write('\\n')"
   ]
  },
  {
   "cell_type": "markdown",
   "metadata": {},
   "source": [
    "The resulting file looks like"
   ]
  },
  {
   "cell_type": "markdown",
   "metadata": {},
   "source": [
    "            0.75000000    0.29619813   -0.29619813   -0.75000000\n",
    "            0.29619813    0.11697778   -0.11697778   -0.29619813\n",
    "           -0.29619813   -0.11697778    0.11697778    0.29619813\n",
    "           -0.75000000   -0.29619813    0.29619813    0.75000000\n"
   ]
  },
  {
   "cell_type": "markdown",
   "metadata": {},
   "source": [
    "The nicely aligned columns are caused by the format specifier given to the f-string in the `write` call.\n",
    "The code will work fine without the format specifier, but the columns will not be aligned, and we\n",
    "also need to add a space after every number or,\n",
    "otherwise, each line will just be a long string of numbers that are difficult to separate.\n",
    "The structure of the nested for loop is also worth stepping through in the code above.\n",
    "The innermost loop traverses each row, writing the numbers one by one to the file.\n",
    "When this inner loop is done the program moves to the next\n",
    "line (`outfile.write('\\n')`), which writes a linebreak to the file to end\n",
    "the line. After this line, one pass of the outer for loop is finished and\n",
    "the program moves to the next iteration and the next line in the table.\n",
    "The code for writing each number belongs inside the innermost loop, whereas\n",
    "the code for writing the line break is in the outer loop, since we only want\n",
    "one line break for each line.\n",
    "\n",
    "# Handling Errors in Programs\n",
    "As demonstrated above, allowing user input in our programs will\n",
    "often introduce errors, and, as our programs grow in\n",
    "complexity, there can be multiple other sources of errors as well.\n",
    "Python has a general set of tools for handling such errors that\n",
    "is commonly referred to as *exception handling*, and it used in many\n",
    "different programming languages. To illustrate how it works,\n",
    "let us return to the example with the atmospheric pressure formula:"
   ]
  },
  {
   "cell_type": "markdown",
   "metadata": {},
   "source": [
    "```Python\n",
    "        import sys\n",
    "        from math import exp\n",
    "        \n",
    "        h = sys.argv[1]\n",
    "        h = float(h)\n",
    "        \n",
    "        p0 = 100.0; h0 = 8400\n",
    "        print(p0 * exp(-h/h0))\n",
    "```"
   ]
  },
  {
   "cell_type": "markdown",
   "metadata": {},
   "source": [
    "As mentioned above, this code can easily break if the user provides a\n",
    "command line argument that cannot be converted to a float, that is,\n",
    "any argument that is not a pure number. Potentially even worse is\n",
    "our program failing with a fairly cryptic error message if the user does\n",
    "not include a command line argument at all, as in the following:"
   ]
  },
  {
   "cell_type": "markdown",
   "metadata": {},
   "source": [
    "        Terminal> python altitude_cml.py\n",
    "        Traceback (most recent call last):\n",
    "          File \"altitude_cml.py\", line 4, in ?\n",
    "            h = sys.argv[1]\n",
    "        IndexError: list index out of range\n"
   ]
  },
  {
   "cell_type": "markdown",
   "metadata": {},
   "source": [
    "How can we fix such problems and make the program more robust with respect to\n",
    "user errors? One possible solution is to add an if-test to check if any command line arguments\n",
    "have been included:"
   ]
  },
  {
   "cell_type": "markdown",
   "metadata": {},
   "source": [
    "```Python\n",
    "        import sys\n",
    "        if len(sys.argv) < 2:\n",
    "            print('You failed to provide a command line arg.!')\n",
    "            exit()  # abort\n",
    "        \n",
    "        h = float(sys.argv[1])\n",
    "        \n",
    "        p0 = 100.0; h0 = 8400\n",
    "        print(p0 * exp(-h/h0))\n",
    "```"
   ]
  },
  {
   "cell_type": "markdown",
   "metadata": {},
   "source": [
    "The function call `exit()` will simply abort the\n",
    "program, so this\n",
    "extension solves part of the problem. The program will still stop if it is used incorrectly, but\n",
    "it will provide a more sensible and useful error message:"
   ]
  },
  {
   "cell_type": "markdown",
   "metadata": {},
   "source": [
    "        Terminal> python altitude_cml.py\n",
    "        You failed to provide a command line arg.!\n"
   ]
  },
  {
   "cell_type": "markdown",
   "metadata": {},
   "source": [
    "However, we only handle one of the potential errors, and using if-tests to test for\n",
    "every possible error can lead to quite\n",
    "complex programs. Instead, it is common in Python and many other languages\n",
    "to *try* to do what we intend to\n",
    "and, if it fails, to recover from the error. This principle uses\n",
    "the try-except block, which has the following general\n",
    "structure:"
   ]
  },
  {
   "cell_type": "markdown",
   "metadata": {},
   "source": [
    "```Python\n",
    "        try:\n",
    "            <statements we intend to do>\n",
    "        except:\n",
    "            <statements for handling errors>\n",
    "```"
   ]
  },
  {
   "cell_type": "markdown",
   "metadata": {},
   "source": [
    "If something goes wrong in the `try` block, Python will raise an *exception*\n",
    "and the execution jumps to the `except` block. Inside the `except` block, we\n",
    "need to add our own code for *catching* the exception, basically to detect\n",
    "what went wrong and try to fix it. If no errors occur inside the `try` block,\n",
    "the code inside the `except` block is not run and the program simply moves\n",
    "on to the first line after the try-except block.\n",
    "\n",
    "### Improving the atmospheric pressure program with try-except.\n",
    "\n",
    "To apply the try-except idea to the air pressure program, we can try to read `h` from\n",
    "the command line and convert it to a float, and, if this fails, we\n",
    "tell the user what went wrong and stop the program:"
   ]
  },
  {
   "cell_type": "markdown",
   "metadata": {},
   "source": [
    "```Python\n",
    "        import sys\n",
    "        try:\n",
    "            h = float(sys.argv[1])\n",
    "        except:\n",
    "            print('You failed to provide a command line arg.!')\n",
    "            exit()\n",
    "        \n",
    "        p0 = 100.0; h0 = 8400\n",
    "        print(p0 * exp(-h/h0))\n",
    "```"
   ]
  },
  {
   "cell_type": "markdown",
   "metadata": {},
   "source": [
    "One could argue that this is not very different from the program using the if-test,\n",
    "but we shall see that the try-except block has\n",
    "some benefits. First, we can try to run this program with different input,\n",
    "which immediately reveals a problem:"
   ]
  },
  {
   "cell_type": "markdown",
   "metadata": {},
   "source": [
    "        Terminal> python altitude_cml_except1.py\n",
    "        You failed to provide a command line arg.!\n",
    "        \n",
    "        Terminal> python altitude_cml_except1.py 2469m\n",
    "        You failed to provide a command line arg.!\n"
   ]
  },
  {
   "cell_type": "markdown",
   "metadata": {},
   "source": [
    "Regardless of what goes wrong inside our try block, Python will raise an\n",
    "exception that needs to be handled by the except block. The problem with our\n",
    "code is that all possible errors will be handled the same way. In the first case,\n",
    "the problem is that there are no arguments, that is, `sys.argv[1]`\n",
    "does not exist, which leads to an `IndexError`.\n",
    "This situation is correctly handled by our code. In the second case, we provide\n",
    "an argument, so the indexing of `sys.argv` goes well, but the conversion\n",
    "fails, since Python does not know how to convert the string `2469m` to a float.\n",
    "This is a different type of error, known as a `ValueError`,\n",
    "and we see that it is not treated very well by our except block. We can improve\n",
    "the code by letting the except block test for different types of errors, and\n",
    "handling each one differently:"
   ]
  },
  {
   "cell_type": "markdown",
   "metadata": {},
   "source": [
    "```Python\n",
    "        import sys\n",
    "        try:\n",
    "            h = float(sys.argv[1])\n",
    "        except IndexError:\n",
    "            print('No command line argument for h!')\n",
    "            sys.exit(1)  # abort execution\n",
    "        except ValueError:\n",
    "            print(f'h must be a pure number, not {sys.argv[1]}')\n",
    "            exit()\n",
    "        \n",
    "        p0 = 100.0; h0 = 8400\n",
    "        print(p0 * exp(-h/h0))\n",
    "```"
   ]
  },
  {
   "cell_type": "markdown",
   "metadata": {},
   "source": [
    "The following two examples illustrate how this more specific error handling\n",
    "works:"
   ]
  },
  {
   "cell_type": "markdown",
   "metadata": {},
   "source": [
    "        Terminal> python altitude.py\n",
    "        No command line argument for h!\n",
    "        \n",
    "        Terminal> python altitude.py 2469m\n",
    "        The altitude must be a pure number, not \"2469m\"\n"
   ]
  },
  {
   "cell_type": "markdown",
   "metadata": {},
   "source": [
    "Of course, a drawback of this approach is that we need to guess in advance\n",
    "what could go wrong inside the\n",
    "try-block, and write code to handle all possible errors. However, with\n",
    "some experience, this is usually not very difficult. Python has many built-in\n",
    "error types, but only\n",
    "a few that are likely to occur and which need to be considered in the programs we\n",
    "encounter throughout this book. In the code above, if the try block would\n",
    "leads to a different exception\n",
    "than what we catch in our except block,\n",
    "the code will simply end with a standard Python error message.\n",
    "If we want to avoid this behavior, and catch all\n",
    "possible exceptions, we could add a generic except block such as"
   ]
  },
  {
   "cell_type": "markdown",
   "metadata": {},
   "source": [
    "```Python\n",
    "        except:\n",
    "            print('Something went wrong in reading input data!')\n",
    "            exit()\n",
    "```"
   ]
  },
  {
   "cell_type": "markdown",
   "metadata": {},
   "source": [
    "Such a block should be added after the `except ValueError` block in the code\n",
    "above, and will catch any exception that is\n",
    "not an `IndexError` nor a `ValueError`. In this particular case, it can be difficult\n",
    "to imagine what kind of error that would be, but if it occurs, it will be caught\n",
    "and handled by our generic except block.\n",
    "\n",
    "### The programmer can also raise exceptions.\n",
    "\n",
    "In the code above, the exceptions were raised by standard Python functions,\n",
    "and we wrote the code to catch them. Instead of just letting Python raise\n",
    "exceptions, we can raise our own and tailor the error messages to the problem at hand.\n",
    "We provide two examples of such use:\n",
    "  * Catching an exception, but raising a new one (re-raising) with an improved (tailored) error message.\n",
    "\n",
    "  * Raising an exception because of input data that we know are wrong, although\n",
    "    Python accepts the data.\n",
    "\n",
    "The basic syntax both for raising and re-raising an exception\n",
    "is `raise ExceptionType(message)`. The following code includes both examples:"
   ]
  },
  {
   "cell_type": "markdown",
   "metadata": {},
   "source": [
    "```Python\n",
    "        import sys\n",
    "        \n",
    "        def read_altitude():\n",
    "            try:\n",
    "                h = float(sys.argv[1])\n",
    "            except IndexError:\n",
    "                # re-raise, but with specific explanation:\n",
    "                raise IndexError(\n",
    "                  'The altitude must be supplied on the command line.')\n",
    "            except ValueError:\n",
    "                # re-raise, but with specific explanation:\n",
    "                raise ValueError(\n",
    "                 f'Altitude must be number, not \"{sys.argv[1]}\".')\n",
    "        \n",
    "            # h is read correctly as a number, but has a wrong value:\n",
    "            if h < -430 or h > 13000:\n",
    "                raise ValueError(f'The formula is not valid for h={h}')\n",
    "            return h\n",
    "```"
   ]
  },
  {
   "cell_type": "markdown",
   "metadata": {},
   "source": [
    "Here we have defined a function to handle the user input, but the code is\n",
    "otherwise quite similar to the previous examples. As above, the except blocks\n",
    "will catch two different types of error, but, instead of\n",
    "handling them (i.e., stopping the program),\n",
    "the blocks here will equip the exceptions with more specific error messages, and\n",
    "then pass them on to be handled somewhere else in our program.\n",
    "For this particular case, the difference is not very large, and one could argue\n",
    "that our first approach is simpler and therefore better; however, in larger\n",
    "programs it can often be better to re-raise exceptions and handle them elsewhere.\n",
    "The last part of the function is different, since the error raised here is not\n",
    "an error as far as Python is concerned. We can input any value of `h` into our\n",
    "formula, and, unless we input a large negative number, it will not give rise to a\n",
    "Python error. However, as an estimate of air pressure the formula is only valid in\n",
    "the troposphere, the lower part of the Earth's atmosphere, which extends\n",
    "from the lowest point on Earth (on land), at 430 m below sea level, to\n",
    "around 13 km above sea level. We can therefore let the program raise a `ValueError`\n",
    "for any `h` outside this range, even if it does not involve a Python error in the usual sense.\n",
    "\n",
    "\n",
    "The following code shows how we can use the function above, and how we can catch and print the error message\n",
    "provided with the exceptions. The construction `except <error> as e` is used\n",
    "to access the error and use it inside the except block, as follows:"
   ]
  },
  {
   "cell_type": "markdown",
   "metadata": {},
   "source": [
    "```Python\n",
    "        try:\n",
    "            h = read_altitude()\n",
    "        except (IndexError, ValueError) as e:\n",
    "            # print exception message and stop the program\n",
    "            print(e)\n",
    "            exit()\n",
    "```"
   ]
  },
  {
   "cell_type": "markdown",
   "metadata": {},
   "source": [
    "We can run the code in the terminal to confirm that we obtain the correct error messages:"
   ]
  },
  {
   "cell_type": "markdown",
   "metadata": {},
   "source": [
    "        Terminal> python altitude_cml_except2.py\n",
    "        The altitude must be supplied on the command line.\n",
    "        \n",
    "        Terminal> python altitude_cml_except2.py 1000m\n",
    "        Altitude must be number, not 1000m.\n",
    "        \n",
    "        Terminal> python altitude_cml_except2.py 20000\n",
    "        The formula is not valid for h=20000.\n",
    "        \n",
    "        Terminal> python altitude_cml_except2.py 8848\n",
    "        34.8773231887747\n"
   ]
  },
  {
   "cell_type": "markdown",
   "metadata": {},
   "source": [
    "# Making Modules\n",
    "So far in this course we have frequently used modules such as\n",
    "`math` and `sys`, by importing them into our code:"
   ]
  },
  {
   "cell_type": "code",
   "execution_count": 23,
   "metadata": {
    "collapsed": false
   },
   "outputs": [],
   "source": [
    "from math import log\n",
    "r = log(6)   # call log function in math module\n",
    "\n",
    "import sys\n",
    "x = eval(sys.argv[1])  # access list argv in sys module"
   ]
  },
  {
   "cell_type": "markdown",
   "metadata": {},
   "source": [
    "Modules are extremely useful in Python programs, since they contain a collection of useful data and functions\n",
    "(as well as classes later), that we can reuse in our code. But what if you have written some general and useful functions\n",
    "yourself that you would like to reuse in more than one program? In such\n",
    "cases it would be convenient to make your own\n",
    "module that you can import into other programs when needed. Fortunately,\n",
    "this task is very simple in Python; just\n",
    "collect the functions you want in a file, and you have a new module!\n",
    "\n",
    "To look at a specific example, say we want create a module containing the interest formula considered earlier\n",
    "and a few other useful formulas for computing with interest rates. We have the mathematical formulas"
   ]
  },
  {
   "cell_type": "markdown",
   "metadata": {},
   "source": [
    "<!-- Equation labels as ordinary links -->\n",
    "<div id=\"input:mod:eq1\"></div>\n",
    "\n",
    "$$\n",
    "\\begin{equation}\n",
    "A = P( 1 + r/100)^{n},\n",
    "\\label{input:mod:eq1} \\tag{1}\n",
    "\\end{equation}\n",
    "$$"
   ]
  },
  {
   "cell_type": "markdown",
   "metadata": {},
   "source": [
    "<!-- Equation labels as ordinary links -->\n",
    "<div id=\"input:mod:eq2\"></div>\n",
    "\n",
    "$$\n",
    "\\begin{equation} \n",
    "P = A( 1 + r/100)^{-n},\n",
    "\\label{input:mod:eq2} \\tag{2}\n",
    "\\end{equation}\n",
    "$$"
   ]
  },
  {
   "cell_type": "markdown",
   "metadata": {},
   "source": [
    "<!-- Equation labels as ordinary links -->\n",
    "<div id=\"input:mod:eq3\"></div>\n",
    "\n",
    "$$\n",
    "\\begin{equation} \n",
    "n = \\frac{\\ln {A\\over P}}{\\ln ( 1 + r/100)} ,\n",
    "\\label{input:mod:eq3} \\tag{3}\n",
    "\\end{equation}\n",
    "$$"
   ]
  },
  {
   "cell_type": "markdown",
   "metadata": {},
   "source": [
    "<!-- Equation labels as ordinary links -->\n",
    "<div id=\"input:mod:eq4\"></div>\n",
    "\n",
    "$$\n",
    "\\begin{equation} \n",
    "r =  100 \\left(\\left({A\\over P}\\right)^{1/n} - 1\\right),\n",
    "\\label{input:mod:eq4} \\tag{4}\n",
    "\\end{equation}\n",
    "$$"
   ]
  },
  {
   "cell_type": "markdown",
   "metadata": {},
   "source": [
    "where, as above, $P$ is the initial amount, $r$ is the interest rate (percent), $n$ is the number\n",
    "of years, and $A$ is the final amount.\n",
    "We now want to implement these formulas as Python functions and make a module of them. We write the\n",
    "functions in the usual way:"
   ]
  },
  {
   "cell_type": "code",
   "execution_count": 24,
   "metadata": {
    "collapsed": false
   },
   "outputs": [],
   "source": [
    "from math import log as ln\n",
    "\n",
    "def present_amount(P, r, n):\n",
    "    return P*(1 + r/100)**n\n",
    "\n",
    "def initial_amount(A, r, n):\n",
    "    return A*(1 + r/100)**(-n)\n",
    "\n",
    "def years(P, A, r):\n",
    "    return ln(A/P)/ln(1 + r/100)\n",
    "\n",
    "def annual_rate(P, A, n):\n",
    "    return 100*((A/P)**(1.0/n) - 1)"
   ]
  },
  {
   "cell_type": "markdown",
   "metadata": {},
   "source": [
    "If we now save these functions in a file `interest.py`, it becomes a\n",
    "module that we can import, just as we are used to\n",
    "with built-in Python modules.\n",
    "Write the module code to file:"
   ]
  },
  {
   "cell_type": "code",
   "execution_count": 25,
   "metadata": {
    "collapsed": false
   },
   "outputs": [],
   "source": [
    "with open('interest.py', 'w') as outfile:\n",
    "    outfile.write(\"\"\"\n",
    "from math import log as ln\n",
    "\n",
    "def present_amount(A0, p, n):\n",
    "    return A0*(1 + p/(360.0*100))**n\n",
    "\n",
    "def initial_amount(A, p, n):\n",
    "    return A*(1 + p/(360.0*100))**(-n)\n",
    "\n",
    "def years(A0, A, p):\n",
    "    return ln(A/A0)/ln(1 + p/(360.0*100))\n",
    "\n",
    "def annual_rate(A0, A, n):\n",
    "    return 360*100*((A/A0)**(1.0/n) - 1)\n",
    "\"\"\")"
   ]
  },
  {
   "cell_type": "markdown",
   "metadata": {},
   "source": [
    "As an example, say we want to know how long it takes to double our money with\n",
    " an interest rate of 5%. The `years` function in the\n",
    "module provides the right formula, and we can import and use it in our\n",
    "program, as follows:"
   ]
  },
  {
   "cell_type": "code",
   "execution_count": 26,
   "metadata": {
    "collapsed": false
   },
   "outputs": [],
   "source": [
    "from interest import years\n",
    "P = 1; r = 5\n",
    "n = years(P, 2*P, p)\n",
    "print(f'Money has doubled after {n} years')"
   ]
  },
  {
   "cell_type": "markdown",
   "metadata": {},
   "source": [
    "### We can add a *test block* to a module file.\n",
    "\n",
    "If we try to run the module file above with `python interest.py` from the terminal, no output is produced since\n",
    "the functions are never called. Sometimes it can be useful to be able to add\n",
    "some examples of use in a module file, to demonstrate how the functions are\n",
    "called and used and give sensible output if we run the file\n",
    "with `python interest.py`. However, if we add regular function calls, print statements\n",
    "and other code to the file, this code will also be run whenever we import the module, which is usually not what we want.\n",
    "The solution is to add such example code in a *test block* at the end of the module file. The test block includes\n",
    "an if-test to check if the file is imported as a module or if it is run as a regular Python program. The code inside the test block\n",
    "is then executed only when the file is run as a program, and not when it is imported\n",
    "as a module into another program. The structure of the if-test and the test\n",
    "block is as follows:"
   ]
  },
  {
   "cell_type": "markdown",
   "metadata": {},
   "source": [
    "```Python\n",
    "        if __name__ == '__main__': # this test defines the test block\n",
    "            <block of statements>\n",
    "```"
   ]
  },
  {
   "cell_type": "markdown",
   "metadata": {},
   "source": [
    "The key is the first line, which checks the value of the built-in variable `__name__`. This string variable is\n",
    "automatically created and is always defined when Python runs.\n",
    "(Try putting `print(__name__)` inside one of your programs or type it\n",
    "in an interactive session.) Inside an imported module, `__name__` holds the\n",
    "name of the module, whereas in the main\n",
    "program its value is `\"__main__\"`.\n",
    "\n",
    "For our specific case, the complete test block can look like"
   ]
  },
  {
   "cell_type": "code",
   "execution_count": 27,
   "metadata": {
    "collapsed": false
   },
   "outputs": [],
   "source": [
    "if __name__ == '__main__':\n",
    "    A = 2.31525\n",
    "    P = 2.0\n",
    "    r = 5\n",
    "    n = 3\n",
    "    A_ = present_amount(P, r, n)\n",
    "    P_ = initial_amount(A, r, n)\n",
    "    n_ = years(P, A, r)\n",
    "    r_ = annual_rate(P, A, n)\n",
    "    print(f'A={A_} ({A}) P={P_} ({A}) n={n_} ({n}) r={r_} ({r})')"
   ]
  },
  {
   "cell_type": "markdown",
   "metadata": {},
   "source": [
    "Test blocks are often included simply for demonstrating and documenting\n",
    "how modules are used, or they are included\n",
    "in files that we sometimes use as stand-alone programs and sometimes as modules. As indicated by the name, they are also\n",
    "frequently used to test modules. Using what we learned about test functions in the previous chapter, we can do this\n",
    "by writing a standard test function that tests the functions in the module, and\n",
    "then simply calling this function from inside the test block:"
   ]
  },
  {
   "cell_type": "code",
   "execution_count": 28,
   "metadata": {
    "collapsed": false
   },
   "outputs": [],
   "source": [
    "def test_all_functions():\n",
    "    # Define compatible values\n",
    "    A = 2.31525; P = 2.0; r = 5.0; n = 3\n",
    "    # Given three of these, compute the remaining one\n",
    "    # and compare with the correct value (in parenthesis)\n",
    "    A_computed = present_amount(P, r, n)\n",
    "    P_computed = initial_amount(A, r, n)\n",
    "    n_computed = years(P, A, r)\n",
    "    r_computed = annual_rate(P, A, n)\n",
    "    def float_eq(a, b, tolerance=1E-12):\n",
    "        \"\"\"Return True if a == b within the tolerance.\"\"\"\n",
    "        return abs(a - b) < tolerance\n",
    "\n",
    "    success = float_eq(A_computed,  A)  and \\\n",
    "              float_eq(P_computed, P) and \\\n",
    "              float_eq(r_computed,  r)  and \\\n",
    "              float_eq(n_computed,  n)\n",
    "    assert success  # could add message here if desired\n",
    "\n",
    "if __name__ == '__main__':\n",
    "    test_all_functions()"
   ]
  },
  {
   "cell_type": "markdown",
   "metadata": {},
   "source": [
    "Since we have followed the naming convention of test functions, the function\n",
    "will be called if we run, for instance,\n",
    "`pytest interest.py`, but since we call it from inside the test block,\n",
    "the test can also be run simply\n",
    "by `python interest.py`. In the latter case, the test will produce no output unless there are errors.\n",
    "However, if we import the module to use in another program, the test function\n",
    "is not run, because\n",
    "the variable `__name__` will be the name of the module (i.e. `interest`)  and the\n",
    "test `__name__ == '__main__'` will be evaluated as false.\n",
    "\n",
    "### How Python finds our new module.\n",
    "\n",
    "Python has a number of designated places where it looks for modules. The first\n",
    "place it looks is in the same folder as the main program; therefore,\n",
    "if we put our module files there, they will always be found. However,\n",
    "this is not very convenient if we write more general modules that we plan to\n",
    "use from several other programs. Such modules\n",
    "can be put in a designated directory, say `/Users/sundnes/lib/python/mymods` or any other directory name that\n",
    "you choose. Then we need to tell Python to look for modules in this directory;\n",
    "otherwise, it will not find the module. On Unix-like systems (Linux, Mac, etc.),\n",
    "the standard way to tell Python where to look is by  editing\n",
    "the *environment variable* called `PYTHONPATH`. Environment variables are variables that\n",
    "hold important information used by the operating system, and `PYTHONPATH` is\n",
    "used to specify the folders\n",
    "where Python should look for modules. If you type `echo $PYTHONPATH` in the\n",
    "terminal window, you will most likely\n",
    "obtain no output, since you have not added any folder names to this variable. We can put our new folder name in this\n",
    "variable by running the command"
   ]
  },
  {
   "cell_type": "markdown",
   "metadata": {},
   "source": [
    "        export PYTHONPATH=/Users/sundnes/lib/python/mymods\n"
   ]
  },
  {
   "cell_type": "markdown",
   "metadata": {},
   "source": [
    "However, if the `PYTHONPATH` already contained any folders, these will now be lost;\n",
    "therefore, to be on the safe side, it is better to use"
   ]
  },
  {
   "cell_type": "markdown",
   "metadata": {},
   "source": [
    "        export PYTHONPATH=$PYTHONPATH:/Users/sundnes/lib/python/mymods\n"
   ]
  },
  {
   "cell_type": "markdown",
   "metadata": {},
   "source": [
    "This last command will simply add our new folder to the end of what is already in our `PYTHONPATH` variable.\n",
    "To avoid having to run this command every time we want to import a module, we\n",
    "can put it in the file `.bashrc`,\n",
    "to ensure that it is run automatically when we open a new terminal window. The `.bashrc` file should be in\n",
    "your home directory (e.g. `/Users/sundnes/.bashrc'), and will be listed with `ls -a`. (The dot at the start of the\n",
    "filename makes it a *hidden* file, so it will not show up with just `ls`.) If the file is not there, you can simply\n",
    "create it in an editor and save it in your home directory, and the system should find it and read it automatically\n",
    "the next time you open a terminal window. As an alternative to editing the systemwide environment variable,\n",
    "we can also add our directory to the path from inside the\n",
    "program. Putting a line such as this inside your code, before you import the module,\n",
    "should allow Python to find it:"
   ]
  },
  {
   "cell_type": "markdown",
   "metadata": {},
   "source": [
    "```Python\n",
    "        sys.path.insert(0, '/Users/sundnes/lib/python/mymods')\n",
    "```"
   ]
  },
  {
   "cell_type": "markdown",
   "metadata": {},
   "source": [
    "As an alternative to creating your own directory for modules, and\n",
    "then tell Python where to find them, you can place the modules in one of the\n",
    "places where Python always looks for modules. The location of these varies a\n",
    "bit between different Python installations, but the directory itself is usually named `site-packages`. If you have\n",
    "installed NumPy or another package that is not part of the\n",
    "standard Python distribution, you can locate the\n",
    "correct directory by importing this package. For instance, type the following in an interactive Python shell:"
   ]
  },
  {
   "cell_type": "code",
   "execution_count": 29,
   "metadata": {
    "collapsed": false
   },
   "outputs": [],
   "source": [
    "import numpy\n",
    "numpy.__file__"
   ]
  },
  {
   "cell_type": "markdown",
   "metadata": {},
   "source": [
    "The last line reveals the location of the `site-packages` directory, and\n",
    "placing your own modules there will ensure Python will find them."
   ]
  }
 ],
 "metadata": {},
 "nbformat": 4,
 "nbformat_minor": 2
}
