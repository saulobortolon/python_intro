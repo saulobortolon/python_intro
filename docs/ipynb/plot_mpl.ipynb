{
 "cells": [
  {
   "cell_type": "markdown",
   "metadata": {},
   "source": [
    "# Arrays and Plotting\n",
    "In this chapter, we will learn to visualize mathematical functions and the results of\n",
    "mathematical calculations. You have probably used a variety of different\n",
    "plotting tools in the past, and we will now do much of the same thing in Python.\n",
    "The way standard plotting tools work in Python is that we first compute a\n",
    "number of points lying on the curve we want to show and then draw straight\n",
    "lines between them. If we have enough points, the result looks\n",
    "like a smooth curve. For plotting mathematical functions, this approach\n",
    "can seem a bit primitive, since there are other tools we can use to simply\n",
    "type in a mathematical expression and have the curve plotted on the screen.\n",
    "However, the approach we use here is also much more flexible, since we can plot\n",
    "data when there is no underlying mathematical function, for instance, experimental\n",
    "data read from a file or results from a numerical experiment. To plot\n",
    "functions in Python, we need to learn about the package `matplotlib`, which is an\n",
    "extensive toolbox for plotting and visualization.\n",
    "In addition, it is useful to introduce the package\n",
    "named NumPy, which is useful for storing storing *arrays* of data for efficient\n",
    "computations.\n",
    "\n",
    "\n",
    "# NumPy and Array Computing\n",
    "The standard way to plot a curve $y=f(x)$ is to draw straight lines between\n",
    "points along the curve, and for this purpose we need to store the coordinates of the points.\n",
    "We could use lists for this, for instance, two lists `x` and `y`, and most of the plotting tools\n",
    "we will use work fine with lists. However, a data structure known as an *array* is much more\n",
    "efficient than a list, and it offers a number of nice features and advantages. Computing\n",
    "with arrays is often referred to as *array computations* or *vectorized computations*, and these concepts\n",
    "are useful for much more than just plotting curves.\n",
    "\n",
    "### Arrays are generalizations of vectors.\n",
    "\n",
    "In high school mathematics, vectors were introduced as line segments with a\n",
    "direction, represented by coordinates $(x,y)$ in the plane or $(x,y,z)$ in space.\n",
    "This concept of vectors can be generalized to any number of dimensions,\n",
    "and we can view a vector $v$ as a general $n$-tuple of numbers;\n",
    "$v=(v_0,\\ldots,v_{n-1})$. In Python, we could use\n",
    "a list to represent such a vector, by storing component $v_i$ as\n",
    "element `v[i]` in the list. However, vectors are so useful and common in\n",
    "scientific programming that a special data structure has been created for them:\n",
    "the *NumPy array*. An array is much less flexible than a list, in that it\n",
    "has a fixed length (i.e., no `append`-method), and one array can only hold\n",
    "variables of the same type. However, arrays are also much more efficient to use in\n",
    "computations, and since they are designed for such use, they have a\n",
    "number of useful features that can shorten and clarify our code.\n",
    "\n",
    "For the purpose of plotting, we will mostly use one-dimensional arrays, but an\n",
    "array can have multiple indices,\n",
    "similar to a nested list. For instance, a two-dimensional array $A_{i,j}$ can\n",
    "be viewed as a table of numbers,\n",
    "with one index for the row and one for the column, as follows:"
   ]
  },
  {
   "cell_type": "markdown",
   "metadata": {},
   "source": [
    "$$\n",
    "\\left\\lbrack\\begin{array}{cccc}\n",
    "0 & 7 & -3 & 5\\\\\n",
    "-1 & -3 & 4 & 0\\\\\n",
    "9 & 3 & 5 & -7\n",
    "\\end{array}\\right\\rbrack\n",
    "\\hspace{1cm}\n",
    "A =\n",
    "\\left\\lbrack\\begin{array}{ccc}\n",
    "A_{0,0} & \\cdots &  A_{0,n-1}\\\\\n",
    "\\vdots & \\ddots &  \\vdots\\\\\n",
    "A_{m-1,0} & \\cdots & A_{m-1,n-1}\n",
    "\\end{array}\\right\\rbrack\n",
    "$$"
   ]
  },
  {
   "cell_type": "markdown",
   "metadata": {},
   "source": [
    "Such a two-dimensional case is similar to a matrix in linear algebra, but\n",
    "NumPy arrays do not follow the standard rules\n",
    "for mathematical operations on matrices. The number of indices in an array is often\n",
    "referred to as the *rank* or the *number of dimensions*.\n",
    "\n",
    "### Storing (x,y) points on a curve in lists and arrays.\n",
    "\n",
    "To make the array concept a bit more concrete, we consider the task mentioned above, where we\n",
    "want to store points on a function curve $y=f(x)$. All the plotting cases we will\n",
    "consider are based on this idea, so it makes sense to introduce\n",
    "it for a simple example. We have seen in previous chapters that there are multiple\n",
    "ways to store such pairs of numbers, for instance in a nested list containing $(x,y)$ pairs.\n",
    "However, for the purpose of plotting, the easiest approach is to create two lists or arrays,\n",
    "one holding the $x$-values and another holding the $y$-values.\n",
    "The two lists/arrays should be of equal length, and we will always create them\n",
    "using the same two steps. First, we create\n",
    "$n$ uniformly spaced $x$-values that cover the interval where we want to plot\n",
    "the function. Then, we run through these numbers and compute the\n",
    "corresponding $y$-values, storing these in a separate list or array.\n",
    "The following interactive session illustrates the procedure, using list comprehensions to\n",
    "first create a list of five $x$-points on the\n",
    "interval $[0,1]$, and then compute the corresponding points $y=f(x)$ for\n",
    "$f(x) = x^2$."
   ]
  },
  {
   "cell_type": "code",
   "execution_count": 1,
   "metadata": {
    "collapsed": false
   },
   "outputs": [],
   "source": [
    "def f(x):\n",
    "    return x**2"
   ]
  },
  {
   "cell_type": "markdown",
   "metadata": {},
   "source": [
    "Now that we have the two lists, they can be sent directly to a tool such as\n",
    "`matplotlib` for plotting, but before\n",
    "we do this, we will introduce NumPy arrays. If we continue the interactive session\n",
    "from above, the following lines will turn the two lists into NumPy arrays:"
   ]
  },
  {
   "cell_type": "markdown",
   "metadata": {},
   "source": [
    "It is worth noting how we import NumPy in the first line. As always, we\n",
    "could import it with `from numpy import *`, but this is a bad habit, since `numpy`\n",
    "and `math` contain many functions with the same name, and we will often use\n",
    "both modules in the same program. To ensure that we always know which module we\n",
    "are using, it is a good habit to import NumPy as we have done here. Using\n",
    "`import numpy as np` instead of simply `import numpy` saves us some\n",
    "typing in the rest of the code and is also more or less an accepted standard\n",
    "among Python programmers.\n",
    "\n",
    "Converting lists to arrays using the `array` function from NumPy is intuitive\n",
    "and flexible, but NumPy has a number of built-in functions that are often more\n",
    "convenient to use. Two of the most widely used ones are called `linspace`\n",
    "and `zeros`.  The following interactive session is a list-free version of the\n",
    "example above, where we create\n",
    "the NumPy arrays directly, using these two functions:"
   ]
  },
  {
   "cell_type": "code",
   "execution_count": 2,
   "metadata": {
    "collapsed": false
   },
   "outputs": [],
   "source": [
    "import numpy as np\n",
    "def f(x):\n",
    "    return x**2"
   ]
  },
  {
   "cell_type": "code",
   "execution_count": 3,
   "metadata": {
    "collapsed": false
   },
   "outputs": [],
   "source": [
    "n = 5                     # number of points\n",
    "x = np.linspace(0, 1, n)  # n points in [0, 1]\n",
    "y = np.zeros(n)           # n zeros (float data type)\n",
    "for i in range(n):\n",
    "    y[i] = f(x[i])"
   ]
  },
  {
   "cell_type": "markdown",
   "metadata": {},
   "source": [
    "As illustrated here, we will usually call `linspace` with three arguments, with\n",
    "the general form `linspace(start,stop,n)`, which will create an array of\n",
    "length `n`, containing uniformly distributed values on the interval from\n",
    "`start` to `stop`. If we leave out the third argument, as in `linspace(start,stop)`,\n",
    "a default value of `n=50` is used. The `start` and `stop` arguments must always\n",
    "be provided. An array of equally spaced $x$-values is needed nearly every time\n",
    "we plot something, so we will use `linspace` frequently. It is\n",
    "worth spending time to become familiar with how it is used and what it returns.\n",
    "\n",
    "The second NumPy function used above, `zeros(n)`, does exactly what we would\n",
    "expect: it creates an array of length `n` containing only zeros. We have seen\n",
    "earlier that a common way to create a list is to start with an empty list\n",
    "and fill it with values using a for loop and the `append`-method. We will often\n",
    "use a similar approach to create an array, but since an array has fixed length\n",
    "and no `append`-method, we must first create an array of the right size and\n",
    "then loop over it with an index to fill in the values. This operation is very common, so\n",
    "remembering the existence of NumPy's `zeros` function is important.\n",
    "\n",
    "As we have seen in Chapter 3, lists in Python are extremely flexible, and can contain\n",
    "any Python object. Arrays are much more static, and we will typically use them\n",
    "for numbers (i.e., type `float` or `int`). They can also be of other types,\n",
    "such as boolean arrays (true/false), but a single array always contains a\n",
    "single object type. We have also seen that arrays are of fixed length and do not\n",
    "have the convenient `append`-method. So, why do we use arrays at all?\n",
    "One reason, which was mentioned above, is that arrays are more efficient to\n",
    "store in memory and use in computations. The other reason is that arrays can\n",
    "shortn our code and make it more readable, since we can perform operations on an\n",
    "entire array at once instead of using loops. Say, for instance, that we want to\n",
    "compute the cosine of all the elements in a list or array `x`. We know how to do\n",
    "this using a for loop"
   ]
  },
  {
   "cell_type": "code",
   "execution_count": 4,
   "metadata": {
    "collapsed": false
   },
   "outputs": [],
   "source": [
    "import numpy as np\n",
    "from math import cos\n",
    "x = np.linspace(0,1,11)\n",
    "\n",
    "for i in range(len(x)):\n",
    "    y[i] = cos(x[i])"
   ]
  },
  {
   "cell_type": "markdown",
   "metadata": {},
   "source": [
    "but if `x` is an array, `y` can be computed by"
   ]
  },
  {
   "cell_type": "code",
   "execution_count": 5,
   "metadata": {
    "collapsed": false
   },
   "outputs": [],
   "source": [
    "y = np.cos(x)                  # x: array, y: array"
   ]
  },
  {
   "cell_type": "markdown",
   "metadata": {},
   "source": [
    "In addition to being shorter and quicker to write, this code will run much\n",
    "faster than the code with the loop.\n",
    "Such computations are usually referred to as vectorized computations, since\n",
    "they work on the entire array (or vector) at once. Most of the standard functions\n",
    "we find in `math` have a corresponding function in\n",
    "`numpy` that will work for arrays. Under the hood these NumPy functions still\n",
    "contain a for loop, since they need to\n",
    "traverse all the elements of the array, but this loop is written in very\n",
    "efficient C code and is therefore much faster than Python loops we write ourselves.\n",
    "\n",
    "\n",
    "A function `f(x)` that was written to work a for a single number `x` will\n",
    "often work well for an array as well. If the function uses only basic mathematical\n",
    "operators ($+,-,*$, etc.), we can pass it either a number or an array as\n",
    "the argument, and it will work just fine with no modifications. If the function uses\n",
    "more advanced operations that we\n",
    "need to import, we have to make sure to import these from `numpy` rather\n",
    "than `math`, since the functions in\n",
    "`math` work only with single numbers. The following example illustrates how it works:"
   ]
  },
  {
   "cell_type": "code",
   "execution_count": 6,
   "metadata": {
    "collapsed": false
   },
   "outputs": [],
   "source": [
    "from numpy import sin, exp, linspace\n",
    "\n",
    "def g(x):\n",
    "    return x**2+2*x-4\n",
    "\n",
    "def f(x):\n",
    "    return sin(x)*exp(-2*x)\n",
    "\n",
    "x = 1.2                     # float object\n",
    "y = f(x)                    # y is float\n",
    "\n",
    "x = linspace(0, 3, 101)   # 100 intervals in [0,3]\n",
    "y = f(x)                  # y is array\n",
    "z = g(x)\t\t  # z is array"
   ]
  },
  {
   "cell_type": "markdown",
   "metadata": {},
   "source": [
    "We see that, except for the initial import from NumPy, the two functions look exactly the same as if they were\n",
    "written to work on a single number. The result of the two function calls will be two arrays `y,z` of length 101,\n",
    "with each element being the function value computed for the corresponding value of `x`.\n",
    "\n",
    "If we try to send an array of length $>1$ to a function imported from `math`,\n",
    "we will obtain an error message:"
   ]
  },
  {
   "cell_type": "code",
   "execution_count": 7,
   "metadata": {
    "collapsed": false
   },
   "outputs": [],
   "source": [
    "import math, numpy\n",
    "x = numpy.linspace(0, 1, 6)\n",
    "x"
   ]
  },
  {
   "cell_type": "code",
   "execution_count": 8,
   "metadata": {
    "collapsed": false
   },
   "outputs": [],
   "source": [
    "math.cos(x[0])"
   ]
  },
  {
   "cell_type": "code",
   "execution_count": 9,
   "metadata": {
    "collapsed": false
   },
   "outputs": [],
   "source": [
    "math.cos(x)"
   ]
  },
  {
   "cell_type": "code",
   "execution_count": 10,
   "metadata": {
    "collapsed": false
   },
   "outputs": [],
   "source": [
    "numpy.cos(x)"
   ]
  },
  {
   "cell_type": "markdown",
   "metadata": {},
   "source": [
    "On the other hand, using NumPy functions on single numbers will work just fine.\n",
    "A natural question to ask, then, is why do we ever need to import from `math`\n",
    "at all? Why not  use NumPy functions all\n",
    "the time, since they do the job for both arrays and numbers? The answer is that\n",
    "we can certainly do this, and in most cases it will work fine, but the functions\n",
    "in `math` are more optimized for single numbers (scalars) and are therefore faster.\n",
    "One will rarely notice the difference, but there can be applications\n",
    "where the extra efficiency matters. There are also functions in `math`\n",
    "(e.g., `factorial`) that do not have a corresponding version in NumPy.\n",
    "\n",
    "We started this chapter by computing points along a curve using lists\n",
    "and for loops. Now that we have introduced NumPy, we can solve this task\n",
    "much more easily by using arrays and array computations. Say\n",
    "we want to compute points on the curve described by the function"
   ]
  },
  {
   "cell_type": "markdown",
   "metadata": {},
   "source": [
    "$$\n",
    "f(x) = e^{-x}\\sin(2\\pi x),\\quad x\\in [0, 4]\n",
    "$$"
   ]
  },
  {
   "cell_type": "markdown",
   "metadata": {},
   "source": [
    "for $x\\in [0,4*\\pi]$. The vectorized code can look as follows:"
   ]
  },
  {
   "cell_type": "code",
   "execution_count": 11,
   "metadata": {
    "collapsed": false
   },
   "outputs": [],
   "source": [
    "import numpy as np\n",
    "\n",
    "n = 100\n",
    "x = np.linspace(0, 4, n+1)\n",
    "y = np.exp(-x)*np.sin(2*np.pi*x)"
   ]
  },
  {
   "cell_type": "markdown",
   "metadata": {},
   "source": [
    "This code is shorter and quicker to write than the one with lists and loops,\n",
    "most people find it easier to read\n",
    "since it is closer to the mathematics, and it runs much faster than the list version.\n",
    "\n",
    "We have already mentioned the term *vectorized computations*, and if you\n",
    "follow a course in scientific Python you will probably\n",
    "be asked at some point to *vectorize* a function or a computation. This usually\n",
    "means nothing more than to\n",
    "ensure that all the mathematical functions are imported from `numpy` rather\n",
    "than `math`, and to then perform all the operations on entire arrays rather than looping\n",
    "over their individual elements. The vectorized code should contain no for loops\n",
    "written in Python. The mathematical functions `g(x)` and `f(x)` in the example\n",
    "above are perfectly valid examples of vectorized functions, even though\n",
    "the actual functions look identical to the scalar versions. The only major\n",
    "exceptions to this simple recipe for vectorization are functions that\n",
    "include if-tests. For instance, in Chapter 4, we implemented\n",
    "piecewise-defined mathematical functions using if-tests. These functions\n",
    "will not work if the input argument is an array, because a test such as `if x > 0`\n",
    "has no precise meaning if `x` is an array. There are ways, however, to solve this\n",
    "problem, which we will look into later in the chapter.\n",
    "\n",
    "# Plotting Curves with Matplotlib\n",
    "The motivation for introducing NumPy arrays was to plot mathematical\n",
    "functions, and now that we have introduced all the necessary tools\n",
    "we are finally ready to do so. Let us start with a simple example.\n",
    "Say we want to plot the curve $y(x) = e^{-x}\\sin(2\\pi x)$, for $x$ ranging\n",
    "from zero to four. The code can look like"
   ]
  },
  {
   "cell_type": "code",
   "execution_count": 12,
   "metadata": {
    "collapsed": false
   },
   "outputs": [],
   "source": [
    "%matplotlib inline\n",
    "\n",
    "import matplotlib.pyplot as plt\n",
    "import numpy as np\n",
    "\n",
    "n = 100\n",
    "x = np.linspace(0, 4, n+1)\n",
    "y = np.exp(-x)*np.sin(2*np.pi*x)\n",
    "\n",
    "plt.plot(x, y)\n",
    "plt.show()"
   ]
  },
  {
   "cell_type": "markdown",
   "metadata": {},
   "source": [
    "This code is identical to the example above, except for the first line and the\n",
    "last two lines. The first line imports the plotting tools from the `matplotlib`\n",
    "package, which is an extensive library of functions for scientific visualization.\n",
    "We will only use a small subset of the capabilities of `matplotlib`, mostly\n",
    "from the module `pyplot`, to plot curves and create animations of curves that change over time.\n",
    "The next few lines are from the example above, and they simply create the\n",
    "two arrays `x` and `y` defining the points along the curve.\n",
    "The last two lines carry out the actual plotting: the\n",
    "call `plt.plot(x,y)` first creates the plot of the curve, and then\n",
    "`plt.show()` displays the plot on the screen. The reason for keeping these\n",
    "separate is to make it easy to plot multiple curves in a single plot,\n",
    "by calling `plot` multiple times followed by a single call to `show`. The resulting\n",
    "plot is shown in [Figure](#fig:plot1a).\n",
    "A common mistake is to forget the `plt.show()` call, and the program will\n",
    "then simply end without displaying anything on the screen.\n",
    "\n",
    "<!-- dom:FIGURE: [./fig-plot/plot1a_pylab.png, width=600 frac=0.8] Simple plot of a function using Matplotlib. <div id=\"fig:plot1a\"></div> -->\n",
    "<!-- begin figure -->\n",
    "<div id=\"fig:plot1a\"></div>\n",
    "\n",
    "<p>Simple plot of a function using Matplotlib.</p>\n",
    "<img src=\"./fig-plot/plot1a_pylab.png\" width=600>\n",
    "\n",
    "<!-- end figure -->\n",
    "\n",
    "\n",
    "The plot produced by the code above is very simple and contains no title,\n",
    "axis labels, or other information. We can easily add such information in the\n",
    "plot by using tools from `matplotlib`:"
   ]
  },
  {
   "cell_type": "code",
   "execution_count": 13,
   "metadata": {
    "collapsed": false
   },
   "outputs": [],
   "source": [
    "import matplotlib.pyplot as plt  # import and plotting\n",
    "import numpy as np\n",
    "\n",
    "def f(x):\n",
    "    return np.exp(-x)*np.sin(2*np.pi*x)\n",
    "\n",
    "n = 100\n",
    "x = np.linspace(0, 4, n+1)\n",
    "y = f(x)\n",
    "\n",
    "plt.plot(x, y, label='exp(-x)*sin(2$\\pi$ x)')\n",
    "\n",
    "plt.xlabel('x')               # label on the x axis\n",
    "plt.ylabel('y')               # label on the y axis\n",
    "plt.legend()                  # mark the curve\n",
    "plt.axis([0, 4, -0.5, 0.8])  # [tmin, tmax, ymin, ymax]\n",
    "plt.title('My First Matplotlib Demo')\n",
    "\n",
    "plt.savefig('fig.pdf')   # make PDF image for reports\n",
    "plt.savefig('fig.png')   # make PNG image for web pages\n",
    "plt.show()"
   ]
  },
  {
   "cell_type": "markdown",
   "metadata": {},
   "source": [
    "The plot resulting from this code is shown in [Figure](#fig:plot1c).\n",
    "Most of the lines in the code should be self-explanatory, but some are worth\n",
    "a comment. The call to `legend` will create a legend for the plot,\n",
    "using the information provided in the `label` argument passed to `plt.plot`. This is\n",
    "very useful when plotting multiple curves in a single plot. The `axis`\n",
    "function sets the length of the\n",
    "horizontal and vertical axes. These are otherwise set automatically by Matplotlib,\n",
    "which usually works fine, but in some cases the plot looks better if we set the\n",
    "axes manually. Later in this chapter, we will create animations of curves and,\n",
    "in this case, the axes will have to be set to fixed lengths. Finally,\n",
    "the two calls to `savefig` will save our plot in two different file formats,\n",
    "automatically determined by the file name provided.\n",
    "\n",
    "<!-- dom:FIGURE: [./fig-plot/plot1c_pylab.png, width=600 frac=0.9] Example plot with more information added. <div id=\"fig:plot1c\"></div> -->\n",
    "<!-- begin figure -->\n",
    "<div id=\"fig:plot1c\"></div>\n",
    "\n",
    "<p>Example plot with more information added.</p>\n",
    "<img src=\"./fig-plot/plot1c_pylab.png\" width=600>\n",
    "\n",
    "<!-- end figure -->\n",
    "\n",
    "\n",
    "\n",
    "If we plot multiple curves in a single plot, Matplotlib will choose the color of\n",
    "each curve automatically. This default choice usually\n",
    "works well, but we can control the look of each curve further if\n",
    "desired. Say we want to plot the functions $e^{-x}\\sin(2\\pi x)$\n",
    "and $e^{-2x}\\sin(4\\pi x)$\n",
    "in the same plot:"
   ]
  },
  {
   "cell_type": "code",
   "execution_count": 14,
   "metadata": {
    "collapsed": false
   },
   "outputs": [],
   "source": [
    "import matplotlib.pyplot as plt\n",
    "import numpy as np\n",
    "\n",
    "def f1(x):\n",
    "    return np.exp(-x)*np.sin(2*np.pi*x)\n",
    "\n",
    "def f2(x):\n",
    "    return np.exp(-2*x)*np.sin(4*np.pi*x)\n",
    "\n",
    "x = np.linspace(0, 8, 401)\n",
    "y1 = f1(x)\n",
    "y2 = f2(x)\n",
    "\n",
    "plt.plot(x, y1, 'r--', label='exp(-x)*sin(2$\\pi$ x)')\n",
    "plt.plot(x, y2, 'g:', label='exp(-2*x)*sin(4$\\pi$ x)')\n",
    "\n",
    "plt.xlabel('x')\n",
    "plt.ylabel('y')\n",
    "plt.legend()\n",
    "plt.title('Plotting two curves in the same plot')\n",
    "plt.savefig('fig_two_curves.png')\n",
    "plt.show()"
   ]
  },
  {
   "cell_type": "markdown",
   "metadata": {},
   "source": [
    "This example shows that the options for changing the color and plotting style\n",
    "of the curves are fairly intuitive, and can be easily explored by trial and error.\n",
    "For a full overview of\n",
    "all the options, we refer the reader to the Matplotlib documentation.\n",
    "\n",
    "Although the code example above was not too complex, we had to write an excess\n",
    "of 20 lines just to plot two simple functions on the screen. This level of\n",
    "programming is necessary if we want to produce professional-looking plots,\n",
    "such as in a presentation, master's thesis, or scientific report. However,\n",
    "if we just want a quick plot on the screen, this can be achieved much more simply.\n",
    "The following code lines will plot the same two curves as in the\n",
    "example above, using just three lines:"
   ]
  },
  {
   "cell_type": "code",
   "execution_count": 15,
   "metadata": {
    "collapsed": false
   },
   "outputs": [],
   "source": [
    "t = np.linspace(0, 8, 201)\n",
    "plt.plot(x,np.exp(-x)*np.sin(2*np.pi*x),x,np.exp(-2*x)*np.sin(4*np.pi*x))\n",
    "plt.show()"
   ]
  },
  {
   "cell_type": "markdown",
   "metadata": {},
   "source": [
    "As always, the effort we put in depends on what the resulting plot will be\n",
    "used for, and, in particular, on whether we are just exploring some data on our\n",
    "own or plan on presenting it to others.\n",
    "\n",
    "\n",
    "### Example: Plotting a user-specified function.\n",
    "\n",
    "Say we want to write a small program `plotf.py` that\n",
    "asks the user to provide a mathematical function $f(x)$, and then plots the\n",
    "curve $y=f(x)$. We can also ask the user to specify the\n",
    "boundaries of the curve, that is, the lower and upper limits for $x$. An example\n",
    "of running the program from the terminal can look like\n",
    "should be"
   ]
  },
  {
   "cell_type": "markdown",
   "metadata": {},
   "source": [
    "        Terminal> python plot_input.py\n",
    "        Write a mathematical expression of x:2*x**2-4\n",
    "        Provide lower bound for x:0\n",
    "        Provide upper bound for x:7\n"
   ]
  },
  {
   "cell_type": "markdown",
   "metadata": {},
   "source": [
    "For these input values the program should plot the curve\n",
    "$y = 2x^2-4$, for $x\\in [0,7]$. The `plot_input.py` program should\n",
    "work for any mathematical expression. The task can be solved using\n",
    "the the functions `input` and `eval` introduced in Chapter 5:"
   ]
  },
  {
   "cell_type": "markdown",
   "metadata": {},
   "source": [
    "```Python\n",
    "        from numpy import *\n",
    "        import matplotlib.pyplot as plt\n",
    "        \n",
    "        formula = input('Write a mathematical expression of x:')\n",
    "        xmin = float(input('Provide lower bound for x:'))\n",
    "        xmax = float(input('Provide upper bound for x:'))\n",
    "        \n",
    "        x = linspace(xmin, xmax, 101)\n",
    "        y = eval(formula)\n",
    "        \n",
    "        plt.plot(x, y)\n",
    "        plt.show()\n",
    "```"
   ]
  },
  {
   "cell_type": "markdown",
   "metadata": {},
   "source": [
    "This small program will stop and ask the user first for a mathematical expression\n",
    "and then for the bounds on `x`, and then it will proceed to plot the resulting curve.\n",
    "Note that, in this case, we have a good reason to import NumPy with `from numpy import *`.\n",
    "We want the user to be able type a formula using\n",
    "standard mathematical terminology, such as `sin(x) + x**2` (rather than `np.sin(x) + x**2`). For this to\n",
    "work, we need to import all the mathematical functions from NumPy without a prefix.\n",
    "\n",
    "\n",
    "# Plotting Discontinuous and Piecewise-Defined Functions\n",
    "Discontinuous functions, and functions defined in a piecewise manner, are common in science and engineering.\n",
    "We saw in Chapter 4 how these could be implemented in\n",
    "Python using if-tests, but, as we briefly\n",
    "commented above, this implementation gives rise to challenges when\n",
    "using arrays and NumPy. To consider a concrete example, say we want to\n",
    "plot the Heaviside function, defined by"
   ]
  },
  {
   "cell_type": "markdown",
   "metadata": {},
   "source": [
    "$$\n",
    "H(x) = \\left\\lbrace\\begin{array}{ll}\n",
    "0, & x<0\\\\\n",
    "1, & x\\geq 0\n",
    "\\end{array}\\right.\n",
    "$$"
   ]
  },
  {
   "cell_type": "markdown",
   "metadata": {},
   "source": [
    "Following the ideas from Chapter 4, a Python implementation\n",
    "of this function could look like this"
   ]
  },
  {
   "cell_type": "code",
   "execution_count": 16,
   "metadata": {
    "collapsed": false
   },
   "outputs": [],
   "source": [
    "def H(x):\n",
    "    if x < 0:\n",
    "        return 0\n",
    "    else:\n",
    "        return 1"
   ]
  },
  {
   "cell_type": "markdown",
   "metadata": {},
   "source": [
    "Now we want to plot the function using the simple approach introduced above.\n",
    "It is natural to simply create an array of values `x`, and to pass this array to\n",
    "the function `H(x)` to compute the corresponding $y$-values:"
   ]
  },
  {
   "cell_type": "markdown",
   "metadata": {},
   "source": [
    "```Python\n",
    "        x = linspace(-10, 10, 5)  # few points (simple curve)\n",
    "        y = H(x)\n",
    "        plot(x, y)\n",
    "```"
   ]
  },
  {
   "cell_type": "markdown",
   "metadata": {},
   "source": [
    "However, if we try to run this code, we obtain an error message, a `ValueError`\n",
    "error inside the function `H(x)`, coming from the `if x < 0` line. We can\n",
    "illustrate what goes wrong in an interactive Python session:"
   ]
  },
  {
   "cell_type": "code",
   "execution_count": 17,
   "metadata": {
    "collapsed": false
   },
   "outputs": [],
   "source": [
    "x = linspace(-10,10,5)\n",
    "x"
   ]
  },
  {
   "cell_type": "code",
   "execution_count": 18,
   "metadata": {
    "collapsed": false
   },
   "outputs": [],
   "source": [
    "b = x < 0\n",
    "b"
   ]
  },
  {
   "cell_type": "code",
   "execution_count": 19,
   "metadata": {
    "collapsed": false
   },
   "outputs": [],
   "source": [
    "bool(b)  # evaluate b in a Boolean context"
   ]
  },
  {
   "cell_type": "markdown",
   "metadata": {},
   "source": [
    "We see here that the result of the statement `b = x < 0` is an array of\n",
    "Boolean values, whereas, if `b` were a single number, the result would be a\n",
    "single Boolean (true/false). Therefore, the statement `bool(b)`, or\n",
    "tests such as `if b` or `if x < 0` do not make sense, since it is impossible to\n",
    "say whether an array of multiple true/false values is true or false.\n",
    "\n",
    "There are several ways to fix this problem. One is to avoid the vectorization\n",
    "altogether, and return to the traditional for loop for computing the values:"
   ]
  },
  {
   "cell_type": "code",
   "execution_count": 20,
   "metadata": {
    "collapsed": false
   },
   "outputs": [],
   "source": [
    "import numpy as np\n",
    "import matplotlib.pyplot as plt\n",
    "n = 5\n",
    "x = np.linspace(-5, 5, n+1)\n",
    "y = np.zeros(n+1)\n",
    "\n",
    "for i in range(len(x)):\n",
    "    y[i] = H(x[i])\n",
    "\n",
    "plt.plot(x,y)\n",
    "plt.show()"
   ]
  },
  {
   "cell_type": "markdown",
   "metadata": {},
   "source": [
    "A variation of the same approach is to alter the `H(x)` function itself\n",
    "and put the for loop inside it:"
   ]
  },
  {
   "cell_type": "code",
   "execution_count": 21,
   "metadata": {
    "collapsed": false
   },
   "outputs": [],
   "source": [
    "def H_loop(x):\n",
    "    r = np.zeros(len(x))  # or r = x.copy()\n",
    "    for i in range(len(x)):\n",
    "        r[i] = H(x[i])\n",
    "    return r\n",
    "\n",
    "n = 5\n",
    "x = np.linspace(-5, 5, n+1)\n",
    "y = H_loop(x)"
   ]
  },
  {
   "cell_type": "markdown",
   "metadata": {},
   "source": [
    "We see that this last approach ensures that we can call the function with an array argument `x`, but the\n",
    "downside to both versions is that we need to write quite a lot of new code, and using  a\n",
    "for loop is much slower than using vectorized array computing.\n",
    "\n",
    "An alternative approach is to use a built-sin NumPy function named `vectorize`, which offers automatic\n",
    "vectorization of functions with if-tests. The line"
   ]
  },
  {
   "cell_type": "code",
   "execution_count": 22,
   "metadata": {
    "collapsed": false
   },
   "outputs": [],
   "source": [
    "Hv = np.vectorize(H)"
   ]
  },
  {
   "cell_type": "markdown",
   "metadata": {},
   "source": [
    "creates a vectorized version `Hv(x)` of the function `H(x)` that will work\n",
    "with an array argument.\n",
    "Although this approach is obviously better, in the sense that the conversion\n",
    "is automatic so we need to write very little new code, it is about as slow as\n",
    "the two approaches using for loops.\n",
    "\n",
    "\n",
    "A third approach is to write a new function where the if-test is coded differently:"
   ]
  },
  {
   "cell_type": "code",
   "execution_count": 23,
   "metadata": {
    "collapsed": false
   },
   "outputs": [],
   "source": [
    "def Hv(x):\n",
    "    return np.where(x < 0, 0.0, 1.0)"
   ]
  },
  {
   "cell_type": "markdown",
   "metadata": {},
   "source": [
    "For this particular case, the NumPy function `where` will evaluate the expression `x<0`\n",
    "for all elements in the array `x`, and return an array of the same length as `x`,\n",
    "with values 0.0 for all elements where `x<0`, and 1.0 for the others. More\n",
    "generally, a function with an if-test can be converted to an array-ready\n",
    "vectorized version in the following way:"
   ]
  },
  {
   "cell_type": "markdown",
   "metadata": {},
   "source": [
    "```Python\n",
    "        def f(x):\n",
    "            if condition:\n",
    "                x = <expression1>\n",
    "            else:\n",
    "                x = <expression2>\n",
    "            return x\n",
    "        \n",
    "        def f_vectorized(x):\n",
    "            x1 = <expression1>\n",
    "            x2 = <expression2>\n",
    "            r = np.where(condition, x1, x2)\n",
    "            return r\n",
    "```"
   ]
  },
  {
   "cell_type": "markdown",
   "metadata": {},
   "source": [
    "This conversion is not, of course, as automatic as using `vectorize`, and\n",
    "requires writing some more code, but it is much more computationally efficient\n",
    "than the other versions. Efficiency is sometimes important when working with\n",
    "large arrays.\n",
    "\n",
    "\n",
    "# Making a Movie of a Plot\n",
    "It is often useful to make animations or movies of plots, for instance if the plot represents some physical\n",
    "phenomenon that changes with time, or if we want to visualize the effect of changing\n",
    "parameters. Matplotlib has multiple tools for creating such plots, and we will explore some of them here.\n",
    "To start with a specific case, consider again the well-known Gaussian bell function:"
   ]
  },
  {
   "cell_type": "markdown",
   "metadata": {},
   "source": [
    "$$\n",
    "f(x; m, s) = {1\\over\\sqrt{2\\pi}}{1\\over s}\\exp{\\left[-{1\\over2}\\left({x-m\\over s}\\right)^2\\right]}\n",
    "$$"
   ]
  },
  {
   "cell_type": "markdown",
   "metadata": {},
   "source": [
    "The parameter $m$ is the location of the function's peak, while $s$ is a measure of the width of\n",
    "the bell curve. Plots of this function for different values of $s$ are shown in\n",
    "[Figure](#fig:plot_gauss). As an alternative illustration of how the parameters\n",
    "change the function we can make a movie (animation) of how\n",
    "$f(x;m,s)$ changes shape as $s$ goes from two to 0.2.\n",
    "\n",
    "\n",
    "<!-- dom:FIGURE: [./fig-plot/plot4_thick.png, width=600 frac=0.8] The Gaussian bell function plotted for different values of $s$. <div id=\"fig:plot_gauss\"></div> -->\n",
    "<!-- begin figure -->\n",
    "<div id=\"fig:plot_gauss\"></div>\n",
    "\n",
    "<p>The Gaussian bell function plotted for different values of $s$.</p>\n",
    "<img src=\"./fig-plot/plot4_thick.png\" width=600>\n",
    "\n",
    "<!-- end figure -->\n",
    "\n",
    "\n",
    "\n",
    "### Movies are made from a large set of individual plots.\n",
    "\n",
    "Movies of plots are created through the classical approach of cartoon movies\n",
    "(or, really, all movies): by creating a set of images and viewing them in rapid sequence.\n",
    "For our specific example, the typical approach is to write a\n",
    "for loop to step through the $s$ values and either show the resulting plots directly\n",
    "or store them in individual files for later processing. Regardless of the approach,\n",
    "it is important to always fix the axes when making animations of plots;\n",
    "otherwise, the $y$ axis always adapts to the peak of the function and\n",
    "the visual impression is completely wrong\n",
    "\n",
    "We will look at three different ways to create a movie of the kind outlined above:\n",
    "1. Let the animation run *live*, without saving any files. With this approach, the plots are simply drawn on the\n",
    "    screen as they are created, that is, one plot is shown for each pass of the for loop. The approach is simple, but\n",
    "    has the disadvantage that we cannot pause the movie or change its speed.\n",
    "\n",
    "2. Loop over all data values, create one plot for each value and save it to a file,\n",
    "    and then combine all the image files into a movie. This approach enables us to\n",
    "    actually create a movie file that can be played using standard movie player\n",
    "    software. The drawback of this approach is that it requires separately installed software\n",
    "    (e.g., *ImageMagick*) to create the movie and view the animation.\n",
    "\n",
    "3. Use a `FuncAnimation` object from Matplotlib. This approach uses a slightly more advanced feature of Matplotlib,\n",
    "    and can be considered a combination of the two approaches above. The animation\n",
    "    is played *live*, but it can also\n",
    "    be stored in a movie file. The downside is that the creation of the movie file still relies on\n",
    "    externally installed software that needs to be installed separately and integrated with Matplotlib.\n",
    "\n",
    "### First alternative: Running the movie live as the plots are created.\n",
    "\n",
    "This approach is the simplest of the three and requires very few tools that we\n",
    "have not already seen. We simply use a for loop to loop over the $s$ values,\n",
    "compute new $y$-values, and update the plot for each iteration\n",
    "of the loop. However, we need to be aware of a couple of technical details. In particular,\n",
    "the intuitive approach of simply including calls to `plot(x,y)` followed by `show()` inside the for loop\n",
    "does not work. Calling `show()` will make the program stop after the first plot is drawn, and it will not\n",
    "run further until we close the plotting window. Additionally, recall that we used multiple calls to `plot` when\n",
    "we wanted multiple curves in a single window, which is not what we want here. Instead, we need to create\n",
    "an object that represents the plot and then update the $y$-values of this object for each pass through the loop.\n",
    "The complete code can look like"
   ]
  },
  {
   "cell_type": "code",
   "execution_count": 24,
   "metadata": {
    "collapsed": false
   },
   "outputs": [],
   "source": [
    "import matplotlib.pyplot as plt\n",
    "import numpy as np\n",
    "\n",
    "def f(x, m, s):\n",
    "    return (1.0/(np.sqrt(2*np.pi)*s))*np.exp(-0.5*((x-m)/s)**2)\n",
    "\n",
    "m = 0;  s_start = 2;  s_stop = 0.2\n",
    "s_values = np.linspace(s_start, s_stop, 30)\n",
    "\n",
    "x = np.linspace(m -3*s_start, m + 3*s_start, 1000)\n",
    "# f is max for x=m (smaller s gives larger max value)\n",
    "max_f = f(m, m, s_stop)\n",
    "\n",
    "y = f(x,m,s_stop)\n",
    "lines = plt.plot(x,y)  #Returns a list of line objects!\n",
    "\n",
    "plt.axis([x[0], x[-1], -0.1, max_f])\n",
    "plt.xlabel('x')\n",
    "plt.ylabel('f')\n",
    "\n",
    "for s in s_values:\n",
    "    y = f(x, m, s)\n",
    "    lines[0].set_ydata(y) #update plot data and redraw\n",
    "    plt.draw()\n",
    "    plt.pause(0.1)"
   ]
  },
  {
   "cell_type": "markdown",
   "metadata": {},
   "source": [
    "Most of the lines in this code should be familiar, but there are a few items\n",
    "that are worth noting. First, we use the same `plot` function as earlier,\n",
    "but in a slightly different manner. Generally, this function\n",
    "does two things: it creates a plot that is ready to display on the screen by a subsequent call to `show()`,\n",
    "and it returns a special Matplotlib object that represents the plot (a `Line2D` object).\n",
    "In the  examples above, we did not need this object, so we did not care about it, but this time we store it\n",
    "in the variable `lines`.\n",
    "Note also that the `plot`-function always returns a list of such objects, representing all the curves\n",
    "of the plot. In this case, we plot\n",
    "only one curve, and the list has length one.\n",
    "To update the plot inside the for loop, we call the `set_ydata` method of this object,\n",
    "that is, `lines[0].set_ydata(y)`, every time we have computed a new `y` array.\n",
    "After updating the data, we call the function `draw()` to draw the curve on the\n",
    "screen. The final line inside the for loop simply makes the program stop and wait\n",
    "for 0.1 seconds. If we remove this call, the movie runs too fast to be visible,\n",
    "and we can obviously adjust the speed by changing the function's argument.\n",
    "As a final comment on this code, remember the important message from above, that we always need to fix the\n",
    "axes when creating movies; otherwise, Matplotlib will adjust the axes\n",
    "automatically for each plot,\n",
    "and the resulting movie will not really look like a movie at all. Here, we compute the maximum value that the\n",
    "function will obtain in the line `max_f = f(m, m, s_stop)` (based on either prior\n",
    "knowledge about the Gaussian function or inspection of the mathematical expression). This value is then used to set the axes\n",
    "for all the plots that make up the movie.\n",
    "\n",
    "### Second alternative: Saving image files for later processing.\n",
    "\n",
    "This approach is very similar to the one above, but,\n",
    "instead of showing the plots on the screen,\n",
    "we save them to files, using the `savefig` function from Matplotlib. To avoid\n",
    "having each new plot over-write the previous file, we must include a counter variable and\n",
    "a formatted string to create a unique filename for each iteration of the for loop.\n",
    "The complete code is nearly identical to the one above:"
   ]
  },
  {
   "cell_type": "code",
   "execution_count": 25,
   "metadata": {
    "collapsed": false
   },
   "outputs": [],
   "source": [
    "import matplotlib.pyplot as plt\n",
    "import numpy as np\n",
    "\n",
    "def f(x, m, s):\n",
    "    return (1.0/(np.sqrt(2*np.pi)*s))*np.exp(-0.5*((x-m)/s)**2)\n",
    "\n",
    "m = 0;  s_start = 2;  s_stop = 0.2\n",
    "s_values = np.linspace(s_start, s_stop, 30)\n",
    "\n",
    "x = np.linspace(m -3*s_start, m + 3*s_start, 1000)\n",
    "# f is max for x=m (smaller s gives larger max value)\n",
    "max_f = f(m, m, s_stop)\n",
    "\n",
    "y = f(x,m,s_stop)\n",
    "lines = plt.plot(x,y)\n",
    "\n",
    "plt.axis([x[0], x[-1], -0.1, max_f])\n",
    "plt.xlabel('x')\n",
    "plt.ylabel('f')\n",
    "\n",
    "frame_counter = 0\n",
    "for s in s_values:\n",
    "    y = f(x, m, s)\n",
    "    lines[0].set_ydata(y) #update plot data and redraw\n",
    "    plt.draw()\n",
    "    plt.savefig(f'tmp_{frame_counter:04d}.png') #unique filename\n",
    "    frame_counter += 1"
   ]
  },
  {
   "cell_type": "markdown",
   "metadata": {},
   "source": [
    "Running this program should create a number of image files, all located in\n",
    "the directory in which we run the program. Converting these images into a\n",
    "movie requires external software, for instance,\n",
    "`convert` from the ImageMagick software suite to make animated gifs,\n",
    "or `ffmpeg` or `avconv` to make MP4 and other movie formats. For instance,\n",
    "if we want to create an animated gif of the\n",
    "image files produced above, the following command will do the trick:"
   ]
  },
  {
   "cell_type": "markdown",
   "metadata": {},
   "source": [
    "        Terminal> convert -delay 20 tmp_*.png movie.gif\n"
   ]
  },
  {
   "cell_type": "markdown",
   "metadata": {},
   "source": [
    "The resulting gif can be played using `animate` from ImageMagick or in a browser.\n",
    "Note that, for\n",
    "this approach to work, one needs to be careful about the filenames. The argument `tmp_*.png` passed\n",
    "to the convert function will simply replace `*` with any text, thereby sending all files with this pattern\n",
    "to `convert`. The files are sent in lexicographic (i.e., alphabetical) order,\n",
    "which is why we use the format specifier `04d` in the f-string above.\n",
    "It would be tempting so simply write `{frame_counter}`,\n",
    "with no format specifier, inside the\n",
    "f-string to create the unique filename, and not worry about the format specifier. This approach would create\n",
    "unique filenames such as `tmp_0.png`, `tmp_1.png`, and so on. However, we would\n",
    "run into problems when creating the movie with `convert`, since, for instance,\n",
    "`tmp_10.png` comes before `tmp_9.png` in the alphabetic ordering.\n",
    "\n",
    "### Third alternative: Using built-in Matplotlib tools.\n",
    "\n",
    "The third approach is the most advanced and flexible, and it relies on built-in\n",
    "Matplotlib tools instead of the explicit for loop that we used above.\n",
    "Without an explicit for loop, the actual steps of creating the animation\n",
    "are less obvious, and the approach is therefore somewhat less intuitive.\n",
    "The essential steps are the following:\n",
    "1. Make a function to update the plot. In our case, this function should compute the new `y` array and call\n",
    "   `set_ydata`, as above, to update the plot.\n",
    "\n",
    "2. Make a list or array of the argument that changes (in this case, $s$).\n",
    "\n",
    "3. Pass the function and the list as arguments to create a `FuncAnimation` object.\n",
    "\n",
    "After creating this object, we can use various built-in methods to save the\n",
    "movie to a file, show it on the screen, and so forth. The complete code looks\n",
    "like the following:"
   ]
  },
  {
   "cell_type": "code",
   "execution_count": 26,
   "metadata": {
    "collapsed": false
   },
   "outputs": [],
   "source": [
    "import numpy as np\n",
    "import matplotlib.pyplot as plt\n",
    "from matplotlib.animation import FuncAnimation\n",
    "\n",
    "def f(x, m, s):\n",
    "    return (1.0/(np.sqrt(2*np.pi)*s))*np.exp(-0.5*((x-m)/s)**2)\n",
    "\n",
    "m = 0; s_start = 2; s_stop = 0.2\n",
    "s_values = np.linspace(s_start,s_stop,30)\n",
    "\n",
    "x = np.linspace(-3*s_start,3*s_start, 1000)\n",
    "\n",
    "max_f = f(m,m,s_stop)\n",
    "\n",
    "plt.axis([x[0],x[-1],0,max_f])\n",
    "plt.xlabel('x')\n",
    "plt.ylabel('y')\n",
    "\n",
    "y = f(x,m,s_start)\n",
    "lines = plt.plot(x,y) #initial plot to create the lines object\n",
    "\n",
    "def next_frame(s):\n",
    "    y = f(x, m, s)\n",
    "    lines[0].set_ydata(y)\n",
    "    return lines\n",
    "\n",
    "ani = FuncAnimation(plt.gcf(), next_frame, frames=s_values, interval=100)\n",
    "ani.save('movie.mp4',fps=20)\n",
    "plt.show()"
   ]
  },
  {
   "cell_type": "markdown",
   "metadata": {},
   "source": [
    "Most of the lines are identical to the examples above, but there are some key\n",
    "differences. We define a function `next_frame` that contains all the code\n",
    "that updates the plot for each frame, and returns an updated `Line2D` object.\n",
    "The argument to this function should be whatever argument that is changed\n",
    "for each frame (in our case, `s`). After defining this function,\n",
    "we use it to create a `FuncAnimation` object in the next line:"
   ]
  },
  {
   "cell_type": "markdown",
   "metadata": {},
   "source": [
    "```Python\n",
    "        ani = FuncAnimation(plt.gcf(), next_frame, frames=s_values, interval=100)\n",
    "```"
   ]
  },
  {
   "cell_type": "markdown",
   "metadata": {},
   "source": [
    "This function call returns an object of type `FuncAnimation` .\n",
    "The first argument is simply the current figure object we are working with\n",
    "(`gcf` being short for *get current figure*), the next is the function\n",
    "we just defined to update the frames, the third is the array of `s`-values used\n",
    "to create the plots, and the last argument is the interval between frames in milliseconds.\n",
    "Numerous other optional arguments to the function can be used to tune the animation. We refer to the\n",
    "Matplotlib documentation for the details.\n",
    "After the object is created, we call the `save` method of the `FuncAnimation` class to create a movie file,\n",
    "or the usual `show()` to play it directly on the screen.\n",
    "\n",
    "\n",
    "# More Useful Array Operations\n",
    "At the start of this chapter we introduced the most essential operations\n",
    "needed to use arrays in computations and for plotting, but NumPy arrays can do much more. Here we introduce a few additional operations that are convenient\n",
    "to know about when working with arrays. First, we often need to make an array\n",
    "of the same size as another array. This can\n",
    "be done in several ways, for instance, using the `zeros` function introduced above,"
   ]
  },
  {
   "cell_type": "code",
   "execution_count": 27,
   "metadata": {
    "collapsed": false
   },
   "outputs": [],
   "source": [
    "import numpy as np\n",
    "x = np.linspace(0,10,101)\n",
    "a = zeros(x.shape, x.dtype)"
   ]
  },
  {
   "cell_type": "markdown",
   "metadata": {},
   "source": [
    "or by copying the `x` array,"
   ]
  },
  {
   "cell_type": "code",
   "execution_count": 28,
   "metadata": {
    "collapsed": false
   },
   "outputs": [],
   "source": [
    "a = x.copy()"
   ]
  },
  {
   "cell_type": "markdown",
   "metadata": {},
   "source": [
    "or by using the convenient function `zeros_like`,"
   ]
  },
  {
   "cell_type": "code",
   "execution_count": 29,
   "metadata": {
    "collapsed": false
   },
   "outputs": [],
   "source": [
    "a = np.zeros_like(x)  # zeros and same size as x"
   ]
  },
  {
   "cell_type": "markdown",
   "metadata": {},
   "source": [
    "If we write a function that takes either a list or an array as an argument,\n",
    "but inside the function it needs to be an array,\n",
    "we can ensure that it is converted by using the function `asarray`:"
   ]
  },
  {
   "cell_type": "code",
   "execution_count": 30,
   "metadata": {
    "collapsed": false
   },
   "outputs": [],
   "source": [
    "a = asarray(a)"
   ]
  },
  {
   "cell_type": "markdown",
   "metadata": {},
   "source": [
    "This statement will convert `a` to an array if needed (e.g., if `a` is a list or a single number), but do nothing if\n",
    "`a` is already an array.\n",
    "\n",
    "The *list slicing* that we briefly introduced in Chapter 3 also\n",
    "works for arrays, and we can extract elements from an array `a` using `a[f:t:i]`.\n",
    "Here, the slice `f:t:i` implies a set of indices (from, to, increment), exactly\n",
    "as for lists. We can also use any list or\n",
    "array of integers to index into another array:"
   ]
  },
  {
   "cell_type": "code",
   "execution_count": 31,
   "metadata": {
    "collapsed": false
   },
   "outputs": [],
   "source": [
    "a = linspace(1, 8, 8)\n",
    "a"
   ]
  },
  {
   "cell_type": "code",
   "execution_count": 32,
   "metadata": {
    "collapsed": false
   },
   "outputs": [],
   "source": [
    "a[[1,6,7]] = 10\n",
    "a"
   ]
  },
  {
   "cell_type": "code",
   "execution_count": 33,
   "metadata": {
    "collapsed": false
   },
   "outputs": [],
   "source": [
    "a[range(2,8,3)] = -2   # same as a[2:8:3] = -2\n",
    "a"
   ]
  },
  {
   "cell_type": "markdown",
   "metadata": {},
   "source": [
    "Finally, we can use an array of Boolean expressions to\n",
    "pick out elements of an array, as demonstrated in the following example:"
   ]
  },
  {
   "cell_type": "code",
   "execution_count": 34,
   "metadata": {
    "collapsed": false
   },
   "outputs": [],
   "source": [
    "a < 0"
   ]
  },
  {
   "cell_type": "code",
   "execution_count": 35,
   "metadata": {
    "collapsed": false
   },
   "outputs": [],
   "source": [
    "a[a < 0]           # pick out all negative elements"
   ]
  },
  {
   "cell_type": "code",
   "execution_count": 36,
   "metadata": {
    "collapsed": false
   },
   "outputs": [],
   "source": [
    "a[a < 0] = a.max() # if a[i]<10, set a[i]=10\n",
    "a"
   ]
  },
  {
   "cell_type": "markdown",
   "metadata": {},
   "source": [
    "These indexing methods can often be quite useful, since, for efficiency,\n",
    "we often want to avoid for loops over arrays elements. Many operations\n",
    "that are naturally implemented as for loops can be replaced by creative\n",
    "array slicing and indexing, with potentially substantial improvements in efficiency.\n",
    "\n",
    "### Arrays can have any dimension.\n",
    "\n",
    "Just as lists, arrays can have more than one index. Two-dimensional\n",
    "arrays are particularly relevant, since these\n",
    "are natural representations of, for instance, a table of numbers.\n",
    "For instance, to represent a set of numbers such as"
   ]
  },
  {
   "cell_type": "markdown",
   "metadata": {},
   "source": [
    "$$\n",
    "\\left\\lbrack\\begin{array}{cccc}\n",
    "0 & 12 & -1 & 5\\\\\n",
    "-1 & -1 & -1 & 0\\\\\n",
    "11 & 5 & 5 & -2\n",
    "\\end{array}\\right\\rbrack\n",
    "$$"
   ]
  },
  {
   "cell_type": "markdown",
   "metadata": {},
   "source": [
    "it is natural to use a two-dimensional array $A_{i,j}$ with one index for the\n",
    "rows and one for the columns:"
   ]
  },
  {
   "cell_type": "markdown",
   "metadata": {},
   "source": [
    "$$\n",
    "A =\n",
    "\\left\\lbrack\\begin{array}{ccc}\n",
    "A_{0,0} & \\cdots &  A_{0,n-1}\\\\\n",
    "\\vdots & \\ddots &  \\vdots\\\\\n",
    "A_{m-1,0} & \\cdots & A_{m-1,n-1}\n",
    "\\end{array}\\right\\rbrack\n",
    "$$"
   ]
  },
  {
   "cell_type": "markdown",
   "metadata": {},
   "source": [
    "In Python code, two-dimensional arrays are not much different from the\n",
    "one-dimensional version, except for an extra index.\n",
    "Making, filling, and modifying a two-dimensional array is done in much the\n",
    "same way, as illustrated by the following example:"
   ]
  },
  {
   "cell_type": "code",
   "execution_count": 37,
   "metadata": {
    "collapsed": false
   },
   "outputs": [],
   "source": [
    "A = zeros((3,4))   # 3x4 table of numbers\n",
    "A[0,0] = -1\n",
    "A[1,0] =  1\n",
    "A[2,0] = 10\n",
    "A[0,1] = -5\n",
    "A[2,3] = -100\n",
    "\n",
    "# can also write (as for nested lists)\n",
    "A[2][3] = -100"
   ]
  },
  {
   "cell_type": "markdown",
   "metadata": {},
   "source": [
    "Notice the argument to the function `zeros`, which is a tuple specifying the number\n",
    "of rows and columns in the two-dimensional array.\n",
    "We can create an array of any dimension we want by passing a tuple of the correct length.\n",
    "It is quite common for arrays used\n",
    "in numerical computations to be *sparse*, that is, to have many zeros. It is therefore often\n",
    "convenient to use `zeros` to create an array of the right size and then fill\n",
    "in the nonzero values. Alternatively, we could create a nested list and convert it to\n",
    "an array with the `array` function used in the beginning of the chapter."
   ]
  }
 ],
 "metadata": {},
 "nbformat": 4,
 "nbformat_minor": 2
}
