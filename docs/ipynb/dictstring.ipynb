{
 "cells": [
  {
   "cell_type": "markdown",
   "metadata": {},
   "source": [
    "# Dictionaries and Strings\n",
    "\n",
    "In this chapter we will mainly focus on two data types: dictionaries and strings.\n",
    "Dictionaries can be considered a generalization of the list data type, where\n",
    "the indices are not required to be integers. We have already used strings\n",
    "multiple times in the previous chapters, but we will revisit them here to\n",
    "introduce a number of new and useful functions. Both dictionaries and strings\n",
    "are particularly useful for reading and processing text files, and many of our\n",
    "examples will be related to such applications.\n",
    "\n",
    "# Dictionaries\n",
    "In mathematics, a mapping is a relation between objects or structures\n",
    "that often takes the form of a function. A mapping $f$ is a rule that\n",
    "assigns a unique value $f(x)$ to a given input $x$. Mappings are also\n",
    "widely used in computer science and can be implemented in many different ways.\n",
    "For instance, a Python list can be viewed as a mapping between integers\n",
    "(list indices) and the objects contained in a list. More general mappings can\n",
    "be implemented using functions and if-tests; for instance, the mapping"
   ]
  },
  {
   "cell_type": "markdown",
   "metadata": {},
   "source": [
    "        'Norway' --> 'Oslo'\n",
    "        'Sweden' --> 'Stockholm'\n",
    "        'France' --> 'Paris'\n"
   ]
  },
  {
   "cell_type": "markdown",
   "metadata": {},
   "source": [
    "could be implemented in Python as a function:"
   ]
  },
  {
   "cell_type": "code",
   "execution_count": 1,
   "metadata": {},
   "outputs": [],
   "source": [
    "def f(x):\n",
    "    if x == 'Norway':\n",
    "       return 'Oslo'\n",
    "    elif x == 'Sweden':\n",
    "       return 'Stockholm'\n",
    "    elif x == 'France':\n",
    "       return 'Paris'"
   ]
  },
  {
   "cell_type": "markdown",
   "metadata": {},
   "source": [
    "Such an implementation is obviously not very convenient if we have a\n",
    "large number of input and output values, however.\n",
    "An alternative implementation of the mapping would be to use two lists of equal length,\n",
    "where, for instance, item  $n$ in list\n",
    "`countries` corresponds to item $n$ in list `capitals`. However, since such general mappings are\n",
    "useful in many contexts, Python provides a special data structure for them, called a *dictionary*. Data\n",
    "structures similar to a dictionary are used in many programming languages, but they often have different names.\n",
    "Common names are associative array, symbol table, hash map, or simply map.\n",
    "\n",
    "A dictionary can be seen as a generalization of a list, where the indices are not required to be integers,\n",
    "but can be any immutable Python data type. The \"indices\" of a dictionary are\n",
    "called *keys*, and through this course we will mostly use strings as dictionary keys.\n",
    "The dictionary implementation of the mapping above looks like"
   ]
  },
  {
   "cell_type": "code",
   "execution_count": 2,
   "metadata": {},
   "outputs": [],
   "source": [
    "d = {'Norway':'Oslo','Sweden':'Stockholm','France':'Paris'}"
   ]
  },
  {
   "cell_type": "markdown",
   "metadata": {},
   "source": [
    "and we can look up values in the dictionary just as we would in a list, using the dictionary *key*\n",
    "instead of an index:"
   ]
  },
  {
   "cell_type": "code",
   "execution_count": 3,
   "metadata": {},
   "outputs": [
    {
     "name": "stdout",
     "output_type": "stream",
     "text": [
      "Oslo\n"
     ]
    }
   ],
   "source": [
    "print(d['Norway'])"
   ]
  },
  {
   "cell_type": "markdown",
   "metadata": {},
   "source": [
    "To extend the dictionary with new values, we can simply write"
   ]
  },
  {
   "cell_type": "code",
   "execution_count": 5,
   "metadata": {},
   "outputs": [],
   "source": [
    "d['Germany'] = 'Berlin'"
   ]
  },
  {
   "cell_type": "markdown",
   "metadata": {},
   "source": [
    "Notice this important difference between a list and a dictionary. For a list we had to use `append()` to\n",
    "add new elements. A dictionary has no `append` method, and to extend it we simply introduce a new key\n",
    "and a corresponding value.\n",
    "\n",
    "Dictionaries can be initialized in two different ways: one is by using the\n",
    "curly brackets, as in the example\n",
    "above. Alternatively, we can use the built-in function `dict`, which takes a\n",
    "number of key - value pairs as\n",
    "arguments and returns the corresponding dictionary. The two approaches can look like"
   ]
  },
  {
   "cell_type": "code",
   "execution_count": 7,
   "metadata": {},
   "outputs": [],
   "source": [
    "#mydict = {'key1': value1, 'key2': value2, ...}\n",
    "\n",
    "temps = {'Oslo': 13, 'London': 15.4, 'Paris': 17.5}\n",
    "\n",
    "# or\n",
    "#mydict = dict(key1=value1, key2=value2, ...)\n",
    "\n",
    "temps = dict(Oslo=13, London=15.4, Paris=17.5)"
   ]
  },
  {
   "cell_type": "markdown",
   "metadata": {},
   "source": [
    "Notice the differences in syntax, particularly the different use of\n",
    "quotation marks. When initializing using curly brackets, we\n",
    "use a colon to separate the key from its corresponding value, and the key can be any immutable Python object\n",
    "(e.g., strings in the example above). When using the `dict` function, we pass the key-value pairs as *keyword arguments*\n",
    "to the function,\n",
    "and the keywords are converted to keys of type string. However, in both cases,\n",
    "the initialization involves defining\n",
    "a set of key - value pairs to populate the dictionary. A dictionary is simply an unordered collection of such\n",
    "key - value pairs.\n",
    "\n",
    "We are used to looping over lists to access the individual elements. We can do the same with dictionaries, with the\n",
    "small but important difference that looping over a dictionary means looping over\n",
    "its keys, and not the values. If we want to access the values we need to look them\n",
    "up in the dictionary using the keys. For instance, generic code to print all the\n",
    "values of a dictionary would appear as follows:"
   ]
  },
  {
   "cell_type": "markdown",
   "metadata": {},
   "source": [
    "for key in dictionary:\n",
    "    value = dictionary[key]\n",
    "    print(value)"
   ]
  },
  {
   "cell_type": "markdown",
   "metadata": {},
   "source": [
    "A concrete example based on the example above could look like"
   ]
  },
  {
   "cell_type": "code",
   "execution_count": 9,
   "metadata": {},
   "outputs": [
    {
     "name": "stdout",
     "output_type": "stream",
     "text": [
      "The Oslo temperature is tempsOslo\n",
      "The London temperature is tempsLondon\n",
      "The Paris temperature is tempsParis\n",
      "The Madrid temperature is tempsMadrid\n"
     ]
    }
   ],
   "source": [
    "temps = {'Oslo': 13, 'London': 15.4, 'Paris': 17.5, 'Madrid': 26}\n",
    "for city in temps:\n",
    "    print(f'The {city} temperature is temps{city}')"
   ]
  },
  {
   "cell_type": "markdown",
   "metadata": {},
   "source": [
    "As mentioned above, a dictionary is an *unordered* collection of\n",
    "key - value pairs, meaning that the\n",
    "sequence of the keys in the dictionary is arbitrary. If we want to print or otherwise process\n",
    "the elements in a particular order, the keys first need to be sorted, for instance,\n",
    "using the built-in function `sorted`:"
   ]
  },
  {
   "cell_type": "code",
   "execution_count": 12,
   "metadata": {},
   "outputs": [
    {
     "name": "stdout",
     "output_type": "stream",
     "text": [
      "15.4\n",
      "26\n",
      "13\n",
      "17.5\n"
     ]
    }
   ],
   "source": [
    "for city in sorted(temps):   # alphabetic sort of keys\n",
    "    value = temps[city]\n",
    "    print(value)"
   ]
  },
  {
   "cell_type": "markdown",
   "metadata": {},
   "source": [
    "There can be applications where sorting the keys in this manner is important,\n",
    "but usually the order of a dictionary is insignificant.\n",
    "In most applications where the order of the elements is important, a list or an array is a more\n",
    "convenient data type than a dictionary.\n",
    "\n",
    "### Dictionaries and lists share many similarities.\n",
    "\n",
    "Much of the functionality that we are familiar with for list also exists for dictionaries. We can, for instance,\n",
    "check if a dictionary has a particular key with\n",
    "the expression `key in dict`, which returns true or false:"
   ]
  },
  {
   "cell_type": "code",
   "execution_count": 13,
   "metadata": {},
   "outputs": [
    {
     "name": "stdout",
     "output_type": "stream",
     "text": [
      "No temperature data for Berlin\n"
     ]
    }
   ],
   "source": [
    "if 'Berlin' in temps:\n",
    "    print('Berlin:', temps['Berlin'])\n",
    "else:\n",
    "    print('No temperature data for Berlin')"
   ]
  },
  {
   "cell_type": "code",
   "execution_count": 14,
   "metadata": {},
   "outputs": [
    {
     "data": {
      "text/plain": [
       "True"
      ]
     },
     "execution_count": 14,
     "metadata": {},
     "output_type": "execute_result"
    }
   ],
   "source": [
    "'Oslo' in temps     # standard Boolean expression"
   ]
  },
  {
   "cell_type": "markdown",
   "metadata": {},
   "source": [
    "Deleting an element of a dictionary is done exactly the same way as with lists,\n",
    "using the operator `del`,\n",
    "and we can use `len` to check its length:"
   ]
  },
  {
   "cell_type": "code",
   "execution_count": 15,
   "metadata": {},
   "outputs": [
    {
     "data": {
      "text/plain": [
       "{'London': 15.4, 'Paris': 17.5, 'Madrid': 26}"
      ]
     },
     "execution_count": 15,
     "metadata": {},
     "output_type": "execute_result"
    }
   ],
   "source": [
    "del temps['Oslo']   # remove Oslo key and value\n",
    "temps"
   ]
  },
  {
   "cell_type": "code",
   "execution_count": 16,
   "metadata": {},
   "outputs": [
    {
     "data": {
      "text/plain": [
       "3"
      ]
     },
     "execution_count": 16,
     "metadata": {},
     "output_type": "execute_result"
    }
   ],
   "source": [
    "len(temps)          # no of key-value pairs in dict."
   ]
  },
  {
   "cell_type": "markdown",
   "metadata": {},
   "source": [
    "In some cases, it can be useful to access the keys or values of a dictionary\n",
    "as separate entities, and this can be accomplished with the\n",
    "methods  `keys` and `values`, for instance\n",
    "`temps.keys()` and `temps.values()` for the case above. These methods will return *iterators*, which are\n",
    "list-like objects that can be looped over or converted to a list:"
   ]
  },
  {
   "cell_type": "code",
   "execution_count": 17,
   "metadata": {},
   "outputs": [
    {
     "name": "stdout",
     "output_type": "stream",
     "text": [
      "15.4\n",
      "17.5\n",
      "26\n"
     ]
    }
   ],
   "source": [
    "for temp in temps.values():\n",
    "   print(temp)"
   ]
  },
  {
   "cell_type": "markdown",
   "metadata": {},
   "source": [
    "Just as with lists, when we assign an existing dictionary to a new variable,\n",
    "the dictionary is not copied. Instead,\n",
    "the new variable name becomes a *reference* to the same dictionary, and changing it will also change the original\n",
    "variable. The following code illustrates the behavior:"
   ]
  },
  {
   "cell_type": "code",
   "execution_count": 18,
   "metadata": {},
   "outputs": [
    {
     "data": {
      "text/plain": [
       "{'London': 15.4, 'Paris': 17.5, 'Madrid': 26, 'Stockholm': 10.0}"
      ]
     },
     "execution_count": 18,
     "metadata": {},
     "output_type": "execute_result"
    }
   ],
   "source": [
    "t1 = temps\n",
    "t1['Stockholm'] = 10.0    # change t1\n",
    "temps                     # temps is also changed!"
   ]
  },
  {
   "cell_type": "code",
   "execution_count": 19,
   "metadata": {},
   "outputs": [
    {
     "data": {
      "text/plain": [
       "17.5"
      ]
     },
     "execution_count": 19,
     "metadata": {},
     "output_type": "execute_result"
    }
   ],
   "source": [
    "t2 = temps.copy()         # take a copy\n",
    "t2['Paris'] = 16\n",
    "t1['Paris']               # t1 was not changed"
   ]
  },
  {
   "cell_type": "markdown",
   "metadata": {},
   "source": [
    "Here, the call to `temps.copy()` ensures that `t2` is a copy of the original dictionary, and not a reference, so changing\n",
    "it does not alter the original dictionary. Recall that lists behave in the same way:"
   ]
  },
  {
   "cell_type": "code",
   "execution_count": 20,
   "metadata": {},
   "outputs": [
    {
     "data": {
      "text/plain": [
       "8"
      ]
     },
     "execution_count": 20,
     "metadata": {},
     "output_type": "execute_result"
    }
   ],
   "source": [
    "L = [1, 2, 3]\n",
    "M = L\n",
    "M[1] = 8\n",
    "L[1]"
   ]
  },
  {
   "cell_type": "code",
   "execution_count": 21,
   "metadata": {},
   "outputs": [
    {
     "data": {
      "text/plain": [
       "3"
      ]
     },
     "execution_count": 21,
     "metadata": {},
     "output_type": "execute_result"
    }
   ],
   "source": [
    "M = L.copy() #for lists, M = L[:]  also works\n",
    "M[2] = 0\n",
    "L[2]"
   ]
  },
  {
   "cell_type": "markdown",
   "metadata": {},
   "source": [
    "So far we have used texts (string objects) as keys, but the keys of a dictionary can be any *immutable* (constant) object.\n",
    "For instance, we can use integers, floats, and tuples as keys, but not lists since they are mutable objects:"
   ]
  },
  {
   "cell_type": "code",
   "execution_count": 22,
   "metadata": {},
   "outputs": [
    {
     "ename": "TypeError",
     "evalue": "unhashable type: 'list'",
     "output_type": "error",
     "traceback": [
      "\u001b[0;31m---------------------------------------------------------------------------\u001b[0m",
      "\u001b[0;31mTypeError\u001b[0m                                 Traceback (most recent call last)",
      "\u001b[0;32m<ipython-input-22-ae56ba59c72f>\u001b[0m in \u001b[0;36m<module>\u001b[0;34m\u001b[0m\n\u001b[1;32m      2\u001b[0m \u001b[0md\u001b[0m \u001b[0;34m=\u001b[0m \u001b[0;34m{\u001b[0m\u001b[0;36m13\u001b[0m\u001b[0;34m:\u001b[0m \u001b[0;34m'Oslo'\u001b[0m\u001b[0;34m,\u001b[0m \u001b[0;36m15.4\u001b[0m\u001b[0;34m:\u001b[0m \u001b[0;34m'London'\u001b[0m\u001b[0;34m}\u001b[0m \u001b[0;31m# possible\u001b[0m\u001b[0;34m\u001b[0m\u001b[0;34m\u001b[0m\u001b[0m\n\u001b[1;32m      3\u001b[0m \u001b[0md\u001b[0m \u001b[0;34m=\u001b[0m \u001b[0;34m{\u001b[0m\u001b[0;34m(\u001b[0m\u001b[0;36m0\u001b[0m\u001b[0;34m,\u001b[0m\u001b[0;36m0\u001b[0m\u001b[0;34m)\u001b[0m\u001b[0;34m:\u001b[0m \u001b[0;36m4\u001b[0m\u001b[0;34m,\u001b[0m \u001b[0;34m(\u001b[0m\u001b[0;36m1\u001b[0m\u001b[0;34m,\u001b[0m\u001b[0;34m-\u001b[0m\u001b[0;36m1\u001b[0m\u001b[0;34m)\u001b[0m\u001b[0;34m:\u001b[0m \u001b[0;36m5\u001b[0m\u001b[0;34m}\u001b[0m  \u001b[0;31m# key is tuple\u001b[0m\u001b[0;34m\u001b[0m\u001b[0;34m\u001b[0m\u001b[0m\n\u001b[0;32m----> 4\u001b[0;31m \u001b[0md\u001b[0m \u001b[0;34m=\u001b[0m \u001b[0;34m{\u001b[0m\u001b[0;34m[\u001b[0m\u001b[0;36m0\u001b[0m\u001b[0;34m,\u001b[0m\u001b[0;36m0\u001b[0m\u001b[0;34m]\u001b[0m\u001b[0;34m:\u001b[0m \u001b[0;36m4\u001b[0m\u001b[0;34m,\u001b[0m \u001b[0;34m[\u001b[0m\u001b[0;34m-\u001b[0m\u001b[0;36m1\u001b[0m\u001b[0;34m,\u001b[0m\u001b[0;36m1\u001b[0m\u001b[0;34m]\u001b[0m\u001b[0;34m:\u001b[0m \u001b[0;36m5\u001b[0m\u001b[0;34m}\u001b[0m  \u001b[0;31m# list is mutable/changeable\u001b[0m\u001b[0;34m\u001b[0m\u001b[0;34m\u001b[0m\u001b[0m\n\u001b[0m",
      "\u001b[0;31mTypeError\u001b[0m: unhashable type: 'list'"
     ]
    }
   ],
   "source": [
    "d = {1: 34, 2: 67, 3: 0}   # key is int\n",
    "d = {13: 'Oslo', 15.4: 'London'} # possible\n",
    "d = {(0,0): 4, (1,-1): 5}  # key is tuple\n",
    "d = {[0,0]: 4, [-1,1]: 5}  # list is mutable/changeable"
   ]
  },
  {
   "cell_type": "markdown",
   "metadata": {},
   "source": [
    "Of course, the fact that these alternatives work in Python does not mean that\n",
    "they are recommended or very useful. It is, for instance, hard to imagine a\n",
    "useful application for a dictionary with a temperature as the key and a\n",
    "city name as the value. Strings are the most obvious and common data type\n",
    "for dictionary keys and will also be the most common through this book.\n",
    "However, there are applications where other types of keys can be useful,\n",
    "as we see in the following examples.\n",
    "\n",
    "# Example: A Dictionary for Polynomials\n",
    "The information in a polynomial such as"
   ]
  },
  {
   "cell_type": "markdown",
   "metadata": {},
   "source": [
    "$$\n",
    "p(x)=-1 + x^2 + 3x^7\n",
    "$$"
   ]
  },
  {
   "cell_type": "markdown",
   "metadata": {},
   "source": [
    "can be represented by a dictionary with the power as the key (`int`) and\n",
    "the coefficient as the value (`float` or  `int`):"
   ]
  },
  {
   "cell_type": "code",
   "execution_count": 23,
   "metadata": {},
   "outputs": [],
   "source": [
    "p = {0: -1, 2: 1, 7: 3}"
   ]
  },
  {
   "cell_type": "markdown",
   "metadata": {},
   "source": [
    "More generally, a polynomial written on the form"
   ]
  },
  {
   "cell_type": "markdown",
   "metadata": {},
   "source": [
    "$$\n",
    "p(x) = \\sum_{i\\in I}^N c_i x^i ,\n",
    "$$"
   ]
  },
  {
   "cell_type": "markdown",
   "metadata": {},
   "source": [
    "for some set of integers $I$ can be represented by a dictionary with keys $i$ and values $c_i$.\n",
    "To evaluate a polynomial represented by such a dictionary, we need to iterate\n",
    "over the keys of the dictionary, extract the\n",
    "corresponding values, and sum up the terms. The following function takes two\n",
    "arguments - a dictionary `poly` and a number\n",
    "or array `x` - and evaluates the polynomial in `x`:"
   ]
  },
  {
   "cell_type": "code",
   "execution_count": 24,
   "metadata": {},
   "outputs": [],
   "source": [
    "def eval_poly_dict(poly, x):\n",
    "    sum = 0.0\n",
    "    for power in poly:\n",
    "        sum += poly[power]*x**power\n",
    "    return sum"
   ]
  },
  {
   "cell_type": "markdown",
   "metadata": {},
   "source": [
    "We see that the function follows our standard recipe for evaluating a sum;\n",
    "set a summation variable to zero and then add in all the terms\n",
    "using a for loop. We can write an even\n",
    "shorter version of the function using Python's built-in function `sum`:"
   ]
  },
  {
   "cell_type": "code",
   "execution_count": 25,
   "metadata": {},
   "outputs": [],
   "source": [
    "def eval_poly_dict(poly, x):\n",
    "    # Python's sum can add elements of an iterator\n",
    "    return sum(poly[power]*x**power for power in poly)"
   ]
  },
  {
   "cell_type": "markdown",
   "metadata": {},
   "source": [
    "Since the keys of the polynomial dictionary are integers, we can also replace the dictionary\n",
    "with a list, where the list index corresponds to the power of the respective term.\n",
    "The polynomial above, that is, $-1 + x^2 + 3x^7$ can be represented as the list"
   ]
  },
  {
   "cell_type": "code",
   "execution_count": 26,
   "metadata": {},
   "outputs": [],
   "source": [
    "p = [-1, 0, 1, 0, 0, 0, 0, 3]"
   ]
  },
  {
   "cell_type": "markdown",
   "metadata": {},
   "source": [
    "and the general polynomial $\\sum_{i=0}^N c_ix^i$ is stored as\n",
    "`[c0, c1, c2, ..., cN]`. The function to evaluate a polynomial represented by a list is\n",
    "nearly identical to the function for the dictionary. The function"
   ]
  },
  {
   "cell_type": "code",
   "execution_count": 27,
   "metadata": {},
   "outputs": [],
   "source": [
    "def eval_poly_list(poly, x):\n",
    "    sum = 0\n",
    "    for power in range(len(poly)):\n",
    "        sum += poly[power]*x**power\n",
    "    return sum"
   ]
  },
  {
   "cell_type": "markdown",
   "metadata": {},
   "source": [
    "will evaluate a polynomial $\\sum_{i=0}^N c_ix^i$ for a given $x$. An alternative\n",
    "and arguably more \"Pythonic version\" uses the convenient `enumerate` function:"
   ]
  },
  {
   "cell_type": "code",
   "execution_count": 28,
   "metadata": {},
   "outputs": [],
   "source": [
    "def eval_poly_list_enum(poly, x):\n",
    "    sum = 0\n",
    "    for power, coeff in enumerate(poly):\n",
    "        sum += coeff*x**power\n",
    "    return sum"
   ]
  },
  {
   "cell_type": "markdown",
   "metadata": {},
   "source": [
    "The `enumerate` function essentially turns a list into a list of 2-tuples,\n",
    "where the first element is the index of a list element and the second is the\n",
    "element itself. The function is quite convenient for iterating\n",
    "through a list when we also need access to the indices, and it is very common\n",
    "in Python programs.\n",
    "\n",
    "The representations based on dictionaries and lists are very similar,\n",
    "but the list representation has the obvious disadvantage\n",
    "that we need to store all the zeros. For \"sparse\" high-order polynomials, this can be\n",
    "quite inconvenient, and the dictionary representation is obviously better.\n",
    "The dictionary representation can also easily handle negative powers,\n",
    "for instance $\\frac{1}{2} x^{-3} + 2x^4$:"
   ]
  },
  {
   "cell_type": "code",
   "execution_count": 30,
   "metadata": {},
   "outputs": [
    {
     "name": "stdout",
     "output_type": "stream",
     "text": [
      "512.0078125\n"
     ]
    }
   ],
   "source": [
    "p = {-3: 0.5, 4: 2}\n",
    "print(eval_poly_dict(p, x=4))"
   ]
  },
  {
   "cell_type": "markdown",
   "metadata": {},
   "source": [
    "This code will work just fine without any modifications of the `eval_poly_dict`\n",
    "function. Lists in Python cannot have negative indices (since indexing a list with a negative number\n",
    "implies counting indices from the end of the list), and extending the list\n",
    "representation to handle negative powers is not a trivial task.\n",
    "\n",
    "# Example: Reading File Data to a Dictionary\n",
    "Say we have a file `deg2.txt`, containing temperature data for a number of cities:"
   ]
  },
  {
   "cell_type": "markdown",
   "metadata": {},
   "source": [
    "        Oslo:          21.8\n",
    "        London:        18.1\n",
    "        Berlin:        19\n",
    "        Paris:         23\n",
    "        Rome:          26\n",
    "        Helsinki:      17.8\n"
   ]
  },
  {
   "cell_type": "markdown",
   "metadata": {},
   "source": [
    "We now want to read this file and store the information in a dictionary,\n",
    "with the city names as keys and the temperatures as values. The recipe is\n",
    "nearly identical to the one we previously used to read file data into lists:\n",
    "first create an empty dictionary and then fill it with values read from the file:"
   ]
  },
  {
   "cell_type": "code",
   "execution_count": 32,
   "metadata": {},
   "outputs": [],
   "source": [
    "with open('deg2.txt', 'r') as infile:\n",
    "    temps = {}                  # start with empty dict\n",
    "    for line in infile:\n",
    "        city, temp = line.split()\n",
    "        city = city[:-1]        # remove last char (:)\n",
    "        temps[city]  = float(temp)"
   ]
  },
  {
   "cell_type": "markdown",
   "metadata": {},
   "source": [
    "The only real difference between this code and previous examples based on lists\n",
    "is the way new data are added to the dictionary. We used the\n",
    "`append` method to populate an empty list, but dictionaries have no such method. Instead,\n",
    "we add a new key - value pair with the line `temps[city] = float(temp)`. Apart from this technical\n",
    "difference, the recipe for populating a dictionary is exactly the same as for lists.\n",
    "\n",
    "\n",
    "# String Manipulation\n",
    "We have already worked with strings (having type `str`)in previous chapters, for instance introducing\n",
    "the very useful `split`-method:"
   ]
  },
  {
   "cell_type": "code",
   "execution_count": 33,
   "metadata": {},
   "outputs": [
    {
     "data": {
      "text/plain": [
       "['This', 'is', 'a', 'string']"
      ]
     },
     "execution_count": 33,
     "metadata": {},
     "output_type": "execute_result"
    }
   ],
   "source": [
    "s = 'This is a string'\n",
    "s.split()"
   ]
  },
  {
   "cell_type": "markdown",
   "metadata": {},
   "source": [
    "String manipulation is essential for reading and interpreting the content of files,\n",
    "and the way we process files often depends on the file structure. For\n",
    "instance, we need to know the line on which the relevant information starts, how data items\n",
    "are separated, and how many data items are on each line. The algorithm for reading and processing\n",
    "the text often needs to be tailored to the file structure.\n",
    "Although the `split` function already considered is quite\n",
    "flexible, and works for most of the examples presented in this book, it might\n",
    "not always be the best tool. Python has a number of other ways to process strings,\n",
    "which could, in some cases, make the text processing easier and more efficient.\n",
    "\n",
    "To introduce some of the basic operations on strings, we can use the following\n",
    "string variable as an example:"
   ]
  },
  {
   "cell_type": "markdown",
   "metadata": {},
   "source": [
    "Such a string is really just a sequence of characters, and it behaves much like\n",
    "other sequence data types such as lists and tuples. For instance,\n",
    "we can index a string to extract individual characters;"
   ]
  },
  {
   "cell_type": "code",
   "execution_count": 34,
   "metadata": {},
   "outputs": [
    {
     "data": {
      "text/plain": [
       "'T'"
      ]
     },
     "execution_count": 34,
     "metadata": {},
     "output_type": "execute_result"
    }
   ],
   "source": [
    "s[0]"
   ]
  },
  {
   "cell_type": "code",
   "execution_count": 35,
   "metadata": {},
   "outputs": [
    {
     "data": {
      "text/plain": [
       "'h'"
      ]
     },
     "execution_count": 35,
     "metadata": {},
     "output_type": "execute_result"
    }
   ],
   "source": [
    "s[1]"
   ]
  },
  {
   "cell_type": "code",
   "execution_count": 36,
   "metadata": {},
   "outputs": [
    {
     "data": {
      "text/plain": [
       "'g'"
      ]
     },
     "execution_count": 36,
     "metadata": {},
     "output_type": "execute_result"
    }
   ],
   "source": [
    "s[-1]"
   ]
  },
  {
   "cell_type": "markdown",
   "metadata": {},
   "source": [
    "Slices also work in the way we are used to and can be used to extract substrings of a string:"
   ]
  },
  {
   "cell_type": "code",
   "execution_count": 37,
   "metadata": {},
   "outputs": [
    {
     "data": {
      "text/plain": [
       "'This is a string'"
      ]
     },
     "execution_count": 37,
     "metadata": {},
     "output_type": "execute_result"
    }
   ],
   "source": [
    "s"
   ]
  },
  {
   "cell_type": "code",
   "execution_count": 38,
   "metadata": {},
   "outputs": [
    {
     "data": {
      "text/plain": [
       "'a string'"
      ]
     },
     "execution_count": 38,
     "metadata": {},
     "output_type": "execute_result"
    }
   ],
   "source": [
    "s[8:]     # from index 8 to the end of the string"
   ]
  },
  {
   "cell_type": "code",
   "execution_count": 39,
   "metadata": {},
   "outputs": [
    {
     "data": {
      "text/plain": [
       "'a st'"
      ]
     },
     "execution_count": 39,
     "metadata": {},
     "output_type": "execute_result"
    }
   ],
   "source": [
    "s[8:12]   # index 8, 9, 10, and 11 (not 12!)"
   ]
  },
  {
   "cell_type": "code",
   "execution_count": 40,
   "metadata": {},
   "outputs": [
    {
     "data": {
      "text/plain": [
       "'a strin'"
      ]
     },
     "execution_count": 40,
     "metadata": {},
     "output_type": "execute_result"
    }
   ],
   "source": [
    "s[8:-1]"
   ]
  },
  {
   "cell_type": "code",
   "execution_count": 41,
   "metadata": {},
   "outputs": [
    {
     "data": {
      "text/plain": [
       "''"
      ]
     },
     "execution_count": 41,
     "metadata": {},
     "output_type": "execute_result"
    }
   ],
   "source": [
    "s[8:-8]"
   ]
  },
  {
   "cell_type": "markdown",
   "metadata": {},
   "source": [
    "Iterating over a string also works as we would expect:"
   ]
  },
  {
   "cell_type": "code",
   "execution_count": 43,
   "metadata": {},
   "outputs": [
    {
     "name": "stdout",
     "output_type": "stream",
     "text": [
      "B e r l i n :   1 8 . 4   C   a t   4   p m "
     ]
    }
   ],
   "source": [
    "s = 'Berlin: 18.4 C at 4 pm'\n",
    "for s_ in s:\n",
    "    print(s_, end=' ')"
   ]
  },
  {
   "cell_type": "markdown",
   "metadata": {},
   "source": [
    "Strings have a method named `find` that searches the string for a given substring, and returns\n",
    "the index of its location, as follows:"
   ]
  },
  {
   "cell_type": "code",
   "execution_count": 44,
   "metadata": {},
   "outputs": [
    {
     "data": {
      "text/plain": [
       "0"
      ]
     },
     "execution_count": 44,
     "metadata": {},
     "output_type": "execute_result"
    }
   ],
   "source": [
    "s.find('Berlin')  # where does 'Berlin' start?"
   ]
  },
  {
   "cell_type": "code",
   "execution_count": 45,
   "metadata": {},
   "outputs": [
    {
     "data": {
      "text/plain": [
       "20"
      ]
     },
     "execution_count": 45,
     "metadata": {},
     "output_type": "execute_result"
    }
   ],
   "source": [
    "s.find('pm')"
   ]
  },
  {
   "cell_type": "code",
   "execution_count": 46,
   "metadata": {},
   "outputs": [
    {
     "data": {
      "text/plain": [
       "-1"
      ]
     },
     "execution_count": 46,
     "metadata": {},
     "output_type": "execute_result"
    }
   ],
   "source": [
    "s.find('Oslo')    # not found"
   ]
  },
  {
   "cell_type": "markdown",
   "metadata": {},
   "source": [
    "Lists do not have a `find`-method, but they have a method named\n",
    "`index`, which is quite similar in that it searches for a given element\n",
    "in the list and returns its index. Strings also have a method\n",
    "named `index` that does almost the same thing as `find`. However, while `find`\n",
    "will return $-1$ if the substring does not exist in the string, `index`\n",
    "will end with an error message. If we want to know if a substring is\n",
    "part of a string and do not really care about its location, we can also use `in`:"
   ]
  },
  {
   "cell_type": "code",
   "execution_count": 49,
   "metadata": {},
   "outputs": [
    {
     "data": {
      "text/plain": [
       "True"
      ]
     },
     "execution_count": 49,
     "metadata": {},
     "output_type": "execute_result"
    }
   ],
   "source": [
    "'Berlin' in s"
   ]
  },
  {
   "cell_type": "code",
   "execution_count": 50,
   "metadata": {},
   "outputs": [
    {
     "data": {
      "text/plain": [
       "False"
      ]
     },
     "execution_count": 50,
     "metadata": {},
     "output_type": "execute_result"
    }
   ],
   "source": [
    "'Oslo' in s"
   ]
  },
  {
   "cell_type": "code",
   "execution_count": 52,
   "metadata": {},
   "outputs": [
    {
     "name": "stdout",
     "output_type": "stream",
     "text": [
      "C found\n"
     ]
    }
   ],
   "source": [
    "if 'C' in s:\n",
    "    print('C found')\n",
    "else:\n",
    "    print('no C')"
   ]
  },
  {
   "cell_type": "markdown",
   "metadata": {},
   "source": [
    "This use of `in` to check for the existence of a single element also works\n",
    "for lists and tuples. For strings, the method is slightly more flexible,\n",
    "since we can check for a substring of arbitrary length.\n",
    "\n",
    "In many cases, we are interested not only in finding a substring, but also\n",
    "in finding it and replace it with something else. For this task, we have a\n",
    "string method named `replace`. It takes two strings as arguments, and a call\n",
    "such as `s.replace(s1, s2)` will replace `s1` by `s2` everywhere in the string `s`.\n",
    "The following examples illustrate how this method is used:"
   ]
  },
  {
   "cell_type": "code",
   "execution_count": 53,
   "metadata": {},
   "outputs": [
    {
     "data": {
      "text/plain": [
       "'Berlin:__18.4__C__at__4__pm'"
      ]
     },
     "execution_count": 53,
     "metadata": {},
     "output_type": "execute_result"
    }
   ],
   "source": [
    "s = 'Berlin: 18.4 C at 4 pm'\n",
    "s.replace(' ', '__')"
   ]
  },
  {
   "cell_type": "code",
   "execution_count": 54,
   "metadata": {},
   "outputs": [
    {
     "data": {
      "text/plain": [
       "'Bonn: 18.4 C at 4 pm'"
      ]
     },
     "execution_count": 54,
     "metadata": {},
     "output_type": "execute_result"
    }
   ],
   "source": [
    "s.replace('Berlin', 'Bonn')"
   ]
  },
  {
   "cell_type": "code",
   "execution_count": 55,
   "metadata": {},
   "outputs": [
    {
     "data": {
      "text/plain": [
       "'Bonn: 18.4 C at 4 pm'"
      ]
     },
     "execution_count": 55,
     "metadata": {},
     "output_type": "execute_result"
    }
   ],
   "source": [
    "s.replace(s[:s.find(':')], 'Bonn')"
   ]
  },
  {
   "cell_type": "markdown",
   "metadata": {},
   "source": [
    "In the final example, we combine `find` and `replace` to replace all the text before the `':'` with `'Bonn'`. First,\n",
    "`s.find(':')` returns the number six, which is the index where the `':'` is found;\n",
    "then the slice\n",
    "`s[:6]` is `'Berlin'`, which is replaced by `'Bonn'`. However, one important\n",
    "observation in this example is that these repeated calls to `s.replace` do not change `s`,\n",
    "but, instead, each call returns a new string where the substrings have been replaced as\n",
    "requested.\n",
    "\n",
    "### Splitting and joining strings.\n",
    "\n",
    "We have already introduced the `split` method, which is arguably the most\n",
    "useful method for reading and processing text files. As we recall from Chapter\n",
    "5, the call `s.split(sep)` will split the string `s` into a list of\n",
    "substrings separated by `sep`. The `sep` argument is optional, and if it is\n",
    "omitted the string is split with respect to whitespace.\n",
    "Consider these two simple examples to recall how `split` is used:"
   ]
  },
  {
   "cell_type": "code",
   "execution_count": 56,
   "metadata": {},
   "outputs": [
    {
     "data": {
      "text/plain": [
       "['Berlin', ' 18.4 C at 4 pm']"
      ]
     },
     "execution_count": 56,
     "metadata": {},
     "output_type": "execute_result"
    }
   ],
   "source": [
    "s = 'Berlin: 18.4 C at 4 pm'\n",
    "s.split(':')"
   ]
  },
  {
   "cell_type": "code",
   "execution_count": 57,
   "metadata": {},
   "outputs": [
    {
     "data": {
      "text/plain": [
       "['Berlin:', '18.4', 'C', 'at', '4', 'pm']"
      ]
     },
     "execution_count": 57,
     "metadata": {},
     "output_type": "execute_result"
    }
   ],
   "source": [
    "s.split()"
   ]
  },
  {
   "cell_type": "markdown",
   "metadata": {},
   "source": [
    "The `split` method has an inverse, called `join`, which is used to put a list of strings together with a\n",
    "delimiter in between:"
   ]
  },
  {
   "cell_type": "code",
   "execution_count": 58,
   "metadata": {},
   "outputs": [
    {
     "data": {
      "text/plain": [
       "'Newton, Secant, Bisection'"
      ]
     },
     "execution_count": 58,
     "metadata": {},
     "output_type": "execute_result"
    }
   ],
   "source": [
    "strings = ['Newton', 'Secant', 'Bisection']\n",
    "', '.join(strings)"
   ]
  },
  {
   "cell_type": "markdown",
   "metadata": {},
   "source": [
    "Notice that we call the `join` method belonging to the delimiter `', '`,\n",
    "which is a string object, and pass the list of\n",
    "strings as an argument. If we want to put the same list together separated by whitespace, we would simply\n",
    "replace `', '.join(strings)` in the example above with `' '.join(strings)`.\n",
    "\n",
    "Since `split` and `join` are inverse operations, using them in sequence will give back the original string,\n",
    "as in the following example;"
   ]
  },
  {
   "cell_type": "code",
   "execution_count": 59,
   "metadata": {},
   "outputs": [
    {
     "data": {
      "text/plain": [
       "True"
      ]
     },
     "execution_count": 59,
     "metadata": {},
     "output_type": "execute_result"
    }
   ],
   "source": [
    "l1 = 'Oslo: 8.4 C at 5 pm'\n",
    "words = l1.split()\n",
    "l2 = ' '.join(words)\n",
    "l1 == l2"
   ]
  },
  {
   "cell_type": "markdown",
   "metadata": {},
   "source": [
    "A common use case for the join method is to split off a known number of words on a line.\n",
    "Say we want to read a file in the following format, and combine the city name and\n",
    "the country into a single string:"
   ]
  },
  {
   "cell_type": "markdown",
   "metadata": {},
   "source": [
    "        Tromso Norway 69.6351 18.9920 52436\n",
    "        Molde Norway 62.7483 7.1833 18594\n",
    "        Oslo Norway 59.9167 10.7500 835000\n",
    "        Stockholm Sweden 59.3508 18.0973 1264000\n",
    "        Uppsala Sweden 59.8601 17.6400 133117\n"
   ]
  },
  {
   "cell_type": "markdown",
   "metadata": {},
   "source": [
    "The following code will read such a file and create a nested dictionary containing\n",
    "the data"
   ]
  },
  {
   "cell_type": "code",
   "execution_count": 61,
   "metadata": {},
   "outputs": [],
   "source": [
    "cities = {}\n",
    "with open('cities.txt') as infile:\n",
    "    for line in infile:\n",
    "        words = line.split()\n",
    "        name = ', '.join(words[:2])\n",
    "        data = {'lat': float(words[2]),  'long':float(words[3])}\n",
    "        data['pop'] = int(words[4])\n",
    "        cities[name] = data"
   ]
  },
  {
   "cell_type": "markdown",
   "metadata": {},
   "source": [
    "Here the line `name = ', '.join(words[:2])` will create strings such as `'Tromso, Norway'`,\n",
    "which are then used as dictionary (keys). The value associated with each key is\n",
    "a dictionary containing the latitude and longitude data.\n",
    "\n",
    "In most of the examples considered so far we have mostly used `split` for processing text\n",
    "files line by line, but in some cases we have a string with a great deal of text on\n",
    "multiple lines and we want to split it into single lines. We can do so by using the\n",
    "`split` method with the appropriate separator. For instance, on Linux and Mac systems,\n",
    "sthe line separator\n",
    "is  `\\n`;"
   ]
  },
  {
   "cell_type": "code",
   "execution_count": 63,
   "metadata": {},
   "outputs": [
    {
     "name": "stdout",
     "output_type": "stream",
     "text": [
      "1st line\n",
      "2nd line\n",
      "3rd line\n"
     ]
    }
   ],
   "source": [
    "t = '1st line\\n2nd line\\n3rd line'\n",
    "print(t)"
   ]
  },
  {
   "cell_type": "code",
   "execution_count": 64,
   "metadata": {},
   "outputs": [
    {
     "data": {
      "text/plain": [
       "['1st line', '2nd line', '3rd line']"
      ]
     },
     "execution_count": 64,
     "metadata": {},
     "output_type": "execute_result"
    }
   ],
   "source": [
    "t.split('\\n')"
   ]
  },
  {
   "cell_type": "markdown",
   "metadata": {},
   "source": [
    "This example works fine on Mac or Linux, but the line separator on Windows\n",
    "is not `\\n`, but `\\r\\n`, and, for a platform-independent solution, it is\n",
    "better to use the method `splitlines()`, which works with\n",
    "both line separators:"
   ]
  },
  {
   "cell_type": "code",
   "execution_count": 65,
   "metadata": {},
   "outputs": [
    {
     "data": {
      "text/plain": [
       "['1st line', '2nd line', '3rd line']"
      ]
     },
     "execution_count": 65,
     "metadata": {},
     "output_type": "execute_result"
    }
   ],
   "source": [
    "t = '1st line\\n2nd line\\n3rd line'\t   #Unix format\n",
    "t.splitlines()"
   ]
  },
  {
   "cell_type": "code",
   "execution_count": 66,
   "metadata": {},
   "outputs": [
    {
     "data": {
      "text/plain": [
       "['1st line', '2nd line', '3rd line']"
      ]
     },
     "execution_count": 66,
     "metadata": {},
     "output_type": "execute_result"
    }
   ],
   "source": [
    "t = '1st line\\r\\n2nd line\\r\\n3rd line' # Windows\n",
    "t.splitlines()                         # cross platform!"
   ]
  },
  {
   "cell_type": "markdown",
   "metadata": {},
   "source": [
    "### Strings are constant - immutable - objects.\n",
    "\n",
    "In many of the examples above, we highlighted the similarity\n",
    "between strings and lists, since we are very familiar with lists\n",
    "from earlier chapters. However, strings are even more similar to tuples, since they are\n",
    "immutable objects. We could change the elements of a list in place by\n",
    "indexing into the list, but this does not\n",
    "work for strings. Trying to assign a new value to a part of a string\n",
    "will result in an error message:"
   ]
  },
  {
   "cell_type": "code",
   "execution_count": 67,
   "metadata": {},
   "outputs": [
    {
     "ename": "TypeError",
     "evalue": "'str' object does not support item assignment",
     "output_type": "error",
     "traceback": [
      "\u001b[0;31m---------------------------------------------------------------------------\u001b[0m",
      "\u001b[0;31mTypeError\u001b[0m                                 Traceback (most recent call last)",
      "\u001b[0;32m<ipython-input-67-99e183842b4b>\u001b[0m in \u001b[0;36m<module>\u001b[0;34m\u001b[0m\n\u001b[0;32m----> 1\u001b[0;31m \u001b[0ms\u001b[0m\u001b[0;34m[\u001b[0m\u001b[0;36m18\u001b[0m\u001b[0;34m]\u001b[0m \u001b[0;34m=\u001b[0m \u001b[0;36m5\u001b[0m\u001b[0;34m\u001b[0m\u001b[0;34m\u001b[0m\u001b[0m\n\u001b[0m",
      "\u001b[0;31mTypeError\u001b[0m: 'str' object does not support item assignment"
     ]
    }
   ],
   "source": [
    "s[18] = 5"
   ]
  },
  {
   "cell_type": "markdown",
   "metadata": {},
   "source": [
    "Instead, to perform such a replacement, we can build a new string manually\n",
    "by adding pieces of the original string or use the `replace` method introduced above:"
   ]
  },
  {
   "cell_type": "code",
   "execution_count": 68,
   "metadata": {},
   "outputs": [
    {
     "data": {
      "text/plain": [
       "'Berlin: 18.4 C at 5 pm'"
      ]
     },
     "execution_count": 68,
     "metadata": {},
     "output_type": "execute_result"
    }
   ],
   "source": [
    "# build a new string by adding pieces of s:\n",
    "s2 = s[:18] + '5' + s[19:]\n",
    "s2"
   ]
  },
  {
   "cell_type": "code",
   "execution_count": 70,
   "metadata": {},
   "outputs": [
    {
     "data": {
      "text/plain": [
       "'Berlin: 18.5 C at 5 pm'"
      ]
     },
     "execution_count": 70,
     "metadata": {},
     "output_type": "execute_result"
    }
   ],
   "source": [
    "s2 = s.replace(s[18],'5')\n",
    "s2"
   ]
  },
  {
   "cell_type": "markdown",
   "metadata": {},
   "source": [
    "The fact that strings are immutable, but still have a method such as `replace`, could\n",
    "be confusing to some. How can we replace a substring with another if strings are immutable objects?\n",
    "The answer is that `replace` does not really change the original string, but returns\n",
    "a new one. This behavior is similar to, for instance, the call `s.split()`,\n",
    "which will not turn `s` into a list but, instead, will\n",
    "leave `s` unchanged and *return* a list of the substrings. Similarly, a call\n",
    "such as `s.replace(4,5)` does\n",
    "not change `s` but it will return a new string that we can assign to either `s` or some other variable name,\n",
    "as we did in the example above. The call `s.replace(4,5)` does nothing useful on its own, unless it is combined\n",
    "into an assignment such as `s2 = s.replace(4,5)` or `s = s.replace(4,5)`.\n",
    "\n",
    "### Other convenient string methods in Python.\n",
    "\n",
    "It is often convenient to strip leading or trailing whitespace from a string, and there are methods `strip(), lstrip()` and\n",
    "`rstrip()` to do just this:"
   ]
  },
  {
   "cell_type": "code",
   "execution_count": 71,
   "metadata": {},
   "outputs": [
    {
     "data": {
      "text/plain": [
       "'text with leading/trailing space'"
      ]
     },
     "execution_count": 71,
     "metadata": {},
     "output_type": "execute_result"
    }
   ],
   "source": [
    "s = '   text with leading/trailing space   \\n'\n",
    "s.strip()"
   ]
  },
  {
   "cell_type": "code",
   "execution_count": 72,
   "metadata": {},
   "outputs": [
    {
     "data": {
      "text/plain": [
       "'text with leading/trailing space   \\n'"
      ]
     },
     "execution_count": 72,
     "metadata": {},
     "output_type": "execute_result"
    }
   ],
   "source": [
    "s.lstrip()   # left strip"
   ]
  },
  {
   "cell_type": "code",
   "execution_count": 73,
   "metadata": {},
   "outputs": [
    {
     "data": {
      "text/plain": [
       "'   text with leading/trailing space'"
      ]
     },
     "execution_count": 73,
     "metadata": {},
     "output_type": "execute_result"
    }
   ],
   "source": [
    "s.rstrip()   # right strip"
   ]
  },
  {
   "cell_type": "markdown",
   "metadata": {},
   "source": [
    "We can also check whether a string contains only numbers (digits),\n",
    "only space, or if a string starts or ends with a given substring:"
   ]
  },
  {
   "cell_type": "code",
   "execution_count": 74,
   "metadata": {},
   "outputs": [
    {
     "data": {
      "text/plain": [
       "True"
      ]
     },
     "execution_count": 74,
     "metadata": {},
     "output_type": "execute_result"
    }
   ],
   "source": [
    "'214'.isdigit()"
   ]
  },
  {
   "cell_type": "code",
   "execution_count": 75,
   "metadata": {},
   "outputs": [
    {
     "data": {
      "text/plain": [
       "False"
      ]
     },
     "execution_count": 75,
     "metadata": {},
     "output_type": "execute_result"
    }
   ],
   "source": [
    "'  214 '.isdigit()"
   ]
  },
  {
   "cell_type": "code",
   "execution_count": 76,
   "metadata": {},
   "outputs": [
    {
     "data": {
      "text/plain": [
       "False"
      ]
     },
     "execution_count": 76,
     "metadata": {},
     "output_type": "execute_result"
    }
   ],
   "source": [
    "'2.14'.isdigit()"
   ]
  },
  {
   "cell_type": "code",
   "execution_count": 77,
   "metadata": {},
   "outputs": [
    {
     "data": {
      "text/plain": [
       "True"
      ]
     },
     "execution_count": 77,
     "metadata": {},
     "output_type": "execute_result"
    }
   ],
   "source": [
    "'    '.isspace()   # blanks"
   ]
  },
  {
   "cell_type": "code",
   "execution_count": 78,
   "metadata": {},
   "outputs": [
    {
     "data": {
      "text/plain": [
       "True"
      ]
     },
     "execution_count": 78,
     "metadata": {},
     "output_type": "execute_result"
    }
   ],
   "source": [
    "'  \\n'.isspace()   # newline"
   ]
  },
  {
   "cell_type": "code",
   "execution_count": 79,
   "metadata": {},
   "outputs": [
    {
     "data": {
      "text/plain": [
       "True"
      ]
     },
     "execution_count": 79,
     "metadata": {},
     "output_type": "execute_result"
    }
   ],
   "source": [
    "'  \\t '.isspace()  # TAB"
   ]
  },
  {
   "cell_type": "code",
   "execution_count": 80,
   "metadata": {},
   "outputs": [
    {
     "data": {
      "text/plain": [
       "False"
      ]
     },
     "execution_count": 80,
     "metadata": {},
     "output_type": "execute_result"
    }
   ],
   "source": [
    "''.isspace()       # empty string"
   ]
  },
  {
   "cell_type": "code",
   "execution_count": 81,
   "metadata": {},
   "outputs": [
    {
     "data": {
      "text/plain": [
       "False"
      ]
     },
     "execution_count": 81,
     "metadata": {},
     "output_type": "execute_result"
    }
   ],
   "source": [
    "s.startswith('Berlin')"
   ]
  },
  {
   "cell_type": "code",
   "execution_count": 82,
   "metadata": {},
   "outputs": [
    {
     "data": {
      "text/plain": [
       "False"
      ]
     },
     "execution_count": 82,
     "metadata": {},
     "output_type": "execute_result"
    }
   ],
   "source": [
    "s.endswith('am')"
   ]
  },
  {
   "cell_type": "markdown",
   "metadata": {},
   "source": [
    "Finally, we might be interested in converting between lowercase and uppercase characters:"
   ]
  },
  {
   "cell_type": "code",
   "execution_count": 83,
   "metadata": {},
   "outputs": [
    {
     "data": {
      "text/plain": [
       "'   text with leading/trailing space   \\n'"
      ]
     },
     "execution_count": 83,
     "metadata": {},
     "output_type": "execute_result"
    }
   ],
   "source": [
    "s.lower()"
   ]
  },
  {
   "cell_type": "code",
   "execution_count": 84,
   "metadata": {},
   "outputs": [
    {
     "data": {
      "text/plain": [
       "'   TEXT WITH LEADING/TRAILING SPACE   \\n'"
      ]
     },
     "execution_count": 84,
     "metadata": {},
     "output_type": "execute_result"
    }
   ],
   "source": [
    "s.upper()"
   ]
  },
  {
   "cell_type": "markdown",
   "metadata": {},
   "source": [
    "The examples shown so far are just a few of the useful string operations\n",
    "defined in Python. Many more exist, but all the\n",
    "text processing tasks considered in this book can be accomplished with the\n",
    "operations listed here. Nearly all the tasks\n",
    "we encounter in this book can be solved by using a combination of `split` and `join`\n",
    "in addition to string indexing and slicing.\n",
    "\n",
    "### Example: Reading pairs of numbers (x,y) from a file\n",
    "\n",
    "To summarize some string operations using an example, consider the\n",
    "task of reading files in the following format;"
   ]
  },
  {
   "cell_type": "markdown",
   "metadata": {},
   "source": [
    "        (1.3,0)    (-1,2)    (3,-1.5)\n",
    "        (0,1)      (1,0)     (1,1)\n",
    "        (0,-0.01)  (10.5,-1) (2.5,-2.5)\n"
   ]
  },
  {
   "cell_type": "markdown",
   "metadata": {},
   "source": [
    "We want to read these coordinate pairs, convert the numbers to floats, and store\n",
    "them as a list of tuples. The algorithm is similar to the way we\n",
    "processed files earlier:\n",
    "1. Read the file line by line\n",
    "\n",
    "2. For each line, split the line into words (each number pair)\n",
    "\n",
    "3. For each word, strip the parentheses\n",
    "   and split the rest with respect to comma to extract the numbers\n",
    "\n",
    "From these operations, we can observe that the `split` function is probably a\n",
    "good tool, as it usually is when processing text files. To strip the parentheses\n",
    "from the coordinate pairs, we can, for instance, use slicing.\n",
    "Translated into code, the example can look as follows:"
   ]
  },
  {
   "cell_type": "code",
   "execution_count": 86,
   "metadata": {},
   "outputs": [],
   "source": [
    "pairs = []   # list of (n1, n2) pairs of numbers\n",
    "with open('pairs.txt', 'r') as lines:\n",
    "    for line in lines:\n",
    "        words = line.split()\n",
    "        for word in words:\n",
    "            word = word[1:-1]  # strip off parentheses\n",
    "            n1, n2 = word.split(',')\n",
    "            n1 = float(n1);  n2 = float(n2)\n",
    "            pair = (n1, n2)\n",
    "            pairs.append(pair)"
   ]
  },
  {
   "cell_type": "markdown",
   "metadata": {},
   "source": [
    "There are multiple alternative solutions for reading a file in the given format, but\n",
    "this one is quite simple and also relatively robust with respect to handling\n",
    "different numbers of pairs on each line and variable use of whitespace."
   ]
  }
 ],
 "metadata": {
  "kernelspec": {
   "display_name": "Python 3",
   "language": "python",
   "name": "python3"
  },
  "language_info": {
   "codemirror_mode": {
    "name": "ipython",
    "version": 3
   },
   "file_extension": ".py",
   "mimetype": "text/x-python",
   "name": "python",
   "nbconvert_exporter": "python",
   "pygments_lexer": "ipython3",
   "version": "3.7.3"
  }
 },
 "nbformat": 4,
 "nbformat_minor": 2
}
