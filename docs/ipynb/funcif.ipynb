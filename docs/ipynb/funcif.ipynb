{
 "cells": [
  {
   "cell_type": "markdown",
   "metadata": {},
   "source": [
    "# Functions and Branching\n",
    "\n",
    "This chapter introduces two fundamental programming concepts: *functions* and *branching*.\n",
    "We are used to *functions* from mathematics, where we typically define a function $f(x)$ as\n",
    "some mathematical expression of $x$, and then we can then evaluate the function for different\n",
    "values of $x$, plot the curve $y=f(x)$, solve equations of the kind $f(x)=0$, and so on.\n",
    "A similar function concept exists in programming, where a function is a piece of\n",
    "code that takes one or more variables as input, carries out some operations using\n",
    "these variables, and produces output in return. The function\n",
    "concept in programming is more general than in mathematics, and is not restricted to\n",
    "numbers or mathematical expressions, but the general idea is exactly the same.\n",
    "\n",
    "*Branching*, or if-tests, is another fundamental concept that exists in all common\n",
    "programming languages. The idea is that decisions are made in the code based on the\n",
    "value of some Boolean expression or variable. If the expression evaluates to\n",
    "true, one set of operations is performed, and if the expression is false, a\n",
    "different set of operations is. Such tests are essential for controlling the\n",
    "flow of a computer program.\n",
    "\n",
    "# Programming with Functions\n",
    "We have already used a number of Python functions in the previous chapters. The mathematical\n",
    "functions from the `math` module are essentially the same as we are used to from mathematics\n",
    "or from pushing buttons on a calculator:"
   ]
  },
  {
   "cell_type": "markdown",
   "metadata": {},
   "source": [
    "```Python\n",
    "        from math import *\n",
    "        y = sin(x)*log(x)\n",
    "```"
   ]
  },
  {
   "cell_type": "markdown",
   "metadata": {},
   "source": [
    "Additionally, we used a few non-mathematical functions, such as `len` and `range`"
   ]
  },
  {
   "cell_type": "markdown",
   "metadata": {},
   "source": [
    "```Python\n",
    "        n = len(somelist)\n",
    "        for i in range(5, n, 2):\n",
    "            (...)\n",
    "```"
   ]
  },
  {
   "cell_type": "markdown",
   "metadata": {},
   "source": [
    "and we also used functions that were bound to specific objects, and\n",
    "accessed with the dot syntax, for instance, `append` to add elements\n",
    "to a list:"
   ]
  },
  {
   "cell_type": "markdown",
   "metadata": {},
   "source": [
    "```Python\n",
    "        C = [5, 10, 40, 45]\n",
    "        C.append(50)\n",
    "```"
   ]
  },
  {
   "cell_type": "markdown",
   "metadata": {},
   "source": [
    "This last type of function is quite special, since it is bound to an\n",
    "object, and operates directly on that object (`C.append` changes `C`).\n",
    "These bound functions are also referred to as *methods*, and will be\n",
    "considered in more detail in Chapter 8. In the present chapter we\n",
    "will primarily consider regular, un-bound, functions.\n",
    "In Python, such functions provide easy access to already existing\n",
    "program code written by others (e.g., `sin(x)`). There is plenty of such\n",
    "code in Python, and nearly all programs\n",
    "involve importing one or more modules and using pre-defined functions from\n",
    "them. One advantage of functions is that we can use them without\n",
    "knowing anything about how they are implemented. All we need to know is\n",
    "what goes in and what comes out, and the function can thus be used as a black box.\n",
    "\n",
    "Functions also provide a way of reusing code we have written ourselves, either in\n",
    "previous projects or as part of the current code, and this is the main focus of this chapter.\n",
    "Functions let us delegate responsibilities and split a program into smaller tasks, which\n",
    "is essential for solving all problems of some complexity. As we shall see\n",
    "later in this chapter, splitting a program into smaller functions is also\n",
    "convenient for testing and verifying that a program works as it should. We\n",
    "can write small pieces of code that test individual functions and ensure\n",
    "that they work correctly before putting the functions together into a complete\n",
    "program. If such tests are done properly, we can have some confidence that our\n",
    "main program works as expected. We will return to this topic towards the end\n",
    "of the chapter.\n",
    "\n",
    "So how do we write a function in Python? Starting with a simple example,\n",
    "consider the previously considered mathematical function"
   ]
  },
  {
   "cell_type": "markdown",
   "metadata": {},
   "source": [
    "$$\n",
    "A(n)= P(1+r/100)^n .\n",
    "$$"
   ]
  },
  {
   "cell_type": "markdown",
   "metadata": {},
   "source": [
    "For given values $P=100$ and $r=5.0$, we can implement this in Python as follows:"
   ]
  },
  {
   "cell_type": "code",
   "execution_count": 1,
   "metadata": {},
   "outputs": [],
   "source": [
    "def amount(n):\n",
    "    P = 100\n",
    "    r = 5.0\n",
    "    return P*(1+r/100)**n"
   ]
  },
  {
   "cell_type": "markdown",
   "metadata": {},
   "source": [
    "These two lines of code are very similar to the examples from Chapter 3,\n",
    "but they contain a few new concepts that are worth noting. Starting with the first\n",
    "line, `def amount(n):` is called the function *header*, and\n",
    "defines the function's interface. All function\n",
    "definitions in Python start with the word `def`, which is simply how we tell\n",
    "Python that the following code defines a function. After `def` comes the name\n",
    "of the function, followed by parentheses containing the function's *arguments*\n",
    "(sometimes called parameters). This simple function takes a single argument, but\n",
    "we can define functions that take multiple arguments by separating the\n",
    "arguments with commas. The parentheses need to be there, even if we do not\n",
    "want the function to take any arguments, in which case we would just leave\n",
    "the parentheses empty.\n",
    "\n",
    "The lines following the function header are the *function body*, which need to be\n",
    "indented. The indentation serves the same\n",
    "purpose as for the loops in Chapter 3: to specify\n",
    "which lines of code belong inside the function, or to the function body.\n",
    "The two first lines of the function body are regular assignments, but since\n",
    "they occur inside a function, they define *local variables* `P` and `r`. Local\n",
    "variables the argument `n` are used inside the function just as\n",
    "regular variables. We will return to this topic in more detail later. The\n",
    "last line of the function body starts with the keyword `return`, which is also new\n",
    "in this chapter and is used to specify the output returned by the function.\n",
    "It is important not to confuse this return statement\n",
    "with the print statements we used previously. The use of `print` will\n",
    "simply output something to the screen, while `return` makes the function\n",
    "provide an output, which can be thought of as a variable being passed back to\n",
    "the code that called the function. Consider for instance the example `n = len(somelist)`\n",
    "used in the previous chapter, where `len` returned an integer that was\n",
    "assigned to a variable `n`.\n",
    "\n",
    "Another important thing to note about the code above is that it does not\n",
    "do much. In fact, a function definition does essentially nothing before it\n",
    "is *called*. The analogue to the function definition in mathematics is\n",
    "to simply write down a function $f(x)$ as a mathematical expression. This\n",
    "defines the function, but there is no output until we start evaluating\n",
    "the function for some specific values of $x$. In programming, we say that we\n",
    "*call* the function when we use it. When programming with functions, it is\n",
    "common to refer to the *main program* as basically\n",
    "every line of code that is not inside a function. When running the program,\n",
    "only the statements in the main program are executed. Code inside function\n",
    "definitions is not run until we include a call to the function\n",
    "in the main program. We have already called pre-defined functions like\n",
    "`sin, len`, etc, in previous\n",
    "chapters, and a function we have written ourselves is called in exactly the\n",
    "same way:"
   ]
  },
  {
   "cell_type": "code",
   "execution_count": 2,
   "metadata": {},
   "outputs": [],
   "source": [
    "def amount(n):\n",
    "    P = 100\n",
    "    r = 5.0\n",
    "    return P*(1+r/100)**n\n",
    "\n",
    "year1 = 10\n",
    "a1 = amount(year1)                     # call\n",
    "a2 = amount(5)                         # call\n",
    "print(a1, a2)\n",
    "print(amount(6))                       # call\n",
    "a_list = [amount(year) for year in range(11)] #multiple calls"
   ]
  },
  {
   "cell_type": "markdown",
   "metadata": {},
   "source": [
    "The call `amount(n)` for some argument `n` returns a `float` object,\n",
    "which essentially means that `amount(n)` is replaced by this `float` object.\n",
    "We can therefore make the call `amount(n)` everywhere a `float` can be used.\n",
    "\n",
    "Note that, unlike many other programming languages, Python does not require\n",
    "the type of function arguments to be specified. Judging\n",
    "from the function header only, the argument of `amount(n)` above could be any\n",
    "kind of variable. However, by looking at\n",
    "how `n` is used inside the function, we can tell that it must be a\n",
    "number (integer or float). If we write complex functions where the argument\n",
    "types are not obvious, we can insert a comment immediately after the header,\n",
    "a so-called *doc string*, to tell users what the arguments should be. We will\n",
    "return to the topic of doc strings later in this chapter.\n",
    "\n",
    "\n",
    "# Function Arguments and Local Variables\n",
    "Just as in mathematics, we can define Python functions with more than one argument.\n",
    "The formula above involves both $P$ and $r$ in addition to $n$, and including\n",
    "them all as arguments could be useful. The function definition could then\n",
    "look like"
   ]
  },
  {
   "cell_type": "code",
   "execution_count": 3,
   "metadata": {},
   "outputs": [],
   "source": [
    "def amount(P, r, n):\n",
    "    return P*(1+r/100.0)**n\n",
    "\n",
    "# sample calls:\n",
    "a1 = amount(100, 5.0, 10)\n",
    "a2 = amount(10, r= 3.0, n=6)\n",
    "a3 = amount(r= 4, n = 2, P=100)"
   ]
  },
  {
   "cell_type": "markdown",
   "metadata": {},
   "source": [
    "Note that we are using the arguments `P`, `r`, and `n` inside the function\n",
    "exactly as in the previous example, where we defined `P` and `r` inside the\n",
    "function. Inside a function, there is no distinction between such\n",
    "*local variables* and the arguments passed to the function. The arguments\n",
    "also become local variables, and are used in exactly the same way as any variable\n",
    "we define inside the function. However, there\n",
    "is an important distinction between *local* and *global* variables. Variables\n",
    "defined in the main program become global\n",
    "variables, whereas variables defined inside functions are local. The local variables\n",
    "are only defined and available inside a function, whereas global variables can be\n",
    "used everywhere in a program. If we tried to access `P, r`, or\n",
    "`n` (e.g., by `print(P)`) from outside the function,\n",
    "we will simply obtain an error message stating that the variable is not defined.\n",
    "\n",
    "### Arguments can be *positional arguments* or *keyword arguments*.\n",
    "\n",
    "Notice\n",
    "also the alternative ways of calling a function. We can either specify\n",
    "the argument names in the call, as in `r=3.0, n=6`, or simply pass the values.\n",
    "If we specify the names, the order of the arguments becomes arbitrary, as\n",
    "in the last call above. Arguments that are passed without specifying the name\n",
    "are called *positional arguments*, because their position in the argument list\n",
    "determines the variable to which they are assigned. Arguments that are passed\n",
    "including the name are called *keyword arguments*. Keyword arguments need to match the definition\n",
    "of the function; that is, calling the\n",
    "function above with `amount(100, 5.0, year=5)` would cause an error message\n",
    "because `year` is not defined as an argument to the function.\n",
    "Another rule worth noting is that a positional argument cannot\n",
    "follow a keyword argument; a call such as `amount(100, 5.0, n=5)` is fine,\n",
    "but `amount(P=100, 5.0, 5)` is not and the program will stop with an error\n",
    "message. This rule is quite logical, since a random mix of positional\n",
    "and keyword arguments would make the call very confusing.\n",
    "\n",
    "### The difference between local and global variables.\n",
    "\n",
    "The distinction between local and global variables is generally important\n",
    "in programming, and can be confusing at first. As stated\n",
    "above, the arguments passed to a function, as well as variables we\n",
    "define inside the function, become local variables. These\n",
    "variables behave exactly as we are used to inside the function, but are\n",
    "not visible outside it. The potential source of confusion is that global\n",
    "variables are also accessible inside a function, just as everywhere else\n",
    "in the code. We could have assigned a value to the variables `P` and `r`\n",
    "outside the function, anywhere before the first call to `amount`, and the\n",
    "code would still work:"
   ]
  },
  {
   "cell_type": "code",
   "execution_count": 4,
   "metadata": {},
   "outputs": [],
   "source": [
    "P = 100\n",
    "r = 5.0\n",
    "\n",
    "def amount(n):\n",
    "    return P*(1+r/100)**n\n",
    "\n",
    "print(amount(7))"
   ]
  },
  {
   "cell_type": "markdown",
   "metadata": {},
   "source": [
    "Here `n` is passed as an argument, while, for `P` and `r`, the values assigned\n",
    "outside the function is used.\n",
    "However, it is also possible to define local and global variables with the same name, such as"
   ]
  },
  {
   "cell_type": "code",
   "execution_count": 5,
   "metadata": {},
   "outputs": [],
   "source": [
    "P = 100\n",
    "r = 5.0\n",
    "\n",
    "def amount(n):\n",
    "    r = 4.0\n",
    "    return P*(1+r/100)**n"
   ]
  },
  {
   "cell_type": "markdown",
   "metadata": {},
   "source": [
    "Which value of `r` is used in the function call here?\n",
    "Local variable names always take precedence\n",
    "over the global names. When the mathematical formula is encountered in\n",
    "the code above, Python will look for the values\n",
    "of the variables `P, r`, and `n` that appear in the formula.\n",
    "First, the so-called *local namespace* is searched, that is,\n",
    "Python looks for local variables with the given names. If local variables\n",
    "are found, as for `r` and `n` in this case, these values\n",
    "are used. If some variables are not found in the local namespace, Python\n",
    "will move to the *global namespace*, and look for\n",
    "global variables that match the given names. If a variable with the right name is found among the global\n",
    "variables, that is, it has been defined in the main program, then the corresponding value is used.\n",
    "If no global variable with the right name is found there are no more places to search,\n",
    "and the program ends with an error message.\n",
    "This sequential search for variables is quite natural and logical, but\n",
    "still a potential source of confusion and programming errors.\n",
    "Additional confusion can arise if we attempt to change a global variable\n",
    "inside a function. Consider, for instance, this small extension of the code above:"
   ]
  },
  {
   "cell_type": "code",
   "execution_count": 6,
   "metadata": {},
   "outputs": [],
   "source": [
    "P = 100\n",
    "r = 5.0\n",
    "\n",
    "def amount(n):\n",
    "    r = 4.0\n",
    "    return P*(1+r/100)**n\n",
    "\n",
    "print(amount(n=6))\n",
    "print(r)"
   ]
  },
  {
   "cell_type": "markdown",
   "metadata": {},
   "source": [
    "As revealed by the print statements, `r` is set to 4.0 inside the function, but\n",
    "the global variable `r` remains unchanged after the function has been called.\n",
    "Since the line `r = 4.0` occurs inside a function, Python will treat this as\n",
    "the definition of a new local variable, rather than trying to change a global\n",
    "one. We thus define a new local `r` with\n",
    "value 4.0, while there is still another `r` defined in the global namespace. After\n",
    "the function has ended, the local variable no longer exists (in programming\n",
    "terms, it *goes out of scope*), whereas the global `r` is still there and has\n",
    "its original value. If we actually want to change a global variable inside a\n",
    "function, we must explicitly state so by using\n",
    "the keyword `global`. Consider this minor change of the code above:"
   ]
  },
  {
   "cell_type": "code",
   "execution_count": 7,
   "metadata": {},
   "outputs": [],
   "source": [
    "P = 100\n",
    "r = 5.0\n",
    "\n",
    "def amount(n):\n",
    "    global r\n",
    "    r = 4.0\n",
    "    return P*(1+r/100)**n\n",
    "\n",
    "print(amount(n=6))\n",
    "print(r)"
   ]
  },
  {
   "cell_type": "markdown",
   "metadata": {},
   "source": [
    "In this case, the global `r` is changed. The keyword `global` tells\n",
    "Python that we do want to change a global variable, and not define\n",
    "a new local one. As a general rule, one should minimize the use of global\n",
    "variables inside functions and, instead, define all the variables used inside\n",
    "a function either as local variables or as arguments passed to the function.\n",
    "to the function. Similarly, if we want the function to change a global variable\n",
    "then we should make the function return this variable,\n",
    "instead of using the keyword `global`.\n",
    "It is difficult to think of a single example where using `global` is the best\n",
    "solution, and in practice it should never be used. If we actually wanted the\n",
    "function above to change the global `r`, the following is a better way:"
   ]
  },
  {
   "cell_type": "code",
   "execution_count": 8,
   "metadata": {},
   "outputs": [],
   "source": [
    "P = 100\n",
    "r = 5.0\n",
    "\n",
    "def amount(n,r):\n",
    "    r = r - 1.0\n",
    "    a = P*(1+r/100)**n\n",
    "    return a, r\n",
    "\n",
    "a0, r = amount(7)\n",
    "print(a0, r)"
   ]
  },
  {
   "cell_type": "markdown",
   "metadata": {},
   "source": [
    "Notice that, here, we return two values from the function, separated by a comma,\n",
    "just as in the list of arguments, and we also assign the returned values\n",
    "to the global variables `a0, r` in the line where the function is called.\n",
    "Although this simple example might not be the most useful in  practice,\n",
    "there are many cases in which it is useful for a function call to change\n",
    "a global variable. In such cases the change should always be performed in this\n",
    "way, by passing the global variable in as an argument, returning the variable\n",
    "from the function, and then assigning the returned value to the\n",
    "global variable. Following these steps is far better than using the `global` keyword\n",
    "inside the function, since it ensures that\n",
    "each function is a self-contained entity, with a clearly defined interface to\n",
    "the rest of the code through the list of arguments and return values.\n",
    "\n",
    "### Multiple return values are returned as a tuple.\n",
    "\n",
    "For a more practically relevant example of multiple return values, say\n",
    "we want to implement a mathematical function so that both the function value\n",
    "and its derivative are returned. Consider, for instance, the simple physics\n",
    "formula that describes the height of an object in vertical motion;\n",
    "$y(t) = v_0 t + (1/2) g t^2$, where $v_0$ is the initial velocity, $g$ is the\n",
    "gravitational constant, and $t$ is time. The derivative of the function\n",
    "is $y'(t)=v_0-gt$, and we can implement a Python function that returns\n",
    "both the function value and the derivative:"
   ]
  },
  {
   "cell_type": "code",
   "execution_count": 9,
   "metadata": {},
   "outputs": [],
   "source": [
    "def yfunc(t, v0):\n",
    "    g = 9.81\n",
    "    y = v0*t - 0.5*g*t**2\n",
    "    dydt = v0 - g*t\n",
    "    return y, dydt\n",
    "\n",
    "# call:\n",
    "position, velocity = yfunc(0.6, 3)"
   ]
  },
  {
   "cell_type": "markdown",
   "metadata": {},
   "source": [
    "As above, the return arguments are separated by a comma, and we assign the\n",
    "values to the two global\n",
    "variables `position` and `velocity`, also separated by a comma. When a function\n",
    "returns multiple values like this,\n",
    "it actually returns a tuple, the immutable list type defined in the previous\n",
    "chapter. We could therefore replace the call above with something like the following:"
   ]
  },
  {
   "cell_type": "code",
   "execution_count": 10,
   "metadata": {},
   "outputs": [],
   "source": [
    "pos_vel = yfunc(0.6,3)\n",
    "print(pos_vel)\n",
    "print(type(pos_vel))"
   ]
  },
  {
   "cell_type": "markdown",
   "metadata": {},
   "source": [
    "We see that the function returns a tuple with two elements. In the previous call, when we included a comma-separated list\n",
    "of variable names on the left-hand side (i.e., `position, velocity`),\n",
    "Python would *unpack* the elements in the tuple into the\n",
    "corresponding variables. For this unpacking to work, the number of variables\n",
    "must match the length of the tuple; otherwise, we obtain\n",
    "an error message stating that there are too many or not enough values to unpack.\n",
    "\n",
    "A function can return any number of arguments, separated by commas\n",
    "exactly as above. Here we have three:"
   ]
  },
  {
   "cell_type": "code",
   "execution_count": 11,
   "metadata": {},
   "outputs": [],
   "source": [
    "def f(x):\n",
    "    return x, x**2, x**4\n",
    "\n",
    "s = f(2)\n",
    "print(type(s), s)\n",
    "x, x2, x4 = s"
   ]
  },
  {
   "cell_type": "markdown",
   "metadata": {},
   "source": [
    "Notice the last line, where a tuple of length 3 is unpacked into three\n",
    "individual variables.\n",
    "\n",
    "### Example: A function to compute a sum.\n",
    "\n",
    "For a more relevant function example, of a kind that will arise\n",
    "frequently in this book, consider the\n",
    "sum"
   ]
  },
  {
   "cell_type": "markdown",
   "metadata": {},
   "source": [
    "$$\n",
    "L(x;n) = \\sum_{i=1}^n  \\frac{x^i}{i} ,\n",
    "$$"
   ]
  },
  {
   "cell_type": "markdown",
   "metadata": {},
   "source": [
    "which is an approximation to $-\\ln (1-x)$ for a finite $n$ and $|x| < 1$. The corresponding Python function for $L(x;n)$ looks like"
   ]
  },
  {
   "cell_type": "code",
   "execution_count": 12,
   "metadata": {},
   "outputs": [],
   "source": [
    "def L(x,n):\n",
    "    s = 0\n",
    "    for i in range(1,n+1):\n",
    "        s += x**i/i\n",
    "\n",
    "    return s\n",
    "\n",
    "#example use\n",
    "x = 0.5\n",
    "from math import log\n",
    "print(L(x, 3), L(x, 10), -log(1-x))"
   ]
  },
  {
   "cell_type": "markdown",
   "metadata": {},
   "source": [
    "The output from the print statement indicates that the approximation improves as the number of terms $n$ is increased,\n",
    "as is usual for such approximating series. For many purposes, it would be useful\n",
    "if the function returned the error of the approximation,\n",
    "that is, $-\\ln (1-x) - L(x;n)$, in addition to the value of the sum:"
   ]
  },
  {
   "cell_type": "code",
   "execution_count": 13,
   "metadata": {},
   "outputs": [],
   "source": [
    "from math import log\n",
    "\n",
    "def L2(x, n):\n",
    "    s = 0\n",
    "    for i in range(1,n+1):\n",
    "        s += x**i/i\n",
    "    value_of_sum = s\n",
    "\n",
    "    error = -log(1-x) - value_of_sum\n",
    "    return value_of_sum, error\n",
    "\n",
    "# typical call:\n",
    "x = 0.8; n = 10\n",
    "value, error = L2(x, n)"
   ]
  },
  {
   "cell_type": "markdown",
   "metadata": {},
   "source": [
    "### A function does not need a return statement.\n",
    "\n",
    "All the functions considered so far have included a return statement.\n",
    "While this will be the case for most of the functions\n",
    "we write in this course, there will be exceptions, and a function does not need to have a return statement.\n",
    "For instance, some functions only serve the purpose of printing information to the screen, as in"
   ]
  },
  {
   "cell_type": "code",
   "execution_count": 14,
   "metadata": {},
   "outputs": [],
   "source": [
    "def somefunc(obj):\n",
    "    print(obj)\n",
    "\n",
    "return_value = somefunc(3.4)"
   ]
  },
  {
   "cell_type": "markdown",
   "metadata": {},
   "source": [
    "Here, the last line does not make much sense, although it is actually valid Python\n",
    "code and will run without errors. If `somefunc` does not return anything, how\n",
    "can we then call the function and assign the result to a variable? If we\n",
    "do not include a return statement in a function,  Python\n",
    "will automatically return a variable with value `None`. The value of the\n",
    "variable `return_value` in this case will therefore be `None`, which is not\n",
    "very useful, but serves to illustrate the behavior of a function with no return statement.\n",
    "Most functions we will write in this course will either\n",
    "return variables or print or plot something to the screen. One typical use\n",
    "of a function without a return value is to print information in a tabular\n",
    "format to the screen. This is useful in many contexts, including studying\n",
    "the convergence of series approximations such as the one above. The following function\n",
    "calls the `L2(x,n)` function defined above, and uses a for loop to\n",
    "print relevant information in a nicely formatted table:"
   ]
  },
  {
   "cell_type": "code",
   "execution_count": 15,
   "metadata": {},
   "outputs": [],
   "source": [
    "def table(x):\n",
    "    print(f'x={x}, -ln(1-x)={-log(1-x)}')\n",
    "    for n in [1, 2, 10, 100]:\n",
    "        value, error = L2(x, n)\n",
    "        print(f'n={n:4d} approx: {value:7.6f}, error: {error:7.6f}')\n",
    "\n",
    "table(0.5)"
   ]
  },
  {
   "cell_type": "markdown",
   "metadata": {},
   "source": [
    "This function does not need to return anything, since entire\n",
    "purpose is to print information to the screen.\n",
    "\n",
    "# Default Arguments and Doc Strings\n",
    "When we used the `range`-function in the previous chapter, we saw that we could\n",
    "vary the number of arguments in the function call from one to three, and the\n",
    "non-specified arguments would be assigned default values. We can achieve the same\n",
    "functionality in our own functions, by defining *default arguments* in the\n",
    "function definition:"
   ]
  },
  {
   "cell_type": "markdown",
   "metadata": {},
   "source": [
    "```Python\n",
    "        def somefunc(arg1, arg2, kwarg1=True, kwarg2=0):\n",
    "            print(arg1, arg2, kwarg1, kwarg2)\n",
    "```"
   ]
  },
  {
   "cell_type": "markdown",
   "metadata": {},
   "source": [
    "A function defined in this way can be called with two, three, or four arguments.\n",
    "The first two have no default value and must therefore be included in the call,\n",
    "while the last two are optional and will be set to the default value if not\n",
    "specified in the call. In texts on Python programming, *default arguments* are\n",
    "often referred to as keyword arguments, although these terms do not mean exactly\n",
    "the same thing. They are, however, closely related, which is why the terms are sometimes\n",
    "used interchangeably. Just as we cannot have keyword arguments preceding positional\n",
    "arguments in a function call, we cannot have\n",
    "default arguments preceding non-default arguments in the function header.\n",
    "The following code demonstrates uses of the alternative function calls\n",
    "for a useless but illustrative\n",
    "function. Testing a simple function such as the following, which does nothing but print\n",
    "out the argument values, is a good way to understand the implications of\n",
    "default arguments and the resulting flexibility in argument lists:"
   ]
  },
  {
   "cell_type": "code",
   "execution_count": 16,
   "metadata": {},
   "outputs": [],
   "source": [
    "def somefunc(arg1, arg2, kwarg1=True, kwarg2=0):\n",
    "    print(arg1, arg2, kwarg1, kwarg2)"
   ]
  },
  {
   "cell_type": "code",
   "execution_count": 17,
   "metadata": {},
   "outputs": [],
   "source": [
    "somefunc('Hello', [1,2])   # drop kwarg1 and kwarg2"
   ]
  },
  {
   "cell_type": "code",
   "execution_count": 18,
   "metadata": {},
   "outputs": [],
   "source": [
    "somefunc('Hello', [1,2], 'Hi')"
   ]
  },
  {
   "cell_type": "code",
   "execution_count": 19,
   "metadata": {},
   "outputs": [],
   "source": [
    "somefunc('Hello', [1,2], 'Hi', 6)"
   ]
  },
  {
   "cell_type": "code",
   "execution_count": 20,
   "metadata": {},
   "outputs": [],
   "source": [
    "somefunc('Hello', [1,2], kwarg2='Hi') #kwarg2"
   ]
  },
  {
   "cell_type": "code",
   "execution_count": 21,
   "metadata": {},
   "outputs": [],
   "source": [
    "somefunc('Hello', [1,2], kwarg2='Hi', kwarg1=6)"
   ]
  },
  {
   "cell_type": "markdown",
   "metadata": {},
   "source": [
    "Using what we now know about default arguments, we can improve the function\n",
    "considered above, which implements the formula"
   ]
  },
  {
   "cell_type": "markdown",
   "metadata": {},
   "source": [
    "$$\n",
    "y(t) = v_0t- \\frac{1}{2}gt^2 .\n",
    "$$"
   ]
  },
  {
   "cell_type": "markdown",
   "metadata": {},
   "source": [
    "Here, it could be natural to think of $t$ as the primary argument to the function,\n",
    "which should always be provided, while $v_0$ and\n",
    "possibly also $g$ could be provided as default arguments. The function\n",
    "definition in Python\n",
    "could read"
   ]
  },
  {
   "cell_type": "code",
   "execution_count": 22,
   "metadata": {},
   "outputs": [],
   "source": [
    "def yfunc(t, v0=5, g=9.81):\n",
    "    y = v0*t - 0.5*g*t**2\n",
    "    dydt = v0 - g*t\n",
    "    return y, dydt\n",
    "\n",
    "#example calls:\n",
    "y1, dy1 = yfunc(0.2)\n",
    "y2, dy2 = yfunc(0.2,v0=7.5)\n",
    "y3, dy3 = yfunc(0.2,7.5,10.0)"
   ]
  },
  {
   "cell_type": "markdown",
   "metadata": {},
   "source": [
    "### Documentation of Python functions.\n",
    "\n",
    "An important Python convention is to document the purpose of a\n",
    "function, its arguments, and its return values in a *doc string* -\n",
    "a (triple-quoted) string written immediately after the function header.\n",
    "The doc string can be long or short, depending on the complexity of the function\n",
    "and its inputs and outputs. The following two examples show how a doc string\n",
    "can be used:"
   ]
  },
  {
   "cell_type": "code",
   "execution_count": 23,
   "metadata": {},
   "outputs": [],
   "source": [
    "def amount(P, r, n):\n",
    "    \"\"\"Compute the growth of an investment over time.\"\"\"\n",
    "    a = P*(1+r/100.0)**n\n",
    "    return a\n",
    "\n",
    "def line(x0, y0, x1, y1):\n",
    "    \"\"\"\n",
    "    Compute the coefficients a and b in the mathematical\n",
    "    expression for a straight line y = a*x + b that goes\n",
    "    through two points (x0, y0) and (x1, y1).\n",
    "\n",
    "    x0, y0: a point on the line (floats).\n",
    "    x1, y1: another point on the line (floats).\n",
    "    return: a, b (floats) for the line (y=a*x+b).\n",
    "    \"\"\"\n",
    "    a = (y1 - y0)/(x1 - x0)\n",
    "    b = y0 - a*x0\n",
    "    return a, b"
   ]
  },
  {
   "cell_type": "markdown",
   "metadata": {},
   "source": [
    "Doc strings do not take much time to write, and are very useful for others who want to\n",
    "use the function. A widely accepted convention in the Python community, doc strings\n",
    "are also used by various tools for automatically generating nicely formatted software documentation.\n",
    "Much of the online documentation of Python libraries and modules is\n",
    "automatically generated from doc strings included in the code.\n",
    "\n",
    "\n",
    "# If-Tests for Branching the Program Flow\n",
    "In computer programs we often want to perform different actions depending\n",
    "on a condition. As usual, we can find a similar\n",
    "concept in mathematics that should be familiar to most readers of this book.\n",
    "Consider a function defined in a piecewise manner, for instance,"
   ]
  },
  {
   "cell_type": "markdown",
   "metadata": {},
   "source": [
    "$$\n",
    "f(x) = \\left\\lbrace\\begin{array}{ll}\n",
    "\\sin x, & 0\\leq x\\leq \\pi\\\\\n",
    "0, & \\hbox{otherwise}\n",
    "\\end{array}\\right.\n",
    "$$"
   ]
  },
  {
   "cell_type": "markdown",
   "metadata": {},
   "source": [
    "The Python implementation of such a function needs to test the value of\n",
    "the input $x$, and return either zero or $\\sin(x)$ depending on the\n",
    "outcome. Such a decision in the program code is called *branching*\n",
    "and is obtained using an if-test, or, more generally, an if-else block.\n",
    "The code looks like"
   ]
  },
  {
   "cell_type": "code",
   "execution_count": 24,
   "metadata": {},
   "outputs": [],
   "source": [
    "from math import sin, pi\n",
    "\n",
    "def f(x):\n",
    "    if 0 <= x <= pi:\n",
    "        return sin(x)\n",
    "    else:\n",
    "        return 0\n",
    "\n",
    "print(f(0.5))\n",
    "print(f(5*pi))"
   ]
  },
  {
   "cell_type": "markdown",
   "metadata": {},
   "source": [
    "The new item here is the if-else block. An if-test is simply constructed by\n",
    "the keyword `if` followed by a Boolean variable or\n",
    "expression, and then a block of code which is to be executed if the condition is true.\n",
    "When the if-test is reached in the function above, the Boolean condition is tested,\n",
    "just as for the while loops in the previous chapter. If the condition is\n",
    "true, the following block of indented code is executed (in this case, just one line);\n",
    "if not, the indented code\n",
    "block after `else` is executed. You might also notice that,\n",
    "unlike the functions seen so far, this function has two return statements. This\n",
    "is perfectly valid and is quite common in functions with if-tests.  When a return statement is executed, the function\n",
    "call is over and any following lines in the function are simply ignored.\n",
    "Therefore, there is usually no point in having multiple return statements\n",
    "unless they are combined with if-tests, since, if the first one is always\n",
    "executed the others will never be reached.\n",
    "\n",
    "Sometimes we just want a piece of code to be executed if a condition is true,\n",
    "and to do nothing otherwise. In such cases, we can skip the `else` block and\n",
    "define only an if-test:"
   ]
  },
  {
   "cell_type": "markdown",
   "metadata": {},
   "source": [
    "```Python\n",
    "        if condition:\n",
    "            <block of statements, executed if condition is True>\n",
    "        \n",
    "        <next line after if-block, always executed>\n",
    "```"
   ]
  },
  {
   "cell_type": "markdown",
   "metadata": {},
   "source": [
    "Here, whatever is inside the if-block is executed if `condition` is true,\n",
    "otherwise the program simply moves to the next line\n",
    "after the block. As above, we can add an else-block to ensure that exactly\n",
    "one of two code blocks is executed"
   ]
  },
  {
   "cell_type": "markdown",
   "metadata": {},
   "source": [
    "```Python\n",
    "        if condition:\n",
    "            <block of statements, executed if condition is True>\n",
    "        else:\n",
    "            <block of statements, executed if condition is False>\n",
    "```"
   ]
  },
  {
   "cell_type": "markdown",
   "metadata": {},
   "source": [
    "For mathematical functions of the form considered above we usually want to\n",
    "include an else-block, since we want the function to return a meaningful value\n",
    "for all input arguments. Forgetting the else-block in the definition `f(x)` above would\n",
    "make the function return $\\sin(x)$ (a `float`) for $0\\leq x \\leq \\pi$, and\n",
    "otherwise `None`, which is obviously not what we want. Finally, we cans combine\n",
    "multiple if-else statements with different conditions"
   ]
  },
  {
   "cell_type": "markdown",
   "metadata": {},
   "source": [
    "```Python\n",
    "        if condition1:\n",
    "            <block of statements>\n",
    "        elif condition2:\n",
    "            <block of statements>\n",
    "        elif condition3:\n",
    "            <block of statements>\n",
    "        else:\n",
    "            <block of statements>\n",
    "        <next statement>\n",
    "```"
   ]
  },
  {
   "cell_type": "markdown",
   "metadata": {},
   "source": [
    "Notice the keyword `elif`, short for *else if*, which ensures that that\n",
    "subsequent conditions are only tested only if the preceding ones are False. The\n",
    "conditions are checked one by one and, as soon as one is evaluated as true,\n",
    "the corresponding block is executed and the program moves to the first\n",
    "statement after the else block. The remaining conditions are not checked.\n",
    "If none of the conditions is true, the code inside the else block is executed.\n",
    "\n",
    "Multiple branching has useful applications in mathematics, since we often see\n",
    "piecewise functions defined on multiple intervals. Consider for\n",
    "instance the piecewise linear function"
   ]
  },
  {
   "cell_type": "markdown",
   "metadata": {},
   "source": [
    "$$\n",
    "N(x) = \\left\\lbrace\\begin{array}{ll}\n",
    "0, & x < 0\\\\\n",
    "x, & 0\\leq x < 1\\\\\n",
    "2-x, & 1\\leq x < 2\\\\\n",
    "0, & x \\geq 2\n",
    "\\end{array}\\right. .\n",
    "$$"
   ]
  },
  {
   "cell_type": "markdown",
   "metadata": {},
   "source": [
    "which in Python can be implemented with multiple if-else-branching"
   ]
  },
  {
   "cell_type": "code",
   "execution_count": 25,
   "metadata": {},
   "outputs": [],
   "source": [
    "def N(x):\n",
    "    if x < 0:\n",
    "        return 0\n",
    "    elif 0 <= x < 1:\n",
    "        return x\n",
    "    elif 1 <= x < 2:\n",
    "        return 2 - x\n",
    "    elif x >= 2:\n",
    "        return 0"
   ]
  },
  {
   "cell_type": "markdown",
   "metadata": {},
   "source": [
    "In later chapters we will see multiple examples of more general use of\n",
    "branching, not restricted to mathematics or piecewise-defined functions.\n",
    "\n",
    "### Inline if-tests for shorter code.\n",
    "\n",
    "The list comprehensions in Chapter 3 offered\n",
    "a more compact alternative to the standard way of defining lists, and\n",
    "a similar alternative exists for if-tests. A common use of if-else\n",
    "blocks is to assign a value to a variable, where the value depends on some\n",
    "condition, just as in the examples above. The general form looks like"
   ]
  },
  {
   "cell_type": "markdown",
   "metadata": {},
   "source": [
    "```Python\n",
    "        if condition:\n",
    "            variable = value1\n",
    "        else:\n",
    "            variable = value2\n",
    "```"
   ]
  },
  {
   "cell_type": "markdown",
   "metadata": {},
   "source": [
    "This code can be replaced by the following one-line if-else block:"
   ]
  },
  {
   "cell_type": "markdown",
   "metadata": {},
   "source": [
    "```Python\n",
    "        variable = (value1 if condition else value2)\n",
    "```"
   ]
  },
  {
   "cell_type": "markdown",
   "metadata": {},
   "source": [
    "Using this compact notation, we can write the example from the start\n",
    "of this section as"
   ]
  },
  {
   "cell_type": "code",
   "execution_count": 26,
   "metadata": {},
   "outputs": [],
   "source": [
    "def f(x):\n",
    "    return (sin(x) if 0 <= x <= pi else 0)"
   ]
  },
  {
   "cell_type": "markdown",
   "metadata": {},
   "source": [
    "# Functions as Arguments to Functions\n",
    "Arguments to Python functions can be any Python object, including another\n",
    "function. This functionality is quite useful for many scientific applications,\n",
    "where we need to define mathematical functions that operate on or make use of\n",
    "other mathematical functions. For instance, we can easily write Python functions\n",
    "for numerical approximations of integrals $\\int_a^b f(x)dx$, derivatives $f'(x)$,\n",
    "and roots $f(x)=0$. For such functions to be general and useful, they should work\n",
    "with an arbitrary $f(x)$, which is most conveniently accomplished by passing a\n",
    "Python function `f(x)` as an argument to the function.\n",
    "\n",
    "Consider the example of approximating the second derivative $f''(x)$ by centered finite differences,"
   ]
  },
  {
   "cell_type": "markdown",
   "metadata": {},
   "source": [
    "$$\n",
    "f''(x) \\approx \\frac{f(x-h) - 2f(x) + f(x+h)}{h^2}.\n",
    "$$"
   ]
  },
  {
   "cell_type": "markdown",
   "metadata": {},
   "source": [
    "The corresponding Python function looks like"
   ]
  },
  {
   "cell_type": "code",
   "execution_count": 27,
   "metadata": {},
   "outputs": [],
   "source": [
    "def diff2(f, x, h=1E-6):\n",
    "    r = (f(x-h) - 2*f(x) + f(x+h))/float(h*h)\n",
    "    return r"
   ]
  },
  {
   "cell_type": "markdown",
   "metadata": {},
   "source": [
    "We see that the function `f` is passed to the function just as any other argument,\n",
    "and is called as a regular function inside `diff2`. Of course, for this to work,\n",
    "we need to actually send a callable function as the first\n",
    "argument to `diff2`. If we send something else, like a number or  a string, the\n",
    "code will stop with an error when it tries to make the call `f(x-h)` in the next line.\n",
    "Such potential errors are part of the price we pay for Python's flexibility.\n",
    "We can pass any argument to a function, but the object we pass must be\n",
    "possible to use as intended inside the function. As noted above,\n",
    "for more complex functions, it is useful to include a doc string that specifies\n",
    "the types of arguments the function expects.\n",
    "\n",
    "### Lambda functions for compact inline function definitions.\n",
    "\n",
    "In order to use the function `diff2` above, one would standardly define our `f(x)` as a Python function,\n",
    "and then pass it as an argument to `diff2`. The following code shows an example:"
   ]
  },
  {
   "cell_type": "code",
   "execution_count": 28,
   "metadata": {},
   "outputs": [],
   "source": [
    "def f(x):\n",
    "    return x**2 - 1\n",
    "\n",
    "df2 = diff2(f,1.5)\n",
    "print(df2)"
   ]
  },
  {
   "cell_type": "markdown",
   "metadata": {},
   "source": [
    "The concept known as a *lambda function* offers a compact way to define functions,\n",
    "which can be convenient for the\n",
    "present application. Using the keyword `lambda`, we can define our `f` on a\n",
    "single line, as follows:"
   ]
  },
  {
   "cell_type": "code",
   "execution_count": 29,
   "metadata": {},
   "outputs": [],
   "source": [
    "f = lambda x: x**2 - 1"
   ]
  },
  {
   "cell_type": "markdown",
   "metadata": {},
   "source": [
    "More generally, a lambda function defined by"
   ]
  },
  {
   "cell_type": "markdown",
   "metadata": {},
   "source": [
    "```Python\n",
    "        somefunc = lambda a1, a2, ...: some_expression\n",
    "```"
   ]
  },
  {
   "cell_type": "markdown",
   "metadata": {},
   "source": [
    "is equivalent to"
   ]
  },
  {
   "cell_type": "markdown",
   "metadata": {},
   "source": [
    "```Python\n",
    "        def somefunc(a1, a2, ...):\n",
    "            return some_expression\n",
    "```"
   ]
  },
  {
   "cell_type": "markdown",
   "metadata": {},
   "source": [
    "It could be natural to ask whether anything is really gained here, and whether it is useful to\n",
    "introduce a new concept just to reduce a function definition from two lines to\n",
    "one line. One answer is that the lambda function definition can be placed directly\n",
    "in the argument list of the other function. Instead of first defining `f(x)`\n",
    "and then passing it as an argument, as in\n",
    "the code above, we can combine these tasks into one line:"
   ]
  },
  {
   "cell_type": "code",
   "execution_count": 30,
   "metadata": {},
   "outputs": [],
   "source": [
    "df2 = diff2(lambda x: x**2-1,1.5)\n",
    "print(df2)"
   ]
  },
  {
   "cell_type": "markdown",
   "metadata": {},
   "source": [
    "Using lambda functions in this way can be quite convenient in cases in which we\n",
    "need to pass a simple mathematical expression as an argument to a Python function.\n",
    "We save some typing, and could also improve the code's readability.\n",
    "\n",
    "# Solving Equations with Python Functions\n",
    "Solving equations of the form $f(x) = 0$ is a frequently occuring task in all\n",
    "branches of science and engineering. For special cases, such as a\n",
    "linear or quadratic $f$, we have simple formulas that give us the solution\n",
    "directly. In the general case, however, the equation cannot be solved analytically, and\n",
    "we need to find an approximate solution using numerical methods. We shall see\n",
    "that we can create powerful and flexible tools for equation solving based on\n",
    "the building blocks introduced so far. Specifically, we will combine functions\n",
    "and function arguments with the while loop introduced in Chapter 3.\n",
    "\n",
    "### Finding roots on an interval with the bisection method.\n",
    "\n",
    "One of the simplest algorithms for solving equations of the form $f(x)=0$\n",
    "is called the *bisection method*. This method is founded on the intermediate value\n",
    "theorem, which states that, if a continuous function changes sign on an interval\n",
    "$[a,b]$\n",
    "then there must be a value $x\\in [a,b]$ such that $f(x)=0$. In the bisection\n",
    "method we start by choosing an interval $[a,b]$ on which $f$ changes sign\n",
    "(i.e., $f(a)f(b) <0$), and then compute the midpoint $m = (a+b)/2$ and check the\n",
    "sign of $f(m)$. If $f$ changes sign on $[a,m]$ then we repeat the process\n",
    "on the interval $[a,m]$; otherwise, we choose $[m,b]$ as our new interval\n",
    "and repeat the process there. These steps are conveniently implemented\n",
    "as a while loop, and we can create a generic tool by placing the while loop\n",
    "inside a function that takes a function as argument:"
   ]
  },
  {
   "cell_type": "code",
   "execution_count": 1,
   "metadata": {},
   "outputs": [
    {
     "name": "stdout",
     "output_type": "stream",
     "text": [
      "x = 0.213348 is an approximate root, f(0.213348) = -3.41372e-07\n"
     ]
    }
   ],
   "source": [
    "        from math import exp\n",
    "        \n",
    "        def bisection(f,a,b,tol= 1e-3):\n",
    "            if f(a)*f(b) > 0:\n",
    "                print(f'No roots or more than one root in [{a},{b}]')\n",
    "                return\n",
    "        \n",
    "            m = (a+b)/2\n",
    "        \n",
    "            while abs(f(m)) > tol:\n",
    "                if f(a)*f(m) < 0:\n",
    "                    b = m\n",
    "                else:\n",
    "                    a = m\n",
    "                m = (a+b)/2\n",
    "            return m\n",
    "        \n",
    "        #call the method for f(x)= x**2-4*x+exp(-x)\n",
    "        f = lambda x: x**2-4*x+exp(-x)\n",
    "        sol = bisection(f,-0.5,1,1e-6)\n",
    "        \n",
    "        print(f'x = {sol:g} is an approximate root, f({sol:g}) = {f(sol):g}')\n"
   ]
  },
  {
   "cell_type": "markdown",
   "metadata": {},
   "source": [
    "We see that the `bisection` function takes four arguments: the mathematical\n",
    "function $f(x)$ implemented as a Python function, the bounds for our initial\n",
    "interval, and the tolerance for the approximate solution. The first if-test\n",
    "of the function simply checks that $f$ changes sign\n",
    "in $[a,b]$, which ensures that the function has at least one root on\n",
    "the interval. We then proceed to define the midpoint `m` and enter\n",
    "the while-loop, which forms the core of the algorithm. This loop will continue\n",
    "running as long as `abs(f(m)) > tol` (otherwise `m` is our solution), repeatedly\n",
    "checking whether $f$ changes sign on $[a,m]$ or $[m,b]$, and then calculating\n",
    "a new `m` to repeat the process on an interval of half the size.\n",
    "\n",
    "### Newton's method gives faster convergence.\n",
    "\n",
    "The bisection method converges quite slowly, and other methods\n",
    "are far more popular for solving non-linear equations. In particular,\n",
    "numerous varieties of Newton's method are widely used in practice. Newton's\n",
    "method is based on a *local linearization* of the non-linear function $f(x)$.\n",
    "Starting with an initial guess $x_0$, we replaces $f(x)$ by a linear function\n",
    "$g(x)$ that satisfies $g(x)\\approx f(x)$ in a small interval around $x_0$.\n",
    "Then, we solve the equation $g(x)=0$ to find an updated guess $x_1$, and repeat\n",
    "the process of linearization around that point. Repeated application of\n",
    "these steps converges quickly towards the true solution, provided that the\n",
    "initial guess $x_0$ is sufficiently close. In mathematics, one step of\n",
    "the algorithm looks like"
   ]
  },
  {
   "cell_type": "markdown",
   "metadata": {},
   "source": [
    "$$\n",
    "x_{n+1} = x_n -\\frac{f(x_n)}{f'(x_n)} ,\n",
    "$$"
   ]
  },
  {
   "cell_type": "markdown",
   "metadata": {},
   "source": [
    "where $x_n$ is the solution after $n$ iterations, $x_{n+1}$ is the improved\n",
    "approximation, and $f'(x_n)$ is the derivative of $f$ in $x_n$.\n",
    "\n",
    "Just as the bisection method, Newton's method is easy to implement in a while\n",
    "loop, and we can implement it as a generic function that takes a Python function\n",
    "implementing $f(x)$ as argument. The function will also need\n",
    "$f'(x)$, since this is used in the algorithm, as well as an initial guess $x_0$\n",
    "and a tolerance:"
   ]
  },
  {
   "cell_type": "markdown",
   "metadata": {},
   "source": [
    "        from math import exp\n",
    "        \n",
    "        def Newton(f, dfdx, x0, tol= 1e-3):\n",
    "            f0 = f(x0)\n",
    "            while abs(f0) > tol:\n",
    "                x1 = x0 - f0/dfdx(x0)\n",
    "                x0 = x1\n",
    "                f0 = f(x0)\n",
    "            return x0\n",
    "        \n",
    "        #call the method for f(x)= x**2-4*x+exp(-x)\n",
    "        f = lambda x: x**2-4*x+exp(-x)\n",
    "        dfdx = lambda x: 2*x-4-exp(-x)\n",
    "        \n",
    "        sol = Newton(f,dfdx,0,1e-6)\n",
    "        \n",
    "        print(f'x = {sol:g} is an approximate root, f({sol:g}) = {f(sol):g}')\n"
   ]
  },
  {
   "cell_type": "markdown",
   "metadata": {},
   "source": [
    "Notice how the `x0` variable is updated inside the loop. The algorithm only needs\n",
    "to know the value at one iteration to compute the next one, so for each iteration\n",
    "we update `x0` to hold the most recent approximation, and then use this to\n",
    "compute the next one.  Note also that the implementation provided here\n",
    "is not very robust, and if the method does not converge, it will simply\n",
    "continue in an infinite loop. One simple way to improve the implementation\n",
    "is to stop the method after a given number of iterations:"
   ]
  },
  {
   "cell_type": "markdown",
   "metadata": {},
   "source": [
    "        from math import exp\n",
    "        \n",
    "        def Newton2(f, dfdx, x0, max_it=20, tol= 1e-3):\n",
    "            f0 = f(x0)\n",
    "            iter = 0\n",
    "            while abs(f0) > tol and iter < max_it:\n",
    "                x1 = x0 - f0/dfdx(x0)\n",
    "                x0 = x1\n",
    "                f0 = f(x0)\n",
    "                iter += 1\n",
    "        \n",
    "            converged = iter < max_it\n",
    "            return x0, converged, iter\n",
    "        \n",
    "        #call the method for f(x)= x**2-4*x+exp(-x)\n",
    "        f = lambda x: x**2-4*x+exp(-x)\n",
    "        dfdx = lambda x: 2*x-4-exp(-x)\n",
    "        \n",
    "        sol, converged, iter = Newton2(f,dfdx,0,tol=1e-3)\n",
    "        \n",
    "        if converged:\n",
    "            print(f'Newtons method converged in {iter} iterations')\n",
    "        else:\n",
    "            print(f'The method did not converge')\n"
   ]
  },
  {
   "cell_type": "markdown",
   "metadata": {},
   "source": [
    "Newton's method usually converges much faster than the\n",
    "bisection method, but has the disadvantage the function $f$ needs to be\n",
    "manually differentiated. In Chapter 8 we will see some examples\n",
    "of how this step can be avoided.\n",
    "\n",
    "\n",
    "# Writing Test Functions to Verify our Programs\n",
    "In the first part of this chapter, we mentioned the idea of writing tests to verify that\n",
    "functions work as intended. This approach\n",
    "to programming can be very effective, and although we spend some time writing\n",
    "the tests, we often save much more time by the fact that we discover errors early,\n",
    "and can build our program from components that are known to work. The\n",
    "process is often referred to as *unit testing*, since each test verifies that a\n",
    "small unit of the program works as expected. Many programmers even\n",
    "take the approach one step further and write the test before they write the\n",
    "actual function. This approach is often referred to as test-driven development\n",
    "and is an increasingly popular method for software development.\n",
    "\n",
    "The tests we write to test our functions are also functions, a special\n",
    "type of function known as *test functions*. Writing good test functions, which\n",
    "test the functionality of our code in a reliable manner, can be quite challenging;\n",
    "however, the overall idea of test functions is very simple. For a given\n",
    "function, which often takes one or more arguments, we choose arguments\n",
    "such that we can calculate the result of the\n",
    "function by hand. Inside the test function, we then simply\n",
    "call our function with the right arguments and compare the result returned by the function\n",
    "with the expected (hand-calculated) result. The following example illustrates how we can write a\n",
    "test function to test that the (very) simple function `double(x)` works as it should:"
   ]
  },
  {
   "cell_type": "code",
   "execution_count": 31,
   "metadata": {},
   "outputs": [],
   "source": [
    "def double(x):            # some function\n",
    "    return 2*x\n",
    "\n",
    "def test_double():        # associated test function\n",
    "    x = 4                 # some chosen x value\n",
    "    expected = 8          # expected result from double(x)\n",
    "    computed = double(x)\n",
    "    success = computed == expected  # Boolean value: test passed?\n",
    "    msg = f'computed {computed}, expected {expected}'\n",
    "    assert success, msg"
   ]
  },
  {
   "cell_type": "markdown",
   "metadata": {},
   "source": [
    "In this code, the only Python keyword that we have not seen previously\n",
    "is `assert`, which is used instead of\n",
    "`return` whenever we write a test function. Test functions should not return anything, so a regular\n",
    "return statement would not make sense. The only purpose of the test function\n",
    "is to compare the value returned by a function with the value\n",
    "we expect it to return, and to write an error message if the two are different.\n",
    "This task is precisely what `assert` does. The keyword `assert` should always be\n",
    "followed by a condition, `success` in the code above, that is true if the test passes and\n",
    "false if it fails. The code above follows the typical recipe; we compare the\n",
    "expected with the returned result in `computed == expected`, which is a\n",
    "Boolean expression returning true or false. This value is then assigned\n",
    "to the variable `success`, which is included in the `assert` statement. The\n",
    "last part of the assert statement, the text string `msg`, is\n",
    "optional and is simply included to give a more meaningful error message if\n",
    "the test fails. If we leave this out, and only write `assert success`, we will\n",
    "see a general message stating that the test has failed (a so-called *assertion error*),\n",
    "but without much information about what actually went wrong.\n",
    "\n",
    "Some rules should be observed when writing test functions:\n",
    " * The test function must have at least one statement of the type\n",
    "   `assert success`, where `success` is a Boolean variable\n",
    "   or expression, which is true\n",
    "   if the test passed and false otherwise. We can include more than one\n",
    "   assert statement if we want, but we always need at least one.\n",
    "\n",
    " * The test function should take no arguments. The function to be tested will\n",
    "   typically be called with one or more arguments,\n",
    "   but these should be defined as local variables inside the test function.\n",
    "\n",
    " * The name of the function should always be `test_`, followed by the name\n",
    "   of the function we want to test. Following this convention\n",
    "   is useful because it makes it obvious to anyone reading the code that the\n",
    "   function is a test function, and it is also used by tools that can\n",
    "   automatically run all test functions in a given file or directory. More about\n",
    "   this is discussed below.\n",
    "\n",
    "If we follow these rules, and remember the fundamental idea that a test function\n",
    "simply compares the returned result with the expected result, writing test\n",
    "functions does not have to be complicated. In particular, many of the\n",
    "functions we write in this course will evaluate some kind of mathematical function and then\n",
    "return either a number or a list/tuple of numbers. For this type of function,\n",
    "the recipe for test functions is quite rigid, and the structure is usually\n",
    "exactly the same as in the simple example above.\n",
    "\n",
    "If you are new\n",
    "to programming, it can be confusing to be faced with a general task such as\n",
    "\"write a test function for the Python function `somefunc(x,y)`,\" and it is\n",
    "natural to ask questions about what arguments the function should be tested for\n",
    "and how you can know what the expected values are. In such cases it is important\n",
    "to remember the overall idea of test functions, and also that these are\n",
    "choices that must be made by the programmer. You have to choose a set of\n",
    "suitable arguments, then calculate or otherwise predict by hand what the\n",
    "function *should* return for these arguments, and write the comparison in the\n",
    "test function.\n",
    "\n",
    "### A test function can include multiple tests.\n",
    "\n",
    "We can have multiple assert statements in a single test function. This can be\n",
    "useful if we want to test a function with different arguments.\n",
    "For instance, if we write a test function for one of the piecewise-defined\n",
    "mathematical functions considered earlier in this chapter, it would be\n",
    "natural to test all the separate intervals on which the function is defined.\n",
    "The following code illustrates how this can be done:"
   ]
  },
  {
   "cell_type": "code",
   "execution_count": 32,
   "metadata": {},
   "outputs": [],
   "source": [
    "from math import sin, pi\n",
    "\n",
    "def f(x):\n",
    "    if 0 <= x <= pi:\n",
    "        return sin(x)\n",
    "    else:\n",
    "        return 0\n",
    "\n",
    "def test_f():\n",
    "    x1, exp1 = -1.0, 0.0\n",
    "    x2, exp2 = pi/2, 1.0\n",
    "    x3, exp3 = 3.5, 0.0\n",
    "\n",
    "    tol = 1e-10\n",
    "    assert abs(f(x1)-exp1) < tol, f'Failed for x = {x1}'\n",
    "    assert abs(f(x2)-exp2) < tol, f'Failed for x = {x2}'\n",
    "    assert abs(f(x3)-exp3) < tol, f'Failed for x = {x3}'"
   ]
  },
  {
   "cell_type": "markdown",
   "metadata": {},
   "source": [
    "Note here that, since we compare floating point numbers, which have finite\n",
    "precision on a computer, we compare with a tolerance rather than the equality `==`.\n",
    "The tolerance `tol` is some small number, chosen by the programmer,\n",
    "that is small enough that we would consider a difference of this magnitude\n",
    "insignificant, but greater than the machine precision ($\\approx 10^{-16}$). In\n",
    "practice, comparing floats using `==` will quite often work, but\n",
    "sometimes it fails and it is impossible to predict when this will happen. The code\n",
    "therefore becomes unreliable, and it is much safer\n",
    "to compare with a tolerance. On the other hand, when we work with integers ,\n",
    "we can always use `==`.\n",
    "\n",
    "One could argue that the test function code above is quite inelegant and repetitive,\n",
    "since we repeat the same lines multiple\n",
    "times with very minor changes. Since we only repeat three lines,\n",
    "it might not be a big deal in this case, but\n",
    "if we included more assert statements it would certainly be both boring and\n",
    "error-prone to write code in this way.\n",
    "In the previous chapter, we introduced loops as a much more elegant tool f\n",
    "or performing such repetitive tasks. Using\n",
    "lists and a for loop, the example above can  be written as follows:"
   ]
  },
  {
   "cell_type": "code",
   "execution_count": 3,
   "metadata": {},
   "outputs": [],
   "source": [
    "from math import sin, pi\n",
    "\n",
    "def f(x):\n",
    "    if 0 <= x <= pi:\n",
    "        return sin(x)\n",
    "    else:\n",
    "        return 0\n",
    "\n",
    "def test_f():\n",
    "    x_vals = [-1, pi/2, 3.5]\n",
    "    exp_vals = [0.0, 1.0, 0.0]\n",
    "\n",
    "    tol = 1e-10\n",
    "    for x, exp in zip(x_vals, exp_vals):\n",
    "        assert abs(f(x)-exp) < tol, \\\n",
    "            f'Failed for x = {x}, expected {exp}, but got {f(x)}'\n",
    "        "
   ]
  },
  {
   "cell_type": "markdown",
   "metadata": {},
   "source": [
    "### Python tools for automatic testing.\n",
    "\n",
    "An advantage of following the naming convention for test functions defined\n",
    "above is that there\n",
    "are tools that can be used to automatically run *all* the test functions\n",
    "in a file or folder and report if any bug has sneaked into the code. The\n",
    "use of such automatic testing tools is essential in larger development projects\n",
    "with multiple people working on the same code, but can also be quite useful\n",
    "for your own projects. The recommended and most widely used tool is\n",
    "called `pytest` or `py.test`, where `pytest` is simply the new name for `py.test`.\n",
    "We can run `pytest` from the terminal window, and pass it either a file name or\n",
    "a folder name as an argument, as in"
   ]
  },
  {
   "cell_type": "markdown",
   "metadata": {},
   "source": [
    "        Terminal> pytest .\n",
    "        Terminal> pytest my_python_project.py\n"
   ]
  },
  {
   "cell_type": "markdown",
   "metadata": {},
   "source": [
    "If we pass it a file name, `pytest` will look for functions in this file with a name starting with `test_`, as specified by\n",
    "the naming convention above. All these functions will be identified as test functions and called by `pytest`, regardless of\n",
    "whether the test functions are actually called from elsewhere in the code.\n",
    "After execution, `pytest` will print a short summary of how\n",
    "many tests it found, and how many that passed and failed.\n",
    "\n",
    "For larger software projects, it might be more relevant to give a directory\n",
    "name as argument to `pytest`, as in the first line above. In this case, the tool will\n",
    "search the given directory (here `.`, the directory we are currently in) and\n",
    "all its sub-directories for Python files with names starting or ending with `test`\n",
    "(e.g., `test_math.py`, `math_test.py`, etc.). All these files will be\n",
    "searched for test functions following the naming convention, and these will be\n",
    "run as above. Large software projects typically have thousands of test functions,\n",
    "and it is very convenient to collect them in a separate file and use automatic\n",
    "tools such as `pytest`. For the smaller programs we write in this course, it can be\n",
    "just as easy to write the test functions in the same file as the functions\n",
    "being tested.\n",
    "\n",
    "It is important to remember that test functions run *silently* if the test passes;\n",
    "that is, we only obtain an output if there is an assertion error, otherwise nothing\n",
    "is printed to the screen. When using `pytest` we are always given a\n",
    "summary specifying how many tests were run, but if we include calls to the test\n",
    "functions directly in the `.py` file, and\n",
    "run this file as normal, there will be no output if the test passes. This can be confusing, and one is sometimes left wondering\n",
    "if the test was called at all. When first writing a test function, it can be useful to include a print-statement inside the\n",
    "function, simply to verify that the function\n",
    "is actually called. This statement should be removed once we know the function\n",
    "works correctly and as we become used to how the test functions work."
   ]
  }
 ],
 "metadata": {
  "kernelspec": {
   "display_name": "Python 3",
   "language": "python",
   "name": "python3"
  },
  "language_info": {
   "codemirror_mode": {
    "name": "ipython",
    "version": 3
   },
   "file_extension": ".py",
   "mimetype": "text/x-python",
   "name": "python",
   "nbconvert_exporter": "python",
   "pygments_lexer": "ipython3",
   "version": "3.7.3"
  }
 },
 "nbformat": 4,
 "nbformat_minor": 2
}
