{
 "cells": [
  {
   "cell_type": "markdown",
   "metadata": {},
   "source": [
    "# Computing with Formulas\n",
    "\n",
    "In this chapter, we will go one step beyond the Hello, World! example of\n",
    "the first chapter, and introduce programming with mathematical formulas.\n",
    "Such formulas are essential parts of most programs written for scientific\n",
    "applications, and they are also useful for introducing the concept of\n",
    "*variables*, which is a fundamental part of all programming languages.\n",
    "\n",
    "# Programming Simple Mathematics\n",
    "To introduce the concepts of this chapter, we first consider a simple formula\n",
    "for calculating the interest on a bank deposit:"
   ]
  },
  {
   "cell_type": "markdown",
   "metadata": {},
   "source": [
    "$$\n",
    "A = P(1+(r/100))^n ,\n",
    "$$"
   ]
  },
  {
   "cell_type": "markdown",
   "metadata": {},
   "source": [
    "where $P$ is the initial deposit (the *principal*), $r$ is the yearly interest\n",
    "rate given in percent, $n$ is the number of years, and $A$ is the final amount.\n",
    "\n",
    "The task is now to write a program that computes $A$ for given\n",
    "values of $P$, $r$ and $n$. We could, of course, easily do\n",
    "so with a calculator, but a small program can be much\n",
    "more flexible and powerful. To evaluate the formula above,\n",
    "we first need to assign values to $P$, $r$ and $n$, and then\n",
    "make the calculation. Choosing, for instance,\n",
    "$P=100, r=5.0$, and $n=7$, a complete Python program that does the calculation\n",
    "and outputs  the result reads"
   ]
  },
  {
   "cell_type": "code",
   "execution_count": 1,
   "metadata": {},
   "outputs": [
    {
     "name": "stdout",
     "output_type": "stream",
     "text": [
      "140.71004226562505\n"
     ]
    }
   ],
   "source": [
    "print(100*(1 + 5.0/100)**7)"
   ]
  },
  {
   "cell_type": "markdown",
   "metadata": {},
   "source": [
    "As described in the previous chapter this line can be typed into an\n",
    "interactive Python session, or written in an editor and stored in a file,\n",
    "for instance `interest0.py`. The program is then run with the command `python interest0.py`\n",
    "in a regular terminal or `run interest0.py` in an iPython window or Spyder.\n",
    "\n",
    "The `interest0.py` program is not much more complex or useful than the\n",
    "Hello, World! example from the previous chapter, but there are a couple of\n",
    "important differences. First, notice that, in this case\n",
    "we did not use quotation marks inside the parentheses. This is because\n",
    "we want Python to evaluate the mathematical formula,\n",
    "and print the result to the screen, which works fine as long as the text inside\n",
    "the parentheses is valid Python code, or, more precisely, a valid *expression* that\n",
    "can be evaluated to produce a result. If we put quotation marks around the\n",
    "formula above, the code would still work, but the result is not\n",
    "what we want - try it!.\n",
    "At this point, it is also worth noting that, while we stated above that Python is a\n",
    "flexible and high-level language, all programming languages are extremely picky about spelling and\n",
    "grammar. Consider, for instance the line"
   ]
  },
  {
   "cell_type": "markdown",
   "metadata": {},
   "source": [
    "        write(100*(1+5,0/100)^7)\n"
   ]
  },
  {
   "cell_type": "markdown",
   "metadata": {},
   "source": [
    "While most people can read this line quite easily, and interpret it as the\n",
    "same formula as the one above, it makes no sense\n",
    "as a Python program. There are multiple errors: `write` is not a legal Python\n",
    "word in this context, a comma has another meaning than the decimal point,\n",
    "and the hat does not mean exponentiation. We have to be extremely accurate\n",
    "with how we write computer programs, and it takes time and experience to learn this.\n",
    "\n",
    "The mathematical formula above is evaluated according to\n",
    "the standard rules. The terms are evaluated one by one, from left to right,\n",
    "with exponentiation performed first and then multiplication and division. We use\n",
    "parentheses to control the order of the evaluation, just as we do in regular\n",
    "mathematics. The parentheses around `(1 + 5.0/100)` means that this sum\n",
    "is evaluated first (to obtain 1.05), and then raised to the power of 7.\n",
    "Forgetting the parenthesis and writing `1 + 5.0/100**7` will produce a very\n",
    "different result, just as in mathematics. Because the use of parentheses to\n",
    "group calculations works exactly as in mathematics, it is not very difficult\n",
    "to understand for people with a mathematical background. However, when\n",
    "programming more complicated formulas it is very easy to make mistakes such\n",
    "as forgetting or misplacing a closing parenthesis. This mistake is probably\n",
    "the most common source of error when programming mathematical formulas, and\n",
    "it is worth paying close attention to the order and number of parentheses in\n",
    "the expressions, even for experienced programmers. Getting this principle\n",
    "wrong will  lead to either an error message when the code is run or to a program\n",
    "that runs fine but produces unexpected results. The first type of error is\n",
    "usually quite easy to find and fix, but the latter can be much harder.\n",
    "\n",
    "Although Python is quite strict on spelling and grammar, in programming terms\n",
    "called the *syntax*, there is some flexibility. For instance,\n",
    "whitespace inside a formula does not matter at all. An expression\n",
    "like `5    *2` works just as well as `5*2`. Generally, whitespace\n",
    "in a Python program only matters if it is at the start of a line, which we\n",
    "will return to later. Otherwise, one should use whitespace\n",
    "in order to make the code as readable as possible to humans, since Python will\n",
    "ignore it anyway.\n",
    "\n",
    "\n",
    "# Variables and Variable Types\n",
    "We are used to variables in mathematics, such as $P$, $r$ and $n$ in the interest\n",
    "formula above. We can use variables in a\n",
    "program too, and this makes the program easier to read and understand:"
   ]
  },
  {
   "cell_type": "code",
   "execution_count": 2,
   "metadata": {},
   "outputs": [
    {
     "name": "stdout",
     "output_type": "stream",
     "text": [
      "140.71004226562505\n"
     ]
    }
   ],
   "source": [
    "primary = 100\n",
    "r = 5.0\n",
    "n = 7\n",
    "amount = primary * (1+r/100)**n\n",
    "print(amount)"
   ]
  },
  {
   "cell_type": "markdown",
   "metadata": {},
   "source": [
    "This program spans several lines of text and uses variables, but otherwise\n",
    "performs the same calculations and produces the exact same output as the one-line\n",
    "program above. Still, the use of variables has a few advantages, even in\n",
    "this very simple example. One is that the program becomes easier to read,\n",
    "since the meaning of the numbers becomes more intuitive and the formula\n",
    "is easier to recognize. Another advantage, which could be more important, is\n",
    "that it becomes easier to change the value of one of the variables. This advantage\n",
    "becomes even more obvious in more complex formulas where the same variable\n",
    "occurs multiple times. Having to change the code in multiple places each time\n",
    "a new value is needed is guaranteed to introduce errors. If the same number\n",
    "occurs more than once in a program, it should always be stored in a variable.\n",
    "\n",
    "The instructions in the program above are called *statements*, and are\n",
    "executed one by one when the program is run. It is common to have one\n",
    "statement per line, although it is possible to put multiple statements on\n",
    "one line, separated by semicolons, as in `primary = 100; r = 5.0; n=7`.\n",
    "For people new to programming, especially those\n",
    "used to reading mathematics, it is worth noting\n",
    "the strict sequence in which the lines are executed. In the mathematical\n",
    "equation above, we first introduced the formula itself, and then defined and\n",
    "explained the variables used in the formula ($P, r, n$, and $A$) on the next line.\n",
    "This approach is completely standard\n",
    "in mathematics, but it makes no sense in programming. Programs are\n",
    "executed line by line from the top, so so all the variables must be defined\n",
    "*above* the line where they are used.\n",
    "\n",
    "The choice of variable names is up to the programmer and, generally, there is\n",
    "great flexibility in choosing such names. In mathematics, it is common to use\n",
    "a single letter for a variable, but a variable in a Python program can be any\n",
    "word containing the letters a - z, A - Z, underscore `_` and the digits 0-9, but\n",
    "it cannot start with a digit. Variable names in Python are also case-sensitive,\n",
    "for instance, `a` is different from `A`. The following program is identical to the\n",
    "one above, but with different variable names:"
   ]
  },
  {
   "cell_type": "code",
   "execution_count": 3,
   "metadata": {},
   "outputs": [
    {
     "name": "stdout",
     "output_type": "stream",
     "text": [
      "140.71004226562505\n"
     ]
    }
   ],
   "source": [
    "initial_amount = 100\n",
    "interest_rate = 5.0\n",
    "number_of_years = 7\n",
    "final_amount = initial_amount*(1 + interest_rate/100)**number_of_years\n",
    "print(final_amount)"
   ]
  },
  {
   "cell_type": "markdown",
   "metadata": {},
   "source": [
    "These variable names are arguably\n",
    "more descriptive, but they also make the formula very long and cumbersome\n",
    "to read. Choosing good variable names is often a balance between being descriptive\n",
    "and conciseness, and the choice can be quite important for making a program easy to\n",
    "read and understand. Writing readable and understandable code is obviously important\n",
    "if you collaborate with others who have to understand your code, but it\n",
    "also makes it easier for you to find errors in the code or develop it further\n",
    "at a later stage. Choosing good variable names is therefore worthwhile,\n",
    "even if you are the only person who will ever read your code.\n",
    "\n",
    "The program above contains two different types of statements;\n",
    "first there are four *assignment statements*, which assign values to variables,\n",
    "and then a single *print statement* at the end. How these statements work\n",
    "might be quite intuitive, but the assignment statements\n",
    "are worth looking into in more detail. In these statements, the expression on\n",
    "the right-hand side of the equality sign is evaluated first, and then\n",
    "the result is assigned to the variable on the left. An effect of this\n",
    "execution order is that statements such as the following work just\n",
    "fine, and are common in programs:"
   ]
  },
  {
   "cell_type": "code",
   "execution_count": 4,
   "metadata": {},
   "outputs": [
    {
     "name": "stdout",
     "output_type": "stream",
     "text": [
      "0.7\n"
     ]
    }
   ],
   "source": [
    "t = 0.6\n",
    "t = t + 0.1\n",
    "print(t)"
   ]
  },
  {
   "cell_type": "markdown",
   "metadata": {},
   "source": [
    "The line `t = t + 0.1` would not make sense as a mathematical equation,\n",
    "but it is a perfectly valid assignment in a computer program. The right-hand side is\n",
    "evaluated first, using the value of `t` already defined, and then the `t` variable\n",
    "is updated to hold the result of the calculation. The equality sign in Python is\n",
    "called the *assignment operator*, and, although it works similarly to an equality\n",
    "sign in mathematics, it is not quite the same. If we want the more usual meaning\n",
    "of the equality sign, for instance, to determine if two numbers are equal,\n",
    "the operator to use in Python is `==`. A trivial comparison could look like"
   ]
  },
  {
   "cell_type": "code",
   "execution_count": 5,
   "metadata": {},
   "outputs": [
    {
     "name": "stdout",
     "output_type": "stream",
     "text": [
      "True\n"
     ]
    }
   ],
   "source": [
    "a = 5\n",
    "print(a == 5)"
   ]
  },
  {
   "cell_type": "markdown",
   "metadata": {},
   "source": [
    "We will see many more such examples later.\n",
    "\n",
    "### Comments are useful for explaining the thought process in programs.\n",
    "\n",
    "It is possible to combine the strengths of the two programs above and have\n",
    "both compact variable names and a more detailed description of what each\n",
    "variable means. This can be done using *comments*, as illustrated in the\n",
    "following example:"
   ]
  },
  {
   "cell_type": "code",
   "execution_count": 6,
   "metadata": {},
   "outputs": [
    {
     "name": "stdout",
     "output_type": "stream",
     "text": [
      "140.71004226562505\n"
     ]
    }
   ],
   "source": [
    "# program for computing the growth of\n",
    "# money deposited in a bank\n",
    "primary = 100    # initial amount\n",
    "r = 5.0          # interest rate in %\n",
    "n = 7            # the number of years\n",
    "amount = primary * (1+r/100)**n\n",
    "print(amount)"
   ]
  },
  {
   "cell_type": "markdown",
   "metadata": {},
   "source": [
    "In this code, all the text following the `#` symbol is treated as a comment\n",
    "and effectively ignored by Python. Comments are used to explain what the\n",
    "computer instructions mean, what the variables represent, and how the\n",
    "programmer reasoned when writing the program. They can be\n",
    "very useful for increasing readability, but they should not be over-used.\n",
    "Comments that say no more than the code, for instance, `a = 5  # set a to 5`,\n",
    "are not very useful.\n",
    "\n",
    "### All variables have types.\n",
    "\n",
    "So far all the variables we have used have been numbers, which is also how\n",
    "we are used to thinking of variables in mathematics. However, in\n",
    "a computer program we can have many different kinds of variables, not\n",
    "just numbers. More precisely, a variable is a name for a Python *object*,\n",
    "and all objects have a *type*. The type of a variable Python is\n",
    "usually decided automatically based on the value we assign to it.\n",
    "For instance, the statement `n = 7` will create\n",
    "a variable of the type *integer*, or `int`, whereas `r = 5.0`\n",
    "will create a variable with type `float`, representing\n",
    "a floating point number. We can also have text variables, called strings, which\n",
    "have type `str`. For instance, the Hello, World! example above could have been written as"
   ]
  },
  {
   "cell_type": "code",
   "execution_count": 7,
   "metadata": {},
   "outputs": [
    {
     "name": "stdout",
     "output_type": "stream",
     "text": [
      "Hello, World!\n"
     ]
    }
   ],
   "source": [
    "hello = \"Hello, World!\"\n",
    "print(hello)"
   ]
  },
  {
   "cell_type": "markdown",
   "metadata": {},
   "source": [
    "Here we create a variable `hello`, which automatically gets type `str`, and then\n",
    "print the contents of this variable to the screen. The output is exactly the\n",
    "same as for the first example of Chapter 1.\n",
    "\n",
    "We can check the type of a variable using the built-in function `type`:"
   ]
  },
  {
   "cell_type": "code",
   "execution_count": 8,
   "metadata": {},
   "outputs": [
    {
     "name": "stdout",
     "output_type": "stream",
     "text": [
      "<class 'str'>\n",
      "<class 'float'>\n",
      "<class 'int'>\n",
      "<class 'int'>\n"
     ]
    }
   ],
   "source": [
    "print(type(hello))\n",
    "print(type(r))\n",
    "print(type(primary))\n",
    "print(type(n))"
   ]
  },
  {
   "cell_type": "markdown",
   "metadata": {},
   "source": [
    "We see that the output is as expected from the definitions of these variables\n",
    "above. The word `class` preceding the types\n",
    "indicates that these types are defined as *classes* in Python, a concept\n",
    "we will return to later. It is usually not necessary to check the type of\n",
    "variables inside a Python program, but it could be very useful when learning\n",
    "new concepts or if your program produces errors or unexpected behavior.\n",
    "\n",
    "We will encounter many more variable types in subsequent chapters. The type\n",
    "of a variable decides how it can be used, and also determines the effects of\n",
    "various operations on that variable. The rules for these operations are usually\n",
    "quite intuitive. For instance, most mathematical operations only work with\n",
    "variable types that actually represent numbers, or they have a different effect\n",
    "on other variable types, when this is natural. For an idea of how this\n",
    "works in Python, think about some simple mathematical operations on text strings.\n",
    "Which of the following operations do you think are allowed, and what are the\n",
    "results: (i) adding two strings together, (ii) multiplying a string with an integer,\n",
    "(iii) multiplying two strings, and (iv) multiplying a string with a decimal\n",
    "number? After giving some thought to this question, check your answers by trying them in\n",
    "Python:"
   ]
  },
  {
   "cell_type": "code",
   "execution_count": 9,
   "metadata": {},
   "outputs": [
    {
     "name": "stdout",
     "output_type": "stream",
     "text": [
      "Hello, World!Hello, World!\n",
      "Hello, World!Hello, World!Hello, World!Hello, World!Hello, World!\n"
     ]
    }
   ],
   "source": [
    "hello = \"Hello, World!\"\n",
    "print(hello + hello)\n",
    "print(hello*5)"
   ]
  },
  {
   "cell_type": "markdown",
   "metadata": {},
   "source": [
    "Strings that contain numbers are a potential source of confusion. Consider for\n",
    "instance the code"
   ]
  },
  {
   "cell_type": "code",
   "execution_count": 10,
   "metadata": {},
   "outputs": [
    {
     "name": "stdout",
     "output_type": "stream",
     "text": [
      "4\n",
      "22\n"
     ]
    }
   ],
   "source": [
    "x1 = 2\n",
    "x2 = \"2\"\n",
    "print(x1+x1)\n",
    "print(x2+x2)"
   ]
  },
  {
   "cell_type": "markdown",
   "metadata": {},
   "source": [
    "We see that the variable `x2` is treated as a text string in Python,\n",
    "because it was defined using the quotation marks, even though it contains a\n",
    "single number. For the examples we have seen so far, it is easy to\n",
    "ensure that numbers are numbers, simply by not using quotation marks when they are\n",
    "defined. However, later in this book, we will write programs that read data from\n",
    "files or user input. Such data will usually be in the form of text, and any numbers\n",
    "will be text strings similar to the variable `x2` above. Before using the\n",
    "numbers in calculations, we therefore need to convert them to actual numbers, which\n",
    "can be done with the built-in function `float`:"
   ]
  },
  {
   "cell_type": "code",
   "execution_count": 11,
   "metadata": {},
   "outputs": [
    {
     "name": "stdout",
     "output_type": "stream",
     "text": [
      "<class 'float'>\n",
      "<class 'float'>\n",
      "4.0\n"
     ]
    }
   ],
   "source": [
    "x1 = float(x1)\n",
    "x2 = float(x2)\n",
    "print(type(x1))\n",
    "print(type(x2))\n",
    "print(x2+x2)"
   ]
  },
  {
   "cell_type": "markdown",
   "metadata": {},
   "source": [
    "Of course, using `float` to convert a string to a number requires that the\n",
    "string actually be a number. Trying to convert\n",
    "a regular word, as in `float(hello)` will make the program stop with an\n",
    "error message. There are numerous other built-in functions for converting between\n",
    "types, such as `int` for conversion to an integer and `str` for conversion to a\n",
    "string. Throughout this book we will mostly use the `float` conversion.\n",
    "\n",
    "# Formatting Text Output\n",
    "The calculations in the programs above would output a single number, and\n",
    "simply print this number to the screen.\n",
    "In many cases this solution is fine, but sometimes we want\n",
    "several numbers or other types of output from a program. This is easy to do\n",
    "with the `print` function, by simply putting several variables inside the\n",
    "parentheses, separated by comma. For instance, if we want to output both\n",
    "`primary` and `final_amount` from the calculation above, the following line would work:"
   ]
  },
  {
   "cell_type": "code",
   "execution_count": 12,
   "metadata": {},
   "outputs": [
    {
     "name": "stdout",
     "output_type": "stream",
     "text": [
      "100 140.71004226562505\n"
     ]
    }
   ],
   "source": [
    "print(primary,final_amount)"
   ]
  },
  {
   "cell_type": "markdown",
   "metadata": {},
   "source": [
    "However, although this line works, the output is not very\n",
    "readable or useful. Sometimes a better output format or a combination of text\n",
    "and numbers is more useful, for instance,"
   ]
  },
  {
   "cell_type": "markdown",
   "metadata": {},
   "source": [
    "        After 7 years, 100 EUR has grown to xxx EUR.\n"
   ]
  },
  {
   "cell_type": "markdown",
   "metadata": {},
   "source": [
    "There are multiple ways to obtain this result in Python, but the most\n",
    "recent and arguably most convenient is to use so\n",
    "called *f-strings*, which were introduced in Python 3.6. If you are using an\n",
    "earlier version of Python, the following examples\n",
    "will not work, but there are alternative and fairly similar\n",
    "ways of formatting the text output.\n",
    "\n",
    "To achieve the output string above, using the *f-string* formatting, we\n",
    "would replace the final line of our  program by with"
   ]
  },
  {
   "cell_type": "code",
   "execution_count": 13,
   "metadata": {},
   "outputs": [
    {
     "name": "stdout",
     "output_type": "stream",
     "text": [
      "After 7 years, 100 EUR has grown to 140.71004226562505 EUR.\n"
     ]
    }
   ],
   "source": [
    "print(f\"After {n} years, 100 EUR has grown to {amount} EUR.\")"
   ]
  },
  {
   "cell_type": "markdown",
   "metadata": {},
   "source": [
    "There are a couple of things worth noticing here. First, we enclose the\n",
    "output in quotation marks, just as in the Hello, World! example above, which\n",
    "tells Python that this is a string. Second, the string is prefixed with the\n",
    "letter `f`, which indicates that the string is an f-string that\n",
    "could contain something extra.\n",
    "More specifically, the string could contain expressions or variables enclosed\n",
    "in curly brackets, and we have included two such variables, `n` and\n",
    "`amount`. When Python encounters the curly brackets inside\n",
    "an f-string, it will evaluate the contents of the curly brackets, which can be an\n",
    "expression or a variable, and insert the resulting value into the string. The process\n",
    "is often referred to as *string interpolation* or *variable interpolation*, and it\n",
    "exists in various forms in many programming languages.\n",
    "In our case, Python will simply insert the current values of the variables `n` and\n",
    "`amount` into the string, but, if desired, we can also include a\n",
    "mathematical expression inside the brackets, such as"
   ]
  },
  {
   "cell_type": "code",
   "execution_count": 14,
   "metadata": {},
   "outputs": [
    {
     "name": "stdout",
     "output_type": "stream",
     "text": [
      "2+2 = 4\n"
     ]
    }
   ],
   "source": [
    "print(f\"2+2 = {2+2}\")"
   ]
  },
  {
   "cell_type": "markdown",
   "metadata": {},
   "source": [
    "The only requirement for the contents inside the curly brackets is that it be a\n",
    "valid Python expression that can be evaluated to yield some kind of value.\n",
    "Throughout this book we will typically use f-string formatting to insert\n",
    "combining text and numbers, but it may also be used for expressions\n",
    "with other types of output.\n",
    "\n",
    "The f-string formatting will often produce nicely formatted output by default,\n",
    "but sometimes more detailed control of the formatting is desired. For instance,\n",
    "we might want to control the number of decimal places when outputting numbers.\n",
    "This is conveniently achieved  by including a *format specifier* inside the curly\n",
    "brackets. Consider, for instance, the following code:"
   ]
  },
  {
   "cell_type": "code",
   "execution_count": 15,
   "metadata": {},
   "outputs": [
    {
     "name": "stdout",
     "output_type": "stream",
     "text": [
      "Default output gives t = 1.234567.\n",
      "We can set the precision: t = 1.2.\n",
      "Or control the number of decimals: t = 1.23.\n"
     ]
    }
   ],
   "source": [
    "t = 1.234567\n",
    "print(f\"Default output gives t = {t}.\")\n",
    "print(f\"We can set the precision: t = {t:.2}.\")\n",
    "print(f\"Or control the number of decimals: t = {t:.2f}.\")"
   ]
  },
  {
   "cell_type": "markdown",
   "metadata": {},
   "source": [
    "There are many different format specifiers, for controlling the output format\n",
    "of both numbers and other types of variables. We will\n",
    "use only a small subset in this book, and primarily to control the formatting\n",
    "of numbers. In addition to those shown above, the following\n",
    "format specifiers can be useful;"
   ]
  },
  {
   "cell_type": "code",
   "execution_count": 16,
   "metadata": {},
   "outputs": [
    {
     "name": "stdout",
     "output_type": "stream",
     "text": [
      "We may set the space used for the output: t =     1.23.\n"
     ]
    }
   ],
   "source": [
    "print(f\"We may set the space used for the output: t = {t:8.2f}.\")"
   ]
  },
  {
   "cell_type": "markdown",
   "metadata": {},
   "source": [
    "This specifier is used to control the number of decimals, as well as how much\n",
    "space (the number of characters) used to output the number\n",
    "on the screen. Here we have specified the number to be output with two decimal\n",
    "places and a length of eight, including the decimal places.\n",
    "This form of control is very useful for outputting multiple lines in\n",
    "tabular format, to ensure that the columns in the table are\n",
    "properly aligned. A similar feature can be used for integers:"
   ]
  },
  {
   "cell_type": "code",
   "execution_count": 17,
   "metadata": {},
   "outputs": [
    {
     "name": "stdout",
     "output_type": "stream",
     "text": [
      "Integer set to occupy exactly 8 chars of space: r =       87\n"
     ]
    }
   ],
   "source": [
    "r = 87\n",
    "print(f\"Integer set to occupy exactly 8 chars of space: r = {r:8d}\")"
   ]
  },
  {
   "cell_type": "markdown",
   "metadata": {},
   "source": [
    "Finally, the generic format specifier `g` outputs a floating point number\n",
    "in the most compact form:"
   ]
  },
  {
   "cell_type": "code",
   "execution_count": 18,
   "metadata": {},
   "outputs": [
    {
     "name": "stdout",
     "output_type": "stream",
     "text": [
      "Without the format specifier: a = 786345687.12, b = 1.2345.\n",
      "With the format specifier: a = 7.86346e+08, b = 1.2345.\n"
     ]
    }
   ],
   "source": [
    "a = 786345687.12\n",
    "b = 1.2345\n",
    "print(f\"Without the format specifier: a = {a}, b = {b}.\")\n",
    "print(f\"With the format specifier: a = {a:g}, b = {b:g}.\")"
   ]
  },
  {
   "cell_type": "markdown",
   "metadata": {},
   "source": [
    "# Importing Modules\n",
    "We have seen that standard arithmetic operations are directly available\n",
    "in Python, with no extra effort. However, what if more advanced mathematical\n",
    "operations, such as $\\sin x$, $\\cos x$, $\\ln x$, are required?\n",
    "These functions are not available directly, but can be found in a so-called *module*,\n",
    "which must be imported before they can be used in our program. Generally, a\n",
    "great deal of functionality in Python is found in such modules, and we will\n",
    "import one or more modules in nearly all the programs we write. Standard\n",
    "mathematical functions are found in a module named `math`, and the\n",
    "following code computes the square root of a number using the `sqrt` function\n",
    "in the `math` module:"
   ]
  },
  {
   "cell_type": "code",
   "execution_count": 19,
   "metadata": {},
   "outputs": [],
   "source": [
    "import math\n",
    "r = math.sqrt(2)\n",
    "# or\n",
    "from math import sqrt\n",
    "r = sqrt(2)\n",
    "# or\n",
    "from math import *   # import everything in math\n",
    "r = sqrt(2)"
   ]
  },
  {
   "cell_type": "markdown",
   "metadata": {},
   "source": [
    "This example illustrate three different ways of importing modules. In the first\n",
    "one, we import everything from the `math` module, but everything we want\n",
    "to use must be prefixed with `math`. The\n",
    "second option imports only the `sqrt` function, and this function is\n",
    "imported into the main *namespace* of the\n",
    "program, which means it can be used without a prefix. Finally, the third option imports everything\n",
    "from `math` into the main namespace, so that all the functions from the\n",
    "module are available in our program\n",
    "without a prefix.\n",
    "\n",
    "A natural question to ask is why we need three different ways to import a module.\n",
    "Why not use the simple `from math import *` and gain access to all the\n",
    "mathematics functions we need? The reason is\n",
    "that we will often import from several modules in the same program,\n",
    "and some of these modules can contain functions with\n",
    "identical names. In these cases it is useful to have some control over\n",
    "which functions are actually used, either by selecting only what we need\n",
    "from each module, as in `from math import sqrt`, or\n",
    "by importing with `import math` so that all the functions must be prefixed\n",
    "with the module name. To avoid confusion later, it might be good to get into\n",
    "the habit of importing modules in this manner right away, although, in small\n",
    "programs where we import only a single module, there is nothing wrong\n",
    "with `from math import *`.\n",
    "\n",
    "As another example of computing with functions from `math`, consider evaluating\n",
    "the bell-shaped Gaussian function"
   ]
  },
  {
   "cell_type": "markdown",
   "metadata": {},
   "source": [
    "$$\n",
    "f(x) = \\frac{1}{\\sqrt{2\\pi}s} \\exp\\left[\n",
    "-\\frac{1}{2}\\left(\\frac{x-m}{s}\\right)^2\\right]\n",
    "$$"
   ]
  },
  {
   "cell_type": "markdown",
   "metadata": {},
   "source": [
    "for $m = 0, s = 2$, and $x=1$. For this calculation, we need to import the\n",
    "square root, the  exponential function, and $\\pi$ from the math module, and\n",
    "the Python code may look as follows:"
   ]
  },
  {
   "cell_type": "code",
   "execution_count": 20,
   "metadata": {},
   "outputs": [
    {
     "name": "stdout",
     "output_type": "stream",
     "text": [
      "0.17603266338214976\n"
     ]
    }
   ],
   "source": [
    "from math import sqrt, pi, exp\n",
    "m = 0\n",
    "s = 2\n",
    "x = 1.0\n",
    "f = 1/(sqrt(2*pi)*s) * exp(-0.5*((x-m)/s)**2)\n",
    "print(f)"
   ]
  },
  {
   "cell_type": "markdown",
   "metadata": {},
   "source": [
    "Notice that for this more complex formula it is very easy to make mistakes\n",
    "with the parentheses. Such errors will often lead to an error message that\n",
    "points to a syntax error on the *next* line of your program.\n",
    "This can be confusing at first, so it is useful to be aware of. If you obtain\n",
    "an error message pointing to a line directly below a complex mathematical\n",
    "formula, the source is usually a missing closing parenthesis in the formula itself.\n",
    "\n",
    "### Finding information about Python modules.\n",
    "\n",
    "At this point, it is\n",
    "natural to ask how we know where to find the functions we want.\n",
    "Say we need to compute with complex numbers. How can we know if there is a\n",
    "module in Python for this? And, if so, what is it called?\n",
    "Generally, learning about the useful modules and what they contain are part\n",
    "of learning Python programming, but knowing where to find such information\n",
    "could be even more important. An excellent source is the Python\n",
    "Library Reference (https://docs.python.org/3/library/), which\n",
    "contains information about all the standard modules that are distributed\n",
    "with Python. More generally, a Google search for `complex numbers python` quickly\n",
    "leads us to the `cmath` module, which contains mostly the same functions\n",
    "as `math`, but with support for complex numbers. If we know the name of a module\n",
    "and want to check its contents, we can go to straight to the Python Library\n",
    "Reference, but there are also other options. The\n",
    "command `pydoc` in the terminal window can be used to list information about a\n",
    "module (try, e.g., `pydoc math`), or we can import the module in a Python\n",
    "program and list its contents with the built-in function `dir`."
   ]
  },
  {
   "cell_type": "code",
   "execution_count": 21,
   "metadata": {},
   "outputs": [
    {
     "name": "stdout",
     "output_type": "stream",
     "text": [
      "['__doc__', '__file__', '__loader__', '__name__', '__package__', '__spec__', 'acos', 'acosh', 'asin', 'asinh', 'atan', 'atan2', 'atanh', 'ceil', 'copysign', 'cos', 'cosh', 'degrees', 'e', 'erf', 'erfc', 'exp', 'expm1', 'fabs', 'factorial', 'floor', 'fmod', 'frexp', 'fsum', 'gamma', 'gcd', 'hypot', 'inf', 'isclose', 'isfinite', 'isinf', 'isnan', 'ldexp', 'lgamma', 'log', 'log10', 'log1p', 'log2', 'modf', 'nan', 'pi', 'pow', 'radians', 'remainder', 'sin', 'sinh', 'sqrt', 'tan', 'tanh', 'tau', 'trunc']\n"
     ]
    }
   ],
   "source": [
    "import math\n",
    "print(dir(math))"
   ]
  },
  {
   "cell_type": "markdown",
   "metadata": {},
   "source": [
    "# Pitfalls When Programming Mathematics\n",
    "\n",
    "Usually, the mathematical operations described above work as expected.\n",
    "When the results are not as expected, the cause is usually a trivial\n",
    "error introduced during typing, typically assigning the wrong value\n",
    "to a variable or mismatching the number of parentheses. However,\n",
    "some potential error sources are less obvious and are worth knowing\n",
    "about, even if they are relatively rare.\n",
    "\n",
    "### Round-off errors give inexact results.\n",
    "\n",
    "Computers have inexact arithmetic because of rounding errors. This is\n",
    "usually not a problem in computations, but in some cases it can cause\n",
    "unexpected results. Let us, for instance, compute $1/49\\cdot 49$ and $1/51\\cdot 51$:"
   ]
  },
  {
   "cell_type": "code",
   "execution_count": 22,
   "metadata": {},
   "outputs": [
    {
     "name": "stdout",
     "output_type": "stream",
     "text": [
      "0.9999999999999999 1.0000000000000000\n"
     ]
    }
   ],
   "source": [
    "v1 = 1/49.0*49\n",
    "v2 = 1/51.0*51\n",
    "print(f\"{v1:.16f} {v2:.16f}\")"
   ]
  },
  {
   "cell_type": "markdown",
   "metadata": {},
   "source": [
    "Most real numbers are represented inexactly on a computer,\n",
    "typically with an accuracy of 17 digits. Neither 1/49 nor 1/51 are\n",
    "represented exactly, and the error is approximately $10^{-16}$.\n",
    "Errors of this order usually do not matter, but there are two particular\n",
    "cases in which they can be significant. In one case, errors can accumulate\n",
    "through numerous computations, ending up as a significant error in the\n",
    "final result. In the other case, which is more likely to be encountered\n",
    "in the examples of this book, the comparison of two decimal numbers can be\n",
    "unpredictable.  The two numbers `v1` and `v2` above are both supposed to be\n",
    "equal to one, but look at the\n",
    "result of this code:"
   ]
  },
  {
   "cell_type": "code",
   "execution_count": 23,
   "metadata": {},
   "outputs": [
    {
     "name": "stdout",
     "output_type": "stream",
     "text": [
      "False\n",
      "True\n"
     ]
    }
   ],
   "source": [
    "print(v1 == 1)\n",
    "print(v2 == 1)"
   ]
  },
  {
   "cell_type": "markdown",
   "metadata": {},
   "source": [
    "We see that the evaluation works as expected in one case, but not the other,\n",
    "and this is a general problem when comparing floating point numbers. In\n",
    "most cases the evaluation works, but in some cases it does not. It is\n",
    "difficult or impossible to predict when it will not work, and the behavior\n",
    "of the program thus becomes unpredictable. The solution is to always compare\n",
    "floats by using a tolerance value, as in"
   ]
  },
  {
   "cell_type": "code",
   "execution_count": 24,
   "metadata": {},
   "outputs": [
    {
     "name": "stdout",
     "output_type": "stream",
     "text": [
      "True\n",
      "True\n"
     ]
    }
   ],
   "source": [
    "tol = 1e-14\n",
    "print(abs(v1-1) < tol)\n",
    "print(abs(v2-1) < tol)"
   ]
  },
  {
   "cell_type": "markdown",
   "metadata": {},
   "source": [
    "There is no strict rule for setting the value of the tolerance `tol`; however,\n",
    "it should\n",
    "be small enough to be considered insignificant for the application at hand,\n",
    "but larger than the typical machine precision $10^{-16}$.\n",
    "\n",
    "### Some words are reserved and cannot be used as variables.\n",
    "\n",
    "Although the\n",
    "choice of variable names is up to the programmer, some names are reserved in\n",
    "Python and are not allowed to be used. These names are `and`,\n",
    "`as`,\n",
    "`assert`,\n",
    "`break`,\n",
    "`class`,\n",
    "`continue`,\n",
    "`def`,\n",
    "`del`,\n",
    "`elif`,\n",
    "`else`,\n",
    "`except`,\n",
    "`exec`,\n",
    "`finally`,\n",
    "`for`,\n",
    "`from`,\n",
    "`global`,\n",
    "`if`,\n",
    "`import`,\n",
    "`in`,\n",
    "`is`,\n",
    "`lambda`,\n",
    "`not`,\n",
    "`or`,\n",
    "`pass`,\n",
    "`print`,\n",
    "`raise`,\n",
    "`return`,\n",
    "`try`,\n",
    "`with`,\n",
    "`while`, and\n",
    "`yield`.\n",
    "Memorizing this list is by no means necessary at this point, and we will use\n",
    "many of these reserved words in our programs later, so it will become quite\n",
    "natural to not use them as variable names. However, for programming\n",
    "physics and mathematics, it could be worth noting  `lambda`, since the Greek\n",
    "letter $\\lambda$ is common in physics and mathematics formulas. Since\n",
    "Python does not understand Greek letters,  it is common to just spell\n",
    "them out when programming a formula, that is, $\\alpha$ becomes `alpha`, and so on.\n",
    "However, using this approach for $\\lambda$ will lead to an error, and the error\n",
    "message might not be very easy to understand. The problem is easily solved by\n",
    "introducing a small intentional typo and writing `lmbda` or similar.\n",
    "\n",
    "### Integer division can cause surprising errors.\n",
    "\n",
    "In Python 2, and many other programming languages, unintended *integer division*\n",
    "can sometimes cause surprising\n",
    "results. In Python 3 this is no longer a problem, so you are not likely to run into it during this course, but\n",
    "it is worth being aware of, since many other programming languages behave\n",
    "in this way. Recall from above that\n",
    "various operations behave differently, depending on the type of the\n",
    "variable they work on, such as in  adding two strings\n",
    "versus adding numbers. In Python 2, the division operator, `/`, behaves as in\n",
    "normal division if one of the two arguments\n",
    "is a float, but, if both are integers then it will perform integer\n",
    "division and discard the decimal portion of the result.\n",
    "Consider the following interactive session, which runs Python 2.7:"
   ]
  },
  {
   "cell_type": "markdown",
   "metadata": {},
   "source": [
    "        Terminal> python2.7\n",
    "        Python 2.7.14 (default, Sep 22 2017, 00:06:07)\n",
    "        (...)\n",
    "        >>> print(5.0/100)   #the parentheses are optional in Python 2.7\n",
    "        0.05\n",
    "        >>> print(5/100)\n",
    "        0\n"
   ]
  },
  {
   "cell_type": "markdown",
   "metadata": {},
   "source": [
    "Integer division is useful for many tasks in computer science, and is\n",
    "therefore the default behavior of many programming languages, but it is\n",
    "usually not what we want when programming mathematical formulas. Therefore,\n",
    "it could be\n",
    "a good habit to ensure that variables used in calculations are actually floats, by simply defining them as `r = 5.0` rather\n",
    "than `r = 5`. Although it does not really make a difference in Python 3, it is good to get into this habit simply to avoid\n",
    "problems when programming in other languages later."
   ]
  }
 ],
 "metadata": {
  "kernelspec": {
   "display_name": "Python 3",
   "language": "python",
   "name": "python3"
  },
  "language_info": {
   "codemirror_mode": {
    "name": "ipython",
    "version": 3
   },
   "file_extension": ".py",
   "mimetype": "text/x-python",
   "name": "python",
   "nbconvert_exporter": "python",
   "pygments_lexer": "ipython3",
   "version": "3.7.3"
  }
 },
 "nbformat": 4,
 "nbformat_minor": 2
}
