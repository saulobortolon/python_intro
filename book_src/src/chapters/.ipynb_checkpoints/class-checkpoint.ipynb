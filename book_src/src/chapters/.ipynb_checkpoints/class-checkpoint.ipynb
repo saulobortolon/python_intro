{
 "cells": [
  {
   "cell_type": "markdown",
   "metadata": {},
   "source": [
    "In this chapter we will introduce classes, which is a fundamental concept in\n",
    "programming. Most modern programming languages support classes or similar concepts,\n",
    "and we have already used classes extensively throughout this book. Recall\n",
    "for instance how we could check the type of a variable with the `type` function,\n",
    "and the output would be on the form `<class 'int'>`,  `<class 'float'>`, etc.\n",
    "This simply states that the type of an object is defined in the form of a class.\n",
    "Every time we create for instance an integer variable in our program, we create\n",
    "an object or *instance* of the `int` class. The class defines how the objects\n",
    "behave and what methods they contain. We have used a number of different methods bound\n",
    "to objects, such as the `append` method for list objects, `split` for strings,\n",
    "and many more. All such methods are part of the definition of the class that the\n",
    "object belongs to. So far we have only used Python's builtin classes to create\n",
    "objects, but in this chapter we will write our own classes and use them to create\n",
    "objects tailored to our particular needs.\n",
    "\n",
    "# Basics of classes\n",
    "A class packs together data and functions, or methods, in a single unit. As we\n",
    "have seen in previous chapters, functions that are bound to a class or an object\n",
    "are usually called methods, and we will stick to this notation in the present chapter.\n",
    "Classes have some similarity with modules, which are also collections of variables and functions that naturally\n",
    "belong together. However, while there is only a single instance of a module, we can create multiple instances of a\n",
    "class. Different instances of the same class may contain different data, but\n",
    "they all behave in the same way and have the\n",
    "same methods. Think of a basic Python class like `int`; we can create many integer variables in a program, and they\n",
    "obviously have different values (data), but we know that they all have the same general behavior and the same\n",
    "set of operations defined for them. The same goes for more complex Python classes like lists and strings; different\n",
    "objects contain different data but they all have the same methods. The classes\n",
    "we create in this chapter will behave in exactly the same way.\n",
    "\n",
    "### First example; a class representing a function.\n",
    "\n",
    "To start with a familiar example, we return to the formula calculating\n",
    "atmospheric pressure $p$ as a function of altitude $h$. The formula we used is  a\n",
    "simplification of a more general *barometric formula*, given by:"
   ]
  },
  {
   "cell_type": "markdown",
   "metadata": {},
   "source": [
    "<!-- Equation labels as ordinary links -->\n",
    "<div id=\"barometric1\"></div>\n",
    "\n",
    "$$\n",
    "\\begin{equation}\n",
    "p = p_0 e^{-Mgh/RT} .\n",
    "\\label{barometric1} \\tag{1}\n",
    "\\end{equation}\n",
    "$$"
   ]
  },
  {
   "cell_type": "markdown",
   "metadata": {},
   "source": [
    "Here $M$ is the molar mass of air, $g$ is the gravitational constant, $R$ is\n",
    "the gas constant, $T$ is temperature, and $p_0$ is the pressure at sea level. .\n",
    "We obtain the simpler formula used earlier by defining the scale height as\n",
    "$h_0 =  RT/Mg$. It may be interesting to evaluate ([1](#barometric1)) for different\n",
    "temperatures, and for each value of $T$ create a table or plot of how\n",
    "the pressure varies with altitude. For each value of $T$ we need to call the\n",
    "function many times, with different values of $h$. How should we implement\n",
    "this in a convenient way? One possible solution would be\n",
    "to have both $h$ and $T$ as arguments, possibly with a default value for $T$:"
   ]
  },
  {
   "cell_type": "code",
   "execution_count": 22,
   "metadata": {},
   "outputs": [],
   "source": [
    "def barometric(h, T = 245.0):\n",
    "    g = 9.81         #m/(s*s)\n",
    "    R = 8.314        #J/(K*mol)\n",
    "    M = 0.02896      #kg/mol\n",
    "    p0 = 100.0       #kPa\n",
    "\n",
    "    return p0 * exp(-M*g*h/(R*T))"
   ]
  },
  {
   "cell_type": "markdown",
   "metadata": {},
   "source": [
    "This solution obviously works, but if we want a different value of $T$ we\n",
    "need to pass the value to the function every time it is called. And what\n",
    "if the function is to be passed as an argument to another function, which expects it to take a\n",
    "single argument only? [^func_arg] In this case we would only be able to use the\n",
    "function for the default value `T=245.0`\n",
    "\n",
    "Another solution would to have $h$ as argument and $T$ as global variable:"
   ]
  },
  {
   "cell_type": "code",
   "execution_count": 23,
   "metadata": {},
   "outputs": [],
   "source": [
    "T = 245.0\n",
    "\n",
    "def barometric(h):\n",
    "    g = 9.81         #m/(s*s)\n",
    "    R = 8.314        #J/(K*mol)\n",
    "    M = 0.02896      #kg/mol\n",
    "    p0 = 100.0       #kPa\n",
    "\n",
    "    return p0 * exp(-M*g*h/(R*T))"
   ]
  },
  {
   "cell_type": "markdown",
   "metadata": {},
   "source": [
    "We now have a function which only takes a single argument, but defining `T` as\n",
    "a global variable is not very convenient if we want to evaluate `y(t)` for\n",
    "different values of `T`. Another possible solution would be to set\n",
    "`T` as a local variable inside the function, and define different\n",
    "functions `barometric1(h), barometric2(h)`, etc. for different values\n",
    "of `T`. This solution is obviously not very convenient if we\n",
    "want many values of `T`. However, we shall see that programming\n",
    "with classes and objects offers exactly what we need; a convenient solution\n",
    "to create a family of similar functions.\n",
    "\n",
    "[^func_arg]: This situation is very common in Python programs. Consider for\n",
    "instance the implementation of Newton's method in the chapter [ch:funcif](#ch:funcif), in\n",
    "the functions `newton` and `newton2`. These functions both expect two\n",
    "functions as arguments, and both are called inside the functions using a\n",
    "single argument (`x`). Passing in a function that takes two or more arguments\n",
    "will lead to an error.\n",
    "\n",
    "### Representing a function by a class.\n",
    "\n",
    "With a class, `pressure(h)` can be a function of `h` only, but still have `T`\n",
    "and the various constants as parameters with given values.\n",
    "The class packs together a function (or method) `pressure(t)` and\n",
    "data that naturally belongs to the function.\n",
    "We can make a class `Barometric` for the formula at hand,\n",
    "with variables `R`, `T`,`M`, `g`, and `p0`, and a method `value(t)` for\n",
    "evaluating the formula. All classes should also have a function\n",
    "named `__init__` for initializing the variables. The following code defines our function class"
   ]
  },
  {
   "cell_type": "code",
   "execution_count": 24,
   "metadata": {},
   "outputs": [],
   "source": [
    "class Barometric:\n",
    "    def __init__(self, T):\n",
    "        self.T = T            #K\n",
    "        self.g = 9.81         #m/(s*s)\n",
    "        self.R = 8.314        #J/(K*mol)\n",
    "        self.M = 0.02896      #kg/mol\n",
    "        self.p0 = 100.0       #kPa\n",
    "\n",
    "\n",
    "    def value(self, h):\n",
    "        return self.p0 * exp(-self.M*self.g*h/(self.R*self.T))"
   ]
  },
  {
   "cell_type": "markdown",
   "metadata": {},
   "source": [
    "Having defined this class, we can create *instances* of the class with\n",
    "specific values of the parameter `T`, and then\n",
    "we can call the method `value` with `h` as the only argument:"
   ]
  },
  {
   "cell_type": "code",
   "execution_count": 25,
   "metadata": {},
   "outputs": [],
   "source": [
    "b1 = Barometric(T=245)        # create instance (object)\n",
    "p1 = b1.value(2469)           # compute function value\n",
    "b2 = Barometric(T=273)\n",
    "p2 = b2.value(2469)"
   ]
  },
  {
   "cell_type": "markdown",
   "metadata": {},
   "source": [
    "This code introduces a number of new concepts worth dissecting. First, a class definition\n",
    "which in Python always starts with the word `class`, followed by the name of the\n",
    "class and a colon. The following indented\n",
    "block of code defines the contents of the class. Just as we are used to when\n",
    "implementing functions, the indentation defines\n",
    "what belongs inside the class definition. The first contents of our class,\n",
    "and of most classes, is a method with the special name `__init__`,\n",
    "which is the *constructor* of the class. This method is automatically called\n",
    "every time we create an instance in the class,\n",
    "as in the line `b1 = Barometric(T=245)` above. Inside the method, we define\n",
    "all the constants used in the formula; `self.T`, `self.g`, etc., where the prefix\n",
    "`self` means that these variables become bound to the object created. Such bound\n",
    "variables are called *attributes*.\n",
    "Finally we define the method `value`, which evaluates the formula using the\n",
    "pre-defined and object-bound parameters `self.T, self.g, self.R, self.M`,\n",
    "and `self.p0`. After we have defined the class, every time we write a line like"
   ]
  },
  {
   "cell_type": "code",
   "execution_count": 26,
   "metadata": {},
   "outputs": [],
   "source": [
    "b1 = Barometric(T=245)"
   ]
  },
  {
   "cell_type": "markdown",
   "metadata": {},
   "source": [
    "we create a new variable (instance) `b1` of type `Barometric`. The line looks\n",
    "like a regular function call, but since `Y` is the definition of a class\n",
    "and not a function, `Barometric(T=245)` is instead a call to the class' *constructor*.\n",
    "The constructor will create and return an instance of the class with the specified\n",
    "values of the parameters, and we assign this instance to the variable `b`.\n",
    "Recall that the main motivation for our function class was to create\n",
    "different functions for different values of `T`. Since the other parameters of\n",
    "the formula will not change, these could have been removed from the constructor\n",
    "and instead kept as local variables in the `value` method, just as with the\n",
    "simple function implementation above. However, while this solution would work\n",
    "fine for the current example, it is a good habit to define all data used by a\n",
    "class in the constructor. All the `__init__` functions we encounter in\n",
    "this book will follow exactly the same recipe. Their purpose is to define a\n",
    "number of attributes for the class, and they will typically\n",
    "contain one or more lines on the form\n",
    "`self.A = A`, where A is either an argument passed to the function or a\n",
    "value defined inside it.\n",
    "\n",
    "As always in programming there are different ways to achieve the same thing,\n",
    "and we could have chosen a different implementation of the class above. Since\n",
    "the only argument to the constructor is `T`, the other attributes never change\n",
    "and they could have been local variables inside the `value` method:"
   ]
  },
  {
   "cell_type": "code",
   "execution_count": 27,
   "metadata": {},
   "outputs": [],
   "source": [
    "class Barometric1:\n",
    "    def __init__(self, T):\n",
    "        self.T = T            #K\n",
    "\n",
    "    def value(self, h):\n",
    "        g = 9.81; R = 9.314\n",
    "        M = 0.02896; p0 = 100.0\n",
    "        return p0 * exp(-M*g*h/(R*self.T))"
   ]
  },
  {
   "cell_type": "markdown",
   "metadata": {},
   "source": [
    "Notice that inside the `value` method we only use the `self` prefix for `T`,\n",
    "since this is the only variable that is a class attribute. The others\n",
    "are in this version regular local variables defined inside the method.\n",
    "This class does exactly the same as the one defined above, and it may be argued\n",
    "that the implementation is better since it is shorter and simpler than the one\n",
    "above. However, defining all the physical constants in one place (in the constructor)\n",
    "can make the code easier to read, and can also make it easier to extend the\n",
    "class with more methods. As a third possible implementation we could move some\n",
    "of the calculations from the `value` method to the constructor:"
   ]
  },
  {
   "cell_type": "code",
   "execution_count": 28,
   "metadata": {},
   "outputs": [],
   "source": [
    "class Barometric2:\n",
    "    def __init__(self, T):\n",
    "        g = 9.81         #m/(s*s)\n",
    "        R = 8.314        #J/(K*mol)\n",
    "        M = 0.02896      #kg/mol\n",
    "        self.h0 = R*T/(M*g)\n",
    "        self.p0 = 100.0       #kPa\n",
    "\n",
    "\n",
    "    def value(self, h):\n",
    "        return self.p0 * exp(-h/self.h0)"
   ]
  },
  {
   "cell_type": "markdown",
   "metadata": {},
   "source": [
    "In this class we use the definition of the *scale height* from above, and\n",
    "compute and store this value as an attribute inside the constructor. The\n",
    "attribute `self.h0` is then used inside the value method. Notice that the\n",
    "constants `g, R`, and `M` are in this case local variables in the constructor,\n",
    "and neither these nor `T` are stored as attributes. They are only accessible\n",
    "inside the constructor, while `self.p0` and `self.h0` are stored and\n",
    "may be accessed later from inside other methods.\n",
    "\n",
    "At this point many will be confused by the `self` variable, and the fact that\n",
    "when we defined the methods `__init__` and `value` they took two arguments, but\n",
    "when calling them we only used one. The explanation for this behavior is\n",
    "that `self` represents the object itself, and this is automatically passed as\n",
    "the first argument when we call a method bound to the object. When we write"
   ]
  },
  {
   "cell_type": "code",
   "execution_count": 29,
   "metadata": {},
   "outputs": [],
   "source": [
    "p1 = b1.value(2469)"
   ]
  },
  {
   "cell_type": "markdown",
   "metadata": {},
   "source": [
    "it is equivalent to the call"
   ]
  },
  {
   "cell_type": "code",
   "execution_count": 30,
   "metadata": {},
   "outputs": [],
   "source": [
    "p1 = Barometric.value(b1,2469)"
   ]
  },
  {
   "cell_type": "markdown",
   "metadata": {},
   "source": [
    "Here we explicitly call the `value` method that belongs to the class, and\n",
    "pass the instance `b1` as the first argument.\n",
    "Inside the method `b1` then becomes the local variable `self`, as usual when\n",
    "passing arguments to a function,\n",
    "and we can access its attributes `T, g`, etc. Exactly the same thing happens\n",
    "when we call `b1.value(2469)`, but\n",
    "now the object `b1` is automatically passed as the first argument to the method.\n",
    "It looks like we are calling the method with a single argument, but in reality it gets two.\n",
    "\n",
    "The use of the `self` variable in Python classes has been the subject of many\n",
    "discussions. Even experienced programmers find it confusing, and many people\n",
    "question why the language was designed in this way. There are some obvious\n",
    "advantages to the approach, for instance that it gives a very clear distinction\n",
    "between instance attributes (prefixed with `self`) and local variables defined\n",
    "inside a method. However, if one struggles to see the reasoning behind\n",
    "the `self` variable it is sufficient to remember the two rules; (i) `self` is\n",
    "always the first argument in a method definition, but never inserted when the\n",
    "method is called, and (ii) to access an attribute inside a method it needs to be\n",
    "prefixed with `self`.\n",
    "\n",
    "An advantage of creating a class in this example is that we can now send\n",
    "`b1.value` as an argument to any other function that expects a\n",
    "function argument `f` of one variable. Consider for instance the following\n",
    "small example, where the function `make_table` will print a table of function\n",
    "values for any function passed to it:"
   ]
  },
  {
   "cell_type": "code",
   "execution_count": 33,
   "metadata": {},
   "outputs": [
    {
     "ename": "NameError",
     "evalue": "name 'pi' is not defined",
     "output_type": "error",
     "traceback": [
      "\u001b[0;31m---------------------------------------------------------------------------\u001b[0m",
      "\u001b[0;31mNameError\u001b[0m                                 Traceback (most recent call last)",
      "\u001b[0;32m<ipython-input-33-fbd8d4283b2f>\u001b[0m in \u001b[0;36m<module>\u001b[0;34m\u001b[0m\n\u001b[1;32m      9\u001b[0m     \u001b[0;32mreturn\u001b[0m \u001b[0msin\u001b[0m\u001b[0;34m(\u001b[0m\u001b[0mt\u001b[0m\u001b[0;34m)\u001b[0m\u001b[0;34m*\u001b[0m\u001b[0mexp\u001b[0m\u001b[0;34m(\u001b[0m\u001b[0;34m-\u001b[0m\u001b[0mt\u001b[0m\u001b[0;34m)\u001b[0m\u001b[0;34m\u001b[0m\u001b[0;34m\u001b[0m\u001b[0m\n\u001b[1;32m     10\u001b[0m \u001b[0;34m\u001b[0m\u001b[0m\n\u001b[0;32m---> 11\u001b[0;31m \u001b[0mmake_table\u001b[0m\u001b[0;34m(\u001b[0m\u001b[0mg\u001b[0m\u001b[0;34m,\u001b[0m \u001b[0;36m2\u001b[0m\u001b[0;34m*\u001b[0m\u001b[0mpi\u001b[0m\u001b[0;34m,\u001b[0m \u001b[0;36m101\u001b[0m\u001b[0;34m)\u001b[0m         \u001b[0;31m# send ordinary function\u001b[0m\u001b[0;34m\u001b[0m\u001b[0;34m\u001b[0m\u001b[0m\n\u001b[0m\u001b[1;32m     12\u001b[0m \u001b[0;34m\u001b[0m\u001b[0m\n\u001b[1;32m     13\u001b[0m \u001b[0mb1\u001b[0m \u001b[0;34m=\u001b[0m \u001b[0mBarometric\u001b[0m\u001b[0;34m(\u001b[0m\u001b[0;36m2469\u001b[0m\u001b[0;34m)\u001b[0m\u001b[0;34m\u001b[0m\u001b[0;34m\u001b[0m\u001b[0m\n",
      "\u001b[0;31mNameError\u001b[0m: name 'pi' is not defined"
     ]
    }
   ],
   "source": [
    "from math import sin, exp, pi\n",
    "from numpy import linspace\n",
    "\n",
    "def make_table(f, tstop, n):\n",
    "    for t in linspace(0, tstop, n):\n",
    "        print(t, f(y))\n",
    "\n",
    "def g(t):\n",
    "    return sin(t)*exp(-t)\n",
    "\n",
    "make_table(g, 2*pi, 101)         # send ordinary function\n",
    "\n",
    "b1 = Barometric(2469)\n",
    "make_table(b1.value, 2*pi, 101)   # send class method"
   ]
  },
  {
   "cell_type": "markdown",
   "metadata": {},
   "source": [
    "Because of how `f(t)` is used inside the function, we need to send `make_table`\n",
    "a function that takes a single argument. Our `b1.value` method satisfies this\n",
    "requirement and still allows us to use different values of `T` by creating\n",
    "multiple instances.\n",
    "\n",
    "### More general Python classes.\n",
    "\n",
    "Of course, Python classes have far more general applicability than just to\n",
    "represent mathematical functions. A general Python class follows the recipe\n",
    "outlined in the example above:"
   ]
  },
  {
   "cell_type": "markdown",
   "metadata": {},
   "source": [
    "```Python\n",
    "        class MyClass:\n",
    "            def __init__(self, p1, p2,...):\n",
    "                self.attr1 = p1\n",
    "                self.attr2 = p2\n",
    "        \t...\n",
    "        \n",
    "            def method1(self, arg):\n",
    "            \t  #access attributes with self prefix\n",
    "                result = self.attr1 + ...\n",
    "                ...\n",
    "                #create new attributes if desired\n",
    "                self.attrx = arg\n",
    "                ...\n",
    "                return result\n",
    "        \n",
    "            def method2(self):\n",
    "                ...\n",
    "                print(...)\n",
    "```"
   ]
  },
  {
   "cell_type": "markdown",
   "metadata": {},
   "source": [
    "We can define as many methods as we want inside the class, with or without\n",
    "arguments. When we create an instance of the class the methods become bound\n",
    "to an instance, and are accessed with the prefix, for instance `m.method2()` if `m` is an\n",
    "instance of `MyClass`. It is common to have a constructor where attributes\n",
    "are initialized, but this is not a requirement. Attributes can be defined\n",
    "whenever desired, for instance inside a method as in the\n",
    "line `self.attrx = arg` in the example above, or even from outside the class:"
   ]
  },
  {
   "cell_type": "markdown",
   "metadata": {},
   "source": [
    "```Python\n",
    "        m = MyClass(p1,p2, ...)\n",
    "        m.new_attr = p3\n",
    "```"
   ]
  },
  {
   "cell_type": "markdown",
   "metadata": {},
   "source": [
    "The second line here will create a new attribute `new_attr` for the instance `m`\n",
    "of `MyClass`. Such addition of attributes is completely valid, but it is rarely\n",
    "good programming practice since we may end up with instances of the same class having\n",
    "different attributes. It is a good habit to always equip a class with a\n",
    "constructor, and to primarily define attributes inside the constructor.\n",
    "\n",
    "### A class for a bank account.\n",
    "\n",
    "For a more classical computer science example of a Python class, let us look at\n",
    "a class to represent a bank account. Natural\n",
    "attributes for such a class will be the name of the owner, the account number,\n",
    "and the balance, and we may include methods to deposit, withdraw, and print\n",
    "information about the account. The code for defining such a class may look like this:"
   ]
  },
  {
   "cell_type": "code",
   "execution_count": null,
   "metadata": {},
   "outputs": [],
   "source": [
    "class BankAccount:\n",
    "    def __init__(self, first_name, last_name, number, balance):\n",
    "        self.first_name = first_name\n",
    "        self.last_name = last_name\n",
    "        self.number = number\n",
    "        self.balance = balance\n",
    "\n",
    "\n",
    "    def deposit(self, amount):\n",
    "        self.balance += amount\n",
    "\n",
    "    def withdraw(self, amount):\n",
    "        self.balance -= amount\n",
    "\n",
    "    def print_info(self):\n",
    "        s = f'{self.first_name} self.{last_name}, {self.number}, balance: {self.balance}'\n",
    "        print(s)"
   ]
  },
  {
   "cell_type": "markdown",
   "metadata": {},
   "source": [
    "Typical use of the class may be something like the following, where we create\n",
    "two different account instances and call the various methods to deposit, withdraw, and print:"
   ]
  },
  {
   "cell_type": "code",
   "execution_count": null,
   "metadata": {},
   "outputs": [],
   "source": [
    "a1 = Account('John', 'Olsson', '19371554951', 20000)\n",
    "a2 = Account('Liz', 'Olsson',  '19371564761', 20000)\n",
    "a1.deposit(1000)\n",
    "a1.withdraw(4000)\n",
    "a2.withdraw(10500)\n",
    "a1.withdraw(3500)\n",
    "print \"a1's balance:\", a1.balance"
   ]
  },
  {
   "cell_type": "code",
   "execution_count": null,
   "metadata": {},
   "outputs": [],
   "source": [
    "a1.print_info()"
   ]
  },
  {
   "cell_type": "code",
   "execution_count": null,
   "metadata": {},
   "outputs": [],
   "source": [
    "a2.print_info()"
   ]
  },
  {
   "cell_type": "markdown",
   "metadata": {},
   "source": [
    "However, there is nothing preventing a user from changing the attributes of the account directly:"
   ]
  },
  {
   "cell_type": "markdown",
   "metadata": {},
   "source": [
    "While it may be tempting to adjust a bank account balance when needed, it is not\n",
    "the intended use of the class. Directly manipulating attributes in this way\n",
    "will very often lead to errors in large software systems, and is considered to be bad\n",
    "programming style. Instead, attributes should always be changed by calling\n",
    "methods, in this case `withdraw` and `deposit`.\n",
    "Many programming languages have constructions that may limit the access to\n",
    "attributes from outside the class, so that any attempt to access them will lead\n",
    "to an error message when compiling or running the code. Python has no technical way to\n",
    "limit attribute access, but it is common to mark attributes as *protected* by\n",
    "prefixing the name with an underscore (e.g. `_name`). This convention tells\n",
    "other programmers that a given attribute or method is not supposed to be accessed\n",
    "from outside the class, although it is still technically possible to do so. An\n",
    "account class with protected attributes may look like this:"
   ]
  },
  {
   "cell_type": "code",
   "execution_count": null,
   "metadata": {},
   "outputs": [],
   "source": [
    "class BankAccountP:\n",
    "    def __init__(self, first_name, last_name, number, balance):\n",
    "        self._first_name = first_name\n",
    "        self._last_name = name\n",
    "        self._number = number\n",
    "        self._balance = balance\n",
    "\n",
    "    def deposit(self, amount):\n",
    "        self._balance += amount\n",
    "\n",
    "    def withdraw(self, amount):\n",
    "        self._balance -= amount\n",
    "\n",
    "    def get_balance(self):    # NEW - read balance value\n",
    "        return self._balance\n",
    "\n",
    "    def dump(self):\n",
    "        print(f'{self._first_name} {self._last_name}, {self._no}, balance: {self._balance}')"
   ]
  },
  {
   "cell_type": "markdown",
   "metadata": {},
   "source": [
    "When using this class, it will still be technically possible to do something like this:"
   ]
  },
  {
   "cell_type": "code",
   "execution_count": null,
   "metadata": {},
   "outputs": [],
   "source": [
    "a1 = BankAccountP('John', 'Olsson', '19371554951', 20000)\n",
    "a1._number = '19371554955'"
   ]
  },
  {
   "cell_type": "markdown",
   "metadata": {},
   "source": [
    "However, all experienced Python programmers will know that the second line\n",
    "is a serious violation of good coding practice, and will look for a better\n",
    "way to solve the problem. When using code libraries developed by others,\n",
    "breaking such conventions is risky since internal data structures may change,\n",
    "while the *interface* to the class is more static. The convention of protected\n",
    "variables is how programmers tell users of the class what may change and\n",
    "what is static. Library developers may decide to change the internal data structure of a class,\n",
    "but users of the class may not even notice this change if the methods to access\n",
    "the data remain unchanged. Since the class interface is not changed, users who\n",
    "followed the convention will be fine, but users who have\n",
    "accessed protected attributes directly may be in for a surprise.\n",
    "\n",
    "\n",
    "\n",
    "# Special methods\n",
    "In the examples above we defined a constructor for each class, identified\n",
    "by its special name `__init__(...)`. This name is recognized by Python, and\n",
    "the method is automatically called every time we create a new instance of the\n",
    "class. The constructor belongs to a family of methods known as *special methods*,\n",
    "which are all recognized by double leading and trailing underscores in the name.\n",
    "The term *special methods* may be a bit misleading, since the methods themselves\n",
    "are not really special. The special thing about them is the name, which ensures\n",
    "that they are automatically called in different situations, such as the `__init__`\n",
    "function when class instances are created. There are many more such special methods, which\n",
    "we can use to create object types with very useful properties.\n",
    "\n",
    "Consider for instance the first example of this chapter, where the class\n",
    "contained a method `value(h)` to evaluate the mathematical function. After\n",
    "creating an instance named `baro`, we would call the method with\n",
    "`baro.value(t)`. Wouldn't it be more convenient if we could just write\n",
    "`baro(t)` as if the instance was a regular Python function? This behavior\n",
    "can be obtained by simply changing the name of the `value` method to one\n",
    "of the special method names that are automatically recognized by Python.\n",
    "The special method name for making an instance *callable* like a regular Python\n",
    "function is `__call__`:"
   ]
  },
  {
   "cell_type": "code",
   "execution_count": null,
   "metadata": {},
   "outputs": [],
   "source": [
    "from math import exp\n",
    "\n",
    "class Barometric:\n",
    "    def __init__(self, T):\n",
    "        self.T = T            #K\n",
    "        self.g = 9.81         #m/(s*s)\n",
    "        self.R = 8.314        #J/(K*mol)\n",
    "        self.M = 0.02896      #kg/mol\n",
    "        self.p0 = 100.0       #kPa\n",
    "\n",
    "\n",
    "    def __call__(self, h):\n",
    "        return self.p0 * exp(-self.M*self.g*h/(self.R*self.T))"
   ]
  },
  {
   "cell_type": "markdown",
   "metadata": {},
   "source": [
    "Now we can call an instance of the class `Barometric` just as any other Python function"
   ]
  },
  {
   "cell_type": "code",
   "execution_count": null,
   "metadata": {},
   "outputs": [],
   "source": [
    "baro = Barometric(245)\n",
    "p = baro(2346)          #same as p = baro.__call__(2346)"
   ]
  },
  {
   "cell_type": "markdown",
   "metadata": {},
   "source": [
    "The instance `baro` behaves and looks like a function. The method does\n",
    "exactly the same as the `value` method, but creating a special method by\n",
    "renaming it to `__call__` gives nicer syntax when the class is used.\n",
    "\n",
    "### Special method for printing.\n",
    "\n",
    "We are used to printing an object `a` using `print(a)`, which works fine for\n",
    "Python's builtin object types such as strings, lists, etc. However, if `a` is\n",
    "an instance of a class we defined ourselves we do not get much useful information,\n",
    "since Python does not know what information to show. We can solve this problem\n",
    "by defining a special method named `__str__` in our class. The `__str__` method\n",
    "must return a string object, preferably a string that gives some\n",
    "useful information about the object, and should not take any arguments except `self`.\n",
    "For the function class seen above, a suitable `__str__` method may look\n",
    "like this:"
   ]
  },
  {
   "cell_type": "markdown",
   "metadata": {},
   "source": [
    "```Python\n",
    "        class Barometric:\n",
    "            ...\n",
    "            def __call__(self, h):\n",
    "                return self.p0 * exp(-self.M*self.g*h/(self.R*self.T))\n",
    "        \n",
    "            def __str__(self):\n",
    "                return f'p0 * exp(-M*g*h/(R*T)); T = {self.T}'\n",
    "```"
   ]
  },
  {
   "cell_type": "markdown",
   "metadata": {},
   "source": [
    "If we now call print for an instance of the class, it will print the function expression:"
   ]
  },
  {
   "cell_type": "code",
   "execution_count": null,
   "metadata": {},
   "outputs": [],
   "source": [
    "b = Barometric(245)\n",
    "b(2469)"
   ]
  },
  {
   "cell_type": "code",
   "execution_count": null,
   "metadata": {},
   "outputs": [],
   "source": [
    "print(y)"
   ]
  },
  {
   "cell_type": "markdown",
   "metadata": {},
   "source": [
    "### Special methods for mathematical operations.\n",
    "\n",
    "So far we have seen three special methods; `__init__`, `__call__`, and `__str__`,\n",
    "but there are many more. We will not cover all of them in this book, but a few\n",
    "are worth mentioning. For instance, there are special methods for\n",
    "arithmetic operations, such as `__add__`, `__sub__`, `__mul__`, etc. Defining\n",
    "these methods inside our class will enable us to perform operations like\n",
    "`c = a+b`, where `a,b` are instances of the class. Here are some some relevant\n",
    "arithmetic operations and the corresponding special method that they will call:"
   ]
  },
  {
   "cell_type": "code",
   "execution_count": null,
   "metadata": {},
   "outputs": [],
   "source": [
    "c = a + b    #  c = a.__add__(b)\n",
    "\n",
    "c = a - b    #  c = a.__sub__(b)\n",
    "\n",
    "c = a*b      #  c = a.__mul__(b)\n",
    "\n",
    "c = a/b      #  c = a.__div__(b)\n",
    "\n",
    "c = a**e     #  c = a.__pow__(e)"
   ]
  },
  {
   "cell_type": "markdown",
   "metadata": {},
   "source": [
    "It is natural in most cases, but not always, that these methods return an object\n",
    "of the same type as the operands. Similarly, there are special methods for comparing objects:"
   ]
  },
  {
   "cell_type": "code",
   "execution_count": null,
   "metadata": {},
   "outputs": [],
   "source": [
    "a == b       #  a.__eq__(b)\n",
    "\n",
    "a != b       #  a.__ne__(b)\n",
    "\n",
    "a < b        #  a.__lt__(b)\n",
    "\n",
    "a <= b       #  a.__le__(b)\n",
    "\n",
    "a > b        #  a.__gt__(b)\n",
    "\n",
    "a >= b       #  a.__ge__(b)"
   ]
  },
  {
   "cell_type": "markdown",
   "metadata": {},
   "source": [
    "These should be implemented to return `True/False` to be consistent with the\n",
    "usual behavior of the comparison operators. The actual contents of the special\n",
    "method are in all cases entirely up to the programmer. The only thing special\n",
    "about the methods is their name, which ensures that they are automatically called\n",
    "by various operators. For instance, if you try to multiply two objects with a\n",
    "statement like `c = a*b`, Python will look for a method named `__mul__` in the\n",
    "instance `a`. If such a method exists, it will be called with the instance `b` as\n",
    "argument.\n",
    "\n",
    "### The `__repr__` special method.\n",
    "\n",
    "The last special method we will consider here is a method named `__repr__`, which is similar to `__str__` in the sense\n",
    "that it should return a string with info about the object. The difference is that while `__str__` should provide\n",
    "human readable information, the `__repr__` string shall contain all the information necessary to recreate the object. For an\n",
    "object `a`, the `__repr__` method is called if we call `repr(a)`, where `repr` is a builtin function. The intended function\n",
    "of `repr` is such that `eval(repr(a)) == a`, i.e., running the string output by `a.__repr__` should recreate `a`.\n",
    "To illustrate its use, let us add a `__repr__` method to the class `Y` from the start of the chapter:"
   ]
  },
  {
   "cell_type": "code",
   "execution_count": null,
   "metadata": {},
   "outputs": [],
   "source": [
    "class Y:\n",
    "    \"\"\"Class for function y(t; v0, g) = v0*t - 0.5*g*t**2.\"\"\"\n",
    "\n",
    "    def __init__(self, v0):\n",
    "        \"\"\"Store parameters.\"\"\"\n",
    "        self.v0 = v0\n",
    "        self.g = 9.81\n",
    "\n",
    "    def __call__(self, t):\n",
    "        \"\"\"Evaluate function.\"\"\"\n",
    "        return self.v0*t - 0.5*self.g*t**2\n",
    "\n",
    "    def __str__(self):\n",
    "        \"\"\"Pretty print.\"\"\"\n",
    "        return f'v0*t - 0.5*g*t**2; v0={self.v0}'\n",
    "\n",
    "    def __repr__(self):\n",
    "        \"\"\"Print code for regenerating this instance.\"\"\"\n",
    "        return f'Y({self.v0})'"
   ]
  },
  {
   "cell_type": "markdown",
   "metadata": {},
   "source": [
    "Again, we can illustrate how it works in an interactive shell:"
   ]
  },
  {
   "cell_type": "code",
   "execution_count": null,
   "metadata": {},
   "outputs": [],
   "source": [
    "from tmp import *\n",
    "y = Y(3)\n",
    "print(y)"
   ]
  },
  {
   "cell_type": "code",
   "execution_count": null,
   "metadata": {},
   "outputs": [],
   "source": [
    "repr(y)"
   ]
  },
  {
   "cell_type": "code",
   "execution_count": null,
   "metadata": {},
   "outputs": [],
   "source": [
    "z = eval(repr(y))\n",
    "print(z)"
   ]
  },
  {
   "cell_type": "markdown",
   "metadata": {},
   "source": [
    "The last two lines confirm that the `repr` method works as intended, since running `eval(repr(y)` returns an object\n",
    "identical to `y`. Both `__repr__` and `__str__` return strings with information\n",
    "about an object, the difference being that `__str__` gives information to be read by humans,\n",
    "while the output of `__repr__` is intended to be read by Python.\n",
    "\n",
    "### How can we know the contents of a class?\n",
    "\n",
    "Sometimes it is useful to be able to list the contents of a class, in particular\n",
    "for debugging. Consider the following dummy class, which does nothing useful\n",
    "except to define a doc string, a constructor and a single attribute:"
   ]
  },
  {
   "cell_type": "code",
   "execution_count": null,
   "metadata": {},
   "outputs": [],
   "source": [
    " class A:\n",
    "    \"\"\"A class for demo purposes.\"\"\"\n",
    "    def __init__(self, value):\n",
    "        self.v = value"
   ]
  },
  {
   "cell_type": "markdown",
   "metadata": {},
   "source": [
    "If we now write `dir(A)` we see that the class actually contains a lot more\n",
    "than what we put into it, since Python automatically defines certain methods\n",
    "and attributes in all classes. Most of the items listed are default versions\n",
    "of special methods, which do nothing useful except giving an\n",
    "error message `NotImplemented` if they are called. However, if we create an instance of `A`, and\n",
    "use `dir` again on that instance, we get more useful information:"
   ]
  },
  {
   "cell_type": "code",
   "execution_count": null,
   "metadata": {},
   "outputs": [],
   "source": [
    "a = A(2)\n",
    "dir(a)"
   ]
  },
  {
   "cell_type": "markdown",
   "metadata": {},
   "source": [
    "We see that the list contains the same (mostly useless) default versions of special methods, some items are more meaningful. If we continue the interactive session to examine some of the items, we get"
   ]
  },
  {
   "cell_type": "code",
   "execution_count": null,
   "metadata": {},
   "outputs": [],
   "source": [
    "a.__doc__"
   ]
  },
  {
   "cell_type": "code",
   "execution_count": null,
   "metadata": {},
   "outputs": [],
   "source": [
    "a.__dict__"
   ]
  },
  {
   "cell_type": "code",
   "execution_count": null,
   "metadata": {},
   "outputs": [],
   "source": [
    "a.v"
   ]
  },
  {
   "cell_type": "code",
   "execution_count": null,
   "metadata": {},
   "outputs": [],
   "source": [
    "a.__module__"
   ]
  },
  {
   "cell_type": "markdown",
   "metadata": {},
   "source": [
    "The `__doc__` attribute is the doc string we defined, while `__module__` is the module that the\n",
    "class belongs to, which is simply `__main__` in this case since we defined it in the main program.\n",
    "However, the most useful item is probably `__dict__`, which is a dictionary containing names and\n",
    "values of all attributes of the object `a`. Any instance holds its attributes in the\n",
    "`self.__dict__` dictionary, which is automatically created by Python. If we add new\n",
    "attributes to the instance, they are inserted into the `__dict__`:"
   ]
  },
  {
   "cell_type": "code",
   "execution_count": null,
   "metadata": {},
   "outputs": [],
   "source": [
    "a = A([1,2])\n",
    "print a.__dict__  # all attributes"
   ]
  },
  {
   "cell_type": "code",
   "execution_count": null,
   "metadata": {},
   "outputs": [],
   "source": [
    "a.myvar = 10            # add new attribute (!)\n",
    "a.__dict__"
   ]
  },
  {
   "cell_type": "markdown",
   "metadata": {},
   "source": [
    "When programming with classes we are not supposed to use the internal data structures like `__dict__`\n",
    "explicitly, but it may be very useful to print it to check the values of class attributes\n",
    "if something goes wrong in our code.\n",
    "\n",
    "# Example; automatic differentiation of functions\n",
    "To provide a more relevant and useful example of applying\n",
    "`__call__` special method, consider the task of computing derivatives of an\n",
    "arbitrary function. Given some mathematical function in Python, say"
   ]
  },
  {
   "cell_type": "code",
   "execution_count": null,
   "metadata": {},
   "outputs": [],
   "source": [
    "def f(x):\n",
    "    return x**3"
   ]
  },
  {
   "cell_type": "markdown",
   "metadata": {},
   "source": [
    "we want to make a class `Derivative` and write"
   ]
  },
  {
   "cell_type": "code",
   "execution_count": null,
   "metadata": {},
   "outputs": [],
   "source": [
    "dfdx = Derivative(f)"
   ]
  },
  {
   "cell_type": "markdown",
   "metadata": {},
   "source": [
    "so that `dfdx` behaves as a function that computes the derivative of `f(x)`.\n",
    "When the instance `dfdx` is created, we want to call it like a regular function\n",
    "to evaluate the derivative of `f` in a point `x`:"
   ]
  },
  {
   "cell_type": "code",
   "execution_count": null,
   "metadata": {},
   "outputs": [],
   "source": [
    "print dfdx(2)   # computes 3*x**2 for x=2"
   ]
  },
  {
   "cell_type": "markdown",
   "metadata": {},
   "source": [
    "It is tricky to make such a class using analytical differentiation rules, but\n",
    "we can write a generic class by using numerical differentiation:"
   ]
  },
  {
   "cell_type": "markdown",
   "metadata": {},
   "source": [
    "$$\n",
    "f'(x) \\approx {f(x+h)-f(x)\\over h} .\n",
    "$$"
   ]
  },
  {
   "cell_type": "markdown",
   "metadata": {},
   "source": [
    "For a small (yet moderate) $h$, say $h=10^{-5}$, this estimate will be sufficiently\n",
    "accurate for most applications. The key parts of the implementation are to let\n",
    "the function `f` be an attribute of the `Derivative` class, and then implement\n",
    "the numerical differentiation formula in a `__call__` special method:"
   ]
  },
  {
   "cell_type": "code",
   "execution_count": null,
   "metadata": {},
   "outputs": [],
   "source": [
    "class Derivative:\n",
    "    def __init__(self, f, h=1E-5):\n",
    "        self.f = f\n",
    "        self.h = float(h)\n",
    "\n",
    "    def __call__(self, x):\n",
    "        f, h = self.f, self.h      # make short forms\n",
    "        return (f(x+h) - f(x))/h"
   ]
  },
  {
   "cell_type": "markdown",
   "metadata": {},
   "source": [
    "The following interactive session demonstrates typical use of the class"
   ]
  },
  {
   "cell_type": "code",
   "execution_count": null,
   "metadata": {},
   "outputs": [],
   "source": [
    "from math import *\n",
    "df = Derivative(sin)\n",
    "x = pi\n",
    "df(x)"
   ]
  },
  {
   "cell_type": "code",
   "execution_count": null,
   "metadata": {},
   "outputs": [],
   "source": [
    "cos(x)  # exact"
   ]
  },
  {
   "cell_type": "code",
   "execution_count": null,
   "metadata": {},
   "outputs": [],
   "source": [
    "def g(t):\n",
    "    return t**3"
   ]
  },
  {
   "cell_type": "code",
   "execution_count": null,
   "metadata": {},
   "outputs": [],
   "source": [
    "dg = Derivative(g)\n",
    "t = 1\n",
    "dg(t)  # compare with 3 (exact)"
   ]
  },
  {
   "cell_type": "markdown",
   "metadata": {},
   "source": [
    "For a particularly useful application of the `Derivative` class, consider solution of nonlinear equations $f(x)=0$.\n",
    "In Appendix A we implement Newton's method as a general method for this task, but Newton's method uses\n",
    "the derivative $f'(x)$, which needs to be provided as an argument to the function:"
   ]
  },
  {
   "cell_type": "code",
   "execution_count": null,
   "metadata": {},
   "outputs": [],
   "source": [
    "def Newton(f, xstart, dfdx, epsilon=1E-6):\n",
    "    ...\n",
    "    return x, no_of_iterations, f(x)"
   ]
  },
  {
   "cell_type": "markdown",
   "metadata": {},
   "source": [
    "See Appendix A for a complete implementation of the function. For many functions $f(x)$, finding $f'(x)$ may require lengthy\n",
    "and boring derivations, and in such cases the `Derivative` class is quite handy:"
   ]
  },
  {
   "cell_type": "code",
   "execution_count": null,
   "metadata": {},
   "outputs": [],
   "source": [
    "def f(x):\n",
    "    return 100000*(x - 0.9)**2 * (x - 1.1)**3"
   ]
  },
  {
   "cell_type": "code",
   "execution_count": null,
   "metadata": {},
   "outputs": [],
   "source": [
    "df = Derivative(f)\n",
    "xstart = 1.01\n",
    "Newton(f, xstart, df, epsilon=1E-5)"
   ]
  },
  {
   "cell_type": "markdown",
   "metadata": {},
   "source": [
    "NBNB fix referanse til Newton her.\n",
    "\n",
    "\n",
    "# Test functions for classes\n",
    "In the chapter [ch:funcif](#ch:funcif) we introduced test functions as a method to verify\n",
    "that our functions were implemented correctly, and the exact\n",
    "same approach can be used to test the implementation of classes.\n",
    "Inside the test function we define some parameters for which we know the\n",
    "expected output, and then call our class methods and compare the result with the\n",
    "expected. The only additional step when testing classes is that we\n",
    "will typically create one or more instances of the class inside the test function,\n",
    "and then call the methods of these instances. As an example, consider a test\n",
    "function for the `Derivative` class of the previous section. How can we define\n",
    "a test case with known output for this class?\n",
    "Two possible methods are; (i) compute $(f(x+h)-f(x))/h$ by hand for\n",
    "some $f$ and $h$, or (ii) utilize that linear functions are differentiated\n",
    "exactly by our numerical formula,\n",
    "regardless of $h$. A test function based on (ii) may look as follows:"
   ]
  },
  {
   "cell_type": "code",
   "execution_count": null,
   "metadata": {},
   "outputs": [],
   "source": [
    "def test_Derivative():\n",
    "    # The formula is exact for linear functions, regardless of h\n",
    "    f = lambda x: a*x + b\n",
    "    a = 3.5; b = 8\n",
    "    dfdx = Derivative(f, h=0.5)\n",
    "    diff = abs(dfdx(4.5) - a)\n",
    "    assert diff < 1E-14, 'bug in class Derivative, diff=%s' % diff"
   ]
  },
  {
   "cell_type": "markdown",
   "metadata": {},
   "source": [
    "This function follows the standard recipe for test functions; we construct a\n",
    "problem where we know the result, create an instance of the class, call the\n",
    "function and compare the result with the expected. However, some of the details inside\n",
    "the test function may be worth commenting. First, we use a lambda function to\n",
    "define `f(x)`. As we may recall from the chapter [ch:funcif](#ch:funcif),\n",
    "a lambda function is simply a compact way of defining a function, with"
   ]
  },
  {
   "cell_type": "code",
   "execution_count": null,
   "metadata": {},
   "outputs": [],
   "source": [
    "f = lambda x: a*x + b"
   ]
  },
  {
   "cell_type": "markdown",
   "metadata": {},
   "source": [
    "being equivalent to"
   ]
  },
  {
   "cell_type": "code",
   "execution_count": null,
   "metadata": {},
   "outputs": [],
   "source": [
    "def f(x):\n",
    "    return a*x + b"
   ]
  },
  {
   "cell_type": "markdown",
   "metadata": {},
   "source": [
    "The use of the lambda function inside the test function looks straightforward at first:"
   ]
  },
  {
   "cell_type": "markdown",
   "metadata": {},
   "source": [
    "```Python\n",
    "        f = lambda x: a*x + b\n",
    "        a = 3.5; b = 8\n",
    "        dfdx = Derivative(f, h=0.5)\n",
    "        dfdx(4.5)\n",
    "```"
   ]
  },
  {
   "cell_type": "markdown",
   "metadata": {},
   "source": [
    "But looking at this code in more detail may give rise to some questions.\n",
    "When we call `dfdx(4.5)` it implies\n",
    "calling `Derivative.__call__` but how can this function know the values of\n",
    "know `a` and `b` when it calls our `f(x)` function?\n",
    "The answer is that a function defined inside another function \"remembers\", or\n",
    "has access to, *all* the local variables of the function where it is defined.\n",
    "Therefore all variables defined inside `test_Derivative`\n",
    "become part of the *namespace* of the function `f`, and `f` can access `a` and `b`\n",
    "in `test_Derivative` even when it is called from the `__call__` method in\n",
    "class `Derivative`. The construction is known as a *closure* in computer science.\n",
    "\n",
    "# Example; a Polynomial class\n",
    "To illustrate this with\n",
    "an example, consider the representation of polynomials introduced in\n",
    "the chapter [ch:dictstring](#ch:dictstring). A polynomial can be specified\n",
    "by a dictionary or list representing its coefficients and powers. For example,\n",
    "$1 - x^2 + 2x^3$ is"
   ]
  },
  {
   "cell_type": "markdown",
   "metadata": {},
   "source": [
    "$$\n",
    "1 + 0\\cdot x - 1\\cdot x^2 + 2\\cdot x^3\n",
    "$$"
   ]
  },
  {
   "cell_type": "markdown",
   "metadata": {},
   "source": [
    "and the coefficients can be stored as a list `[1, 0, -1, 2]`. We now want to create a class for such a Polynomial,\n",
    "and equip it with functionality for evaluating and printing a polynomial and to add two polynomials. Intended use of\n",
    "the class `Polynomial` may look as follows:"
   ]
  },
  {
   "cell_type": "code",
   "execution_count": null,
   "metadata": {},
   "outputs": [],
   "source": [
    "p1 = Polynomial([1, -1])\n",
    "print(p1)"
   ]
  },
  {
   "cell_type": "code",
   "execution_count": null,
   "metadata": {},
   "outputs": [],
   "source": [
    "p2 = Polynomial([0, 1, 0, 0, -6, -1])\n",
    "p3 = p1 + p2\n",
    "print(p3.coeff)"
   ]
  },
  {
   "cell_type": "code",
   "execution_count": null,
   "metadata": {},
   "outputs": [],
   "source": [
    "print(p3)"
   ]
  },
  {
   "cell_type": "code",
   "execution_count": null,
   "metadata": {},
   "outputs": [],
   "source": [
    "print(p3(2.0))"
   ]
  },
  {
   "cell_type": "code",
   "execution_count": null,
   "metadata": {},
   "outputs": [],
   "source": [
    "p4 = p1*p2\n",
    "p2.differentiate()\n",
    "print(p2)"
   ]
  },
  {
   "cell_type": "markdown",
   "metadata": {},
   "source": [
    "To make all these operations possible, the class needs the following special methods:\n",
    "* `__init__`, the constructor, for the line `p1 = Polynomial([1,-1])`\n",
    "\n",
    "* `__str__`, for pretty print, for doing `print(p1)`\n",
    "\n",
    "* `__call__`, to enable the call `p3(2.0)`\n",
    "\n",
    "* `__add__`, to make `p3 = p1 + p2` work\n",
    "\n",
    "* `__mul__`, to allow `p4 = p1*p2`\n",
    "\n",
    "In addition, the class needs a method `differentiate`, which computes the derivative of a polynomial, and changes\n",
    "it in-place. Starting with the most basic ones, the constructor is fairly straightforward and the call method\n",
    "simply follows the recipe from the chapter [ch:dictstring](#ch:dictstring):"
   ]
  },
  {
   "cell_type": "code",
   "execution_count": null,
   "metadata": {},
   "outputs": [],
   "source": [
    "class Polynomial:\n",
    "    def __init__(self, coefficients):\n",
    "        self.coeff = coefficients\n",
    "\n",
    "    def __call__(self, x):\n",
    "        s = 0\n",
    "        for i in range(len(self.coeff)):\n",
    "            s += self.coeff[i]*x**i\n",
    "        return s"
   ]
  },
  {
   "cell_type": "markdown",
   "metadata": {},
   "source": [
    "To enable adding two polynomials, we need to implement the `__add__` method, which should take one argument in addition\n",
    "to `self`. The methot should return a new `Polynomial` instance, since the sum of two polynomials is a polynomial, and\n",
    "the method needs to implement the rules of polynomial addition. This is basically to add together terms of equal\n",
    "order, which in our list representation means to loop over the `coeff` lists and add individual elements."
   ]
  },
  {
   "cell_type": "code",
   "execution_count": null,
   "metadata": {},
   "outputs": [],
   "source": [
    "class Polynomial:\n",
    "    ...\n",
    "\n",
    "    def __add__(self, other):\n",
    "        # return self + other\n",
    "\n",
    "        # start with the longest list and add in the other:\n",
    "        if len(self.coeff) > len(other.coeff):\n",
    "            coeffsum = self.coeff[:]  # copy!\n",
    "            for i in range(len(other.coeff)):\n",
    "                coeffsum[i] += other.coeff[i]\n",
    "        else:\n",
    "            coeffsum = other.coeff[:] # copy!\n",
    "            for i in range(len(self.coeff)):\n",
    "                coeffsum[i] += self.coeff[i]\n",
    "        return Polynomial(coeffsum)"
   ]
  },
  {
   "cell_type": "markdown",
   "metadata": {},
   "source": [
    "The order of the sum of two polynomials is equal to the highest order of the two, so the length of the returned\n",
    "polynomial must be equal to the length of the longest of the two `coeff` lists.\n",
    "\n",
    "Multiplication of two polynomials is slightly more complex than adding them, so it is worth writing down the\n",
    "mathematics before implementing the `__mul__` method. The formula looks like"
   ]
  },
  {
   "cell_type": "markdown",
   "metadata": {},
   "source": [
    "$$\n",
    "\\left(\\sum_{i=0}^Mc_ix^i\\right)\\left(\\sum_{j=0}^N d_jx^j\\right)\n",
    "= \\sum_{i=0}^M \\sum_{j=0}^N c_id_j x^{i+j}\n",
    "$$"
   ]
  },
  {
   "cell_type": "markdown",
   "metadata": {},
   "source": [
    "and in our list representation this means that the coefficient corresponding to power $i+j$ is $c_i\\cdot d_j$. The\n",
    "list `r` of coefficients of the resulting polynomial becomes"
   ]
  },
  {
   "cell_type": "markdown",
   "metadata": {},
   "source": [
    "```Python\n",
    "        `r[i+j] = c[i]*d[j]`\n",
    "```"
   ]
  },
  {
   "cell_type": "markdown",
   "metadata": {},
   "source": [
    "where `i` and `j` run from 0 to $M$ and $N$, respectively. The implementation of the method may look like"
   ]
  },
  {
   "cell_type": "code",
   "execution_count": null,
   "metadata": {},
   "outputs": [],
   "source": [
    "class Polynomial:\n",
    "    ...\n",
    "    def __mul__(self, other):\n",
    "        M = len(self.coeff) - 1\n",
    "        N = len(other.coeff) - 1\n",
    "        coeff = [0]*(M+N+1)  # or zeros(M+N+1)\n",
    "        for i in range(0, M+1):\n",
    "            for j in range(0, N+1):\n",
    "                coeff[i+j] += self.coeff[i]*other.coeff[j]\n",
    "        return Polynomial(coeff)"
   ]
  },
  {
   "cell_type": "markdown",
   "metadata": {},
   "source": [
    "Just as the `__add__` method, `__mul__` takes one argument in addition to `self`, and returns a new `Polynomial` instance.\n",
    "\n",
    "Turning now to the `differentiate` method, the rule for differentiating a general polynomial is"
   ]
  },
  {
   "cell_type": "markdown",
   "metadata": {},
   "source": [
    "$$\n",
    "{d\\over dx}\\sum_{i=0}^n c_ix^i = \\sum_{i=1}^n ic_ix^{i-1}\n",
    "$$"
   ]
  },
  {
   "cell_type": "markdown",
   "metadata": {},
   "source": [
    "So if `c` is the list of coefficients, the derivative has a list\n",
    "of coefficients, `dc`, where `dc[i-1] = i*c[i]` for `i` running from 1 to the largest index in `c`.\n",
    "Note that `dc` will have one element less than `c`, since differentiating a polynomial reduces the order by 1.\n",
    "The full implementation of the `differentiate` method may look like this:"
   ]
  },
  {
   "cell_type": "code",
   "execution_count": null,
   "metadata": {},
   "outputs": [],
   "source": [
    "class Polynomial:\n",
    "    ...\n",
    "    def differentiate(self):    # change self\n",
    "        for i in range(1, len(self.coeff)):\n",
    "            self.coeff[i-1] = i*self.coeff[i]\n",
    "        del self.coeff[-1]\n",
    "\n",
    "    def derivative(self):       # return new polynomial\n",
    "        dpdx = Polynomial(self.coeff[:])  # copy\n",
    "        dpdx.differentiate()\n",
    "        return dpdx"
   ]
  },
  {
   "cell_type": "markdown",
   "metadata": {},
   "source": [
    "Here, the `differentiate` method will change the polynomial itself, since this is the behavior indicated by how the function\n",
    "was used above. We have also added a separate function `derivative`, which does not change the polynomial but instead returns\n",
    "its derivative as a new `Polynomial` object.\n",
    "\n",
    "Finally, let us implement the `__str__` method for pretty print of polynomials. This method should return a\n",
    "string representation of the polynomial, but achieving this can actually be fairly complicated. The following\n",
    "implementation does a reasonably good job:"
   ]
  },
  {
   "cell_type": "code",
   "execution_count": null,
   "metadata": {},
   "outputs": [],
   "source": [
    "class Polynomial:\n",
    "    ...\n",
    "    def __str__(self):\n",
    "        s = ''\n",
    "        for i in range(0, len(self.coeff)):\n",
    "            if self.coeff[i] != 0:\n",
    "                s += ' + %g*x^%d' % (self.coeff[i], i)\n",
    "        # fix layout (lots of special cases):\n",
    "        s = s.replace('+ -', '- ')\n",
    "        s = s.replace(' 1*', ' ')\n",
    "        s = s.replace('x^0', '1')\n",
    "        s = s.replace('x^1 ', 'x ')\n",
    "        s = s.replace('x^1', 'x')\n",
    "        if s[0:3] == ' + ':  # remove initial +\n",
    "            s = s[3:]\n",
    "        if s[0:3] == ' - ':  # fix spaces for initial -\n",
    "            s = '-' + s[3:]\n",
    "        return s"
   ]
  },
  {
   "cell_type": "markdown",
   "metadata": {},
   "source": [
    "For all these special methods, and for special methods in general, it is important to be aware that the contents and\n",
    "behavior of the methods are entirely up to the programmer. The only *special* thing about special methods is their\n",
    "name, which ensures that they are automatically called by certain operations. What they actually do, and what they return,\n",
    "is up to the programmer when writing the class. If we want to write an `__add__` method that returns nothing, or\n",
    "returns something completely different from a sum, we are free to do so. But it is of course a good habit for the\n",
    "`__add__(self, other)` to implement something that seems like a meaningful result of `self + other`."
   ]
  }
 ],
 "metadata": {
  "kernelspec": {
   "display_name": "Python 3",
   "language": "python",
   "name": "python3"
  },
  "language_info": {
   "codemirror_mode": {
    "name": "ipython",
    "version": 3
   },
   "file_extension": ".py",
   "mimetype": "text/x-python",
   "name": "python",
   "nbconvert_exporter": "python",
   "pygments_lexer": "ipython3",
   "version": "3.7.3"
  }
 },
 "nbformat": 4,
 "nbformat_minor": 2
}
